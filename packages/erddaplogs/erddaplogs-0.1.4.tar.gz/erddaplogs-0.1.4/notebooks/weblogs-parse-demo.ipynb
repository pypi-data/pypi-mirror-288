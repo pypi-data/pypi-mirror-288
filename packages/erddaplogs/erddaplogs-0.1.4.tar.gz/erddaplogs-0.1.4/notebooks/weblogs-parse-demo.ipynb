{
 "cells": [
  {
   "cell_type": "code",
   "execution_count": null,
   "id": "ead8a696-231d-46ad-8ac8-cc13927d3a02",
   "metadata": {},
   "outputs": [],
   "source": [
    "from erddaplogs.logparse import ErddapLogParser"
   ]
  },
  {
   "cell_type": "markdown",
   "id": "34f5883e-7d4d-4d77-b8ad-dfee1ceb3a98",
   "metadata": {},
   "source": [
    "# Instantiate parser and set verbosity\n",
    "\n",
    "(False to disable print messages)"
   ]
  },
  {
   "cell_type": "code",
   "execution_count": null,
   "id": "a03a6212-7484-423d-a7d3-df60d9f4e8b4",
   "metadata": {},
   "outputs": [],
   "source": [
    "parser = ErddapLogParser()\n",
    "parser.verbose=True"
   ]
  },
  {
   "cell_type": "markdown",
   "id": "9b8c0b5b-18e7-4d6e-b78f-f83810c10adc",
   "metadata": {},
   "source": [
    "### set path to apache and/or nginx files"
   ]
  },
  {
   "cell_type": "code",
   "execution_count": null,
   "id": "f9cd6710-897e-476a-bcaa-0fff71a430db",
   "metadata": {},
   "outputs": [],
   "source": [
    "#apache_logs_dir = \"path/to/your/apache/logs/\"\n",
    "nginx_logs_dir = \"../example_data/nginx_example_logs/\""
   ]
  },
  {
   "cell_type": "markdown",
   "id": "e888ef18-b3c6-462d-8a44-0e16161981b5",
   "metadata": {},
   "source": [
    "### load log files\n",
    "\n",
    "Can call just apache or just nginx as needed"
   ]
  },
  {
   "cell_type": "code",
   "execution_count": null,
   "id": "00c2ec2a-9246-4940-8eac-1b1a5d885ad6",
   "metadata": {},
   "outputs": [],
   "source": [
    "#parser.load_apache_logs(apache_logs_dir)\n",
    "parser.load_nginx_logs(nginx_logs_dir)\n"
   ]
  },
  {
   "cell_type": "markdown",
   "id": "e04e676d-d6ea-45c9-ae96-dd8c4f311050",
   "metadata": {},
   "source": [
    "**optional** subset datasetframe to desired number of rows, evenly spaced in time. Useful for tuning/testing"
   ]
  },
  {
   "cell_type": "code",
   "execution_count": null,
   "id": "5f884673-bb18-42ff-8110-035ebc264ce4",
   "metadata": {},
   "outputs": [],
   "source": [
    "#parser.subset_df(rows=1000) "
   ]
  },
  {
   "cell_type": "code",
   "execution_count": null,
   "id": "7b24ae15-9073-4880-94e7-1e1c5317e52c",
   "metadata": {},
   "outputs": [],
   "source": [
    "parser.filter_non_erddap()\n",
    "parser.filter_spam()\n",
    "parser.filter_locales()\n",
    "parser.filter_user_agents()\n",
    "parser.filter_common_strings()"
   ]
  },
  {
   "cell_type": "markdown",
   "id": "2d266936-f3ff-45a0-9bb1-34732b5242ac",
   "metadata": {},
   "source": [
    "# get info on ip addresses"
   ]
  },
  {
   "cell_type": "code",
   "execution_count": null,
   "id": "d484b7c5-1bdc-4d9b-920c-4f8b0ebc17f2",
   "metadata": {},
   "outputs": [],
   "source": [
    "parser.get_ip_info(download_new=True)\n",
    "parser.filter_organisations()\n"
   ]
  },
  {
   "cell_type": "markdown",
   "id": "8734aa11-a7b3-41b3-814a-e0f831f976b4",
   "metadata": {},
   "source": [
    "### Optional: read in datasets.xml\n",
    "\n",
    "This adds another column of data: the dataset type in ERDDAP"
   ]
  },
  {
   "cell_type": "code",
   "execution_count": null,
   "id": "604654b1-7681-4acf-8967-09545ab20f07",
   "metadata": {},
   "outputs": [],
   "source": [
    "parser.parse_datasets_xml(\"../example_data/datasets.xml\")"
   ]
  },
  {
   "cell_type": "markdown",
   "id": "8874dd92-7b0e-4573-870f-454b927933d8",
   "metadata": {},
   "source": [
    "# Parse string data for additional columns"
   ]
  },
  {
   "cell_type": "code",
   "execution_count": null,
   "id": "d7ab07c0-6825-4f13-ad63-216e9de16d18",
   "metadata": {},
   "outputs": [],
   "source": [
    "parser.parse_columns()"
   ]
  },
  {
   "cell_type": "markdown",
   "id": "736bfa3a-ab71-4b3c-98af-71c6f09411e8",
   "metadata": {},
   "source": [
    "# Get requests dataframe"
   ]
  },
  {
   "cell_type": "code",
   "execution_count": null,
   "id": "9d480d86-d273-4c59-b250-72588b8dd400",
   "metadata": {},
   "outputs": [],
   "source": [
    "df = parser.df\n",
    "df.head()"
   ]
  },
  {
   "cell_type": "markdown",
   "id": "0b093685-f8aa-40cb-ae1f-f546d0a68750",
   "metadata": {},
   "source": [
    "You can also check out the ip dataframe"
   ]
  },
  {
   "cell_type": "code",
   "execution_count": null,
   "id": "4ea9603b-dcef-4849-b641-b401868a3a33",
   "metadata": {},
   "outputs": [],
   "source": [
    "df_ip = parser.ip\n",
    "df_ip.head()"
   ]
  },
  {
   "cell_type": "markdown",
   "id": "09696dd6-bc0f-4c24-a490-b90a2217d609",
   "metadata": {},
   "source": [
    "# Plotting the results\n",
    "\n",
    "This additional functionality requires several extra packages\n",
    "\n"
   ]
  },
  {
   "cell_type": "code",
   "execution_count": null,
   "id": "111adb3a-ee99-45e9-816a-e82e17898860",
   "metadata": {},
   "outputs": [],
   "source": [
    "import erddaplogs.plot_functions as plot_functions"
   ]
  },
  {
   "cell_type": "markdown",
   "id": "364919e6-7667-426e-ba29-1de4f96fb452",
   "metadata": {},
   "source": [
    "Plot requests summed over a user specified number of days"
   ]
  },
  {
   "cell_type": "code",
   "execution_count": null,
   "id": "40f5f5d6-cbfd-44bd-9cc4-2ee35bafb9ec",
   "metadata": {},
   "outputs": [],
   "source": [
    "plot_functions.plot_daily_requests(df, num_days=1)"
   ]
  },
  {
   "cell_type": "markdown",
   "id": "4da43ae2-6542-4aa3-98df-8c6f479fc893",
   "metadata": {},
   "source": [
    "Plot the total size of requests summed over a number of days"
   ]
  },
  {
   "cell_type": "code",
   "execution_count": null,
   "id": "79dfdc62-683c-46ea-9430-db3110764109",
   "metadata": {},
   "outputs": [],
   "source": [
    "plot_functions.plot_bytes(df)"
   ]
  },
  {
   "cell_type": "markdown",
   "id": "68a538c0-2854-4804-ad0e-e8a578fba40f",
   "metadata": {},
   "source": [
    "Plot the most popular values for chosen columns. This function returns a dataframe of the top results"
   ]
  },
  {
   "cell_type": "code",
   "execution_count": null,
   "id": "e500db6e-bda1-42b8-b759-1f75666ba4e0",
   "metadata": {},
   "outputs": [],
   "source": [
    "plot_functions.plot_most_popular(df, col_name='dataset_id');"
   ]
  },
  {
   "cell_type": "markdown",
   "id": "cf656a38-da1a-4239-b278-631601717fd7",
   "metadata": {},
   "source": [
    "The ERDDAP request type will be one of: griddap, tabledap, info, files, unknown"
   ]
  },
  {
   "cell_type": "code",
   "execution_count": null,
   "id": "f1cb6dc9-33ef-4963-b9d7-1efeaae80aa0",
   "metadata": {},
   "outputs": [],
   "source": [
    "plot_functions.plot_most_popular(df, col_name='erddap_request_type');"
   ]
  },
  {
   "cell_type": "code",
   "execution_count": null,
   "id": "eaf7e210-a5b5-496b-a480-f0d3b3d34cf1",
   "metadata": {},
   "outputs": [],
   "source": [
    "plot_functions.plot_most_popular(df, col_name='user_agent', rows=20);"
   ]
  },
  {
   "cell_type": "code",
   "execution_count": null,
   "id": "42221ce7-c869-4a9e-941d-1fc83ce6dcee",
   "metadata": {},
   "outputs": [],
   "source": [
    "plot_functions.plot_most_popular(df, col_name='user_agent', rows=5);"
   ]
  },
  {
   "cell_type": "markdown",
   "id": "e04182d7-e80c-4ff0-808a-779f6de5ff35",
   "metadata": {},
   "source": [
    "Create a map of the geolocations of the users that have made the most requests. We use the subnet (first 3 of dotted quad of the ipv4 address) to try to aggregate requests from e.g. a single building/insitution"
   ]
  },
  {
   "cell_type": "code",
   "execution_count": null,
   "id": "01df62c3-a6e6-4988-9643-c083fe59f7f6",
   "metadata": {},
   "outputs": [],
   "source": [
    "plot_functions.plot_map_requests(df, aggregate_on='ip_subnet');"
   ]
  },
  {
   "cell_type": "markdown",
   "id": "bf112d0e-b878-4678-9b26-1c1ef0d22bc7",
   "metadata": {},
   "source": [
    "Get a list of the ip adddresses that made the most requests and make some more in depth plots for them"
   ]
  },
  {
   "cell_type": "code",
   "execution_count": null,
   "id": "aed0ecb7-05dd-4182-b4c4-4c333e6c9b6d",
   "metadata": {},
   "outputs": [],
   "source": [
    "dfa = plot_functions.plot_most_popular(df, col_name='ip', rows=20)"
   ]
  },
  {
   "cell_type": "code",
   "execution_count": null,
   "id": "be98bcfa-1a99-4461-9bff-290c6f163bd1",
   "metadata": {},
   "outputs": [],
   "source": [
    "import polars as pl\n",
    "\n",
    "for rank, ip in enumerate(dfa['ip'].to_list()):\n",
    "    df_sub = df.filter(pl.col('ip')==ip)\n",
    "    plot_functions.plot_for_single_ip(df_sub, f'visitor_rank_{rank}_ip_{ip}')"
   ]
  },
  {
   "cell_type": "markdown",
   "id": "b8178b82",
   "metadata": {},
   "source": [
    "# Exporting Results\n",
    "\n",
    "In order to export anonymized and aggregated results, simply call:"
   ]
  },
  {
   "cell_type": "code",
   "execution_count": null,
   "id": "21543288",
   "metadata": {},
   "outputs": [],
   "source": [
    "parser.export_data()"
   ]
  }
 ],
 "metadata": {
  "kernelspec": {
   "display_name": "Python 3 (ipykernel)",
   "language": "python",
   "name": "python3"
  },
  "language_info": {
   "codemirror_mode": {
    "name": "ipython",
    "version": 3
   },
   "file_extension": ".py",
   "mimetype": "text/x-python",
   "name": "python",
   "nbconvert_exporter": "python",
   "pygments_lexer": "ipython3",
   "version": "3.10.12"
  }
 },
 "nbformat": 4,
 "nbformat_minor": 5
}
