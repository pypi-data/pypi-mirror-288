{
 "cells": [
  {
   "cell_type": "code",
   "execution_count": 1,
   "metadata": {},
   "outputs": [
    {
     "ename": "ModuleNotFoundError",
     "evalue": "No module named 'pyinpe.WFS'",
     "output_type": "error",
     "traceback": [
      "\u001b[1;31m---------------------------------------------------------------------------\u001b[0m",
      "\u001b[1;31mModuleNotFoundError\u001b[0m                       Traceback (most recent call last)",
      "Cell \u001b[1;32mIn[1], line 2\u001b[0m\n\u001b[0;32m      1\u001b[0m get_ipython()\u001b[38;5;241m.\u001b[39msystem(\u001b[38;5;124m'\u001b[39m\u001b[38;5;124mpip install pyinpe -q\u001b[39m\u001b[38;5;124m'\u001b[39m)\n\u001b[1;32m----> 2\u001b[0m \u001b[38;5;28;01mfrom\u001b[39;00m \u001b[38;5;21;01mpyinpe\u001b[39;00m\u001b[38;5;21;01m.\u001b[39;00m\u001b[38;5;21;01mWFS\u001b[39;00m \u001b[38;5;28;01mimport\u001b[39;00m get_contents, get_collectionSchema\n\u001b[0;32m      4\u001b[0m \u001b[38;5;66;03m# Get collections at INPE's DETER Cerrado WFS\u001b[39;00m\n\u001b[0;32m      5\u001b[0m get_contents(database \u001b[38;5;241m=\u001b[39m \u001b[38;5;124m'\u001b[39m\u001b[38;5;124mdeter_cerrado\u001b[39m\u001b[38;5;124m'\u001b[39m)\n",
      "\u001b[1;31mModuleNotFoundError\u001b[0m: No module named 'pyinpe.WFS'"
     ]
    }
   ],
   "source": [
    "!pip install pyinpe -q\n",
    "from pyinpe.WFS import connectDeter, getAlerts\n",
    "\n",
    "# Connect to INPE's DETER Cerrado WFS\n",
    "connectDeter('Cerrado')"
   ]
  },
  {
   "cell_type": "code",
   "execution_count": null,
   "metadata": {},
   "outputs": [],
   "source": [
    "# Get a geodataframe with alerts in the city of Posse, Goias in 2020\n",
    "getAlerts(spatial_filter='Posse - GO', temporal_filter=['2020-01-01', '2020-12-31'])"
   ]
  },
  {
   "cell_type": "code",
   "execution_count": null,
   "metadata": {},
   "outputs": [],
   "source": [
    "# Get a geodataframe with alerts using the IBGE geocode for the city of Brasilândia, Mato Grosso do Sul\n",
    "getAlerts(spatial_filter=5002308) "
   ]
  },
  {
   "cell_type": "code",
   "execution_count": null,
   "metadata": {},
   "outputs": [],
   "source": [
    "# Get a geodataframe with alerts within a bounding box [x_min, y_min, x_max, y_max]\n",
    "getAlerts(spatial_filter = [-53.5,-21,-53,-20.5])"
   ]
  },
  {
   "cell_type": "code",
   "execution_count": null,
   "metadata": {},
   "outputs": [],
   "source": [
    "# Get a geodataframe with alerts that overlaps a WKT geometry\n",
    "getAlerts(spatial_filter = 'POLYGON ((-46.3 -14.3, -46.2 -14.2, -46.2 -14.3, -46.3 -14.3))', temporal_filter=['2020-01-01', '2024-12-31'])"
   ]
  },
  {
   "cell_type": "code",
   "execution_count": null,
   "metadata": {},
   "outputs": [],
   "source": [
    "# Connect to INPE's DETER Amazonia WFS\n",
    "connectDeter('Amazonia')"
   ]
  },
  {
   "cell_type": "code",
   "execution_count": null,
   "metadata": {},
   "outputs": [],
   "source": [
    "getAlerts(spatial_filter = 'Colniza - MT', alert_type = 'degradation')"
   ]
  },
  {
   "cell_type": "code",
   "execution_count": null,
   "metadata": {},
   "outputs": [],
   "source": [
    "from pyinpe.WFS import connectQueimadas, getFires\n",
    "\n",
    "# Connect to INPE's Queimadas WFS\n",
    "connectQueimadas()"
   ]
  },
  {
   "cell_type": "code",
   "execution_count": null,
   "metadata": {},
   "outputs": [],
   "source": [
    "# Get a geodataframe with fires in the city of Colniza, Mato Grosso\n",
    "getFires(spatial_filter = 'Colniza - MT')"
   ]
  },
  {
   "cell_type": "code",
   "execution_count": null,
   "metadata": {},
   "outputs": [],
   "source": [
    "# Get a geodataframe with fires using the IBGE geocode for the city of Novo Mundo, Mato Grosso\n",
    "getFires(spatial_filter = 5106265)"
   ]
  },
  {
   "cell_type": "code",
   "execution_count": null,
   "metadata": {},
   "outputs": [],
   "source": [
    "# Get a geodataframe with fires within a bounding box [x_min, y_min, x_max, y_max]\n",
    "getFires(spatial_filter = [-59.5,-7,-59,-6.5])"
   ]
  },
  {
   "cell_type": "code",
   "execution_count": null,
   "metadata": {},
   "outputs": [],
   "source": [
    "# Get a geodataframe with fires within a WKT geometry\n",
    "getFires(spatial_filter = 'POLYGON ((-60 -10, -55 -9, -55 -10, -60 -10))')"
   ]
  }
 ],
 "metadata": {
  "kernelspec": {
   "display_name": "base",
   "language": "python",
   "name": "python3"
  },
  "language_info": {
   "codemirror_mode": {
    "name": "ipython",
    "version": 3
   },
   "file_extension": ".py",
   "mimetype": "text/x-python",
   "name": "python",
   "nbconvert_exporter": "python",
   "pygments_lexer": "ipython3",
   "version": "3.11.7"
  },
  "orig_nbformat": 4
 },
 "nbformat": 4,
 "nbformat_minor": 2
}
