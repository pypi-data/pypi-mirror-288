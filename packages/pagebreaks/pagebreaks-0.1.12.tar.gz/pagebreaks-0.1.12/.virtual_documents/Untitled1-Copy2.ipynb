


# a = 2

pb_0_a = 2


pb_export_a = pb_0_a


# print(a)

print(pb_export_a)


# 


