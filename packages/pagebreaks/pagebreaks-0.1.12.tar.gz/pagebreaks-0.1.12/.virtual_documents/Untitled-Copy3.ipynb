


# a = 3
# c = 2

pb_0_a = 3
pb_0_c = 2


pb_export_a = pb_0_a
pb_export_b = pb_0_b





# c = 3
# print(b)

pb_1_c = 3
print(b)








# print(c)

print(c)





# %%pb_transform 
# [{"index":1,"id":"3a7c2ec7-28d6-4333-9cca-1a5830504fd3","type":"code","variables":[],"source":"a = 3"},{"index":2,"id":"bdbb7230-eb78-437a-a298-db99f0cab3c8","type":"pagebreak","variables":[["a"]],"pbNum":0},{"index":4,"id":"5aadb64c-c5cc-4b4a-b0c8-e818627ade38","type":"code","variables":[],"source":"print(a)"},{"index":5,"id":"f382994c-0c95-4c35-bb8f-30e13cdf3df5","type":"pagebreak","variables":[[]],"pbNum":1},{"index":6,"id":"42afe96b-0bc3-4fd7-b130-fa0e79a3e0b3","type":"code","variables":[],"source":""}]

get_ipython().run_cell_magic('pb_transform', '', '[{"index":1,"id":"3a7c2ec7-28d6-4333-9cca-1a5830504fd3","type":"code","variables":[],"source":"a = 3"},{"index":2,"id":"bdbb7230-eb78-437a-a298-db99f0cab3c8","type":"pagebreak","variables":[["a"]],"pbNum":0},{"index":4,"id":"5aadb64c-c5cc-4b4a-b0c8-e818627ade38","type":"code","variables":[],"source":"print(a)"},{"index":5,"id":"f382994c-0c95-4c35-bb8f-30e13cdf3df5","type":"pagebreak","variables":[[]],"pbNum":1},{"index":6,"id":"42afe96b-0bc3-4fd7-b130-fa0e79a3e0b3","type":"code","variables":[],"source":""}]\n')


# %print_schema

get_ipython().run_line_magic('print_schema', '')


# 


