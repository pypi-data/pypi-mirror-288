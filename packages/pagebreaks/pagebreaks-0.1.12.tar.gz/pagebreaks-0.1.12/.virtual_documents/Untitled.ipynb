


a = 3
c = 2








#pagebreaks: ignore_name d
#pagebreaks: ignore_name testing
c = 3
d = c
testing = d
%whos


print(testing)
%whos








%whos





%%pb_transform 
[{"index":1,"id":"3a7c2ec7-28d6-4333-9cca-1a5830504fd3","type":"code","variables":[],"source":"a = 3\nc = 2"},{"index":2,"id":"bdbb7230-eb78-437a-a298-db99f0cab3c8","type":"pagebreak","variables":[["a","b"]],"pbNum":0},{"index":4,"id":"ea972339-1123-465f-a881-d165edfdaa26","type":"code","variables":[],"source":"c = 3\nprint(b)"},{"index":5,"id":"0f02ee7d-318d-42b2-b9d1-874cef777c8c","type":"pagebreak","variables":[[]],"pbNum":1},{"index":7,"id":"5aadb64c-c5cc-4b4a-b0c8-e818627ade38","type":"code","variables":[],"source":"print(c)"},{"index":8,"id":"f382994c-0c95-4c35-bb8f-30e13cdf3df5","type":"pagebreak","variables":[[]],"pbNum":2},{"index":9,"id":"42afe96b-0bc3-4fd7-b130-fa0e79a3e0b3","type":"code","variables":[],"source":"%%pb_transform \n[{\"index\":1,\"id\":\"3a7c2ec7-28d6-4333-9cca-1a5830504fd3\",\"type\":\"code\",\"variables\":[],\"source\":\"a = 3\"},{\"index\":2,\"id\":\"bdbb7230-eb78-437a-a298-db99f0cab3c8\",\"type\":\"pagebreak\",\"variables\":[[\"a\"]],\"pbNum\":0},{\"index\":4,\"id\":\"5aadb64c-c5cc-4b4a-b0c8-e818627ade38\",\"type\":\"code\",\"variables\":[],\"source\":\"print(a)\"},{\"index\":5,\"id\":\"f382994c-0c95-4c35-bb8f-30e13cdf3df5\",\"type\":\"pagebreak\",\"variables\":[[]],\"pbNum\":1},{\"index\":6,\"id\":\"42afe96b-0bc3-4fd7-b130-fa0e79a3e0b3\",\"type\":\"code\",\"variables\":[],\"source\":\"\"}]"},{"index":10,"id":"be1ea651-7993-4396-9d0e-a4226de83598","type":"code","variables":[],"source":"%print_schema"},{"index":11,"id":"fb4b3cdd-43c3-4238-a842-44b6009d24f7","type":"code","variables":[],"source":""}]


%print_schema



