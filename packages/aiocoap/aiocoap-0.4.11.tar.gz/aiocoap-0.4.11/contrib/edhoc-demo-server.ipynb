{
  "metadata": {
    "kernelspec": {
      "name": "python",
      "display_name": "Python (Pyodide)",
      "language": "python"
    },
    "language_info": {
      "codemirror_mode": {
        "name": "python",
        "version": 3
      },
      "file_extension": ".py",
      "mimetype": "text/x-python",
      "name": "python",
      "nbconvert_exporter": "python",
      "pygments_lexer": "ipython3",
      "version": "3.8"
    }
  },
  "nbformat_minor": 4,
  "nbformat": 4,
  "cells": [
    {
      "cell_type": "markdown",
      "source": "# Running EDHOC with the public demo server\n\nThis demo can be run on the public Jupyter instance at [try Jupyter](https://jupyter.org/try-jupyter/lab/index.html) by uploading this file.",
      "metadata": {}
    },
    {
      "cell_type": "code",
      "source": "import micropip, pyodide\nif pyodide.__version__ == \"0.26.2\": # get it from the nightl\n    await micropip.install('https://cdn.jsdelivr.net/pyodide/dev/full/lakers_python-0.3.3-cp312-cp312-pyodide_2024_0_wasm32.whl')\nawait micropip.install('aiocoap[oscore,prettyprint]')",
      "metadata": {
        "trusted": true
      },
      "outputs": [],
      "execution_count": 1
    },
    {
      "cell_type": "code",
      "source": "from aiocoap import *\nfrom aiocoap import message, edhoc, transports\nctx = await Context.create_client_context()",
      "metadata": {
        "trusted": true
      },
      "outputs": [],
      "execution_count": 2
    },
    {
      "cell_type": "code",
      "source": "ephemeral = edhoc.CoseKeyForEdhoc.generate()\nfor_demo = {\n  \"coap://demo.coap.amsuess.com/*\": {\n    \"edhoc-oscore\": {\n      \"suite\": 2,\n      \"method\": 3,\n      \"own_cred_style\": \"by-value\",\n      # with current lakers, we need kid and scope even if we don't access them anywhere\n      \"own_cred\": ephemeral.as_ccs(kid='\\x01', subject=\"2\"),\n      \"private_key\": ephemeral.secret_to_map(),\n      \"peer_cred\": {14: {2: \"demo.coap.amsuess.com\", 8: {1: {1: 2, 2: b'\\0', -1: 1, -2: bytes.fromhex('b9cc746df6641d55044478b29df019ef22b4d2e96ffcf8de85434e5d0f27c33c'), -3: bytes.fromhex('e14e87330d093b469b121c3d0e4d9452cb90036a6e209f21f37d35d2a05c426c')}}}}\n    }\n  }\n}\nctx.client_credentials.load_from_dict(for_demo)",
      "metadata": {
        "trusted": true
      },
      "outputs": [],
      "execution_count": 3
    },
    {
      "cell_type": "code",
      "source": "req = Message(code=GET, uri=\"coap://demo.coap.amsuess.com/whoami\")\n# FIXME: We should have a prettier way to set a proxy\nreq.opt.proxy_scheme = \"coap\"\nreq.remote = message.UndecidedRemote.from_pathless_uri(\"coaps+ws://proxy.coap.amsuess.com\")\nres = await ctx.request(req).response\nres",
      "metadata": {
        "trusted": true
      },
      "outputs": [
        {
          "execution_count": 5,
          "output_type": "execute_result",
          "data": {
            "text/plain": "<aiocoap.Message at 0x356bb28: no mtype, 2.05 Content (no MID, empty token) remote <OSCOREAddress in context <aiocoap.edhoc.EdhocInitiatorContext object at 0xfb8e00> to <WSRemote at 0x12b3d78, hostinfo proxy.coap.amsuess.com, local localhost>>, 1 option(s), 164 byte(s) payload>",
            "text/html": "<details style=\"padding-left:1em\"><summary style=\"margin-left:-1em;display:list-item;\">Message with code <abbr title=\"Successful Response Code 2.05\">CONTENT</abbr>, remote &lt;OSCOREAddress in context &lt;aiocoap.edhoc.EdhocInitiatorContext object at 0xfb8e00&gt; to &lt;WSRemote at 0x12b3d78, hostinfo proxy.coap.amsuess.com, local localhost&gt;&gt;</summary>\n                <details><summary style=\"display:list-item\">1 option</summary><ol><li value=\"12\"><abbr title=\"option 12: elective, safe-to-forward, part of the cache key\">CONTENT_FORMAT</abbr>: <abbr title=\"Content format 0, named ContentFormat.TEXT\">text/plain; charset=utf-8</abbr></ol></details><div><pre>Used protocol: coap.\nRequest came from [2a01:4f8:190:3064::6]:53366.\nThe server address used [2a01:4f8:190:3064::6].\nAuthenticated claims of the client: &#x27;:anybody&#x27;.</pre></div>"
          },
          "metadata": {}
        }
      ],
      "execution_count": 5
    }
  ]
}