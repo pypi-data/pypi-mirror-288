{
 "cells": [
  {
   "cell_type": "code",
   "execution_count": 1,
   "metadata": {},
   "outputs": [],
   "source": [
    "from recordclass import dataobject, clsconfig, litelist\n",
    "import matplotlib.pyplot as plt\n",
    "import numpy as np\n",
    "import time\n",
    "import gc\n",
    "from random import randint"
   ]
  },
  {
   "cell_type": "code",
   "execution_count": 2,
   "metadata": {},
   "outputs": [],
   "source": [
    "class Point(dataobject):\n",
    "    x:int\n",
    "    y:int\n",
    "    z:int\n",
    "    __options__ = {'fast_new':True}\n",
    "\n",
    "@clsconfig(gc=True)\n",
    "class Point_GC(dataobject):\n",
    "    x:int\n",
    "    y:int\n",
    "    z:int\n",
    "    __options__ = {'fast_new':True}\n",
    "        \n",
    "class Point_Slots:\n",
    "    __slots__ = 'x','y'\n",
    "    x:int\n",
    "    y:int\n",
    "    z:int\n",
    "        \n",
    "    def __init__(self, x, y):\n",
    "        self.x = x; self.y = y; self.z = z"
   ]
  },
  {
   "cell_type": "code",
   "execution_count": 3,
   "metadata": {},
   "outputs": [],
   "source": [
    "N = 100000\n",
    "def test_dataobjects(N, randint=randint, Point=Point):\n",
    "    lst = [Point(randint(0, 10), randint(0, 10), randint(0, 10)) for i in range(N)]\n",
    "    for i in range(10*N):\n",
    "        j = randint(0,N-1)\n",
    "        lst[j] = Point(randint(0, 10), randint(0, 10), randint(0, 10))\n",
    "        \n",
    "def test_dataobjects_gc(N, randint=randint, Point_GC=Point_GC):\n",
    "    lst = [Point_GC(randint(0, 10), randint(0, 10), randint(0, 10)) for i in range(N)]\n",
    "    for i in range(10*N):\n",
    "        j = randint(0,N-1)\n",
    "        lst[j] = Point_GC(randint(0, 10), randint(0, 10), randint(0, 10))\n"
   ]
  },
  {
   "cell_type": "code",
   "execution_count": 4,
   "metadata": {},
   "outputs": [
    {
     "name": "stdout",
     "output_type": "stream",
     "text": [
      "2.61 s ± 6.12 ms per loop (mean ± std. dev. of 7 runs, 1 loop each)\n"
     ]
    }
   ],
   "source": [
    "gc.collect()\n",
    "%timeit test_dataobjects(N)"
   ]
  },
  {
   "cell_type": "code",
   "execution_count": 5,
   "metadata": {},
   "outputs": [
    {
     "name": "stdout",
     "output_type": "stream",
     "text": [
      "2.67 s ± 13 ms per loop (mean ± std. dev. of 7 runs, 1 loop each)\n"
     ]
    }
   ],
   "source": [
    "gc.collect()\n",
    "%timeit test_dataobjects_gc(N)"
   ]
  },
  {
   "cell_type": "code",
   "execution_count": 6,
   "metadata": {},
   "outputs": [
    {
     "data": {
      "text/plain": [
       "2.12765957446808"
      ]
     },
     "execution_count": 6,
     "metadata": {},
     "output_type": "execute_result"
    }
   ],
   "source": [
    "(3.36-3.29)/3.29*100"
   ]
  },
  {
   "cell_type": "code",
   "execution_count": null,
   "metadata": {},
   "outputs": [],
   "source": []
  }
 ],
 "metadata": {
  "kernelspec": {
   "display_name": "Python 3",
   "language": "python",
   "name": "python3"
  },
  "language_info": {
   "codemirror_mode": {
    "name": "ipython",
    "version": 3
   },
   "file_extension": ".py",
   "mimetype": "text/x-python",
   "name": "python",
   "nbconvert_exporter": "python",
   "pygments_lexer": "ipython3",
   "version": "3.9.2"
  }
 },
 "nbformat": 4,
 "nbformat_minor": 4
}
