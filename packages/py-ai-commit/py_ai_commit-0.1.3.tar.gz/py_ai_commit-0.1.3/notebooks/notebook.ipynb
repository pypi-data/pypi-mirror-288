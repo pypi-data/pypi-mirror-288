{
 "cells": [
  {
   "cell_type": "code",
   "execution_count": null,
   "id": "0",
   "metadata": {},
   "outputs": [],
   "source": []
  },
  {
   "cell_type": "code",
   "execution_count": null,
   "id": "1",
   "metadata": {},
   "outputs": [],
   "source": [
    "from pathlib import Path\n",
    "\n",
    "current_path = Path.cwd()\n"
   ]
  },
  {
   "cell_type": "code",
   "execution_count": null,
   "id": "2",
   "metadata": {},
   "outputs": [],
   "source": [
    "def find_git_root(path: Path) -> Path:\n",
    "    if (path / \".git\").exists():\n",
    "        return path\n",
    "    if path == path.parent:\n",
    "        raise FileNotFoundError(\"Git root not found\")\n",
    "    return find_git_root(path.parent)"
   ]
  },
  {
   "cell_type": "code",
   "execution_count": null,
   "id": "3",
   "metadata": {},
   "outputs": [],
   "source": [
    "git_path = find_git_root(current_path)"
   ]
  },
  {
   "cell_type": "code",
   "execution_count": null,
   "id": "4",
   "metadata": {},
   "outputs": [],
   "source": [
    "git_path"
   ]
  },
  {
   "cell_type": "code",
   "execution_count": null,
   "id": "5",
   "metadata": {},
   "outputs": [],
   "source": [
    "from git import Repo\n",
    "\n",
    "repo = Repo(git_path)"
   ]
  },
  {
   "cell_type": "code",
   "execution_count": null,
   "id": "6",
   "metadata": {},
   "outputs": [],
   "source": [
    "from typing import Optional\n",
    "\n",
    "def get_git_change(repo: Repo) -> Optional[str]:\n",
    "    \n",
    "    staged_change = repo.git.diff(\"--staged\")\n",
    "    \n",
    "    if staged_change:\n",
    "        print(\"Staged changes found\")\n",
    "        print(staged_change)\n",
    "        return staged_change\n",
    "    else:\n",
    "        unstaged_change = repo.git.diff()\n",
    "        if unstaged_change:\n",
    "            print(\"Unstaged changes found\")\n",
    "            print(unstaged_change)\n",
    "            return unstaged_change\n",
    "        else:\n",
    "            print(\"No changes found\")\n",
    "            return None\n",
    "    \n",
    "diff = get_git_change(repo)\n",
    "\n",
    "diff"
   ]
  },
  {
   "cell_type": "code",
   "execution_count": null,
   "id": "7",
   "metadata": {},
   "outputs": [],
   "source": [
    "from dotenv import load_dotenv\n",
    "\n",
    "load_dotenv()"
   ]
  },
  {
   "cell_type": "code",
   "execution_count": null,
   "id": "8",
   "metadata": {},
   "outputs": [],
   "source": [
    "from langchain_openai import ChatOpenAI\n",
    "\n",
    "model = ChatOpenAI(model=\"gpt-4o-mini\")"
   ]
  },
  {
   "cell_type": "code",
   "execution_count": null,
   "id": "9",
   "metadata": {},
   "outputs": [],
   "source": [
    "from langchain_core.messages import SystemMessage, HumanMessage\n",
    "\n",
    "system_template = \"\"\"\n",
    "You are an AI assistant tasked with generating commit messages that strictly adhere to the commitizen conventions. Please follow these instructions to create commit messages:\n",
    "\n",
    "1. Select the type of commit from the following options:\n",
    "   - feat: A new feature\n",
    "   - fix: A bug fix\n",
    "   - docs: Documentation only changes\n",
    "   - style: Changes that do not affect the meaning of the code (white-space, formatting, missing semi-colons, etc)\n",
    "   - refactor: A code change that neither fixes a bug nor adds a feature\n",
    "   - perf: A code change that improves performance\n",
    "   - test: Adding missing tests or correcting existing tests\n",
    "   - chore: Changes to the build process or auxiliary tools and libraries such as documentation generation\n",
    "\n",
    "2. Specify the scope of the change (optional). This can help clarify which part of the codebase is affected.\n",
    "\n",
    "3. Write a short, imperative mood description of the change (50 characters or less). This should be capitalized and not end with a period.\n",
    "\n",
    "4. Provide a more detailed description of the changes if necessary. Wrap each line at 72 characters.\n",
    "\n",
    "5. If there are any breaking changes, add a description with the prefix \"BREAKING CHANGE:\".\n",
    "\n",
    "6. Add a footer with any relevant issue numbers or other references.\n",
    "\n",
    "Based on this information, please generate a commit message that follows the commitizen format.\n",
    "\n",
    "Example:\n",
    "```\n",
    "feat(auth): Implement two-factor authentication\n",
    "\n",
    "- Add QR code generation for setup\n",
    "- Implement time-based one-time password (TOTP) validation\n",
    "- Update user model to store 2FA secret\n",
    "\n",
    "BREAKING CHANGE: Users will need to set up 2FA on next login\n",
    "\n",
    "Closes #123\n",
    "```\n",
    "\"\"\"\n",
    "\n",
    "\n",
    "user_template = \"\"\"\n",
    "The git diff is below.\n",
    "\n",
    "{diff}\n",
    "\"\"\"\n",
    "\n",
    "messages = [\n",
    "    SystemMessage(system_template),\n",
    "    HumanMessage(user_template)\n",
    "]\n"
   ]
  },
  {
   "cell_type": "code",
   "execution_count": null,
   "id": "10",
   "metadata": {},
   "outputs": [],
   "source": [
    "from langchain_core.prompts import ChatPromptTemplate\n",
    "\n",
    "prompt_template = ChatPromptTemplate.from_messages(\n",
    "    [(\"system\", system_template), (\"user\", user_template)]\n",
    ")"
   ]
  },
  {
   "cell_type": "code",
   "execution_count": null,
   "id": "11",
   "metadata": {},
   "outputs": [],
   "source": [
    "result = prompt_template.invoke({\"diff\": diff})\n",
    "\n",
    "result"
   ]
  },
  {
   "cell_type": "code",
   "execution_count": null,
   "id": "12",
   "metadata": {},
   "outputs": [],
   "source": [
    "result.to_messages()"
   ]
  },
  {
   "cell_type": "code",
   "execution_count": null,
   "id": "13",
   "metadata": {},
   "outputs": [],
   "source": [
    "from langchain_core.output_parsers import StrOutputParser\n",
    "\n",
    "parser = StrOutputParser()"
   ]
  },
  {
   "cell_type": "code",
   "execution_count": null,
   "id": "14",
   "metadata": {},
   "outputs": [],
   "source": [
    "chain = prompt_template | model "
   ]
  },
  {
   "cell_type": "code",
   "execution_count": null,
   "id": "15",
   "metadata": {},
   "outputs": [],
   "source": [
    "result = chain.invoke({\"diff\": diff})\n",
    "\n",
    "result.content"
   ]
  },
  {
   "cell_type": "code",
   "execution_count": null,
   "id": "16",
   "metadata": {},
   "outputs": [],
   "source": [
    "user_template.format(diff=\"hello\")"
   ]
  }
 ],
 "metadata": {
  "kernelspec": {
   "display_name": "Python 3",
   "language": "python",
   "name": "python3"
  },
  "language_info": {
   "codemirror_mode": {
    "name": "ipython",
    "version": 2
   },
   "file_extension": ".py",
   "mimetype": "text/x-python",
   "name": "python",
   "nbconvert_exporter": "python",
   "pygments_lexer": "ipython2",
   "version": "2.7.6"
  }
 },
 "nbformat": 4,
 "nbformat_minor": 5
}
