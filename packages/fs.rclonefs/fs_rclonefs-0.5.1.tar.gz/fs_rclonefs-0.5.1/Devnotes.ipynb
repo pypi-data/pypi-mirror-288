{
 "cells": [
  {
   "cell_type": "markdown",
   "id": "778b9d18-3353-4b60-9d41-52db5a831e50",
   "metadata": {},
   "source": [
    "# Development Notes\n",
    "\n",
    "## Bitmath\n",
    "\n",
    "There's a handy pypi/github package called `bitmath` that handles converting bytecounts into human readable strings - it also provides math operations between bytecount objects. Use this, if this functionality becomes needed.\n",
    "\n",
    "## Children really do look like their parents\n",
    "__note:__ `rclone` uses some interesting variants of the `ls` concept\n",
    "- ls\n",
    "- lsl\n",
    "- lsd\n",
    "- lsjson\n",
    "\n",
    "Each one produces a slight different result depending on whether the items living at the requested path are \"objects\" or \"containers\". In cases where the parent container and the child object have the same name, the results can appear ambiguous.\n",
    "\n",
    "For instance, the lsjson command will return a JSON list of one object if the path is a directory with only one child, and will also return a JSON list of one object if the path is a file -- the dirent is the file.\n",
    "\n",
    "So for a two paths which point to the same level of hierarchy, you may receive data regarding objects from to different levels of hierarchy -- and it's up to you to distinguish which level.\n",
    "\n",
    "The unix 'ls' command behaves in similar ways mind you -- not exactly the same, but can't really disambiguate alone.\n",
    "\n",
    "#### The \"is it cake?\" test.\n",
    "\n",
    "That's why we have 'stat' and 'file' commands. And pyfilesystem has 'getinfo()' and 'isdir()'.\n",
    "\n",
    "So you want to get info for an item at the end of the path?\n",
    "\n",
    "Just take a step back. You can get the JSON list of items belonging to the parent. Then pick that item's info out of the list. Then check the \"IsDir\" property.\n",
    "\n",
    "So as a matter of principal, only run the `ls` commands on paths you _know_ are directories.\n",
    "\n",
    "That kind of pathwalk is piece of cake.\n",
    "\n",
    "Unless you input a non-existant path where the last segment has the same name as its parent, then you're guaranteed a good time.\n",
    "\n",
    "#### Nailing the cake\n",
    "\n",
    "God. We really have to do a path walk from root to avoid that one.\n",
    "\n",
    "Or just run two `lsjson` operations. One on the parent, one on the presumed child. The item info for the child segment, extracted from the `lsjson` operation on the parent segment, is valid IF the `lsjson` operation on the child segment does not return \"directory not found\".\n",
    "\n",
    "Makes perfect sense.\n",
    "\n",
    "## The Root of the Trouble\n",
    "\n",
    "Even though we can get info on the objects and containers within a remote. We can't get info on the \"root\" of the remote. That is '/'.\n",
    "\n",
    "Because that evaluates to the remote itself. And you can't get the same JSON info on the remote as you can on its objects.\n",
    "\n",
    "So we have to make up something.\n",
    "\n",
    "### Is there ever a chance that a remote is not listable? Like the remote is just a file?\n"
   ]
  },
  {
   "cell_type": "code",
   "execution_count": null,
   "id": "932090c3-d123-4ce6-9200-889b87304b93",
   "metadata": {},
   "outputs": [],
   "source": []
  }
 ],
 "metadata": {
  "kernelspec": {
   "display_name": "Python 3 (ipykernel)",
   "language": "python",
   "name": "python3"
  },
  "language_info": {
   "codemirror_mode": {
    "name": "ipython",
    "version": 3
   },
   "file_extension": ".py",
   "mimetype": "text/x-python",
   "name": "python",
   "nbconvert_exporter": "python",
   "pygments_lexer": "ipython3",
   "version": "3.10.12"
  }
 },
 "nbformat": 4,
 "nbformat_minor": 5
}
