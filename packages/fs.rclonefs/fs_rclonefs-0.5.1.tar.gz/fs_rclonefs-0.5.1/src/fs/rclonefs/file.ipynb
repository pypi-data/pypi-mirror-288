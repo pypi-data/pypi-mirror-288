{
 "cells": [
  {
   "cell_type": "markdown",
   "id": "f834ad72-6de9-434f-a548-ade22ba5fe46",
   "metadata": {},
   "source": [
    "# RcloneFSFile"
   ]
  },
  {
   "cell_type": "code",
   "execution_count": 6,
   "id": "96bdffc2-3748-4c35-a8fd-7521db49250b",
   "metadata": {},
   "outputs": [],
   "source": [
    "import io\n",
    "import os\n",
    "import subprocess\n",
    "from fs.tempfs import TempFS\n",
    "from fs.errors import ResourceNotFound\n",
    "\n",
    "class RcloneFile(io.IOBase):\n",
    "    \n",
    "    def __init__(self, parentfs, path, mode):\n",
    "        super().__init__()\n",
    "        self.parentfs = parentfs\n",
    "        self.rclone = parentfs.rclone\n",
    "        self.temp_fs = parentfs.temp_fs\n",
    "        \n",
    "        self.path = path\n",
    "        self.internal_path = f\"{os.path.basename(path)}\"        \n",
    "        self.internal_root = f\"{self.temp_fs.getsyspath('/')}\"\n",
    "        self.mode = mode\n",
    "\n",
    "        if self.parentfs.exists(path):\n",
    "            # here, we should not use the parentfs.download() method\n",
    "            # becasue that expects an open file object as the second argument.\n",
    "            # Instead, we'll use the rclone function directly because it will\n",
    "            # take a system path to our temp location.\n",
    "            self.rclone.copyto(self.parentfs._path(path), self.temp_fs.getsyspath(self.internal_path))\n",
    "\n",
    "        # After the file has been downloaded to our temp storage we can open it.\n",
    "        self.file = self.temp_fs.openbin(self.internal_path, mode)\n",
    "\n",
    "        self.file.seek(0,os.SEEK_END)\n",
    "        self.file_length = self.tell()\n",
    "        self.file.seek(0,os.SEEK_SET)\n",
    "        self.position = 0\n",
    "\n",
    "        self._closed = False\n",
    "\n",
    "    \n",
    "    def _length(self):\n",
    "        prev = self.tell()\n",
    "        self.seek(0, os.SEEK_END)\n",
    "        end = self.tell()\n",
    "        self.seek(prev, os.SEEK_SET)\n",
    "        return end\n",
    "        \n",
    "    def read(self, size=-1):\n",
    "        return self.file.read(size)\n",
    "\n",
    "    def readable(self):\n",
    "        return True\n",
    "\n",
    "    def write(self, data):\n",
    "        length_written = self.file.write(data)\n",
    "        if self.tell() > self.file_length:\n",
    "            self.file_length = self.tell()\n",
    "        return length_written\n",
    "\n",
    "    def truncate(self):\n",
    "        self.file_length = self.tell()\n",
    "        return self.file.truncate()\n",
    "        \n",
    "    def writable(self):\n",
    "        return True\n",
    "        \n",
    "    def seek(self, offset, whence=io.SEEK_SET):\n",
    "        return self.file.seek(offset, whence)\n",
    "\n",
    "    def seekable(self):\n",
    "        return True\n",
    "        \n",
    "    def tell(self):\n",
    "        return self.file.tell()\n",
    "\n",
    "    def close(self):\n",
    "        self.flush()\n",
    "        if self.file and not self._closed:\n",
    "            self.file.close()\n",
    "            self._closed = True\n",
    "            if 'w' in self.mode or '+' in self.mode:\n",
    "                self._upload()\n",
    "                \n",
    "    def _upload(self):\n",
    "        f = self.temp_fs.openbin(self.path, 'r')\n",
    "        opened_length = f.seek(0,os.SEEK_END)\n",
    "        expected_length = self.file_length\n",
    "        \n",
    "        self.parentfs.upload(self.path, f)\n",
    "        f.close()\n"
   ]
  },
  {
   "cell_type": "code",
   "execution_count": 7,
   "id": "f8de41dc-b2b7-4310-80d8-a108494f7b5d",
   "metadata": {},
   "outputs": [],
   "source": [
    "from makepy import makepy"
   ]
  },
  {
   "cell_type": "code",
   "execution_count": 8,
   "id": "103768e7-5d67-4960-84ca-854f92f1804d",
   "metadata": {},
   "outputs": [
    {
     "name": "stdout",
     "output_type": "stream",
     "text": [
      "2024/07/06 23:27:33 file\n"
     ]
    }
   ],
   "source": [
    "makepy(\"file\")"
   ]
  },
  {
   "cell_type": "code",
   "execution_count": 1,
   "id": "7ec48829-71a9-4b4b-9710-25a85837c446",
   "metadata": {},
   "outputs": [],
   "source": [
    "from rclonefs import RcloneFS"
   ]
  },
  {
   "cell_type": "code",
   "execution_count": 2,
   "id": "c948d4f1-c450-4922-a441-2cde6accdab2",
   "metadata": {},
   "outputs": [],
   "source": [
    "a = RcloneFS('dropbox:')"
   ]
  },
  {
   "cell_type": "code",
   "execution_count": 3,
   "id": "8d823f30-30c1-4aac-840c-5818c478a6bf",
   "metadata": {},
   "outputs": [
    {
     "data": {
      "text/plain": [
       "['Backup Large Vids iPh7',\n",
       " 'Camera Uploads',\n",
       " 'Cosms',\n",
       " 'INBOX',\n",
       " 'Manual Photo Uploads',\n",
       " 'More Chie Photos',\n",
       " 'Sedona',\n",
       " 'hello4.txt',\n",
       " 'hello42.txt',\n",
       " 'hello5.txt',\n",
       " 'hello6.txt',\n",
       " 'hello7.txt',\n",
       " 'hello8.txt']"
      ]
     },
     "execution_count": 3,
     "metadata": {},
     "output_type": "execute_result"
    }
   ],
   "source": [
    "a.listdir('/')"
   ]
  },
  {
   "cell_type": "code",
   "execution_count": 5,
   "id": "e4050dc5-9a7e-4767-9c03-43063f61533e",
   "metadata": {},
   "outputs": [
    {
     "name": "stdout",
     "output_type": "stream",
     "text": [
      "And we're off to the races! And more! Oh! So much more!!\n",
      "(More or less.)\n",
      "Ok, less.\n",
      "A lot less.\n",
      "Like zero bytes.\n",
      "Still zero.\n",
      "But wait!\n",
      "Oh nevermind.\n",
      "Aha! Gotcha!\n",
      "\n"
     ]
    }
   ],
   "source": [
    "print(a.readtext('hello8.txt'))"
   ]
  },
  {
   "cell_type": "code",
   "execution_count": 4,
   "id": "5e74a309-597e-45c7-bcf0-300c6b3b9b3d",
   "metadata": {},
   "outputs": [
    {
     "name": "stdout",
     "output_type": "stream",
     "text": [
      "RcloneFile exists hello6.txt\n"
     ]
    }
   ],
   "source": [
    "f = a.openbin(\"hello6.txt\",\"w+\")"
   ]
  },
  {
   "cell_type": "code",
   "execution_count": 5,
   "id": "38d966b3-dd59-4d21-9f67-4c6df68814a9",
   "metadata": {},
   "outputs": [
    {
     "name": "stdout",
     "output_type": "stream",
     "text": [
      "b'/tmp/tmpylaqr2de__tempfs__/hello6.txt'\n"
     ]
    }
   ],
   "source": [
    "print(f.file.name)"
   ]
  },
  {
   "cell_type": "code",
   "execution_count": 6,
   "id": "41821a1b-6506-4f28-a5dd-b8c91bdbb275",
   "metadata": {},
   "outputs": [
    {
     "data": {
      "text/plain": [
       "40"
      ]
     },
     "execution_count": 6,
     "metadata": {},
     "output_type": "execute_result"
    }
   ],
   "source": [
    "f.write(b\"\"\"I was wrong. Sixth time's a charm. 6's.\n",
    "\"\"\")"
   ]
  },
  {
   "cell_type": "code",
   "execution_count": 7,
   "id": "04d7dac9-c354-44a4-a6c8-f8a7bd9cc691",
   "metadata": {},
   "outputs": [
    {
     "data": {
      "text/plain": [
       "0"
      ]
     },
     "execution_count": 7,
     "metadata": {},
     "output_type": "execute_result"
    }
   ],
   "source": [
    "f.seek(0)"
   ]
  },
  {
   "cell_type": "code",
   "execution_count": 8,
   "id": "8ad7d1f1-9189-457e-91ad-08c0f3f4c79e",
   "metadata": {},
   "outputs": [
    {
     "data": {
      "text/plain": [
       "b\"I was wrong. Sixth time's a charm. 6's.\\n\""
      ]
     },
     "execution_count": 8,
     "metadata": {},
     "output_type": "execute_result"
    }
   ],
   "source": [
    "f.read()"
   ]
  },
  {
   "cell_type": "code",
   "execution_count": 9,
   "id": "04f7c0be-9686-41e3-8725-74acce08838a",
   "metadata": {},
   "outputs": [
    {
     "name": "stdout",
     "output_type": "stream",
     "text": [
      "upload called...\n",
      "calling rclone copyto /tmp/tmpylaqr2de__tempfs__/hello6.txt dropbox:hello6.txt\n",
      "File content: b\"I was wrong. Sixth time's a charm. 6's.\\n\"\n",
      "upload method finished.\n"
     ]
    }
   ],
   "source": [
    "f.close()"
   ]
  },
  {
   "cell_type": "code",
   "execution_count": 19,
   "id": "3b05676a-1174-42f1-a167-175b8ae46d6f",
   "metadata": {},
   "outputs": [
    {
     "name": "stdout",
     "output_type": "stream",
     "text": [
      "RcloneFile init: path: hello8.txt mode: w\n",
      "RcloneFile exists hello8.txt\n",
      "RcloneFile: write\n",
      "RcloneFile: close\n",
      "expected_length: 161\n",
      "opened_length: 161\n",
      "upload called...\n",
      "calling rclone copyto /tmp/tmpi9t10ps6__tempfs__/hello8.txt dropbox:hello8.txt\n",
      "File content: b\"And we're off to the races! And more! Oh! So much more!!\\n(More or less.)\\nOk, less.\\nA lot less.\\nLike zero bytes.\\nStill zero.\\nBut wait!\\nOh nevermind.\\nAha! Gotcha!\\n\"\n",
      "upload method finished.\n",
      "RcloneFile: close\n"
     ]
    }
   ],
   "source": [
    "a.writetext(\"hello8.txt\",\"\"\"And we're off to the races! And more! Oh! So much more!!\n",
    "(More or less.)\n",
    "Ok, less.\n",
    "A lot less.\n",
    "Like zero bytes.\n",
    "Still zero.\n",
    "But wait!\n",
    "Oh nevermind.\n",
    "Aha! Gotcha!\n",
    "\"\"\")"
   ]
  }
 ],
 "metadata": {
  "kernelspec": {
   "display_name": "_venv",
   "language": "python",
   "name": "_venv"
  },
  "language_info": {
   "codemirror_mode": {
    "name": "ipython",
    "version": 3
   },
   "file_extension": ".py",
   "mimetype": "text/x-python",
   "name": "python",
   "nbconvert_exporter": "python",
   "pygments_lexer": "ipython3",
   "version": "3.10.12"
  }
 },
 "nbformat": 4,
 "nbformat_minor": 5
}
