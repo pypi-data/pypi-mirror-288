{
 "cells": [
  {
   "cell_type": "markdown",
   "id": "7bcf1bdd-52df-403c-bdd4-55b85c55237a",
   "metadata": {
    "editable": true,
    "slideshow": {
     "slide_type": ""
    },
    "tags": []
   },
   "source": [
    "# I've got a bad feeling about this...\n",
    "\n",
    "I'm going to make yet another rclone wrapper.\n",
    "\n",
    "But...I'm gonna get help from Claude!\n"
   ]
  },
  {
   "cell_type": "code",
   "execution_count": 4,
   "id": "07c68723-edd2-4fc2-9ab6-121ee19fc69c",
   "metadata": {},
   "outputs": [],
   "source": [
    "import subprocess\n",
    "import json\n",
    "import os\n",
    "\n",
    "class Rclone:\n",
    "    def __init__(self, rclone_path=\"rclone\", config_file=None):\n",
    "        self.rclone_path = rclone_path\n",
    "        self.config_file = config_file\n",
    "\n",
    "    def _run_command(self, args, flags=None):\n",
    "        command = [self.rclone_path]\n",
    "        if self.config_file:\n",
    "            command.extend([\"--config\", self.config_file])\n",
    "        command.extend(args)\n",
    "        if flags:\n",
    "            command.extend(flags)\n",
    "        result = subprocess.run(command, capture_output=True, text=True)\n",
    "        if result.returncode != 0:\n",
    "            raise Exception(f\"RClone command failed: {result.stderr}\")\n",
    "        return result.stdout\n",
    "\n",
    "    def list_remotes(self, flags=None):\n",
    "        return self._run_command([\"listremotes\"], flags).splitlines()\n",
    "\n",
    "    def list_files(self, remote_path, flags=None):\n",
    "        output = self._run_command([\"lsjson\", remote_path], flags)\n",
    "        return json.loads(output)\n",
    "\n",
    "    def copy(self, source, destination, flags=None):\n",
    "        self._run_command([\"copy\", source, destination], flags)\n",
    "\n",
    "    def copyto(self, source, destination, flags=None):\n",
    "        self._run_command([\"copyto\", source, destination], flags)\n",
    "\n",
    "    def move(self, source, destination, flags=None):\n",
    "        self._run_command([\"move\", source, destination], flags)\n",
    "\n",
    "    def sync(self, source, destination, flags=None):\n",
    "        self._run_command([\"sync\", source, destination], flags)\n",
    "\n",
    "    def delete(self, path, flags=None):\n",
    "        self._run_command([\"delete\", path], flags)\n",
    "\n",
    "    def deletefile(self, path, flags=None):\n",
    "        self._run_command([\"deletefile\", path], flags)\n",
    "\n",
    "    def mkdir(self, path, flags=None):\n",
    "        self._run_command([\"mkdir\", path], flags)\n",
    "\n",
    "    def rmdir(self, path, flags=None):\n",
    "        self._run_command([\"rmdir\", path], flags)\n",
    "\n",
    "    def purge(self, path, flags=None):\n",
    "        self._run_command([\"purge\", path], flags)\n",
    "\n",
    "    def check(self, source, destination, flags=None):\n",
    "        return self._run_command([\"check\", source, destination], flags)\n",
    "\n",
    "    def version(self, flags=None):\n",
    "        return self._run_command([\"version\"], flags).strip()\n",
    "\n",
    "    def set_config_file(self, config_file):\n",
    "        self.config_file = config_file\n",
    "\n",
    "    def get_config_file(self):\n",
    "        return self.config_file\n",
    "\n",
    "    def get_remote_info(self, remote: str, flags=None) -> dict:\n",
    "        try:\n",
    "            output = self._run_command([\"about\", remote, \"--json\"], flags)\n",
    "            return json.loads(output)\n",
    "        except Exception as e:\n",
    "            return {}"
   ]
  },
  {
   "cell_type": "code",
   "execution_count": 5,
   "id": "deb9247a-f73d-463b-9a15-e83142b56d55",
   "metadata": {},
   "outputs": [],
   "source": [
    "import subprocess\n",
    "import json\n",
    "import os\n",
    "\n",
    "class Rclone:\n",
    "    def __init__(self, rclone_path=\"rclone\", config_file=None):\n",
    "        self.rclone_path = rclone_path\n",
    "        self.config_file = config_file\n",
    "\n",
    "    def _run_command(self, args):\n",
    "        command = [self.rclone_path]\n",
    "        if self.config_file:\n",
    "            command.extend([\"--config\", self.config_file])\n",
    "        command.extend(args)\n",
    "        result = subprocess.run(command, capture_output=True, text=True)\n",
    "        if result.returncode != 0:\n",
    "            raise Exception(f\"RClone command failed: {result.stderr}\")\n",
    "        return result.stdout\n",
    "\n",
    "    def list_remotes(self):\n",
    "        return self._run_command([\"listremotes\"]).splitlines()\n",
    "\n",
    "    def list_files(self, remote_path):\n",
    "        output = self._run_command([\"lsjson\", remote_path])\n",
    "        return json.loads(output)\n",
    "\n",
    "    def copy(self, source, destination):\n",
    "        self._run_command([\"copy\", source, destination])\n",
    "\n",
    "    def move(self, source, destination):\n",
    "        self._run_command([\"move\", source, destination])\n",
    "\n",
    "    def sync(self, source, destination):\n",
    "        self._run_command([\"sync\", source, destination])\n",
    "\n",
    "    def delete(self, path):\n",
    "        self._run_command([\"delete\", path])\n",
    "\n",
    "    def deletefile(self, path):\n",
    "        self._run_command([\"deletefile\", path])\n",
    "\n",
    "    def mkdir(self, path):\n",
    "        self._run_command([\"mkdir\", path])\n",
    "\n",
    "    def rmdir(self, path):\n",
    "        self._run_command([\"rmdir\", path])\n",
    "\n",
    "    def purge(self, path):\n",
    "        self._run_command([\"purge\", path])\n",
    "\n",
    "    def check(self, source, destination):\n",
    "        return self._run_command([\"check\", source, destination])\n",
    "\n",
    "    def version(self):\n",
    "        return self._run_command([\"version\"]).strip()\n",
    "\n",
    "    def set_config_file(self, config_file):\n",
    "        self.config_file = config_file\n",
    "\n",
    "    def get_config_file(self):\n",
    "        return self.config_file\n",
    "\n",
    "    def get_remote_info(self, remote: str) -> dict:\n",
    "        try:\n",
    "            output = self._run_command([\"about\", remote, \"--json\"])\n",
    "            return json.loads(output)\n",
    "        except Exception as e:\n",
    "            return {}"
   ]
  },
  {
   "cell_type": "code",
   "execution_count": 6,
   "id": "8cb204f8-9ce2-4c6e-b219-a8dac12ba993",
   "metadata": {},
   "outputs": [],
   "source": [
    "from makepy import makepy\n"
   ]
  },
  {
   "cell_type": "code",
   "execution_count": 7,
   "id": "3426e9cf-8377-44c4-98e7-a63dbd130fe0",
   "metadata": {},
   "outputs": [
    {
     "name": "stdout",
     "output_type": "stream",
     "text": [
      "2024/07/06 23:06:02 rclone\n"
     ]
    }
   ],
   "source": [
    "makepy(\"rclone\")"
   ]
  },
  {
   "cell_type": "code",
   "execution_count": 20,
   "id": "e09e37fc-b3ba-4600-a99e-4da696ccecc0",
   "metadata": {
    "editable": true,
    "slideshow": {
     "slide_type": ""
    },
    "tags": []
   },
   "outputs": [
    {
     "name": "stdout",
     "output_type": "stream",
     "text": [
      "/home/raygan/.config/rclone/rclone.conf2\n"
     ]
    }
   ],
   "source": [
    "import os\n",
    "\n",
    "config_path = os.path.expanduser(\"~/.config/rclone/rclone.conf2\")\n",
    "print(config_path)\n",
    "rclone = Rclone(config_file=config_path)"
   ]
  },
  {
   "cell_type": "code",
   "execution_count": 21,
   "id": "610f80a5-162f-424f-a447-eb3ce7581336",
   "metadata": {},
   "outputs": [
    {
     "name": "stdout",
     "output_type": "stream",
     "text": [
      "Available remotes: []\n"
     ]
    }
   ],
   "source": [
    "# List remotes\n",
    "remotes = rclone.list_remotes()\n",
    "print(\"Available remotes:\", remotes)"
   ]
  },
  {
   "cell_type": "code",
   "execution_count": 22,
   "id": "bdade021-c0c1-451e-a481-a4510d583007",
   "metadata": {},
   "outputs": [
    {
     "ename": "TypeError",
     "evalue": "list_files() got an unexpected keyword argument 'flags'",
     "output_type": "error",
     "traceback": [
      "\u001b[0;31m---------------------------------------------------------------------------\u001b[0m",
      "\u001b[0;31mTypeError\u001b[0m                                 Traceback (most recent call last)",
      "Cell \u001b[0;32mIn[22], line 2\u001b[0m\n\u001b[1;32m      1\u001b[0m \u001b[38;5;66;03m# List files in a remote\u001b[39;00m\n\u001b[0;32m----> 2\u001b[0m files \u001b[38;5;241m=\u001b[39m \u001b[43mrclone\u001b[49m\u001b[38;5;241;43m.\u001b[39;49m\u001b[43mlist_files\u001b[49m\u001b[43m(\u001b[49m\u001b[38;5;124;43m\"\u001b[39;49m\u001b[38;5;124;43mgdrive:Cosms/Raygan/Documents\u001b[39;49m\u001b[38;5;124;43m\"\u001b[39;49m\u001b[43m,\u001b[49m\n\u001b[1;32m      3\u001b[0m \u001b[43m                          \u001b[49m\u001b[43mflags\u001b[49m\u001b[38;5;241;43m=\u001b[39;49m\u001b[43m[\u001b[49m\u001b[38;5;124;43m'\u001b[39;49m\u001b[38;5;124;43m--hash\u001b[39;49m\u001b[38;5;124;43m'\u001b[39;49m\u001b[43m,\u001b[49m\u001b[43m \u001b[49m\u001b[38;5;124;43m'\u001b[39;49m\u001b[38;5;124;43m--no-mimetype\u001b[39;49m\u001b[38;5;124;43m'\u001b[39;49m\u001b[43m]\u001b[49m\u001b[43m)\u001b[49m\n\u001b[1;32m      4\u001b[0m \u001b[38;5;28;01mfor\u001b[39;00m file \u001b[38;5;129;01min\u001b[39;00m files:\n\u001b[1;32m      5\u001b[0m     \u001b[38;5;66;03m#print(file['Path'], file['Size'])\u001b[39;00m\n\u001b[1;32m      6\u001b[0m     \u001b[38;5;28mprint\u001b[39m(file)\n",
      "\u001b[0;31mTypeError\u001b[0m: list_files() got an unexpected keyword argument 'flags'"
     ]
    }
   ],
   "source": [
    "# List files in a remote\n",
    "files = rclone.list_files(\"gdrive:Cosms/Raygan/Documents\",\n",
    "                          flags=['--hash', '--no-mimetype'])\n",
    "for file in files:\n",
    "    #print(file['Path'], file['Size'])\n",
    "    print(file)"
   ]
  },
  {
   "cell_type": "code",
   "execution_count": null,
   "id": "d0c2dffa-092a-4646-bdba-9dfd462b7921",
   "metadata": {},
   "outputs": [
    {
     "name": "stdout",
     "output_type": "stream",
     "text": [
      "/home/raygan/.config/rclone/rclone.conf2\n",
      "Available remotes: ['dropbox:', 'gdrive:', 'yarnangel-raygan-com:']\n",
      "Backup Large Vids iPh7 -1\n",
      "Camera Uploads -1\n",
      "Chie Photos -1\n",
      "Cosms -1\n",
      "Devils_Throat 10485760\n",
      "Downloads -1\n",
      "INBOX -1\n",
      "Manual Photo Uploads -1\n",
      "More Chie Photos -1\n",
      "Photos -1\n",
      "Public -1\n",
      "Sedona -1\n",
      "hello.dhello.jp.txt 0\n",
      "hello.jp.txt 0\n",
      "raygan for aandi -1\n",
      "raygan for snapfish -1\n",
      "test -1\n",
      "wedding -1\n",
      "wedding bliss -1\n",
      "wedding raygan -1\n",
      "RClone version: rclone v1.67.0\n",
      "- os/version: linuxmint 21.2 (64 bit)\n",
      "- os/kernel: 5.15.0-91-generic (x86_64)\n",
      "- os/type: linux\n",
      "- os/arch: amd64\n",
      "- go/version: go1.22.4\n",
      "- go/linking: static\n",
      "- go/tags: none\n"
     ]
    }
   ],
   "source": [
    "# Copy a file\n",
    "#rclone.copy(\"local/path/to/file\", \"remote:path/to/destination\")\n",
    "\n",
    "# Get rclone version\n",
    "version = rclone.version()\n",
    "print(\"RClone version:\", version)"
   ]
  },
  {
   "cell_type": "code",
   "execution_count": 4,
   "id": "3cde8621-1420-4f4d-ae86-b6d5e37acad7",
   "metadata": {},
   "outputs": [
    {
     "ename": "KeyboardInterrupt",
     "evalue": "",
     "output_type": "error",
     "traceback": [
      "\u001b[0;31m---------------------------------------------------------------------------\u001b[0m",
      "\u001b[0;31mKeyboardInterrupt\u001b[0m                         Traceback (most recent call last)",
      "\u001b[0;32m/tmp/ipykernel_32965/3033713406.py\u001b[0m in \u001b[0;36m<module>\u001b[0;34m\u001b[0m\n\u001b[0;32m----> 1\u001b[0;31m \u001b[0mrclone\u001b[0m\u001b[0;34m.\u001b[0m\u001b[0mlist_files\u001b[0m\u001b[0;34m(\u001b[0m\u001b[0;34m\"yarnangel-raygan-com:\"\u001b[0m\u001b[0;34m)\u001b[0m\u001b[0;34m\u001b[0m\u001b[0;34m\u001b[0m\u001b[0m\n\u001b[0m",
      "\u001b[0;32m/tmp/ipykernel_32965/4137398229.py\u001b[0m in \u001b[0;36mlist_files\u001b[0;34m(self, remote_path)\u001b[0m\n\u001b[1;32m     24\u001b[0m \u001b[0;34m\u001b[0m\u001b[0m\n\u001b[1;32m     25\u001b[0m     \u001b[0;32mdef\u001b[0m \u001b[0mlist_files\u001b[0m\u001b[0;34m(\u001b[0m\u001b[0mself\u001b[0m\u001b[0;34m,\u001b[0m \u001b[0mremote_path\u001b[0m\u001b[0;34m)\u001b[0m\u001b[0;34m:\u001b[0m\u001b[0;34m\u001b[0m\u001b[0;34m\u001b[0m\u001b[0m\n\u001b[0;32m---> 26\u001b[0;31m         \u001b[0moutput\u001b[0m \u001b[0;34m=\u001b[0m \u001b[0mself\u001b[0m\u001b[0;34m.\u001b[0m\u001b[0m_run_command\u001b[0m\u001b[0;34m(\u001b[0m\u001b[0;34m[\u001b[0m\u001b[0;34m\"lsjson\"\u001b[0m\u001b[0;34m,\u001b[0m \u001b[0mremote_path\u001b[0m\u001b[0;34m]\u001b[0m\u001b[0;34m)\u001b[0m\u001b[0;34m\u001b[0m\u001b[0;34m\u001b[0m\u001b[0m\n\u001b[0m\u001b[1;32m     27\u001b[0m         \u001b[0;32mreturn\u001b[0m \u001b[0mjson\u001b[0m\u001b[0;34m.\u001b[0m\u001b[0mloads\u001b[0m\u001b[0;34m(\u001b[0m\u001b[0moutput\u001b[0m\u001b[0;34m)\u001b[0m\u001b[0;34m\u001b[0m\u001b[0;34m\u001b[0m\u001b[0m\n\u001b[1;32m     28\u001b[0m \u001b[0;34m\u001b[0m\u001b[0m\n",
      "\u001b[0;32m/tmp/ipykernel_32965/4137398229.py\u001b[0m in \u001b[0;36m_run_command\u001b[0;34m(self, args)\u001b[0m\n\u001b[1;32m     15\u001b[0m             \u001b[0mcommand\u001b[0m\u001b[0;34m.\u001b[0m\u001b[0mextend\u001b[0m\u001b[0;34m(\u001b[0m\u001b[0;34m[\u001b[0m\u001b[0;34m\"--config\"\u001b[0m\u001b[0;34m,\u001b[0m \u001b[0mself\u001b[0m\u001b[0;34m.\u001b[0m\u001b[0mconfig_file\u001b[0m\u001b[0;34m]\u001b[0m\u001b[0;34m)\u001b[0m\u001b[0;34m\u001b[0m\u001b[0;34m\u001b[0m\u001b[0m\n\u001b[1;32m     16\u001b[0m         \u001b[0mcommand\u001b[0m\u001b[0;34m.\u001b[0m\u001b[0mextend\u001b[0m\u001b[0;34m(\u001b[0m\u001b[0margs\u001b[0m\u001b[0;34m)\u001b[0m\u001b[0;34m\u001b[0m\u001b[0;34m\u001b[0m\u001b[0m\n\u001b[0;32m---> 17\u001b[0;31m         \u001b[0mresult\u001b[0m \u001b[0;34m=\u001b[0m \u001b[0msubprocess\u001b[0m\u001b[0;34m.\u001b[0m\u001b[0mrun\u001b[0m\u001b[0;34m(\u001b[0m\u001b[0mcommand\u001b[0m\u001b[0;34m,\u001b[0m \u001b[0mcapture_output\u001b[0m\u001b[0;34m=\u001b[0m\u001b[0;32mTrue\u001b[0m\u001b[0;34m,\u001b[0m \u001b[0mtext\u001b[0m\u001b[0;34m=\u001b[0m\u001b[0;32mTrue\u001b[0m\u001b[0;34m)\u001b[0m\u001b[0;34m\u001b[0m\u001b[0;34m\u001b[0m\u001b[0m\n\u001b[0m\u001b[1;32m     18\u001b[0m         \u001b[0;32mif\u001b[0m \u001b[0mresult\u001b[0m\u001b[0;34m.\u001b[0m\u001b[0mreturncode\u001b[0m \u001b[0;34m!=\u001b[0m \u001b[0;36m0\u001b[0m\u001b[0;34m:\u001b[0m\u001b[0;34m\u001b[0m\u001b[0;34m\u001b[0m\u001b[0m\n\u001b[1;32m     19\u001b[0m             \u001b[0;32mraise\u001b[0m \u001b[0mException\u001b[0m\u001b[0;34m(\u001b[0m\u001b[0;34mf\"RClone command failed: {result.stderr}\"\u001b[0m\u001b[0;34m)\u001b[0m\u001b[0;34m\u001b[0m\u001b[0;34m\u001b[0m\u001b[0m\n",
      "\u001b[0;32m/usr/lib/python3.10/subprocess.py\u001b[0m in \u001b[0;36mrun\u001b[0;34m(input, capture_output, timeout, check, *popenargs, **kwargs)\u001b[0m\n\u001b[1;32m    503\u001b[0m     \u001b[0;32mwith\u001b[0m \u001b[0mPopen\u001b[0m\u001b[0;34m(\u001b[0m\u001b[0;34m*\u001b[0m\u001b[0mpopenargs\u001b[0m\u001b[0;34m,\u001b[0m \u001b[0;34m**\u001b[0m\u001b[0mkwargs\u001b[0m\u001b[0;34m)\u001b[0m \u001b[0;32mas\u001b[0m \u001b[0mprocess\u001b[0m\u001b[0;34m:\u001b[0m\u001b[0;34m\u001b[0m\u001b[0;34m\u001b[0m\u001b[0m\n\u001b[1;32m    504\u001b[0m         \u001b[0;32mtry\u001b[0m\u001b[0;34m:\u001b[0m\u001b[0;34m\u001b[0m\u001b[0;34m\u001b[0m\u001b[0m\n\u001b[0;32m--> 505\u001b[0;31m             \u001b[0mstdout\u001b[0m\u001b[0;34m,\u001b[0m \u001b[0mstderr\u001b[0m \u001b[0;34m=\u001b[0m \u001b[0mprocess\u001b[0m\u001b[0;34m.\u001b[0m\u001b[0mcommunicate\u001b[0m\u001b[0;34m(\u001b[0m\u001b[0minput\u001b[0m\u001b[0;34m,\u001b[0m \u001b[0mtimeout\u001b[0m\u001b[0;34m=\u001b[0m\u001b[0mtimeout\u001b[0m\u001b[0;34m)\u001b[0m\u001b[0;34m\u001b[0m\u001b[0;34m\u001b[0m\u001b[0m\n\u001b[0m\u001b[1;32m    506\u001b[0m         \u001b[0;32mexcept\u001b[0m \u001b[0mTimeoutExpired\u001b[0m \u001b[0;32mas\u001b[0m \u001b[0mexc\u001b[0m\u001b[0;34m:\u001b[0m\u001b[0;34m\u001b[0m\u001b[0;34m\u001b[0m\u001b[0m\n\u001b[1;32m    507\u001b[0m             \u001b[0mprocess\u001b[0m\u001b[0;34m.\u001b[0m\u001b[0mkill\u001b[0m\u001b[0;34m(\u001b[0m\u001b[0;34m)\u001b[0m\u001b[0;34m\u001b[0m\u001b[0;34m\u001b[0m\u001b[0m\n",
      "\u001b[0;32m/usr/lib/python3.10/subprocess.py\u001b[0m in \u001b[0;36mcommunicate\u001b[0;34m(self, input, timeout)\u001b[0m\n\u001b[1;32m   1152\u001b[0m \u001b[0;34m\u001b[0m\u001b[0m\n\u001b[1;32m   1153\u001b[0m             \u001b[0;32mtry\u001b[0m\u001b[0;34m:\u001b[0m\u001b[0;34m\u001b[0m\u001b[0;34m\u001b[0m\u001b[0m\n\u001b[0;32m-> 1154\u001b[0;31m                 \u001b[0mstdout\u001b[0m\u001b[0;34m,\u001b[0m \u001b[0mstderr\u001b[0m \u001b[0;34m=\u001b[0m \u001b[0mself\u001b[0m\u001b[0;34m.\u001b[0m\u001b[0m_communicate\u001b[0m\u001b[0;34m(\u001b[0m\u001b[0minput\u001b[0m\u001b[0;34m,\u001b[0m \u001b[0mendtime\u001b[0m\u001b[0;34m,\u001b[0m \u001b[0mtimeout\u001b[0m\u001b[0;34m)\u001b[0m\u001b[0;34m\u001b[0m\u001b[0;34m\u001b[0m\u001b[0m\n\u001b[0m\u001b[1;32m   1155\u001b[0m             \u001b[0;32mexcept\u001b[0m \u001b[0mKeyboardInterrupt\u001b[0m\u001b[0;34m:\u001b[0m\u001b[0;34m\u001b[0m\u001b[0;34m\u001b[0m\u001b[0m\n\u001b[1;32m   1156\u001b[0m                 \u001b[0;31m# https://bugs.python.org/issue25942\u001b[0m\u001b[0;34m\u001b[0m\u001b[0;34m\u001b[0m\u001b[0m\n",
      "\u001b[0;32m/usr/lib/python3.10/subprocess.py\u001b[0m in \u001b[0;36m_communicate\u001b[0;34m(self, input, endtime, orig_timeout)\u001b[0m\n\u001b[1;32m   2019\u001b[0m                             'failed to raise TimeoutExpired.')\n\u001b[1;32m   2020\u001b[0m \u001b[0;34m\u001b[0m\u001b[0m\n\u001b[0;32m-> 2021\u001b[0;31m                     \u001b[0mready\u001b[0m \u001b[0;34m=\u001b[0m \u001b[0mselector\u001b[0m\u001b[0;34m.\u001b[0m\u001b[0mselect\u001b[0m\u001b[0;34m(\u001b[0m\u001b[0mtimeout\u001b[0m\u001b[0;34m)\u001b[0m\u001b[0;34m\u001b[0m\u001b[0;34m\u001b[0m\u001b[0m\n\u001b[0m\u001b[1;32m   2022\u001b[0m                     \u001b[0mself\u001b[0m\u001b[0;34m.\u001b[0m\u001b[0m_check_timeout\u001b[0m\u001b[0;34m(\u001b[0m\u001b[0mendtime\u001b[0m\u001b[0;34m,\u001b[0m \u001b[0morig_timeout\u001b[0m\u001b[0;34m,\u001b[0m \u001b[0mstdout\u001b[0m\u001b[0;34m,\u001b[0m \u001b[0mstderr\u001b[0m\u001b[0;34m)\u001b[0m\u001b[0;34m\u001b[0m\u001b[0;34m\u001b[0m\u001b[0m\n\u001b[1;32m   2023\u001b[0m \u001b[0;34m\u001b[0m\u001b[0m\n",
      "\u001b[0;32m/usr/lib/python3.10/selectors.py\u001b[0m in \u001b[0;36mselect\u001b[0;34m(self, timeout)\u001b[0m\n\u001b[1;32m    414\u001b[0m         \u001b[0mready\u001b[0m \u001b[0;34m=\u001b[0m \u001b[0;34m[\u001b[0m\u001b[0;34m]\u001b[0m\u001b[0;34m\u001b[0m\u001b[0;34m\u001b[0m\u001b[0m\n\u001b[1;32m    415\u001b[0m         \u001b[0;32mtry\u001b[0m\u001b[0;34m:\u001b[0m\u001b[0;34m\u001b[0m\u001b[0;34m\u001b[0m\u001b[0m\n\u001b[0;32m--> 416\u001b[0;31m             \u001b[0mfd_event_list\u001b[0m \u001b[0;34m=\u001b[0m \u001b[0mself\u001b[0m\u001b[0;34m.\u001b[0m\u001b[0m_selector\u001b[0m\u001b[0;34m.\u001b[0m\u001b[0mpoll\u001b[0m\u001b[0;34m(\u001b[0m\u001b[0mtimeout\u001b[0m\u001b[0;34m)\u001b[0m\u001b[0;34m\u001b[0m\u001b[0;34m\u001b[0m\u001b[0m\n\u001b[0m\u001b[1;32m    417\u001b[0m         \u001b[0;32mexcept\u001b[0m \u001b[0mInterruptedError\u001b[0m\u001b[0;34m:\u001b[0m\u001b[0;34m\u001b[0m\u001b[0;34m\u001b[0m\u001b[0m\n\u001b[1;32m    418\u001b[0m             \u001b[0;32mreturn\u001b[0m \u001b[0mready\u001b[0m\u001b[0;34m\u001b[0m\u001b[0;34m\u001b[0m\u001b[0m\n",
      "\u001b[0;31mKeyboardInterrupt\u001b[0m: "
     ]
    }
   ],
   "source": [
    "rclone.list_files(\"yarnangel-raygan-com:\")"
   ]
  },
  {
   "cell_type": "code",
   "execution_count": null,
   "id": "b753f2b7-383f-44a6-bb42-a0d149fd2c38",
   "metadata": {},
   "outputs": [],
   "source": []
  }
 ],
 "metadata": {
  "kernelspec": {
   "display_name": "_venv",
   "language": "python",
   "name": "_venv"
  },
  "language_info": {
   "codemirror_mode": {
    "name": "ipython",
    "version": 3
   },
   "file_extension": ".py",
   "mimetype": "text/x-python",
   "name": "python",
   "nbconvert_exporter": "python",
   "pygments_lexer": "ipython3",
   "version": "3.10.12"
  }
 },
 "nbformat": 4,
 "nbformat_minor": 5
}
