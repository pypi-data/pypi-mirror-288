{
 "cells": [
  {
   "cell_type": "markdown",
   "id": "99b382f6-fd39-498d-af5a-6dee3ac74004",
   "metadata": {},
   "source": [
    "# RcloneFS\n",
    "\n",
    "This object wraps an `rclone` object from the __rclone-python__ project, which in turn wraps the interface to the __rclone__ project.\n",
    "\n",
    "`RcloneFS` implements `pyfilesystem2` methods.\n"
   ]
  },
  {
   "cell_type": "code",
   "execution_count": 9,
   "id": "af1403cb-87fb-4525-bcd6-9263e3cc26d3",
   "metadata": {},
   "outputs": [],
   "source": [
    "from fs.base import FS\n",
    "from fs.info import Info\n",
    "from fs.permissions import Permissions\n",
    "from fs.enums import ResourceType\n",
    "from fs.errors import DirectoryExists, ResourceNotFound, DirectoryNotEmpty\n",
    "from fs.errors import DirectoryExpected, RemoveRootError\n",
    "from fs.errors import FileExpected\n",
    "from fs.path import split, normpath\n",
    "from datetime import datetime\n",
    "import json\n",
    "from typing import List, Union, Optional\n",
    "from fs.tempfs import TempFS\n",
    "\n",
    "if __name__ == '__main__':\n",
    "    from rclone import Rclone\n",
    "    from file import RcloneFile\n",
    "else:\n",
    "    from .rclone import Rclone\n",
    "    from .file import RcloneFile\n",
    "    \n",
    "class RcloneFS(FS):\n",
    "    def __init__(self, remote: str, rclone: Optional[Rclone] = None, config_file: Optional[str] = None):\n",
    "        super().__init__()\n",
    "        self.remote = remote.rstrip(':')\n",
    "        if rclone is None:\n",
    "            self.rclone = Rclone(config_file=config_file)\n",
    "        else:\n",
    "            self.rclone = rclone\n",
    "            if config_file:\n",
    "                self.rclone.set_config_file(config_file)\n",
    "        self.temp_fs = TempFS()\n",
    "\n",
    "    def close(self):\n",
    "        super().close()\n",
    "        self.temp_fs.close()\n",
    "\n",
    "    def _path(self, path: str) -> str:\n",
    "        return f\"{self.remote}:{normpath(path).lstrip('/')}\"\n",
    "    \n",
    "\n",
    "    def getinfo(self, path: str, namespaces=None) -> Info:\n",
    "        path = normpath(path)\n",
    "        if path == '/':\n",
    "            return self._root_info(namespaces)\n",
    "        \n",
    "        parent_dir, name = split(path)\n",
    "        try:\n",
    "            parent_path = self._path(parent_dir)\n",
    "            files = self.rclone.list_files(parent_path)\n",
    "            for file_info in files:\n",
    "                if file_info['Name'] == name:\n",
    "                    return self._make_info(path, file_info, namespaces)\n",
    "            raise ResourceNotFound(path)\n",
    "        except Exception as e:\n",
    "            raise ResourceNotFound(path)\n",
    "\n",
    "    def _root_info(self, namespaces=None) -> Info:\n",
    "        try:\n",
    "            # Attempt to get remote info\n",
    "            remote_info = self.rclone.get_remote_info(self.remote+':')\n",
    "            \n",
    "            raw_info = {\n",
    "                \"basic\": {\n",
    "                    \"name\": \"\",\n",
    "                    \"is_dir\": True\n",
    "                }\n",
    "            }\n",
    "\n",
    "            if namespaces and 'details' in namespaces:\n",
    "                raw_info[\"details\"] = {\n",
    "                    \"type\": int(ResourceType.directory),\n",
    "                    \"size\": remote_info.get('total', 0),  # Total space if available\n",
    "                    \"used\": remote_info.get('used', 0),  # Used space if available\n",
    "                    \"free\": remote_info.get('free', 0),  # Free space if available\n",
    "                }\n",
    "            \n",
    "            \n",
    "                if 'modified' in remote_info:\n",
    "                    raw_info['details']['modified'] = self._parse_time(remote_info['modified'])\n",
    "\n",
    "            return Info(raw_info)\n",
    "        except Exception:\n",
    "            # If we can't get remote info, return minimal info\n",
    "            return Info({\n",
    "                \"basic\": {\n",
    "                    \"name\": \"\",\n",
    "                    \"is_dir\": True\n",
    "                }\n",
    "            })\n",
    "\n",
    "    def _make_info(self, path: str, file_info: dict, namespaces: Optional[list]=None) -> Info:\n",
    "        raw_info = {\n",
    "            \"basic\": {\n",
    "                \"name\": file_info['Name'],\n",
    "                \"is_dir\": file_info['IsDir']\n",
    "            }\n",
    "        }\n",
    "\n",
    "        if namespaces and 'details' in namespaces:\n",
    "            raw_info[\"details\"] = {\n",
    "                \"type\": int(ResourceType.directory) if file_info['IsDir'] else int(ResourceType.file),\n",
    "                \"size\": file_info['Size'],\n",
    "                \"modified\": self._parse_time(file_info['ModTime'])\n",
    "            }\n",
    "        \n",
    "            if 'Mode' in file_info:\n",
    "                raw_info['access'] = {\n",
    "                    \"permissions\": Permissions(mode=int(file_info['Mode'], 8)).dump()\n",
    "                }\n",
    "\n",
    "        if namespaces and 'rclone' in namespaces:\n",
    "            raw_info[\"rclone\"] = file_info\n",
    "                        \n",
    "        if namespaces and 'storage' in namespaces:\n",
    "\n",
    "            if file_info['IsDir']:\n",
    "                cumulative_size = self._calculate_dir_size(path)\n",
    "            else:\n",
    "                cumulative_size = file_info['Size']\n",
    "            \n",
    "            if 'storage' not in raw_info:\n",
    "                raw_info['storage'] = {}\n",
    "            raw_info['storage']['size'] = cumulative_size\n",
    "        \n",
    "        return Info(raw_info)\n",
    "\n",
    "    def _calculate_dir_size(self, dir_path: str) -> int:\n",
    "        cumulative_size = 0\n",
    "        try:\n",
    "            files = self.rclone.list_files(self._path(dir_path),\n",
    "                                           flags=['--recursive',\n",
    "                                                  '--files-only'\n",
    "                                                 ])\n",
    "            for file_info in files:\n",
    "                cumulative_size += file_info.get('Size', 0)\n",
    "        except Exception:\n",
    "            # If there's an error, we'll just return 0 as the size\n",
    "            raise\n",
    "        return cumulative_size\n",
    "    \n",
    "    def _parse_time(self, time_str: str) -> datetime:\n",
    "        formats = [\n",
    "            \"%Y-%m-%dT%H:%M:%SZ\",  # Dropbox format\n",
    "            \"%Y-%m-%dT%H:%M:%S.%fZ\",  # ISO 8601 with microseconds\n",
    "            \"%Y-%m-%dT%H:%M:%S%z\",  # ISO 8601 with timezone\n",
    "        ]\n",
    "        for fmt in formats:\n",
    "            try:\n",
    "                dt = datetime.strptime(time_str, fmt)\n",
    "                # Convert to UTC if timezone-aware\n",
    "                if dt.tzinfo is not None:\n",
    "                    dt = dt.astimezone(timezone.utc)\n",
    "                return dt.timestamp()\n",
    "            except ValueError:\n",
    "                continue\n",
    "        raise ValueError(f\"Time '{time_str}' doesn't match any known format\")\n",
    "\n",
    "    def listdir(self, path: str) -> List[str]:\n",
    "        path = normpath(path)\n",
    "        try:\n",
    "            files = self.rclone.list_files(self._path(path))\n",
    "            return [file['Name'] for file in files]\n",
    "        except Exception as e:\n",
    "            raise ResourceNotFound(path)\n",
    "\n",
    "    def makedir(self, path: str, permissions=None, recreate=False):\n",
    "        path = normpath(path)\n",
    "        try:\n",
    "            self.rclone.mkdir(self._path(path))\n",
    "        except Exception as e:\n",
    "            if not recreate:\n",
    "                raise DirectoryExists(path)\n",
    "\n",
    "    def remove(self, path: str):\n",
    "        path = normpath(path)\n",
    "        if self.isdir(path):\n",
    "            raise FileExpected(path)\n",
    "        try:\n",
    "            self.rclone.deletefile(self._path(path))\n",
    "        except Exception as e:\n",
    "            if 'not found' in str(e):\n",
    "                raise ResourceNotFound(path)\n",
    "            raise\n",
    "\n",
    "    def removedir(self, path: str):\n",
    "        path = normpath(path)\n",
    "        if path == '/':\n",
    "            raise RemoveRootError(path)\n",
    "        try:\n",
    "            self.rclone.rmdir(self._path(path))\n",
    "        except Exception as e:\n",
    "            msg = str(e)\n",
    "            if 'directory not empty' in msg:\n",
    "                raise DirectoryNotEmpty(path)\n",
    "            if 'directory not found' in msg:\n",
    "                raise ResourceNotFound(path)\n",
    "            if 'not a directory' in msg:\n",
    "                raise DirectoryExpected(path)\n",
    "            # fallback\n",
    "            raise\n",
    "\n",
    "    def removetree(self, path: str):\n",
    "        path = normpath(path)\n",
    "        if not self.exists(path):\n",
    "            raise ResourceNotFound(path)\n",
    "        if not self.isdir(path):\n",
    "            raise DirectoryExpected(path)\n",
    "        try:\n",
    "            self.rclone.purge(self._path(path))\n",
    "        except Exception as e:\n",
    "            msg = str(e)\n",
    "            if 'not found' in msg:\n",
    "                raise ResourceNotFound(path)\n",
    "            # fallback\n",
    "            raise\n",
    "\n",
    "    def setinfo(self, path: str, info):\n",
    "        path = normpath(path)\n",
    "        # RClone doesn't provide a direct way to set file info\n",
    "        # You might need to implement this differently based on your needs\n",
    "        # raise NotImplementedError(\"setinfo is not implemented for RcloneFS\")\n",
    "        pass\n",
    "        # not implemented with rclone\n",
    "    \n",
    "    def openbin(self, path: str, mode=\"r\", buffering=-1, **options):\n",
    "        path = normpath(path)\n",
    "        # return self.temp_fs.openbin(path, mode, buffering, **options)\n",
    "        return RcloneFile(self, path, mode)\n",
    "\n",
    "    def upload(self, path: str, file, chunk_size=None, **options):\n",
    "        path = normpath(path)\n",
    "        parent_dir, name = split(path)\n",
    "        local_path = str(file.name, encoding='utf-8')\n",
    "\n",
    "        if not parent_dir == '' and not self.exists(parent_dir):\n",
    "            raise ResourceNotFound(parent_dir)\n",
    "\n",
    "        self.rclone.copyto(local_path, self._path(path))\n",
    "        \n",
    "\n",
    "    def download(self, path: str, file, chunk_size=None, **options):\n",
    "        path = normpath(path)\n",
    "        local_path = file.name\n",
    "        self.rclone.copyto(self._path(path), str(local_path, encoding='utf-8'))\n",
    "        "
   ]
  },
  {
   "cell_type": "code",
   "execution_count": 10,
   "id": "cc202ebc-0505-4404-81f3-c89555d71bb0",
   "metadata": {},
   "outputs": [],
   "source": [
    "from makepy import makepy"
   ]
  },
  {
   "cell_type": "code",
   "execution_count": 11,
   "id": "a9168f33-d26a-4da8-8bfc-11119c67dd34",
   "metadata": {},
   "outputs": [
    {
     "name": "stdout",
     "output_type": "stream",
     "text": [
      "2024/08/03 21:45:02 rclonefs\n"
     ]
    }
   ],
   "source": [
    "makepy('rclonefs')"
   ]
  },
  {
   "cell_type": "code",
   "execution_count": 23,
   "id": "96b570c0-3a56-41a6-ad55-ee02bb29141d",
   "metadata": {
    "editable": true,
    "slideshow": {
     "slide_type": ""
    },
    "tags": []
   },
   "outputs": [],
   "source": [
    "#%%sh\n",
    "#. ../../_venv/bin/activate\n",
    "#python3.10 -m pip install --upgrade pip\n",
    "#python3.10 -m pip install rclone-python==0.1.12"
   ]
  },
  {
   "cell_type": "code",
   "execution_count": 2,
   "id": "46929493-95b2-4e26-b710-d745a3d31868",
   "metadata": {},
   "outputs": [],
   "source": [
    "from os.path import expanduser\n",
    "user_config = expanduser('~/.config/rclone/rclone.conf')"
   ]
  },
  {
   "cell_type": "code",
   "execution_count": 3,
   "id": "2f4804d7-49fe-42de-83b8-d806477f324b",
   "metadata": {},
   "outputs": [],
   "source": [
    "rcfs = RcloneFS('dropbox:', config_file = user_config )"
   ]
  },
  {
   "cell_type": "code",
   "execution_count": 4,
   "id": "4056ac07-af2e-43b4-8cad-bd54790a8aee",
   "metadata": {},
   "outputs": [
    {
     "data": {
      "text/plain": [
       "{'basic': {'name': '', 'is_dir': True},\n",
       " 'details': {'type': 1,\n",
       "  'size': 5637144576,\n",
       "  'used': 2480425280,\n",
       "  'free': 3156719296}}"
      ]
     },
     "execution_count": 4,
     "metadata": {},
     "output_type": "execute_result"
    }
   ],
   "source": [
    "rcfs.getinfo('/', namespaces=['details']).raw"
   ]
  },
  {
   "cell_type": "code",
   "execution_count": 5,
   "id": "38871f73-0dec-4913-aec2-7a77030898cb",
   "metadata": {},
   "outputs": [
    {
     "data": {
      "text/plain": [
       "['Backup Large Vids iPh7',\n",
       " 'Camera Uploads',\n",
       " 'Cosms',\n",
       " 'INBOX',\n",
       " 'Manual Photo Uploads',\n",
       " 'More Chie Photos',\n",
       " 'Sedona',\n",
       " 'bar',\n",
       " 'baz',\n",
       " 'birthday.txt',\n",
       " 'dir',\n",
       " 'dir1',\n",
       " 'dir2',\n",
       " 'egg',\n",
       " 'empty',\n",
       " 'file.bin',\n",
       " 'foo',\n",
       " 'foo.txt',\n",
       " 'foo1',\n",
       " 'foo3',\n",
       " 'hello.bin',\n",
       " 'hello4.txt',\n",
       " 'hello42.txt',\n",
       " 'hello5.txt',\n",
       " 'hello6.txt',\n",
       " 'hello7.txt',\n",
       " 'hello8.txt',\n",
       " 'new.txt',\n",
       " 'one',\n",
       " 'onethousand',\n",
       " 'text',\n",
       " 'top.txt']"
      ]
     },
     "execution_count": 5,
     "metadata": {},
     "output_type": "execute_result"
    }
   ],
   "source": [
    "rcfs.listdir('/')"
   ]
  },
  {
   "cell_type": "code",
   "execution_count": 30,
   "id": "031963df-d179-494f-8019-9ef061fd09ca",
   "metadata": {},
   "outputs": [
    {
     "ename": "UnsupportedOperation",
     "evalue": "not writable",
     "output_type": "error",
     "traceback": [
      "\u001b[0;31m---------------------------------------------------------------------------\u001b[0m",
      "\u001b[0;31mUnsupportedOperation\u001b[0m                      Traceback (most recent call last)",
      "Cell \u001b[0;32mIn[30], line 1\u001b[0m\n\u001b[0;32m----> 1\u001b[0m \u001b[43mrcfs\u001b[49m\u001b[38;5;241;43m.\u001b[39;49m\u001b[43mwritetext\u001b[49m\u001b[43m(\u001b[49m\u001b[38;5;124;43m\"\u001b[39;49m\u001b[38;5;124;43mhello.txt\u001b[39;49m\u001b[38;5;124;43m\"\u001b[39;49m\u001b[43m,\u001b[49m\u001b[43m \u001b[49m\u001b[38;5;124;43m\"\u001b[39;49m\u001b[38;5;124;43mhello there\u001b[39;49m\u001b[38;5;124;43m\"\u001b[39;49m\u001b[43m)\u001b[49m\n",
      "File \u001b[0;32m~/Cosms/Dboy/Laydbug/dev/fs.rclonefs/_venv/lib/python3.9/site-packages/fs/base.py:1522\u001b[0m, in \u001b[0;36mFS.writetext\u001b[0;34m(self, path, contents, encoding, errors, newline)\u001b[0m\n\u001b[1;32m   1516\u001b[0m     \u001b[38;5;28;01mraise\u001b[39;00m \u001b[38;5;167;01mTypeError\u001b[39;00m(\u001b[38;5;124m\"\u001b[39m\u001b[38;5;124mcontents must be unicode\u001b[39m\u001b[38;5;124m\"\u001b[39m)\n\u001b[1;32m   1517\u001b[0m \u001b[38;5;28;01mwith\u001b[39;00m closing(\n\u001b[1;32m   1518\u001b[0m     \u001b[38;5;28mself\u001b[39m\u001b[38;5;241m.\u001b[39mopen(\n\u001b[1;32m   1519\u001b[0m         path, mode\u001b[38;5;241m=\u001b[39m\u001b[38;5;124m\"\u001b[39m\u001b[38;5;124mwt\u001b[39m\u001b[38;5;124m\"\u001b[39m, encoding\u001b[38;5;241m=\u001b[39mencoding, errors\u001b[38;5;241m=\u001b[39merrors, newline\u001b[38;5;241m=\u001b[39mnewline\n\u001b[1;32m   1520\u001b[0m     )\n\u001b[1;32m   1521\u001b[0m ) \u001b[38;5;28;01mas\u001b[39;00m write_file:\n\u001b[0;32m-> 1522\u001b[0m     \u001b[43mwrite_file\u001b[49m\u001b[38;5;241;43m.\u001b[39;49m\u001b[43mwrite\u001b[49m\u001b[43m(\u001b[49m\u001b[43mcontents\u001b[49m\u001b[43m)\u001b[49m\n",
      "\u001b[0;31mUnsupportedOperation\u001b[0m: not writable"
     ]
    }
   ],
   "source": [
    "rcfs.writetext(\"hello.txt\", \"hello there\")"
   ]
  },
  {
   "cell_type": "code",
   "execution_count": 19,
   "id": "a54b636b-9bbd-4aed-8f3f-3d92d43d2fc6",
   "metadata": {},
   "outputs": [
    {
     "data": {
      "text/plain": [
       "'hello there'"
      ]
     },
     "execution_count": 19,
     "metadata": {},
     "output_type": "execute_result"
    }
   ],
   "source": [
    "rcfs.readtext(\"hello.txt\")"
   ]
  },
  {
   "cell_type": "code",
   "execution_count": 24,
   "id": "bf7832ad-6265-49e6-88ea-8c8c716f7c1e",
   "metadata": {},
   "outputs": [
    {
     "name": "stdout",
     "output_type": "stream",
     "text": [
      "447.4063301086426\n"
     ]
    }
   ],
   "source": [
    "info = rcfs.getinfo('Backup Large Vids iPh7', namespaces=['details', 'storage']).raw\n",
    "\n",
    "size = info['storage']['size']\n",
    "\n",
    "print((size/1024)/1024)"
   ]
  },
  {
   "cell_type": "code",
   "execution_count": 28,
   "id": "d931ee6c-603c-41fb-b49e-58461ea0e562",
   "metadata": {},
   "outputs": [
    {
     "name": "stdout",
     "output_type": "stream",
     "text": [
      "638.5817813873291\n"
     ]
    }
   ],
   "source": [
    "info = rcfs.getinfo('Camera Uploads', namespaces=['details', 'storage']).raw\n",
    "\n",
    "size = info['storage']['size']\n",
    "\n",
    "print((size/1024)/1024)"
   ]
  },
  {
   "cell_type": "code",
   "execution_count": 39,
   "id": "27e621fa-6bc4-4d0a-9522-e604de7fd626",
   "metadata": {},
   "outputs": [
    {
     "name": "stdout",
     "output_type": "stream",
     "text": [
      "0.0\n"
     ]
    }
   ],
   "source": [
    "info = rcfs.getinfo('Public', namespaces=['details', 'storage']).raw\n",
    "\n",
    "size = info['storage']['size']\n",
    "\n",
    "print((size/1024)/1024)"
   ]
  },
  {
   "cell_type": "code",
   "execution_count": 41,
   "id": "cf00a81d-8d73-4613-be63-c9c7a948f97a",
   "metadata": {},
   "outputs": [],
   "source": [
    "rcfs.removetree('Photos')"
   ]
  },
  {
   "cell_type": "code",
   "execution_count": 19,
   "id": "985ef3de-69a5-4ef5-9aeb-f712e8d5f004",
   "metadata": {},
   "outputs": [],
   "source": [
    "rcfs.remove('/test/hello.html')"
   ]
  },
  {
   "cell_type": "code",
   "execution_count": 52,
   "id": "15f539c6-95de-4abe-97dc-141cc733d018",
   "metadata": {},
   "outputs": [],
   "source": [
    "gdrive = RcloneFS('gdrive:')"
   ]
  },
  {
   "cell_type": "code",
   "execution_count": 54,
   "id": "ef371e25-020c-49df-9e74-bc4f0155af03",
   "metadata": {},
   "outputs": [
    {
     "ename": "DirectoryExists",
     "evalue": "directory '/spongebob' exists",
     "output_type": "error",
     "traceback": [
      "\u001b[0;31m---------------------------------------------------------------------------\u001b[0m",
      "\u001b[0;31mException\u001b[0m                                 Traceback (most recent call last)",
      "Cell \u001b[0;32mIn[51], line 130\u001b[0m, in \u001b[0;36mRcloneFS.makedir\u001b[0;34m(self, path, permissions, recreate)\u001b[0m\n\u001b[1;32m    129\u001b[0m \u001b[38;5;28;01mtry\u001b[39;00m:\n\u001b[0;32m--> 130\u001b[0m     \u001b[38;5;28;43mself\u001b[39;49m\u001b[38;5;241;43m.\u001b[39;49m\u001b[43mrclone\u001b[49m\u001b[38;5;241;43m.\u001b[39;49m\u001b[43mmkdir\u001b[49m\u001b[43m(\u001b[49m\u001b[38;5;28;43mself\u001b[39;49m\u001b[38;5;241;43m.\u001b[39;49m\u001b[43m_path\u001b[49m\u001b[43m(\u001b[49m\u001b[43mpath\u001b[49m\u001b[43m)\u001b[49m\u001b[43m)\u001b[49m\n\u001b[1;32m    131\u001b[0m \u001b[38;5;28;01mexcept\u001b[39;00m \u001b[38;5;167;01mException\u001b[39;00m \u001b[38;5;28;01mas\u001b[39;00m e:\n",
      "File \u001b[0;32m~/Cosms/Dboy/Laydbug/dev/fs.rclonefs/src/fs/rclonefs/rclone.py:40\u001b[0m, in \u001b[0;36mRclone.mkdir\u001b[0;34m(self, path)\u001b[0m\n\u001b[1;32m     39\u001b[0m \u001b[38;5;28;01mdef\u001b[39;00m \u001b[38;5;21mmkdir\u001b[39m(\u001b[38;5;28mself\u001b[39m, path):\n\u001b[0;32m---> 40\u001b[0m     \u001b[38;5;28;43mself\u001b[39;49m\u001b[38;5;241;43m.\u001b[39;49m\u001b[43m_run_command\u001b[49m\u001b[43m(\u001b[49m\u001b[43m[\u001b[49m\u001b[38;5;124;43m\"\u001b[39;49m\u001b[38;5;124;43mmkdir\u001b[39;49m\u001b[38;5;124;43m\"\u001b[39;49m\u001b[43m,\u001b[49m\u001b[43m \u001b[49m\u001b[43mpath\u001b[49m\u001b[43m]\u001b[49m\u001b[43m)\u001b[49m\n",
      "File \u001b[0;32m~/Cosms/Dboy/Laydbug/dev/fs.rclonefs/src/fs/rclonefs/rclone.py:17\u001b[0m, in \u001b[0;36mRclone._run_command\u001b[0;34m(self, args)\u001b[0m\n\u001b[1;32m     16\u001b[0m \u001b[38;5;28;01mif\u001b[39;00m result\u001b[38;5;241m.\u001b[39mreturncode \u001b[38;5;241m!=\u001b[39m \u001b[38;5;241m0\u001b[39m:\n\u001b[0;32m---> 17\u001b[0m     \u001b[38;5;28;01mraise\u001b[39;00m \u001b[38;5;167;01mException\u001b[39;00m(\u001b[38;5;124mf\u001b[39m\u001b[38;5;124m\"\u001b[39m\u001b[38;5;124mRClone command failed: \u001b[39m\u001b[38;5;132;01m{\u001b[39;00mresult\u001b[38;5;241m.\u001b[39mstderr\u001b[38;5;132;01m}\u001b[39;00m\u001b[38;5;124m\"\u001b[39m)\n\u001b[1;32m     18\u001b[0m \u001b[38;5;28;01mreturn\u001b[39;00m result\u001b[38;5;241m.\u001b[39mstdout\n",
      "\u001b[0;31mException\u001b[0m: RClone command failed: 2024/07/06 09:10:56 ERROR : Attempt 1/3 failed with 1 errors and: failed to make directory: googleapi: Error 403: Request had insufficient authentication scopes.\nDetails:\n[\n  {\n    \"@type\": \"type.googleapis.com/google.rpc.ErrorInfo\",\n    \"domain\": \"googleapis.com\",\n    \"metadata\": {\n      \"method\": \"google.apps.drive.v3.DriveFiles.Create\",\n      \"service\": \"drive.googleapis.com\"\n    },\n    \"reason\": \"ACCESS_TOKEN_SCOPE_INSUFFICIENT\"\n  }\n]\n\nMore details:\nReason: insufficientPermissions, Message: Insufficient Permission\n2024/07/06 09:10:56 ERROR : Attempt 2/3 failed with 1 errors and: failed to make directory: googleapi: Error 403: Request had insufficient authentication scopes.\nDetails:\n[\n  {\n    \"@type\": \"type.googleapis.com/google.rpc.ErrorInfo\",\n    \"domain\": \"googleapis.com\",\n    \"metadata\": {\n      \"method\": \"google.apps.drive.v3.DriveFiles.Create\",\n      \"service\": \"drive.googleapis.com\"\n    },\n    \"reason\": \"ACCESS_TOKEN_SCOPE_INSUFFICIENT\"\n  }\n]\n\nMore details:\nReason: insufficientPermissions, Message: Insufficient Permission\n2024/07/06 09:10:57 ERROR : Attempt 3/3 failed with 1 errors and: failed to make directory: googleapi: Error 403: Request had insufficient authentication scopes.\nDetails:\n[\n  {\n    \"@type\": \"type.googleapis.com/google.rpc.ErrorInfo\",\n    \"domain\": \"googleapis.com\",\n    \"metadata\": {\n      \"method\": \"google.apps.drive.v3.DriveFiles.Create\",\n      \"service\": \"drive.googleapis.com\"\n    },\n    \"reason\": \"ACCESS_TOKEN_SCOPE_INSUFFICIENT\"\n  }\n]\n\nMore details:\nReason: insufficientPermissions, Message: Insufficient Permission\n2024/07/06 09:10:57 Failed to mkdir: failed to make directory: googleapi: Error 403: Request had insufficient authentication scopes.\nDetails:\n[\n  {\n    \"@type\": \"type.googleapis.com/google.rpc.ErrorInfo\",\n    \"domain\": \"googleapis.com\",\n    \"metadata\": {\n      \"method\": \"google.apps.drive.v3.DriveFiles.Create\",\n      \"service\": \"drive.googleapis.com\"\n    },\n    \"reason\": \"ACCESS_TOKEN_SCOPE_INSUFFICIENT\"\n  }\n]\n\nMore details:\nReason: insufficientPermissions, Message: Insufficient Permission\n",
      "\nDuring handling of the above exception, another exception occurred:\n",
      "\u001b[0;31mDirectoryExists\u001b[0m                           Traceback (most recent call last)",
      "Cell \u001b[0;32mIn[54], line 1\u001b[0m\n\u001b[0;32m----> 1\u001b[0m \u001b[43mgdrive\u001b[49m\u001b[38;5;241;43m.\u001b[39;49m\u001b[43mmakedir\u001b[49m\u001b[43m(\u001b[49m\u001b[38;5;124;43m'\u001b[39;49m\u001b[38;5;124;43m/spongebob\u001b[39;49m\u001b[38;5;124;43m'\u001b[39;49m\u001b[43m)\u001b[49m\n",
      "Cell \u001b[0;32mIn[51], line 133\u001b[0m, in \u001b[0;36mRcloneFS.makedir\u001b[0;34m(self, path, permissions, recreate)\u001b[0m\n\u001b[1;32m    131\u001b[0m \u001b[38;5;28;01mexcept\u001b[39;00m \u001b[38;5;167;01mException\u001b[39;00m \u001b[38;5;28;01mas\u001b[39;00m e:\n\u001b[1;32m    132\u001b[0m     \u001b[38;5;28;01mif\u001b[39;00m \u001b[38;5;129;01mnot\u001b[39;00m recreate:\n\u001b[0;32m--> 133\u001b[0m         \u001b[38;5;28;01mraise\u001b[39;00m DirectoryExists(path)\n",
      "\u001b[0;31mDirectoryExists\u001b[0m: directory '/spongebob' exists"
     ]
    }
   ],
   "source": [
    "gdrive.makedir('/spongebob')"
   ]
  },
  {
   "cell_type": "code",
   "execution_count": 53,
   "id": "51d91cd4-87e2-4b2a-b05f-2b89e21f6820",
   "metadata": {},
   "outputs": [
    {
     "data": {
      "text/plain": [
       "['Cosms',\n",
       " 'Downloads',\n",
       " 'How to get started with Drive',\n",
       " 'bqx00925F',\n",
       " 'braces.txt',\n",
       " 'hello.dhello.jp.txt',\n",
       " 'hello.jp.txt',\n",
       " 'onion',\n",
       " 'temp.txt',\n",
       " 'test folder']"
      ]
     },
     "execution_count": 53,
     "metadata": {},
     "output_type": "execute_result"
    }
   ],
   "source": [
    "gdrive.listdir('/')"
   ]
  },
  {
   "cell_type": "code",
   "execution_count": 40,
   "id": "1ea704fa-5d48-4982-bf51-282a5f290070",
   "metadata": {},
   "outputs": [
    {
     "data": {
      "text/plain": [
       "<dir ''>"
      ]
     },
     "execution_count": 40,
     "metadata": {},
     "output_type": "execute_result"
    }
   ],
   "source": [
    "rcfs.getinfo('/')"
   ]
  },
  {
   "cell_type": "code",
   "execution_count": 42,
   "id": "93e809ec-165d-4ca2-94bf-ff5946c364c4",
   "metadata": {},
   "outputs": [
    {
     "data": {
      "text/plain": [
       "{'basic': {'name': 'Cosms', 'is_dir': True},\n",
       " 'details': {'type': <ResourceType.directory: 1>,\n",
       "  'size': -1,\n",
       "  'modified': 946713600.0},\n",
       " 'rclone': {'Path': 'Cosms',\n",
       "  'Name': 'Cosms',\n",
       "  'Size': -1,\n",
       "  'MimeType': 'inode/directory',\n",
       "  'ModTime': '2000-01-01T00:00:00Z',\n",
       "  'IsDir': True,\n",
       "  'ID': 'id:Q58rUpZCxbwAAAAAAAAMcQ'}}"
      ]
     },
     "execution_count": 42,
     "metadata": {},
     "output_type": "execute_result"
    }
   ],
   "source": [
    "rcfs.getinfo('Cosms', namespaces=['details','rclone']).raw"
   ]
  },
  {
   "cell_type": "code",
   "execution_count": 43,
   "id": "bba290aa-7a6b-4a6a-917c-4c6629fd9dc5",
   "metadata": {},
   "outputs": [],
   "source": [
    "res = rcfs.listdir('/')"
   ]
  },
  {
   "cell_type": "code",
   "execution_count": 44,
   "id": "b59910ee-82c6-4721-9560-6b2e77d70b9b",
   "metadata": {
    "editable": true,
    "scrolled": true,
    "slideshow": {
     "slide_type": ""
    },
    "tags": []
   },
   "outputs": [
    {
     "data": {
      "text/plain": [
       "['Backup Large Vids iPh7',\n",
       " 'Camera Uploads',\n",
       " 'Chie Photos',\n",
       " 'Cosms',\n",
       " 'Devils_Throat',\n",
       " 'Downloads',\n",
       " 'INBOX',\n",
       " 'Manual Photo Uploads',\n",
       " 'More Chie Photos',\n",
       " 'Photos',\n",
       " 'Public',\n",
       " 'Sedona',\n",
       " 'hello.dhello.jp.txt',\n",
       " 'hello.jp.txt',\n",
       " 'raygan for aandi',\n",
       " 'raygan for snapfish',\n",
       " 'test',\n",
       " 'wedding',\n",
       " 'wedding bliss',\n",
       " 'wedding raygan']"
      ]
     },
     "execution_count": 44,
     "metadata": {},
     "output_type": "execute_result"
    }
   ],
   "source": [
    "res"
   ]
  },
  {
   "cell_type": "code",
   "execution_count": 45,
   "id": "5aa1d447-edd7-4e59-9706-dc1bf5e6e201",
   "metadata": {},
   "outputs": [
    {
     "data": {
      "text/plain": [
       "830756"
      ]
     },
     "execution_count": 45,
     "metadata": {},
     "output_type": "execute_result"
    }
   ],
   "source": [
    "rcfs.getinfo('/Camera Uploads/2020-08-12 11.49.29.heic', namespaces=[\"details\"]).size"
   ]
  },
  {
   "cell_type": "code",
   "execution_count": 46,
   "id": "6611e80b-033d-46ac-8f68-b939ed181dcf",
   "metadata": {},
   "outputs": [
    {
     "data": {
      "text/plain": [
       "{'basic': {'name': 'Camera Uploads', 'is_dir': True}}"
      ]
     },
     "execution_count": 46,
     "metadata": {},
     "output_type": "execute_result"
    }
   ],
   "source": [
    "rcfs.getinfo('/Camera Uploads').raw"
   ]
  },
  {
   "cell_type": "code",
   "execution_count": 47,
   "id": "6fedb48c-bdb6-43c3-920a-1b2ea7a87abc",
   "metadata": {},
   "outputs": [
    {
     "data": {
      "text/plain": [
       "True"
      ]
     },
     "execution_count": 47,
     "metadata": {},
     "output_type": "execute_result"
    }
   ],
   "source": [
    "rcfs.isdir('/Camera Uploads')"
   ]
  },
  {
   "cell_type": "code",
   "execution_count": 48,
   "id": "e395549f-7521-4636-bfcc-131d1543c32e",
   "metadata": {},
   "outputs": [],
   "source": [
    "gdrive = RcloneFS('gdrive:')"
   ]
  },
  {
   "cell_type": "code",
   "execution_count": 49,
   "id": "ee69a5e3-c5c3-4417-8f22-557dbefb57a5",
   "metadata": {},
   "outputs": [
    {
     "data": {
      "text/plain": [
       "['Raygan']"
      ]
     },
     "execution_count": 49,
     "metadata": {},
     "output_type": "execute_result"
    }
   ],
   "source": [
    "gdrive.listdir('Cosms/')"
   ]
  },
  {
   "cell_type": "code",
   "execution_count": 50,
   "id": "ba913cc4-e5a8-496c-87a6-0c8cc931a5f3",
   "metadata": {},
   "outputs": [
    {
     "data": {
      "text/plain": [
       "{'basic': {'name': 'Cosms', 'is_dir': True},\n",
       " 'details': {'type': <ResourceType.directory: 1>,\n",
       "  'size': 0,\n",
       "  'modified': 1697632713.689}}"
      ]
     },
     "execution_count": 50,
     "metadata": {},
     "output_type": "execute_result"
    }
   ],
   "source": [
    "gdrive.getinfo('Cosms/', namespaces=['details']).raw"
   ]
  },
  {
   "cell_type": "code",
   "execution_count": 19,
   "id": "ac26fbd4-9d7f-4e87-8b58-1c1d4a683b84",
   "metadata": {},
   "outputs": [
    {
     "data": {
      "text/plain": [
       "True"
      ]
     },
     "execution_count": 19,
     "metadata": {},
     "output_type": "execute_result"
    }
   ],
   "source": [
    "rcfs.isdir('/Cosms')"
   ]
  },
  {
   "cell_type": "code",
   "execution_count": 26,
   "id": "4eb3f413-93ab-4556-8dc6-37875cd02fdf",
   "metadata": {},
   "outputs": [
    {
     "data": {
      "text/plain": [
       "{'basic': {'name': '', 'is_dir': True}}"
      ]
     },
     "execution_count": 26,
     "metadata": {},
     "output_type": "execute_result"
    }
   ],
   "source": [
    "gdrive.getinfo('//').raw"
   ]
  },
  {
   "cell_type": "code",
   "execution_count": 32,
   "id": "4f0c02e6-f765-4b46-b509-b961b09c7936",
   "metadata": {},
   "outputs": [
    {
     "data": {
      "text/plain": [
       "{'basic': {'name': '', 'is_dir': True},\n",
       " 'details': {'type': <ResourceType.directory: 1>,\n",
       "  'size': 5637144576,\n",
       "  'used': 8378316560,\n",
       "  'free': -2741171984}}"
      ]
     },
     "execution_count": 32,
     "metadata": {},
     "output_type": "execute_result"
    }
   ],
   "source": [
    "rcfs.getinfo('/',namespaces=['details']).raw"
   ]
  },
  {
   "cell_type": "code",
   "execution_count": null,
   "id": "b50034e7-c8b6-4a02-b512-e4ddf0e56a07",
   "metadata": {},
   "outputs": [],
   "source": []
  }
 ],
 "metadata": {
  "kernelspec": {
   "display_name": "_venv",
   "language": "python",
   "name": "_venv"
  },
  "language_info": {
   "codemirror_mode": {
    "name": "ipython",
    "version": 3
   },
   "file_extension": ".py",
   "mimetype": "text/x-python",
   "name": "python",
   "nbconvert_exporter": "python",
   "pygments_lexer": "ipython3",
   "version": "3.10.12"
  }
 },
 "nbformat": 4,
 "nbformat_minor": 5
}
