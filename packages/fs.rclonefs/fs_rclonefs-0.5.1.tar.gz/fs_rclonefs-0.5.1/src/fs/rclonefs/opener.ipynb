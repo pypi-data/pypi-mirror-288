{
 "cells": [
  {
   "cell_type": "markdown",
   "id": "3507077f-3832-4cf3-a6b2-ece7988211c3",
   "metadata": {},
   "source": [
    "# Opener class\n",
    "\n",
    "This \"opens\" a can of worms. I think we'll wait on it. The best possible implementation would allow for an address of any type which __rclone__ can handle.\n",
    "\n",
    "This could be super-handy.\n",
    "\n",
    "This also requires a bunch of __rclone remote__ configuration.\n"
   ]
  },
  {
   "cell_type": "code",
   "execution_count": 1,
   "id": "66eed42f-e507-4308-99c0-dfe15157ebc1",
   "metadata": {},
   "outputs": [],
   "source": [
    "__all__ = ['RcloneFSOpener']\n",
    "\n",
    "from rclonefs import RcloneFS\n",
    "\n",
    "from fs.opener import Opener\n",
    "from fs.opener.errors import OpenerError\n",
    "\n",
    "class RcloneFSOpener(Opener):\n",
    "    protocols = ['TBD']\n",
    "\n",
    "    def open_fs(self):\n",
    "        rcfs = RcloneFS()\n",
    "        return rcfs"
   ]
  },
  {
   "cell_type": "code",
   "execution_count": null,
   "id": "616f2531-e6cb-49d6-b520-ac6bfd350dbd",
   "metadata": {},
   "outputs": [],
   "source": []
  }
 ],
 "metadata": {
  "kernelspec": {
   "display_name": "Python 3 (ipykernel)",
   "language": "python",
   "name": "python3"
  },
  "language_info": {
   "codemirror_mode": {
    "name": "ipython",
    "version": 3
   },
   "file_extension": ".py",
   "mimetype": "text/x-python",
   "name": "python",
   "nbconvert_exporter": "python",
   "pygments_lexer": "ipython3",
   "version": "3.10.12"
  }
 },
 "nbformat": 4,
 "nbformat_minor": 5
}
