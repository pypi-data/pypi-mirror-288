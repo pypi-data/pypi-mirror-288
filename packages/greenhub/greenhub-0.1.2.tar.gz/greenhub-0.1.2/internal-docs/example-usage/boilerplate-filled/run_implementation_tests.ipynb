{
 "cells": [
  {
   "metadata": {
    "ExecuteTime": {
     "end_time": "2024-08-02T08:45:56.299806Z",
     "start_time": "2024-08-02T08:45:56.033059Z"
    }
   },
   "cell_type": "code",
   "source": [
    "import greenhub as gh\n",
    "import pandas as pd\n",
    "import pickle"
   ],
   "id": "1136143bf3ccdf4a",
   "outputs": [],
   "execution_count": 1
  },
  {
   "metadata": {},
   "cell_type": "markdown",
   "source": "# 1. Fetch Data and Create Feature Vector",
   "id": "e3fa63c84c96fdbc"
  },
  {
   "metadata": {},
   "cell_type": "markdown",
   "source": "## Setup",
   "id": "2cb6cc42ef67dad9"
  },
  {
   "metadata": {
    "ExecuteTime": {
     "end_time": "2024-08-02T08:45:57.537755Z",
     "start_time": "2024-08-02T08:45:57.535951Z"
    }
   },
   "cell_type": "code",
   "source": [
    "# Our model will predict for the state SANTA FE in AR \n",
    "COUNTRY = 'AR'\n",
    "STATE = 'SANTA FE'\n",
    "SPATIAL_RESOLUTION = 'state'\n",
    "START_YEAR = 2010"
   ],
   "id": "55a56713c061ca7c",
   "outputs": [],
   "execution_count": 2
  },
  {
   "metadata": {
    "ExecuteTime": {
     "end_time": "2024-08-02T08:45:58.664427Z",
     "start_time": "2024-08-02T08:45:58.307807Z"
    }
   },
   "cell_type": "code",
   "source": [
    "# Initialize greenhub sdk\n",
    "gh.initialize(\"RejhCxnCdTKwDX1zK2lqIB24e1bBAAZk\")"
   ],
   "id": "878c8f1fbf003658",
   "outputs": [],
   "execution_count": 3
  },
  {
   "metadata": {},
   "cell_type": "markdown",
   "source": "## VI Data",
   "id": "2131062b9bc4f6fd"
  },
  {
   "metadata": {
    "ExecuteTime": {
     "end_time": "2024-08-02T08:46:01.681364Z",
     "start_time": "2024-08-02T08:45:59.447485Z"
    }
   },
   "cell_type": "code",
   "source": [
    "# Fetch VI data\n",
    "vi_df = gh.get_vi_data(country=COUNTRY, start_year=START_YEAR, spatial_resolution=SPATIAL_RESOLUTION)\n",
    "\n",
    "# Row selection, renaming etc.\n",
    "vi_df = vi_df[['EVI', 'NDVI', 'State', 'Year', 'Month']]\n",
    "vi_df['Year'] = pd.to_numeric(vi_df['Year'])\n",
    "vi_df[vi_df['State'] == STATE]"
   ],
   "id": "461bb99c4d828e28",
   "outputs": [
    {
     "data": {
      "text/plain": [
       "Loading VI data:   0%|          | 0/12 [00:00<?, ?items/s]"
      ],
      "application/vnd.jupyter.widget-view+json": {
       "version_major": 2,
       "version_minor": 0,
       "model_id": "16176fc507a4490fa8bdb22cf3f7bbaf"
      }
     },
     "metadata": {},
     "output_type": "display_data"
    },
    {
     "data": {
      "text/plain": [
       "          EVI      NDVI     State  Year  Month\n",
       "17   0.591439  0.754725  SANTA FE  2010      1\n",
       "41   0.612505  0.792523  SANTA FE  2010      2\n",
       "65   0.459085  0.673373  SANTA FE  2010      3\n",
       "89   0.295464  0.466863  SANTA FE  2010      4\n",
       "113  0.249692  0.434951  SANTA FE  2010      5\n",
       "137  0.250161  0.444179  SANTA FE  2010      6\n",
       "161  0.237694  0.408321  SANTA FE  2010      7\n",
       "185  0.243578  0.404878  SANTA FE  2010      8\n",
       "209  0.275993  0.444941  SANTA FE  2010      9\n",
       "233  0.301632  0.465549  SANTA FE  2010     10\n",
       "257  0.265520  0.405913  SANTA FE  2010     11\n",
       "281  0.324015  0.489375  SANTA FE  2010     12"
      ],
      "text/html": [
       "<div>\n",
       "<style scoped>\n",
       "    .dataframe tbody tr th:only-of-type {\n",
       "        vertical-align: middle;\n",
       "    }\n",
       "\n",
       "    .dataframe tbody tr th {\n",
       "        vertical-align: top;\n",
       "    }\n",
       "\n",
       "    .dataframe thead th {\n",
       "        text-align: right;\n",
       "    }\n",
       "</style>\n",
       "<table border=\"1\" class=\"dataframe\">\n",
       "  <thead>\n",
       "    <tr style=\"text-align: right;\">\n",
       "      <th></th>\n",
       "      <th>EVI</th>\n",
       "      <th>NDVI</th>\n",
       "      <th>State</th>\n",
       "      <th>Year</th>\n",
       "      <th>Month</th>\n",
       "    </tr>\n",
       "  </thead>\n",
       "  <tbody>\n",
       "    <tr>\n",
       "      <th>17</th>\n",
       "      <td>0.591439</td>\n",
       "      <td>0.754725</td>\n",
       "      <td>SANTA FE</td>\n",
       "      <td>2010</td>\n",
       "      <td>1</td>\n",
       "    </tr>\n",
       "    <tr>\n",
       "      <th>41</th>\n",
       "      <td>0.612505</td>\n",
       "      <td>0.792523</td>\n",
       "      <td>SANTA FE</td>\n",
       "      <td>2010</td>\n",
       "      <td>2</td>\n",
       "    </tr>\n",
       "    <tr>\n",
       "      <th>65</th>\n",
       "      <td>0.459085</td>\n",
       "      <td>0.673373</td>\n",
       "      <td>SANTA FE</td>\n",
       "      <td>2010</td>\n",
       "      <td>3</td>\n",
       "    </tr>\n",
       "    <tr>\n",
       "      <th>89</th>\n",
       "      <td>0.295464</td>\n",
       "      <td>0.466863</td>\n",
       "      <td>SANTA FE</td>\n",
       "      <td>2010</td>\n",
       "      <td>4</td>\n",
       "    </tr>\n",
       "    <tr>\n",
       "      <th>113</th>\n",
       "      <td>0.249692</td>\n",
       "      <td>0.434951</td>\n",
       "      <td>SANTA FE</td>\n",
       "      <td>2010</td>\n",
       "      <td>5</td>\n",
       "    </tr>\n",
       "    <tr>\n",
       "      <th>137</th>\n",
       "      <td>0.250161</td>\n",
       "      <td>0.444179</td>\n",
       "      <td>SANTA FE</td>\n",
       "      <td>2010</td>\n",
       "      <td>6</td>\n",
       "    </tr>\n",
       "    <tr>\n",
       "      <th>161</th>\n",
       "      <td>0.237694</td>\n",
       "      <td>0.408321</td>\n",
       "      <td>SANTA FE</td>\n",
       "      <td>2010</td>\n",
       "      <td>7</td>\n",
       "    </tr>\n",
       "    <tr>\n",
       "      <th>185</th>\n",
       "      <td>0.243578</td>\n",
       "      <td>0.404878</td>\n",
       "      <td>SANTA FE</td>\n",
       "      <td>2010</td>\n",
       "      <td>8</td>\n",
       "    </tr>\n",
       "    <tr>\n",
       "      <th>209</th>\n",
       "      <td>0.275993</td>\n",
       "      <td>0.444941</td>\n",
       "      <td>SANTA FE</td>\n",
       "      <td>2010</td>\n",
       "      <td>9</td>\n",
       "    </tr>\n",
       "    <tr>\n",
       "      <th>233</th>\n",
       "      <td>0.301632</td>\n",
       "      <td>0.465549</td>\n",
       "      <td>SANTA FE</td>\n",
       "      <td>2010</td>\n",
       "      <td>10</td>\n",
       "    </tr>\n",
       "    <tr>\n",
       "      <th>257</th>\n",
       "      <td>0.265520</td>\n",
       "      <td>0.405913</td>\n",
       "      <td>SANTA FE</td>\n",
       "      <td>2010</td>\n",
       "      <td>11</td>\n",
       "    </tr>\n",
       "    <tr>\n",
       "      <th>281</th>\n",
       "      <td>0.324015</td>\n",
       "      <td>0.489375</td>\n",
       "      <td>SANTA FE</td>\n",
       "      <td>2010</td>\n",
       "      <td>12</td>\n",
       "    </tr>\n",
       "  </tbody>\n",
       "</table>\n",
       "</div>"
      ]
     },
     "execution_count": 4,
     "metadata": {},
     "output_type": "execute_result"
    }
   ],
   "execution_count": 4
  },
  {
   "metadata": {},
   "cell_type": "markdown",
   "source": "## Soil Data",
   "id": "1ba2571473f85c0c"
  },
  {
   "metadata": {
    "ExecuteTime": {
     "end_time": "2024-08-02T08:46:04.169722Z",
     "start_time": "2024-08-02T08:46:03.493924Z"
    }
   },
   "cell_type": "code",
   "source": [
    "# Fetch soil data\n",
    "soil_df = gh.get_soil_data(country=COUNTRY, spatial_resolution=SPATIAL_RESOLUTION, layer='D1')\n",
    "\n",
    "# Row selection, renaming etc.\n",
    "selected_cols = [col for col in soil_df.columns if (col.endswith('_avg') and not col.startswith('TP-')) or col in ['Layer', 'NAME_1']]\n",
    "soil_df = soil_df[selected_cols]\n",
    "soil_df.columns = soil_df.columns.str.replace('_avg', '')\n",
    "soil_df.rename({'NAME_1': 'State'}, axis=1, inplace=True)\n",
    "soil_df['State'] = soil_df['State'].apply(lambda x: x.upper())\n",
    "soil_df"
   ],
   "id": "ef2f9138e83b7ad9",
   "outputs": [
    {
     "data": {
      "text/plain": [
       "Loading Soil data:   0%|          | 0/1 [00:00<?, ?items/s]"
      ],
      "application/vnd.jupyter.widget-view+json": {
       "version_major": 2,
       "version_minor": 0,
       "model_id": "c29e6f61a57f4c0a82d9344b3c91c4bd"
      }
     },
     "metadata": {},
     "output_type": "display_data"
    },
    {
     "ename": "ValueError",
     "evalue": "too many values to unpack (expected 2)",
     "output_type": "error",
     "traceback": [
      "\u001B[0;31m---------------------------------------------------------------------------\u001B[0m",
      "\u001B[0;31mValueError\u001B[0m                                Traceback (most recent call last)",
      "Cell \u001B[0;32mIn[5], line 2\u001B[0m\n\u001B[1;32m      1\u001B[0m \u001B[38;5;66;03m# Fetch soil data\u001B[39;00m\n\u001B[0;32m----> 2\u001B[0m soil_df \u001B[38;5;241m=\u001B[39m \u001B[43mgh\u001B[49m\u001B[38;5;241;43m.\u001B[39;49m\u001B[43mget_soil_data\u001B[49m\u001B[43m(\u001B[49m\u001B[43mcountry\u001B[49m\u001B[38;5;241;43m=\u001B[39;49m\u001B[43mCOUNTRY\u001B[49m\u001B[43m,\u001B[49m\u001B[43m \u001B[49m\u001B[43mspatial_resolution\u001B[49m\u001B[38;5;241;43m=\u001B[39;49m\u001B[43mSPATIAL_RESOLUTION\u001B[49m\u001B[43m,\u001B[49m\u001B[43m \u001B[49m\u001B[43mlayer\u001B[49m\u001B[38;5;241;43m=\u001B[39;49m\u001B[38;5;124;43m'\u001B[39;49m\u001B[38;5;124;43mD1\u001B[39;49m\u001B[38;5;124;43m'\u001B[39;49m\u001B[43m)\u001B[49m\n\u001B[1;32m      4\u001B[0m \u001B[38;5;66;03m# Row selection, renaming etc.\u001B[39;00m\n\u001B[1;32m      5\u001B[0m selected_cols \u001B[38;5;241m=\u001B[39m [col \u001B[38;5;28;01mfor\u001B[39;00m col \u001B[38;5;129;01min\u001B[39;00m soil_df\u001B[38;5;241m.\u001B[39mcolumns \u001B[38;5;28;01mif\u001B[39;00m (col\u001B[38;5;241m.\u001B[39mendswith(\u001B[38;5;124m'\u001B[39m\u001B[38;5;124m_avg\u001B[39m\u001B[38;5;124m'\u001B[39m) \u001B[38;5;129;01mand\u001B[39;00m \u001B[38;5;129;01mnot\u001B[39;00m col\u001B[38;5;241m.\u001B[39mstartswith(\u001B[38;5;124m'\u001B[39m\u001B[38;5;124mTP-\u001B[39m\u001B[38;5;124m'\u001B[39m)) \u001B[38;5;129;01mor\u001B[39;00m col \u001B[38;5;129;01min\u001B[39;00m [\u001B[38;5;124m'\u001B[39m\u001B[38;5;124mLayer\u001B[39m\u001B[38;5;124m'\u001B[39m, \u001B[38;5;124m'\u001B[39m\u001B[38;5;124mNAME_1\u001B[39m\u001B[38;5;124m'\u001B[39m]]\n",
      "File \u001B[0;32m~/miniconda3/envs/L/lib/python3.9/site-packages/greenhub/data.py:327\u001B[0m, in \u001B[0;36mget_soil_data\u001B[0;34m(country, spatial_resolution, layer)\u001B[0m\n\u001B[1;32m    323\u001B[0m     \u001B[38;5;28;01mraise\u001B[39;00m \u001B[38;5;167;01mValueError\u001B[39;00m(\u001B[38;5;124m'\u001B[39m\u001B[38;5;124mFor the given parameters, no data can be retrieved. \u001B[39m\u001B[38;5;124m'\u001B[39m\n\u001B[1;32m    324\u001B[0m                      \u001B[38;5;124m'\u001B[39m\u001B[38;5;124mFor more information please checkout the official greenhub.ai documentation.\u001B[39m\u001B[38;5;124m'\u001B[39m)\n\u001B[1;32m    326\u001B[0m \u001B[38;5;66;03m# load and fetch data as one combined dataframe\u001B[39;00m\n\u001B[0;32m--> 327\u001B[0m data, invalid_paths \u001B[38;5;241m=\u001B[39m _load_data(feature_files_paths, \u001B[38;5;124m\"\u001B[39m\u001B[38;5;124mSoil data\u001B[39m\u001B[38;5;124m\"\u001B[39m)\n\u001B[1;32m    329\u001B[0m \u001B[38;5;66;03m# check if data is empty -> meaning that not at least one path worked\u001B[39;00m\n\u001B[1;32m    330\u001B[0m \u001B[38;5;28;01mif\u001B[39;00m data \u001B[38;5;129;01mis\u001B[39;00m \u001B[38;5;28;01mNone\u001B[39;00m:\n",
      "\u001B[0;31mValueError\u001B[0m: too many values to unpack (expected 2)"
     ]
    }
   ],
   "execution_count": 5
  },
  {
   "metadata": {},
   "cell_type": "markdown",
   "source": "## Climate Data",
   "id": "9e89fd3253cd0633"
  },
  {
   "metadata": {
    "ExecuteTime": {
     "end_time": "2024-06-25T14:21:02.948200Z",
     "start_time": "2024-06-25T14:21:02.218937Z"
    }
   },
   "cell_type": "code",
   "source": [
    "# Fetch climate data\n",
    "climate_df = gh.get_climate_data(country='AR', start_year=2010, end_year=2023, spatial_resolution='state')\n",
    "\n",
    "# Row selection, renaming etc.\n",
    "climate_df = climate_df.drop(columns=['Unnamed: 0', 'Country'])\n",
    "climate_df['Year'] = pd.to_numeric(climate_df['Year'])\n",
    "climate_df"
   ],
   "id": "78dbb9ab7a487d76",
   "execution_count": 42,
   "outputs": []
  },
  {
   "metadata": {},
   "cell_type": "markdown",
   "source": "## Merge all features",
   "id": "efeceab600f88dbb"
  },
  {
   "metadata": {
    "ExecuteTime": {
     "end_time": "2024-06-25T14:21:03.062246Z",
     "start_time": "2024-06-25T14:21:02.950788Z"
    }
   },
   "cell_type": "code",
   "source": [
    "# Merge\n",
    "merged_df = pd.merge(vi_df, soil_df, on='State', how='left')\n",
    "merged_df = pd.merge(merged_df, climate_df, on=['Year', 'Month', 'State'], how='left')\n",
    "merged_df = merged_df.dropna()\n",
    "\n",
    "# Create a pivot table\n",
    "pivot_df = merged_df.pivot_table(index=['Year', 'State'], columns='Month', aggfunc='first')\n",
    "\n",
    "# Flatten the MultiIndex columns\n",
    "pivot_df.columns = ['{}_Month{}'.format(col[0], int(col[1])) for col in pivot_df.columns]\n",
    "\n",
    "# Reset index to turn MultiIndex into columns\n",
    "pivot_df.reset_index(inplace=True)\n",
    "\n",
    "# Fix 12x columns for static values\n",
    "squash_cols = ['Drain', 'CFRAG', 'SDTO', 'STPC', 'CLPC', 'BULK', 'TAWC','CECS', 'BSAT', 'ESP',\n",
    "               'CECc', 'PHAQ', 'TCEQ', 'GYPS', 'ELCO', 'ORGC', 'TOTN', 'CNrt', 'ECEC', 'ALSA', 'Value']\n",
    "pivot_df = pivot_df.rename({f'{squash}_Month1': f'{squash}' for squash in squash_cols}, axis=1)\n",
    "pivot_df = pivot_df.drop(columns=[col for col in pivot_df.columns if any(col.startswith(f'{squash}_Month') for squash in squash_cols)])\n",
    "\n",
    "pivot_df"
   ],
   "id": "99a378843b928f22",
   "execution_count": 43,
   "outputs": []
  },
  {
   "metadata": {},
   "cell_type": "markdown",
   "source": "## Limit the feature matrix to Santa Fe",
   "id": "307984345279050a"
  },
  {
   "metadata": {
    "ExecuteTime": {
     "end_time": "2024-06-25T14:21:08.027652Z",
     "start_time": "2024-06-25T14:21:07.959552Z"
    }
   },
   "cell_type": "code",
   "source": [
    "single_state_df = pivot_df[pivot_df['State'] == 'SANTA FE']\n",
    "single_state_df.head()"
   ],
   "id": "6bc61c7d2eff77de",
   "execution_count": 44,
   "outputs": []
  },
  {
   "metadata": {},
   "cell_type": "markdown",
   "source": "## Final Feature Vector",
   "id": "300be790a4746b06"
  },
  {
   "metadata": {
    "ExecuteTime": {
     "end_time": "2024-06-25T14:21:08.099512Z",
     "start_time": "2024-06-25T14:21:08.032906Z"
    }
   },
   "cell_type": "code",
   "source": [
    "feature_vector = single_state_df.drop(columns=['Year', 'State'])\n",
    "feature_vector = feature_vector.dropna()\n",
    "feature_vector"
   ],
   "id": "f7282fe344a0a55",
   "execution_count": 45,
   "outputs": []
  },
  {
   "metadata": {},
   "cell_type": "markdown",
   "source": "# 2 Load LR Model",
   "id": "40a5b105d2d2e07"
  },
  {
   "metadata": {
    "ExecuteTime": {
     "end_time": "2024-06-25T14:21:18.639601Z",
     "start_time": "2024-06-25T14:21:18.632588Z"
    }
   },
   "cell_type": "code",
   "source": [
    "# Load the pickle file of the LR model\n",
    "with open('linear_regression.pkl', 'rb') as f:\n",
    "    lr_model = pickle.load(f)"
   ],
   "id": "2095658c32fa5f9d",
   "execution_count": 46,
   "outputs": []
  },
  {
   "metadata": {},
   "cell_type": "markdown",
   "source": "# 3 Run LR Model",
   "id": "103d018ebb63477c"
  },
  {
   "metadata": {
    "ExecuteTime": {
     "end_time": "2024-06-25T14:22:01.363892Z",
     "start_time": "2024-06-25T14:22:01.355203Z"
    }
   },
   "cell_type": "code",
   "source": [
    "# Pass the feature vector to the model and make predictions\n",
    "prediction = lr_model.predict(feature_vector)\n",
    "print(prediction)"
   ],
   "id": "e9615a3aed78de2d",
   "execution_count": 49,
   "outputs": []
  }
 ],
 "metadata": {
  "kernelspec": {
   "display_name": "Python 3",
   "language": "python",
   "name": "python3"
  },
  "language_info": {
   "codemirror_mode": {
    "name": "ipython",
    "version": 2
   },
   "file_extension": ".py",
   "mimetype": "text/x-python",
   "name": "python",
   "nbconvert_exporter": "python",
   "pygments_lexer": "ipython2",
   "version": "2.7.6"
  }
 },
 "nbformat": 4,
 "nbformat_minor": 5
}
