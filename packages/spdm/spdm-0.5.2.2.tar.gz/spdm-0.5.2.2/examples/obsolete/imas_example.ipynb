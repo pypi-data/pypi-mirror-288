{
 "cells": [
  {
   "cell_type": "code",
   "execution_count": 5,
   "metadata": {},
   "outputs": [],
   "source": [
    "import sys\n",
    "import os"
   ]
  },
  {
   "cell_type": "code",
   "execution_count": 1,
   "metadata": {},
   "outputs": [],
   "source": [
    "import imas"
   ]
  },
  {
   "cell_type": "code",
   "execution_count": 2,
   "metadata": {},
   "outputs": [
    {
     "name": "stdout",
     "output_type": "stream",
     "text": [
      "export MDSPLUS_TREE_BASE_0=/home/fydev/public/imasdb/test/3/0 ;\n",
      "export MDSPLUS_TREE_BASE_1=/home/fydev/public/imasdb/test/3/1 ;\n",
      "export MDSPLUS_TREE_BASE_2=/home/fydev/public/imasdb/test/3/2 ;\n",
      "export MDSPLUS_TREE_BASE_3=/home/fydev/public/imasdb/test/3/3 ;\n",
      "export MDSPLUS_TREE_BASE_4=/home/fydev/public/imasdb/test/3/4 ;\n",
      "export MDSPLUS_TREE_BASE_5=/home/fydev/public/imasdb/test/3/5 ;\n",
      "export MDSPLUS_TREE_BASE_6=/home/fydev/public/imasdb/test/3/6 ;\n",
      "export MDSPLUS_TREE_BASE_7=/home/fydev/public/imasdb/test/3/7 ;\n",
      "export MDSPLUS_TREE_BASE_8=/home/fydev/public/imasdb/test/3/8 ;\n",
      "export MDSPLUS_TREE_BASE_9=/home/fydev/public/imasdb/test/3/9 ;\n"
     ]
    }
   ],
   "source": [
    "!imasdb test"
   ]
  },
  {
   "cell_type": "code",
   "execution_count": 5,
   "metadata": {},
   "outputs": [
    {
     "data": {
      "text/plain": [
       "'/workspaces/SpDM/examples'"
      ]
     },
     "execution_count": 5,
     "metadata": {},
     "output_type": "execute_result"
    }
   ],
   "source": [
    "os.getcwd()"
   ]
  },
  {
   "cell_type": "code",
   "execution_count": 6,
   "metadata": {},
   "outputs": [
    {
     "name": "stdout",
     "output_type": "stream",
     "text": [
      "Writing putslice_eq.py\n"
     ]
    }
   ],
   "source": [
    "%%writefile putslice_eq.py\n",
    "# Definition of the class structures in file imas.py\n",
    "import imas\n",
    "import numpy\n",
    "import sys\n",
    "import os\n",
    "\n",
    "'''\n",
    "This sample program will create a pulse file (shot 13, run 1) and will\n",
    "put an example of equilibirium IDS using put_slice methods.\n",
    "'''\n",
    "\n",
    "# This routine reads an array of pfsystems IDSs in the database, filling\n",
    "# some fields of the IDSS\n",
    "\n",
    "TEST_DATABASE_NAME='test'\n",
    "\n",
    "def put_ids():\n",
    "    \"\"\"Class Itm is the main class for the UAL.\n",
    "\n",
    "    It contains a set of field classes, each corresponding to a IDS\n",
    "    defined in the UAL The parameters passed to this creator define the\n",
    "    shot and run number. The second pair of arguments defines the\n",
    "    reference shot and run and is used when the a new database is\n",
    "    created, as in this example.\n",
    "\n",
    "    \"\"\"\n",
    "\n",
    "    shot = 13\n",
    "    time = 1\n",
    "    interp = 1\n",
    "\n",
    "    imas_obj = imas.ids(13, 1, 13, 1)\n",
    "    imas_obj.create_env(\"fydev\",\"test\",\"3\")  # Create a new instance of database\n",
    "\n",
    "    if imas_obj.isConnected():\n",
    "        print('Creation of data entry OK!') \n",
    "    else:\n",
    "        print('Creation of data entry FAILED!')\n",
    "        sys.exit()\n",
    "\n",
    "    number = 10\n",
    "\n",
    "    # Allocate a first generic vector and its time base\n",
    "    lentime_1 = 3\n",
    "    vect1DDouble_1 = numpy.empty([lentime_1])\n",
    "    time_1 = numpy.empty([lentime_1])\n",
    "\n",
    "    for i in range(lentime_1):\n",
    "        time_1[i] = i\n",
    "        vect1DDouble_1[i] = i * 10\n",
    "\n",
    "    print ('========================================================')\n",
    "    print( time_1)\n",
    "    print (vect1DDouble_1)\n",
    "\n",
    "    # Allocate a second generic vector and its time base\n",
    "    lentime_2 = 4\n",
    "    vect1DDouble_2 = numpy.empty([lentime_2])\n",
    "    time_2 = numpy.empty([lentime_2])\n",
    "\n",
    "    for i in range(lentime_2):\n",
    "        time_2[i] = i\n",
    "        vect1DDouble_2[i] = i * 11\n",
    "\n",
    "    print ('========================================================')\n",
    "    print (time_2)\n",
    "    print (vect1DDouble_2)\n",
    "\n",
    "    vect2DDouble_1 = numpy.zeros([3, 3])\n",
    "    for i in range(3):\n",
    "        for j in range(3):\n",
    "                vect2DDouble_1[i, j] = i * 100 + j\n",
    "\n",
    "    print ('========================================================')\n",
    "    print (vect2DDouble_1)\n",
    "    # Allocate a second generic vector and its time base\n",
    "    lentime_2 = 4\n",
    "    vect1DDouble_2 = numpy.empty([lentime_2])\n",
    "    time_2 = numpy.empty([lentime_2])\n",
    "\n",
    "    for i in range(lentime_2):\n",
    "        time_2[i] = i\n",
    "        vect1DDouble_2[i] = i * 11\n",
    "\n",
    "    print('========================================================')\n",
    "    print(time_2)\n",
    "    print(vect1DDouble_2)\n",
    "\n",
    "    vect2DDouble_1 = numpy.zeros([3, 3])\n",
    "    for i in range(3):\n",
    "        for j in range(3):\n",
    "                vect2DDouble_1[i, j] = i * 100 + j\n",
    "\n",
    "    print( '========================================================')\n",
    "    print (vect2DDouble_1)\n",
    "\n",
    "    vect2DDouble_2 = vect2DDouble_1 + 10000\n",
    "    '''\n",
    "        print( '========================================================')\n",
    "        print( vect3DDouble_2)\n",
    "        '''\n",
    "    imas_obj.equilibrium.ids_properties.comment = 'This is a test ids'\n",
    "\n",
    "    # A sample int\n",
    "\n",
    "    # Mandatory to define this property\n",
    "    imas_obj.equilibrium.ids_properties.homogeneous_time = 1\n",
    "    imas_obj.equilibrium.resize(1)\n",
    "    imas_obj.equilibrium.time_slice[0].profiles_2d.resize(2)\n",
    "    imas_obj.equilibrium.time_slice[0].profiles_2d[\n",
    "        0].Mesh_type.name = 'Mesh TYPE 1A'\n",
    "    imas_obj.equilibrium.time_slice[0].profiles_2d[\n",
    "        1].Mesh_type.name = 'Mesh TYPE 2B'\n",
    "\n",
    "    imas_obj.equilibrium.time.resize(1)\n",
    "    imas_obj.equilibrium.time_slice[0].profiles_2d[0].r.resize(3, 3)\n",
    "    imas_obj.equilibrium.time_slice[0].profiles_2d[1].r.resize(3, 3)\n",
    "\n",
    "    print( 'Start Put, writing first slice')\n",
    "    imas_obj.equilibrium.time_slice[0].profiles_2d[0].r[:, 0] = vect2DDouble_1[0, :]\n",
    "    imas_obj.equilibrium.time_slice[0].profiles_2d[1].r[:, 0] = vect2DDouble_2[0, :]\n",
    "    imas_obj.equilibrium.time[0] = time_1[0]\n",
    "    imas_obj.equilibrium.put()\n",
    "    print ('Completed Put ')\n",
    "\n",
    "    for i in range(lentime_1):\n",
    "        print( '========================================================')\n",
    "        print( 'vect3DDouble_1[i,:,:]')\n",
    "        print (vect2DDouble_1[i, :])\n",
    "        print ('========================================================')\n",
    "\n",
    "        imas_obj.equilibrium.time_slice[0].profiles_2d[\n",
    "            0].r[:, i] = vect2DDouble_1[i, :]\n",
    "        print( '========================================================')\n",
    "        print ('imas_obj.equilibrium.time_slice[0].profiles_2d[0].r')\n",
    "        print (imas_obj.equilibrium.time_slice[0].profiles_2d[0].r[:, i])\n",
    "        print ('========================================================')\n",
    "        imas_obj.equilibrium.time_slice[0].profiles_2d[1].r[:, i] = vect2DDouble_2[i, :]\n",
    "        imas_obj.equilibrium.time[0] = time_1[i]\n",
    "        print (('Writing slice={0}'.format(i)))\n",
    "        imas_obj.equilibrium.putSlice()\n",
    "\n",
    "    print( '========================================================')\n",
    "    print (imas_obj.equilibrium.time_slice[0].profiles_2d[0].r)\n",
    "\n",
    "    '''\n",
    "        print( '========================================================')\n",
    "        print (imas_obj.equilibrium.time_slice[0].profiles_2d[1].r)\n",
    "        '''\n",
    "    imas_obj.close()\n",
    "\n",
    "\n",
    "put_ids()"
   ]
  },
  {
   "cell_type": "code",
   "execution_count": 39,
   "metadata": {
    "collapsed": true,
    "jupyter": {
     "outputs_hidden": true,
     "source_hidden": true
    }
   },
   "outputs": [
    {
     "name": "stdout",
     "output_type": "stream",
     "text": [
      "Creation of data entry OK!\n",
      "========================================================\n",
      "[0. 1. 2.]\n",
      "[ 0. 10. 20.]\n",
      "========================================================\n",
      "[0. 1. 2. 3.]\n",
      "[ 0. 11. 22. 33.]\n",
      "========================================================\n",
      "[[  0.   1.   2.]\n",
      " [100. 101. 102.]\n",
      " [200. 201. 202.]]\n",
      "========================================================\n",
      "[0. 1. 2. 3.]\n",
      "[ 0. 11. 22. 33.]\n",
      "========================================================\n",
      "[[  0.   1.   2.]\n",
      " [100. 101. 102.]\n",
      " [200. 201. 202.]]\n",
      "Start Put, writing first slice\n",
      "Completed Put \n",
      "========================================================\n",
      "vect3DDouble_1[i,:,:]\n",
      "[0. 1. 2.]\n",
      "========================================================\n",
      "========================================================\n",
      "imas_obj.equilibrium.time_slice[0].profiles_2d[0].r\n",
      "[0. 1. 2.]\n",
      "========================================================\n",
      "Writing slice=0\n",
      "========================================================\n",
      "vect3DDouble_1[i,:,:]\n",
      "[100. 101. 102.]\n",
      "========================================================\n",
      "========================================================\n",
      "imas_obj.equilibrium.time_slice[0].profiles_2d[0].r\n",
      "[100. 101. 102.]\n",
      "========================================================\n",
      "Writing slice=1\n",
      "========================================================\n",
      "vect3DDouble_1[i,:,:]\n",
      "[200. 201. 202.]\n",
      "========================================================\n",
      "========================================================\n",
      "imas_obj.equilibrium.time_slice[0].profiles_2d[0].r\n",
      "[200. 201. 202.]\n",
      "========================================================\n",
      "Writing slice=2\n",
      "========================================================\n",
      "[[  0. 100. 200.]\n",
      " [  1. 101. 201.]\n",
      " [  2. 102. 202.]]\n"
     ]
    }
   ],
   "source": [
    "%run putslice_eq.py"
   ]
  },
  {
   "cell_type": "code",
   "execution_count": 57,
   "metadata": {
    "jupyter": {
     "source_hidden": true
    }
   },
   "outputs": [
    {
     "name": "stdout",
     "output_type": "stream",
     "text": [
      "Overwriting getslice_eq.py\n"
     ]
    }
   ],
   "source": [
    "%%writefile getslice_eq.py\n",
    "# Definition of the class structures in file imas.py\n",
    "import imas\n",
    "import numpy\n",
    "import sys\n",
    "import os\n",
    "\n",
    "'''\n",
    "This sample program will open an existing pulse file\n",
    "read the stored equilibrium IDSs.\n",
    "\n",
    "It will then output the content of some fields of the equilibrium IDS.\n",
    "'''\n",
    "\n",
    "# This routine reads an array of pfsystems IDSs in the database, filling\n",
    "# some fields of the IDSS\n",
    "\n",
    "TEST_DATABASE_NAME='test'\n",
    "\n",
    "def read_IDS():\n",
    "    \"\"\"Class Itm is the main class for the UAL.\n",
    "\n",
    "    It contains a set of field classes, each corresponding to a IDS\n",
    "    defined in the UAL The parameters passed to this creator define the\n",
    "    shot and run number. The second pair of arguments defines the\n",
    "    reference shot and run and is used when the a new database is\n",
    "    created, as in this example.\n",
    "\n",
    "    \"\"\"\n",
    "    my_ids_obj = imas.ids(13, 1, 13, 1)\n",
    "    my_ids_obj.open_env(\"fydev\",\"test\",\"3\")  # Create a new instance of database\n",
    "    if my_ids_obj.isConnected():\n",
    "        print( 'open OK!')\n",
    "    else:\n",
    "        print ('open FAILED!')\n",
    "        sys.exit()\n",
    "\n",
    "    my_ids_obj.equilibrium.getSlice(2.0, 1)\n",
    "    # my_ids_obj.equilibrium.get()\n",
    "\n",
    "    print ('========================================================')\n",
    "    print ('ids_properties=')\n",
    "    print( '   my_ids_obj.equilibrium.ids_properties.comment = ' +str (my_ids_obj.equilibrium.ids_properties.comment))\n",
    "    print ('   my_ids_obj.equilibrium.ids_properties.homogeneous_time = ' + str(my_ids_obj.equilibrium.ids_properties.homogeneous_time))\n",
    "\n",
    "    print( '========================================================')\n",
    "    print( 'COILS')\n",
    "    print( '========================================================')\n",
    "\n",
    "    for iSlices in range(len(my_ids_obj.equilibrium.time_slice)):\n",
    "\n",
    "        for iCoil in range(len(my_ids_obj.equilibrium.time_slice[iSlices].profiles_2d)):\n",
    "            print( 'profiles_2d[' + str(iCoil) + '].name' + my_ids_obj.equilibrium.time_slice[iSlices].profiles_2d[iCoil].Mesh_type.name)\n",
    "            print ('profiles_2d[' + str(iCoil) + '].profiles_2d.r:')\n",
    "            print ('my_ids_obj.equilibrium.time_slice[iSlices].profiles_2d[iCoil].r')\n",
    "            print('-------------')\n",
    "\n",
    "    my_ids_obj.close()\n",
    "\n",
    "\n",
    "read_IDS()"
   ]
  },
  {
   "cell_type": "code",
   "execution_count": 58,
   "metadata": {},
   "outputs": [
    {
     "name": "stdout",
     "output_type": "stream",
     "text": [
      "open OK!\n",
      "========================================================\n",
      "ids_properties=\n",
      "   my_ids_obj.equilibrium.ids_properties.comment = This is a test ids\n",
      "   my_ids_obj.equilibrium.ids_properties.homogeneous_time = 1\n",
      "========================================================\n",
      "COILS\n",
      "========================================================\n",
      "profiles_2d[0].name\n",
      "profiles_2d[0].profiles_2d.r:\n",
      "my_ids_obj.equilibrium.time_slice[iSlices].profiles_2d[iCoil].r\n",
      "-------------\n",
      "profiles_2d[1].name\n",
      "profiles_2d[1].profiles_2d.r:\n",
      "my_ids_obj.equilibrium.time_slice[iSlices].profiles_2d[iCoil].r\n",
      "-------------\n"
     ]
    }
   ],
   "source": [
    "%run getslice_eq.py"
   ]
  },
  {
   "cell_type": "code",
   "execution_count": null,
   "metadata": {},
   "outputs": [],
   "source": []
  },
  {
   "cell_type": "code",
   "execution_count": null,
   "metadata": {},
   "outputs": [],
   "source": []
  },
  {
   "cell_type": "code",
   "execution_count": null,
   "metadata": {},
   "outputs": [],
   "source": []
  },
  {
   "cell_type": "code",
   "execution_count": null,
   "metadata": {},
   "outputs": [],
   "source": []
  },
  {
   "cell_type": "code",
   "execution_count": 40,
   "metadata": {
    "jupyter": {
     "source_hidden": true
    }
   },
   "outputs": [
    {
     "name": "stdout",
     "output_type": "stream",
     "text": [
      "Writing put_pf.py\n"
     ]
    }
   ],
   "source": [
    "%%writefile put_pf.py\n",
    "# Definition of the class structures in file imas.py\n",
    "import imas\n",
    "import numpy\n",
    "import sys\n",
    "import os\n",
    "TEST_DATABASE_NAME='test'\n",
    "\n",
    "def write_ids():\n",
    "    \"\"\"Class ids is the main class for the UAL.\n",
    "\n",
    "    It contains a set of field classes, each corresponding to an IDS\n",
    "    defined in the UAL\n",
    "\n",
    "    \"\"\"\n",
    "    ids = imas.ids(12, 1, 12, 1)\n",
    "    ids.create_env(\"fydev\",\"test\",\"3\")  # Create a new instance of database\n",
    "#       ids.enableMemCache()\n",
    "    if ids.isConnected():\n",
    "        print ('create OK!')\n",
    "    else:\n",
    "        print ('create FAILED!')\n",
    "        sys.exit()\n",
    "    number = 10  # number of elements\n",
    "    ids.pf_active.ids_properties.comment = 'Test data'\n",
    "    # A sample int\n",
    "    # Mandatory to define this property\n",
    "    ids.pf_active.ids_properties.homogeneous_time = 0\n",
    "    ids.pf_active.coil.resize(2)\n",
    "    ids.pf_active.coil[0].name = 'COIL 1A'\n",
    "    ids.pf_active.coil[1].name = 'COIL 2B'\n",
    "    ids.pf_active.coil[0].current.data.resize(number)\n",
    "    ids.pf_active.coil[0].current.time.resize(number)\n",
    "    for i in range(number):\n",
    "        ids.pf_active.coil[0].current.data[i] = 2 * i\n",
    "        ids.pf_active.coil[0].current.time[i] = i\n",
    "    number = number + 2\n",
    "    ids.pf_active.coil[1].current.data.resize(number)\n",
    "    ids.pf_active.coil[1].current.time.resize(number)\n",
    "    for i in range(number):\n",
    "        ids.pf_active.coil[1].current.data[i] = 2 * i + 10\n",
    "        ids.pf_active.coil[1].current.time[i] = i + number\n",
    "    # Dump all CPO and CPOArray of the ids object. Very verbose !!\n",
    "    print ('============================')\n",
    "    print (ids.pf_active.coil[1])\n",
    "    # Now the CPO array is filled, we store in the database via method put()\n",
    "    ids.pf_active.put()\n",
    "    print ('python program over')\n",
    "write_ids()"
   ]
  },
  {
   "cell_type": "code",
   "execution_count": 41,
   "metadata": {
    "collapsed": true,
    "jupyter": {
     "outputs_hidden": true
    }
   },
   "outputs": [
    {
     "name": "stdout",
     "output_type": "stream",
     "text": [
      "create OK!\n",
      "============================\n",
      "class coilObj\n",
      "Attribute name: COIL 2B\n",
      "Attribute identifier: \n",
      "Attribute resistance: -9e+40\n",
      "Attribute resistance_error_upper: -9e+40\n",
      "Attribute resistance_error_lower: -9e+40\n",
      "Attribute energy_limit_max: -9e+40\n",
      "Attribute energy_limit_max_error_upper: -9e+40\n",
      "Attribute energy_limit_max_error_lower: -9e+40\n",
      "Attribute current_limit_max\n",
      "[]\n",
      "Attribute current_limit_max_error_upper\n",
      "[]\n",
      "Attribute current_limit_max_error_lower\n",
      "[]\n",
      "Attribute b_field_max\n",
      "[]\n",
      "Attribute b_field_max_error_upper\n",
      "[]\n",
      "Attribute b_field_max_error_lower\n",
      "[]\n",
      "Attribute temperature\n",
      "[]\n",
      "Attribute temperature_error_upper\n",
      "[]\n",
      "Attribute temperature_error_lower\n",
      "[]\n",
      "Attribute element\n",
      " \tclass element\n",
      "Attribute current\n",
      " \tclass current\n",
      "\tAttribute data\n",
      "\t[10. 12. 14. 16. 18. 20. 22. 24. 26. 28. 30. 32.]\n",
      "\tAttribute data_error_upper\n",
      "\t[]\n",
      "\tAttribute data_error_lower\n",
      "\t[]\n",
      "\tAttribute time\n",
      "\t[12. 13. 14. 15. 16. 17. 18. 19. 20. 21. 22. 23.]\n",
      "Attribute voltage\n",
      " \tclass voltage\n",
      "\tAttribute data\n",
      "\t[]\n",
      "\tAttribute data_error_upper\n",
      "\t[]\n",
      "\tAttribute data_error_lower\n",
      "\t[]\n",
      "\tAttribute time\n",
      "\t[]\n",
      "\n",
      "python program over\n"
     ]
    }
   ],
   "source": [
    "%run put_pf.py"
   ]
  },
  {
   "cell_type": "code",
   "execution_count": null,
   "metadata": {
    "jupyter": {
     "source_hidden": true
    }
   },
   "outputs": [],
   "source": []
  },
  {
   "cell_type": "code",
   "execution_count": 46,
   "metadata": {},
   "outputs": [
    {
     "name": "stdout",
     "output_type": "stream",
     "text": [
      "Overwriting get_pf.py\n"
     ]
    }
   ],
   "source": [
    "%%writefile  get_pf.py\n",
    "# Definition of the class structures in file imas.py\n",
    "import imas\n",
    "import numpy\n",
    "import sys\n",
    "import os\n",
    "\n",
    "'''\n",
    "This sample program will open an existing pulse file (shot 123, run 3, created by script put_cpos.py) and will\n",
    "read the stored (array of) equilibirium CPOs.\n",
    "\n",
    "It will then output the content of some fields of the equilibrium CPOs.\n",
    "'''\n",
    "\n",
    "# This routine reads an array of pfsystems CPOs in the database, filling\n",
    "# some fields of the CPOS\n",
    "\n",
    "TEST_DATABASE_NAME='test'\n",
    "\n",
    "def read_ids():\n",
    "    \"\"\"Class Itm is the main class for the UAL.\n",
    "\n",
    "    It contains a set of field classes, each corresponding to a CPO\n",
    "    defined in the UAL The parameters passed to this creator define the\n",
    "    shot and run number. The second pair of arguments defines the\n",
    "    reference shot and run and is used when the a new database is\n",
    "    created, as in this example.\n",
    "\n",
    "    \"\"\"\n",
    "    my_ids_obj = imas.ids(12, 1, 12, 1)\n",
    "    my_ids_obj.open_env(\"fydev\",\"test\",\"3\")  # Create a new instance of database\n",
    "\n",
    "    if my_ids_obj.isConnected():\n",
    "        print ('open OK!')\n",
    "    else:\n",
    "        print ('open FAILED!')\n",
    "        sys.exit()\n",
    "\n",
    "    my_ids_obj.pf_active.get()\n",
    "\n",
    "    print ('========================================================')\n",
    "    print ('ids_properties=')\n",
    "    print ('   my_ids_obj.pf_active.ids_properties.comment = ' + my_ids_obj.pf_active.ids_properties.comment)\n",
    "    print ('   my_ids_obj.pf_active.ids_properties.homogeneous_time = ' + str(my_ids_obj.pf_active.ids_properties.homogeneous_time))\n",
    "\n",
    "    print ('========================================================')\n",
    "    print ('COILS')\n",
    "    print ('========================================================')\n",
    "\n",
    "    for iCoil in range(len(my_ids_obj.pf_active.coil)):\n",
    "        print ('coil[' + str(iCoil) + '].name' + my_ids_obj.pf_active.coil[iCoil].name)\n",
    "        print ('coil[' + str(iCoil) + '].current.data:')\n",
    "        print (my_ids_obj.pf_active.coil[iCoil].current.data)\n",
    "        print ('coil[' + str(iCoil) + '].current.time:')\n",
    "        print (my_ids_obj.pf_active.coil[iCoil].current.time)\n",
    "        print('-------------')\n",
    "\n",
    "    my_ids_obj.close()\n",
    "\n",
    "\n",
    "read_ids()"
   ]
  },
  {
   "cell_type": "code",
   "execution_count": 47,
   "metadata": {},
   "outputs": [
    {
     "name": "stdout",
     "output_type": "stream",
     "text": [
      "open OK!\n",
      "========================================================\n",
      "ids_properties=\n",
      "   my_ids_obj.pf_active.ids_properties.comment = Test data\n",
      "   my_ids_obj.pf_active.ids_properties.homogeneous_time = 0\n",
      "========================================================\n",
      "COILS\n",
      "========================================================\n",
      "coil[0].nameCOIL 1A\n",
      "coil[0].current.data:\n",
      "[ 0.  2.  4.  6.  8. 10. 12. 14. 16. 18.]\n",
      "coil[0].current.time:\n",
      "[0. 1. 2. 3. 4. 5. 6. 7. 8. 9.]\n",
      "-------------\n",
      "coil[1].nameCOIL 2B\n",
      "coil[1].current.data:\n",
      "[10. 12. 14. 16. 18. 20. 22. 24. 26. 28. 30. 32.]\n",
      "coil[1].current.time:\n",
      "[12. 13. 14. 15. 16. 17. 18. 19. 20. 21. 22. 23.]\n",
      "-------------\n"
     ]
    }
   ],
   "source": [
    "%run get_pf.py"
   ]
  }
 ],
 "metadata": {
  "kernelspec": {
   "display_name": "Python 3",
   "language": "python",
   "name": "python3"
  },
  "language_info": {
   "codemirror_mode": {
    "name": "ipython",
    "version": 3
   },
   "file_extension": ".py",
   "mimetype": "text/x-python",
   "name": "python",
   "nbconvert_exporter": "python",
   "pygments_lexer": "ipython3",
   "version": "3.7.6"
  }
 },
 "nbformat": 4,
 "nbformat_minor": 4
}