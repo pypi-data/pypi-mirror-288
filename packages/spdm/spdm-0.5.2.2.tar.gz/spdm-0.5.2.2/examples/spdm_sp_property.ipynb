{
 "cells": [
  {
   "cell_type": "code",
   "execution_count": 1,
   "metadata": {},
   "outputs": [],
   "source": [
    "from spdm.core.sp_property import   SpTreeWithAttr\n"
   ]
  },
  {
   "cell_type": "code",
   "execution_count": 2,
   "metadata": {},
   "outputs": [],
   "source": [
    "class Tokamak(SpTreeWithAttr):\n",
    "    pass\n",
    "\n",
    "\n",
    "tok = Tokamak({\n",
    "    \"wall\": {\n",
    "        \"ids_properties\": {\n",
    "            \"comment\": \"just a test\"\n",
    "        }\n",
    "    }\n",
    "})\n"
   ]
  },
  {
   "cell_type": "code",
   "execution_count": 3,
   "metadata": {},
   "outputs": [
    {
     "ename": "AttributeError",
     "evalue": "'Tokamak' object has no attribute 'wall'",
     "output_type": "error",
     "traceback": [
      "\u001b[0;31m---------------------------------------------------------------------------\u001b[0m",
      "\u001b[0;31mAttributeError\u001b[0m                            Traceback (most recent call last)",
      "\u001b[1;32m/home/salmon/workspace/fytok/SpDB/examples/spdm_sp_property.ipynb Cell 3\u001b[0m line \u001b[0;36m1\n\u001b[0;32m----> <a href='vscode-notebook-cell://wsl%2Bubuntu-22.04/home/salmon/workspace/fytok/SpDB/examples/spdm_sp_property.ipynb#W2sdnNjb2RlLXJlbW90ZQ%3D%3D?line=0'>1</a>\u001b[0m tok\u001b[39m.\u001b[39;49mwall\u001b[39m.\u001b[39mids_properties\u001b[39m.\u001b[39mcomment\n",
      "\u001b[0;31mAttributeError\u001b[0m: 'Tokamak' object has no attribute 'wall'"
     ]
    }
   ],
   "source": [
    "tok.wall.ids_properties.comment"
   ]
  },
  {
   "cell_type": "code",
   "execution_count": null,
   "metadata": {},
   "outputs": [],
   "source": [
    "tok.wall[\"ids_properties.comment\"].value"
   ]
  },
  {
   "cell_type": "code",
   "execution_count": null,
   "metadata": {},
   "outputs": [],
   "source": [
    "tok.wall[\"ids_properties\"][\"comment\"].value"
   ]
  },
  {
   "cell_type": "code",
   "execution_count": null,
   "metadata": {},
   "outputs": [],
   "source": []
  },
  {
   "cell_type": "code",
   "execution_count": null,
   "metadata": {},
   "outputs": [],
   "source": [
    "class Wall(Dict):\n",
    "    ids_properties=sp_property()\n",
    "\n",
    "class Tokamak(Dict):\n",
    "    wall :Wall = sp_property()\n",
    "\n",
    "tok = Tokamak({\n",
    "    \"wall\": {\n",
    "        \"ids_properties\": {\n",
    "            \"comment\": \"just a test\"\n",
    "        }\n",
    "    }\n",
    "})"
   ]
  },
  {
   "cell_type": "code",
   "execution_count": null,
   "metadata": {},
   "outputs": [],
   "source": [
    "type(tok.wall)"
   ]
  },
  {
   "cell_type": "code",
   "execution_count": null,
   "metadata": {},
   "outputs": [],
   "source": [
    "tok.wall.ids_properties[\"comment\"].value"
   ]
  },
  {
   "cell_type": "code",
   "execution_count": null,
   "metadata": {},
   "outputs": [],
   "source": [
    "tok.wall.id"
   ]
  },
  {
   "cell_type": "code",
   "execution_count": null,
   "metadata": {},
   "outputs": [],
   "source": [
    "\n",
    "\n",
    "\n",
    "\n",
    "\n",
    "\n"
   ]
  },
  {
   "cell_type": "code",
   "execution_count": null,
   "metadata": {},
   "outputs": [],
   "source": [
    "class CoreProfilesElectrons(Dict):\n",
    "\n",
    "    temperature: Function = sp_property()\n",
    "\n",
    "    density: Function = sp_property()\n",
    "\n",
    "    @sp_property\n",
    "    def coulomb_logarithm(self) -> Function:\n",
    "\n",
    "        Te = self.temperature(self.Mesh.rho_tor_norm)\n",
    "        Ne = self.density(self.Mesh.rho_tor_norm)\n",
    "\n",
    "        return Function(self.Mesh.rho_tor_norm,\n",
    "                        ((14.9 - 0.5*np.log(Ne/1e20) + np.log(Te/1000)) * (Te < 10) +\n",
    "                         (15.2 - 0.5*np.log(Ne/1e20) + np.log(Te/1000)) * (Te >= 10)))\n",
    "\n",
    "    @sp_property\n",
    "    def tau(self) -> Function:\n",
    "        \"\"\"electron collision time\"\"\"\n",
    "        return 1.09e16*((self.temperature/1000)**(3/2))/self.density/self.coulomb_logarithm\n"
   ]
  }
 ],
 "metadata": {
  "interpreter": {
   "hash": "7ad1475237ae0817e601552d8b87bcccd09bed7a3d2283cd00b88633837ae647"
  },
  "kernelspec": {
   "display_name": "Python 3.8.6 64-bit",
   "language": "python",
   "name": "python3"
  },
  "language_info": {
   "codemirror_mode": {
    "name": "ipython",
    "version": 3
   },
   "file_extension": ".py",
   "mimetype": "text/x-python",
   "name": "python",
   "nbconvert_exporter": "python",
   "pygments_lexer": "ipython3",
   "version": "3.10.12"
  },
  "orig_nbformat": 4
 },
 "nbformat": 4,
 "nbformat_minor": 2
}
