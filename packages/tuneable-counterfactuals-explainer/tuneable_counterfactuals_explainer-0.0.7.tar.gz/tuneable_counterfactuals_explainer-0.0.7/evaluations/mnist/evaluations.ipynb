{
 "cells": [
  {
   "cell_type": "markdown",
   "metadata": {},
   "source": [
    "# Evaluations against the MNIST dataset"
   ]
  },
  {
   "cell_type": "markdown",
   "metadata": {},
   "source": [
    "## Setup "
   ]
  },
  {
   "cell_type": "markdown",
   "metadata": {},
   "source": [
    "### Handle Imports"
   ]
  },
  {
   "cell_type": "code",
   "execution_count": 3,
   "metadata": {},
   "outputs": [
    {
     "ename": "AttributeError",
     "evalue": "module 'tensorflow._api.v2.compat.v2.__internal__' has no attribute 'register_load_context_function'",
     "output_type": "error",
     "traceback": [
      "\u001b[0;31m---------------------------------------------------------------------------\u001b[0m",
      "\u001b[0;31mAttributeError\u001b[0m                            Traceback (most recent call last)",
      "Cell \u001b[0;32mIn[3], line 17\u001b[0m\n\u001b[1;32m     15\u001b[0m \u001b[38;5;28;01mimport\u001b[39;00m \u001b[38;5;21;01mshap\u001b[39;00m\n\u001b[1;32m     16\u001b[0m \u001b[38;5;28;01mimport\u001b[39;00m \u001b[38;5;21;01mtensorflow\u001b[39;00m \u001b[38;5;28;01mas\u001b[39;00m \u001b[38;5;21;01mtf\u001b[39;00m\n\u001b[0;32m---> 17\u001b[0m \u001b[38;5;28;01mfrom\u001b[39;00m \u001b[38;5;21;01malibi\u001b[39;00m\u001b[38;5;21;01m.\u001b[39;00m\u001b[38;5;21;01mexplainers\u001b[39;00m \u001b[38;5;28;01mimport\u001b[39;00m Counterfactual, CounterfactualProto\n\u001b[1;32m     18\u001b[0m \u001b[38;5;28;01mfrom\u001b[39;00m \u001b[38;5;21;01mkeras\u001b[39;00m\u001b[38;5;21;01m.\u001b[39;00m\u001b[38;5;21;01mlayers\u001b[39;00m \u001b[38;5;28;01mimport\u001b[39;00m Dropout  \u001b[38;5;66;03m# type: ignore\u001b[39;00m\n\u001b[1;32m     19\u001b[0m \u001b[38;5;28;01mfrom\u001b[39;00m \u001b[38;5;21;01mkeras\u001b[39;00m\u001b[38;5;21;01m.\u001b[39;00m\u001b[38;5;21;01mlayers\u001b[39;00m \u001b[38;5;28;01mimport\u001b[39;00m Conv2D, Dense, Flatten, Input, MaxPooling2D, UpSampling2D\n",
      "File \u001b[0;32m~/Development/TuneableCounterfactuals/.venv/lib/python3.12/site-packages/alibi/__init__.py:1\u001b[0m\n\u001b[0;32m----> 1\u001b[0m \u001b[38;5;28;01mfrom\u001b[39;00m \u001b[38;5;21;01m.\u001b[39;00m \u001b[38;5;28;01mimport\u001b[39;00m confidence, datasets, explainers, prototypes, utils\n\u001b[1;32m      2\u001b[0m \u001b[38;5;28;01mfrom\u001b[39;00m \u001b[38;5;21;01m.\u001b[39;00m\u001b[38;5;21;01mversion\u001b[39;00m \u001b[38;5;28;01mimport\u001b[39;00m __version__  \u001b[38;5;66;03m# noqa F401\u001b[39;00m\n\u001b[1;32m      4\u001b[0m __all__ \u001b[38;5;241m=\u001b[39m [\u001b[38;5;124m'\u001b[39m\u001b[38;5;124mconfidence\u001b[39m\u001b[38;5;124m'\u001b[39m, \u001b[38;5;124m'\u001b[39m\u001b[38;5;124mdatasets\u001b[39m\u001b[38;5;124m'\u001b[39m, \u001b[38;5;124m'\u001b[39m\u001b[38;5;124mexplainers\u001b[39m\u001b[38;5;124m'\u001b[39m, \u001b[38;5;124m'\u001b[39m\u001b[38;5;124mprototypes\u001b[39m\u001b[38;5;124m'\u001b[39m, \u001b[38;5;124m'\u001b[39m\u001b[38;5;124mutils\u001b[39m\u001b[38;5;124m'\u001b[39m]\n",
      "File \u001b[0;32m~/Development/TuneableCounterfactuals/.venv/lib/python3.12/site-packages/alibi/explainers/__init__.py:10\u001b[0m\n\u001b[1;32m      8\u001b[0m \u001b[38;5;28;01mfrom\u001b[39;00m \u001b[38;5;21;01malibi\u001b[39;00m\u001b[38;5;21;01m.\u001b[39;00m\u001b[38;5;21;01mexplainers\u001b[39;00m\u001b[38;5;21;01m.\u001b[39;00m\u001b[38;5;21;01manchors\u001b[39;00m\u001b[38;5;21;01m.\u001b[39;00m\u001b[38;5;21;01manchor_tabular\u001b[39;00m \u001b[38;5;28;01mimport\u001b[39;00m AnchorTabular\n\u001b[1;32m      9\u001b[0m \u001b[38;5;28;01mfrom\u001b[39;00m \u001b[38;5;21;01malibi\u001b[39;00m\u001b[38;5;21;01m.\u001b[39;00m\u001b[38;5;21;01mexplainers\u001b[39;00m\u001b[38;5;21;01m.\u001b[39;00m\u001b[38;5;21;01manchors\u001b[39;00m\u001b[38;5;21;01m.\u001b[39;00m\u001b[38;5;21;01manchor_image\u001b[39;00m \u001b[38;5;28;01mimport\u001b[39;00m AnchorImage\n\u001b[0;32m---> 10\u001b[0m \u001b[38;5;28;01mfrom\u001b[39;00m \u001b[38;5;21;01malibi\u001b[39;00m\u001b[38;5;21;01m.\u001b[39;00m\u001b[38;5;21;01mexplainers\u001b[39;00m\u001b[38;5;21;01m.\u001b[39;00m\u001b[38;5;21;01mcfrl_base\u001b[39;00m \u001b[38;5;28;01mimport\u001b[39;00m CounterfactualRL\n\u001b[1;32m     11\u001b[0m \u001b[38;5;28;01mfrom\u001b[39;00m \u001b[38;5;21;01malibi\u001b[39;00m\u001b[38;5;21;01m.\u001b[39;00m\u001b[38;5;21;01mexplainers\u001b[39;00m\u001b[38;5;21;01m.\u001b[39;00m\u001b[38;5;21;01mcfrl_tabular\u001b[39;00m \u001b[38;5;28;01mimport\u001b[39;00m CounterfactualRLTabular\n\u001b[1;32m     12\u001b[0m \u001b[38;5;28;01mfrom\u001b[39;00m \u001b[38;5;21;01malibi\u001b[39;00m\u001b[38;5;21;01m.\u001b[39;00m\u001b[38;5;21;01mexplainers\u001b[39;00m\u001b[38;5;21;01m.\u001b[39;00m\u001b[38;5;21;01mpartial_dependence\u001b[39;00m \u001b[38;5;28;01mimport\u001b[39;00m PartialDependence, TreePartialDependence, plot_pd\n",
      "File \u001b[0;32m~/Development/TuneableCounterfactuals/.venv/lib/python3.12/site-packages/alibi/explainers/cfrl_base.py:28\u001b[0m\n\u001b[1;32m     24\u001b[0m     \u001b[38;5;28;01mfrom\u001b[39;00m \u001b[38;5;21;01malibi\u001b[39;00m\u001b[38;5;21;01m.\u001b[39;00m\u001b[38;5;21;01mexplainers\u001b[39;00m\u001b[38;5;21;01m.\u001b[39;00m\u001b[38;5;21;01mbackends\u001b[39;00m\u001b[38;5;21;01m.\u001b[39;00m\u001b[38;5;21;01mpytorch\u001b[39;00m \u001b[38;5;28;01mimport\u001b[39;00m cfrl_base \u001b[38;5;28;01mas\u001b[39;00m pytorch_base_backend\n\u001b[1;32m     26\u001b[0m \u001b[38;5;28;01mif\u001b[39;00m has_tensorflow:\n\u001b[1;32m     27\u001b[0m     \u001b[38;5;66;03m# import tensorflow backend\u001b[39;00m\n\u001b[0;32m---> 28\u001b[0m     \u001b[38;5;28;01mfrom\u001b[39;00m \u001b[38;5;21;01malibi\u001b[39;00m\u001b[38;5;21;01m.\u001b[39;00m\u001b[38;5;21;01mexplainers\u001b[39;00m\u001b[38;5;21;01m.\u001b[39;00m\u001b[38;5;21;01mbackends\u001b[39;00m\u001b[38;5;21;01m.\u001b[39;00m\u001b[38;5;21;01mtensorflow\u001b[39;00m \u001b[38;5;28;01mimport\u001b[39;00m cfrl_base \u001b[38;5;28;01mas\u001b[39;00m tensorflow_base_backend\n\u001b[1;32m     30\u001b[0m \u001b[38;5;66;03m# define logger\u001b[39;00m\n\u001b[1;32m     31\u001b[0m logger \u001b[38;5;241m=\u001b[39m logging\u001b[38;5;241m.\u001b[39mgetLogger(\u001b[38;5;18m__name__\u001b[39m)\n",
      "File \u001b[0;32m~/Development/TuneableCounterfactuals/.venv/lib/python3.12/site-packages/alibi/explainers/backends/tensorflow/cfrl_base.py:12\u001b[0m\n\u001b[1;32m     10\u001b[0m \u001b[38;5;28;01mimport\u001b[39;00m \u001b[38;5;21;01mnumpy\u001b[39;00m \u001b[38;5;28;01mas\u001b[39;00m \u001b[38;5;21;01mnp\u001b[39;00m\n\u001b[1;32m     11\u001b[0m \u001b[38;5;28;01mimport\u001b[39;00m \u001b[38;5;21;01mtensorflow\u001b[39;00m \u001b[38;5;28;01mas\u001b[39;00m \u001b[38;5;21;01mtf\u001b[39;00m\n\u001b[0;32m---> 12\u001b[0m \u001b[38;5;28;01mimport\u001b[39;00m \u001b[38;5;21;01mtensorflow\u001b[39;00m\u001b[38;5;21;01m.\u001b[39;00m\u001b[38;5;21;01mkeras\u001b[39;00m \u001b[38;5;28;01mas\u001b[39;00m \u001b[38;5;21;01mkeras\u001b[39;00m\n\u001b[1;32m     14\u001b[0m \u001b[38;5;28;01mfrom\u001b[39;00m \u001b[38;5;21;01malibi\u001b[39;00m\u001b[38;5;21;01m.\u001b[39;00m\u001b[38;5;21;01mexplainers\u001b[39;00m\u001b[38;5;21;01m.\u001b[39;00m\u001b[38;5;21;01mbackends\u001b[39;00m\u001b[38;5;21;01m.\u001b[39;00m\u001b[38;5;21;01mcfrl_base\u001b[39;00m \u001b[38;5;28;01mimport\u001b[39;00m CounterfactualRLDataset\n\u001b[1;32m     15\u001b[0m \u001b[38;5;28;01mfrom\u001b[39;00m \u001b[38;5;21;01malibi\u001b[39;00m\u001b[38;5;21;01m.\u001b[39;00m\u001b[38;5;21;01mmodels\u001b[39;00m\u001b[38;5;21;01m.\u001b[39;00m\u001b[38;5;21;01mtensorflow\u001b[39;00m\u001b[38;5;21;01m.\u001b[39;00m\u001b[38;5;21;01mactor_critic\u001b[39;00m \u001b[38;5;28;01mimport\u001b[39;00m Actor, Critic\n",
      "File \u001b[0;32m~/Development/TuneableCounterfactuals/.venv/lib/python3.12/site-packages/keras/api/_v2/keras/__init__.py:13\u001b[0m\n\u001b[1;32m     10\u001b[0m \u001b[38;5;28;01mimport\u001b[39;00m \u001b[38;5;21;01msys\u001b[39;00m \u001b[38;5;28;01mas\u001b[39;00m \u001b[38;5;21;01m_sys\u001b[39;00m\n\u001b[1;32m     12\u001b[0m \u001b[38;5;28;01mfrom\u001b[39;00m \u001b[38;5;21;01mkeras\u001b[39;00m \u001b[38;5;28;01mimport\u001b[39;00m __version__\n\u001b[0;32m---> 13\u001b[0m \u001b[38;5;28;01mfrom\u001b[39;00m \u001b[38;5;21;01mkeras\u001b[39;00m\u001b[38;5;21;01m.\u001b[39;00m\u001b[38;5;21;01mapi\u001b[39;00m\u001b[38;5;21;01m.\u001b[39;00m\u001b[38;5;21;01m_v2\u001b[39;00m\u001b[38;5;21;01m.\u001b[39;00m\u001b[38;5;21;01mkeras\u001b[39;00m \u001b[38;5;28;01mimport\u001b[39;00m __internal__\n\u001b[1;32m     14\u001b[0m \u001b[38;5;28;01mfrom\u001b[39;00m \u001b[38;5;21;01mkeras\u001b[39;00m\u001b[38;5;21;01m.\u001b[39;00m\u001b[38;5;21;01mapi\u001b[39;00m\u001b[38;5;21;01m.\u001b[39;00m\u001b[38;5;21;01m_v2\u001b[39;00m\u001b[38;5;21;01m.\u001b[39;00m\u001b[38;5;21;01mkeras\u001b[39;00m \u001b[38;5;28;01mimport\u001b[39;00m activations\n\u001b[1;32m     15\u001b[0m \u001b[38;5;28;01mfrom\u001b[39;00m \u001b[38;5;21;01mkeras\u001b[39;00m\u001b[38;5;21;01m.\u001b[39;00m\u001b[38;5;21;01mapi\u001b[39;00m\u001b[38;5;21;01m.\u001b[39;00m\u001b[38;5;21;01m_v2\u001b[39;00m\u001b[38;5;21;01m.\u001b[39;00m\u001b[38;5;21;01mkeras\u001b[39;00m \u001b[38;5;28;01mimport\u001b[39;00m applications\n",
      "File \u001b[0;32m~/Development/TuneableCounterfactuals/.venv/lib/python3.12/site-packages/keras/api/_v2/__init__.py:8\u001b[0m\n\u001b[1;32m      3\u001b[0m \u001b[38;5;124;03m\"\"\"Public API for tf. namespace.\u001b[39;00m\n\u001b[1;32m      4\u001b[0m \u001b[38;5;124;03m\"\"\"\u001b[39;00m\n\u001b[1;32m      6\u001b[0m \u001b[38;5;28;01mimport\u001b[39;00m \u001b[38;5;21;01msys\u001b[39;00m \u001b[38;5;28;01mas\u001b[39;00m \u001b[38;5;21;01m_sys\u001b[39;00m\n\u001b[0;32m----> 8\u001b[0m \u001b[38;5;28;01mfrom\u001b[39;00m \u001b[38;5;21;01mkeras\u001b[39;00m\u001b[38;5;21;01m.\u001b[39;00m\u001b[38;5;21;01mapi\u001b[39;00m\u001b[38;5;21;01m.\u001b[39;00m\u001b[38;5;21;01m_v2\u001b[39;00m \u001b[38;5;28;01mimport\u001b[39;00m keras\n",
      "File \u001b[0;32m~/Development/TuneableCounterfactuals/.venv/lib/python3.12/site-packages/keras/api/_v2/keras/__init__.py:13\u001b[0m\n\u001b[1;32m     10\u001b[0m \u001b[38;5;28;01mimport\u001b[39;00m \u001b[38;5;21;01msys\u001b[39;00m \u001b[38;5;28;01mas\u001b[39;00m \u001b[38;5;21;01m_sys\u001b[39;00m\n\u001b[1;32m     12\u001b[0m \u001b[38;5;28;01mfrom\u001b[39;00m \u001b[38;5;21;01mkeras\u001b[39;00m \u001b[38;5;28;01mimport\u001b[39;00m __version__\n\u001b[0;32m---> 13\u001b[0m \u001b[38;5;28;01mfrom\u001b[39;00m \u001b[38;5;21;01mkeras\u001b[39;00m\u001b[38;5;21;01m.\u001b[39;00m\u001b[38;5;21;01mapi\u001b[39;00m\u001b[38;5;21;01m.\u001b[39;00m\u001b[38;5;21;01m_v2\u001b[39;00m\u001b[38;5;21;01m.\u001b[39;00m\u001b[38;5;21;01mkeras\u001b[39;00m \u001b[38;5;28;01mimport\u001b[39;00m __internal__\n\u001b[1;32m     14\u001b[0m \u001b[38;5;28;01mfrom\u001b[39;00m \u001b[38;5;21;01mkeras\u001b[39;00m\u001b[38;5;21;01m.\u001b[39;00m\u001b[38;5;21;01mapi\u001b[39;00m\u001b[38;5;21;01m.\u001b[39;00m\u001b[38;5;21;01m_v2\u001b[39;00m\u001b[38;5;21;01m.\u001b[39;00m\u001b[38;5;21;01mkeras\u001b[39;00m \u001b[38;5;28;01mimport\u001b[39;00m activations\n\u001b[1;32m     15\u001b[0m \u001b[38;5;28;01mfrom\u001b[39;00m \u001b[38;5;21;01mkeras\u001b[39;00m\u001b[38;5;21;01m.\u001b[39;00m\u001b[38;5;21;01mapi\u001b[39;00m\u001b[38;5;21;01m.\u001b[39;00m\u001b[38;5;21;01m_v2\u001b[39;00m\u001b[38;5;21;01m.\u001b[39;00m\u001b[38;5;21;01mkeras\u001b[39;00m \u001b[38;5;28;01mimport\u001b[39;00m applications\n",
      "File \u001b[0;32m~/Development/TuneableCounterfactuals/.venv/lib/python3.12/site-packages/keras/api/_v2/keras/__internal__/__init__.py:11\u001b[0m\n\u001b[1;32m      9\u001b[0m \u001b[38;5;28;01mfrom\u001b[39;00m \u001b[38;5;21;01mkeras\u001b[39;00m\u001b[38;5;21;01m.\u001b[39;00m\u001b[38;5;21;01mapi\u001b[39;00m\u001b[38;5;21;01m.\u001b[39;00m\u001b[38;5;21;01m_v2\u001b[39;00m\u001b[38;5;21;01m.\u001b[39;00m\u001b[38;5;21;01mkeras\u001b[39;00m\u001b[38;5;21;01m.\u001b[39;00m\u001b[38;5;21;01m__internal__\u001b[39;00m \u001b[38;5;28;01mimport\u001b[39;00m layers\n\u001b[1;32m     10\u001b[0m \u001b[38;5;28;01mfrom\u001b[39;00m \u001b[38;5;21;01mkeras\u001b[39;00m\u001b[38;5;21;01m.\u001b[39;00m\u001b[38;5;21;01mapi\u001b[39;00m\u001b[38;5;21;01m.\u001b[39;00m\u001b[38;5;21;01m_v2\u001b[39;00m\u001b[38;5;21;01m.\u001b[39;00m\u001b[38;5;21;01mkeras\u001b[39;00m\u001b[38;5;21;01m.\u001b[39;00m\u001b[38;5;21;01m__internal__\u001b[39;00m \u001b[38;5;28;01mimport\u001b[39;00m losses\n\u001b[0;32m---> 11\u001b[0m \u001b[38;5;28;01mfrom\u001b[39;00m \u001b[38;5;21;01mkeras\u001b[39;00m\u001b[38;5;21;01m.\u001b[39;00m\u001b[38;5;21;01mapi\u001b[39;00m\u001b[38;5;21;01m.\u001b[39;00m\u001b[38;5;21;01m_v2\u001b[39;00m\u001b[38;5;21;01m.\u001b[39;00m\u001b[38;5;21;01mkeras\u001b[39;00m\u001b[38;5;21;01m.\u001b[39;00m\u001b[38;5;21;01m__internal__\u001b[39;00m \u001b[38;5;28;01mimport\u001b[39;00m models\n\u001b[1;32m     12\u001b[0m \u001b[38;5;28;01mfrom\u001b[39;00m \u001b[38;5;21;01mkeras\u001b[39;00m\u001b[38;5;21;01m.\u001b[39;00m\u001b[38;5;21;01mapi\u001b[39;00m\u001b[38;5;21;01m.\u001b[39;00m\u001b[38;5;21;01m_v2\u001b[39;00m\u001b[38;5;21;01m.\u001b[39;00m\u001b[38;5;21;01mkeras\u001b[39;00m\u001b[38;5;21;01m.\u001b[39;00m\u001b[38;5;21;01m__internal__\u001b[39;00m \u001b[38;5;28;01mimport\u001b[39;00m optimizers\n\u001b[1;32m     13\u001b[0m \u001b[38;5;28;01mfrom\u001b[39;00m \u001b[38;5;21;01mkeras\u001b[39;00m\u001b[38;5;21;01m.\u001b[39;00m\u001b[38;5;21;01mapi\u001b[39;00m\u001b[38;5;21;01m.\u001b[39;00m\u001b[38;5;21;01m_v2\u001b[39;00m\u001b[38;5;21;01m.\u001b[39;00m\u001b[38;5;21;01mkeras\u001b[39;00m\u001b[38;5;21;01m.\u001b[39;00m\u001b[38;5;21;01m__internal__\u001b[39;00m \u001b[38;5;28;01mimport\u001b[39;00m utils\n",
      "File \u001b[0;32m~/Development/TuneableCounterfactuals/.venv/lib/python3.12/site-packages/keras/api/_v2/keras/__internal__/models/__init__.py:8\u001b[0m\n\u001b[1;32m      3\u001b[0m \u001b[38;5;124;03m\"\"\"Public API for tf.keras.__internal__.models namespace.\u001b[39;00m\n\u001b[1;32m      4\u001b[0m \u001b[38;5;124;03m\"\"\"\u001b[39;00m\n\u001b[1;32m      6\u001b[0m \u001b[38;5;28;01mimport\u001b[39;00m \u001b[38;5;21;01msys\u001b[39;00m \u001b[38;5;28;01mas\u001b[39;00m \u001b[38;5;21;01m_sys\u001b[39;00m\n\u001b[0;32m----> 8\u001b[0m \u001b[38;5;28;01mfrom\u001b[39;00m \u001b[38;5;21;01mkeras\u001b[39;00m\u001b[38;5;21;01m.\u001b[39;00m\u001b[38;5;21;01mmodels\u001b[39;00m\u001b[38;5;21;01m.\u001b[39;00m\u001b[38;5;21;01mcloning\u001b[39;00m \u001b[38;5;28;01mimport\u001b[39;00m clone_and_build_model\n\u001b[1;32m      9\u001b[0m \u001b[38;5;28;01mfrom\u001b[39;00m \u001b[38;5;21;01mkeras\u001b[39;00m\u001b[38;5;21;01m.\u001b[39;00m\u001b[38;5;21;01mmodels\u001b[39;00m\u001b[38;5;21;01m.\u001b[39;00m\u001b[38;5;21;01mcloning\u001b[39;00m \u001b[38;5;28;01mimport\u001b[39;00m in_place_subclassed_model_state_restoration\n",
      "File \u001b[0;32m~/Development/TuneableCounterfactuals/.venv/lib/python3.12/site-packages/keras/models/__init__.py:18\u001b[0m\n\u001b[1;32m      1\u001b[0m \u001b[38;5;66;03m# Copyright 2022 The TensorFlow Authors. All Rights Reserved.\u001b[39;00m\n\u001b[1;32m      2\u001b[0m \u001b[38;5;66;03m#\u001b[39;00m\n\u001b[1;32m      3\u001b[0m \u001b[38;5;66;03m# Licensed under the Apache License, Version 2.0 (the \"License\");\u001b[39;00m\n\u001b[0;32m   (...)\u001b[0m\n\u001b[1;32m     13\u001b[0m \u001b[38;5;66;03m# limitations under the License.\u001b[39;00m\n\u001b[1;32m     14\u001b[0m \u001b[38;5;66;03m# ==============================================================================\u001b[39;00m\n\u001b[1;32m     15\u001b[0m \u001b[38;5;124;03m\"\"\"Keras models API.\"\"\"\u001b[39;00m\n\u001b[0;32m---> 18\u001b[0m \u001b[38;5;28;01mfrom\u001b[39;00m \u001b[38;5;21;01mkeras\u001b[39;00m\u001b[38;5;21;01m.\u001b[39;00m\u001b[38;5;21;01mengine\u001b[39;00m\u001b[38;5;21;01m.\u001b[39;00m\u001b[38;5;21;01mfunctional\u001b[39;00m \u001b[38;5;28;01mimport\u001b[39;00m Functional\n\u001b[1;32m     19\u001b[0m \u001b[38;5;28;01mfrom\u001b[39;00m \u001b[38;5;21;01mkeras\u001b[39;00m\u001b[38;5;21;01m.\u001b[39;00m\u001b[38;5;21;01mengine\u001b[39;00m\u001b[38;5;21;01m.\u001b[39;00m\u001b[38;5;21;01msequential\u001b[39;00m \u001b[38;5;28;01mimport\u001b[39;00m Sequential\n\u001b[1;32m     20\u001b[0m \u001b[38;5;28;01mfrom\u001b[39;00m \u001b[38;5;21;01mkeras\u001b[39;00m\u001b[38;5;21;01m.\u001b[39;00m\u001b[38;5;21;01mengine\u001b[39;00m\u001b[38;5;21;01m.\u001b[39;00m\u001b[38;5;21;01mtraining\u001b[39;00m \u001b[38;5;28;01mimport\u001b[39;00m Model\n",
      "File \u001b[0;32m~/Development/TuneableCounterfactuals/.venv/lib/python3.12/site-packages/keras/engine/functional.py:34\u001b[0m\n\u001b[1;32m     32\u001b[0m \u001b[38;5;28;01mfrom\u001b[39;00m \u001b[38;5;21;01mkeras\u001b[39;00m\u001b[38;5;21;01m.\u001b[39;00m\u001b[38;5;21;01mengine\u001b[39;00m \u001b[38;5;28;01mimport\u001b[39;00m input_spec\n\u001b[1;32m     33\u001b[0m \u001b[38;5;28;01mfrom\u001b[39;00m \u001b[38;5;21;01mkeras\u001b[39;00m\u001b[38;5;21;01m.\u001b[39;00m\u001b[38;5;21;01mengine\u001b[39;00m \u001b[38;5;28;01mimport\u001b[39;00m node \u001b[38;5;28;01mas\u001b[39;00m node_module\n\u001b[0;32m---> 34\u001b[0m \u001b[38;5;28;01mfrom\u001b[39;00m \u001b[38;5;21;01mkeras\u001b[39;00m\u001b[38;5;21;01m.\u001b[39;00m\u001b[38;5;21;01mengine\u001b[39;00m \u001b[38;5;28;01mimport\u001b[39;00m training \u001b[38;5;28;01mas\u001b[39;00m training_lib\n\u001b[1;32m     35\u001b[0m \u001b[38;5;28;01mfrom\u001b[39;00m \u001b[38;5;21;01mkeras\u001b[39;00m\u001b[38;5;21;01m.\u001b[39;00m\u001b[38;5;21;01mengine\u001b[39;00m \u001b[38;5;28;01mimport\u001b[39;00m training_utils\n\u001b[1;32m     36\u001b[0m \u001b[38;5;28;01mfrom\u001b[39;00m \u001b[38;5;21;01mkeras\u001b[39;00m\u001b[38;5;21;01m.\u001b[39;00m\u001b[38;5;21;01msaving\u001b[39;00m\u001b[38;5;21;01m.\u001b[39;00m\u001b[38;5;21;01mlegacy\u001b[39;00m \u001b[38;5;28;01mimport\u001b[39;00m serialization\n",
      "File \u001b[0;32m~/Development/TuneableCounterfactuals/.venv/lib/python3.12/site-packages/keras/engine/training.py:40\u001b[0m\n\u001b[1;32m     38\u001b[0m \u001b[38;5;28;01mfrom\u001b[39;00m \u001b[38;5;21;01mkeras\u001b[39;00m\u001b[38;5;21;01m.\u001b[39;00m\u001b[38;5;21;01moptimizers\u001b[39;00m \u001b[38;5;28;01mimport\u001b[39;00m optimizer_v1\n\u001b[1;32m     39\u001b[0m \u001b[38;5;28;01mfrom\u001b[39;00m \u001b[38;5;21;01mkeras\u001b[39;00m\u001b[38;5;21;01m.\u001b[39;00m\u001b[38;5;21;01msaving\u001b[39;00m \u001b[38;5;28;01mimport\u001b[39;00m pickle_utils\n\u001b[0;32m---> 40\u001b[0m \u001b[38;5;28;01mfrom\u001b[39;00m \u001b[38;5;21;01mkeras\u001b[39;00m\u001b[38;5;21;01m.\u001b[39;00m\u001b[38;5;21;01msaving\u001b[39;00m \u001b[38;5;28;01mimport\u001b[39;00m saving_api\n\u001b[1;32m     41\u001b[0m \u001b[38;5;28;01mfrom\u001b[39;00m \u001b[38;5;21;01mkeras\u001b[39;00m\u001b[38;5;21;01m.\u001b[39;00m\u001b[38;5;21;01msaving\u001b[39;00m \u001b[38;5;28;01mimport\u001b[39;00m saving_lib\n\u001b[1;32m     42\u001b[0m \u001b[38;5;28;01mfrom\u001b[39;00m \u001b[38;5;21;01mkeras\u001b[39;00m\u001b[38;5;21;01m.\u001b[39;00m\u001b[38;5;21;01msaving\u001b[39;00m \u001b[38;5;28;01mimport\u001b[39;00m serialization_lib\n",
      "File \u001b[0;32m~/Development/TuneableCounterfactuals/.venv/lib/python3.12/site-packages/keras/saving/saving_api.py:24\u001b[0m\n\u001b[1;32m     21\u001b[0m \u001b[38;5;28;01mfrom\u001b[39;00m \u001b[38;5;21;01mtensorflow\u001b[39;00m\u001b[38;5;21;01m.\u001b[39;00m\u001b[38;5;21;01mpython\u001b[39;00m\u001b[38;5;21;01m.\u001b[39;00m\u001b[38;5;21;01mutil\u001b[39;00m\u001b[38;5;21;01m.\u001b[39;00m\u001b[38;5;21;01mtf_export\u001b[39;00m \u001b[38;5;28;01mimport\u001b[39;00m keras_export\n\u001b[1;32m     23\u001b[0m \u001b[38;5;28;01mfrom\u001b[39;00m \u001b[38;5;21;01mkeras\u001b[39;00m\u001b[38;5;21;01m.\u001b[39;00m\u001b[38;5;21;01msaving\u001b[39;00m \u001b[38;5;28;01mimport\u001b[39;00m saving_lib\n\u001b[0;32m---> 24\u001b[0m \u001b[38;5;28;01mfrom\u001b[39;00m \u001b[38;5;21;01mkeras\u001b[39;00m\u001b[38;5;21;01m.\u001b[39;00m\u001b[38;5;21;01msaving\u001b[39;00m\u001b[38;5;21;01m.\u001b[39;00m\u001b[38;5;21;01mlegacy\u001b[39;00m \u001b[38;5;28;01mimport\u001b[39;00m save \u001b[38;5;28;01mas\u001b[39;00m legacy_sm_saving_lib\n\u001b[1;32m     25\u001b[0m \u001b[38;5;28;01mfrom\u001b[39;00m \u001b[38;5;21;01mkeras\u001b[39;00m\u001b[38;5;21;01m.\u001b[39;00m\u001b[38;5;21;01mutils\u001b[39;00m \u001b[38;5;28;01mimport\u001b[39;00m io_utils\n\u001b[1;32m     27\u001b[0m \u001b[38;5;28;01mtry\u001b[39;00m:\n",
      "File \u001b[0;32m~/Development/TuneableCounterfactuals/.venv/lib/python3.12/site-packages/keras/saving/legacy/save.py:27\u001b[0m\n\u001b[1;32m     25\u001b[0m \u001b[38;5;28;01mfrom\u001b[39;00m \u001b[38;5;21;01mkeras\u001b[39;00m\u001b[38;5;21;01m.\u001b[39;00m\u001b[38;5;21;01msaving\u001b[39;00m\u001b[38;5;21;01m.\u001b[39;00m\u001b[38;5;21;01mlegacy\u001b[39;00m \u001b[38;5;28;01mimport\u001b[39;00m serialization\n\u001b[1;32m     26\u001b[0m \u001b[38;5;28;01mfrom\u001b[39;00m \u001b[38;5;21;01mkeras\u001b[39;00m\u001b[38;5;21;01m.\u001b[39;00m\u001b[38;5;21;01msaving\u001b[39;00m\u001b[38;5;21;01m.\u001b[39;00m\u001b[38;5;21;01mlegacy\u001b[39;00m\u001b[38;5;21;01m.\u001b[39;00m\u001b[38;5;21;01msaved_model\u001b[39;00m \u001b[38;5;28;01mimport\u001b[39;00m load \u001b[38;5;28;01mas\u001b[39;00m saved_model_load\n\u001b[0;32m---> 27\u001b[0m \u001b[38;5;28;01mfrom\u001b[39;00m \u001b[38;5;21;01mkeras\u001b[39;00m\u001b[38;5;21;01m.\u001b[39;00m\u001b[38;5;21;01msaving\u001b[39;00m\u001b[38;5;21;01m.\u001b[39;00m\u001b[38;5;21;01mlegacy\u001b[39;00m\u001b[38;5;21;01m.\u001b[39;00m\u001b[38;5;21;01msaved_model\u001b[39;00m \u001b[38;5;28;01mimport\u001b[39;00m load_context\n\u001b[1;32m     28\u001b[0m \u001b[38;5;28;01mfrom\u001b[39;00m \u001b[38;5;21;01mkeras\u001b[39;00m\u001b[38;5;21;01m.\u001b[39;00m\u001b[38;5;21;01msaving\u001b[39;00m\u001b[38;5;21;01m.\u001b[39;00m\u001b[38;5;21;01mlegacy\u001b[39;00m\u001b[38;5;21;01m.\u001b[39;00m\u001b[38;5;21;01msaved_model\u001b[39;00m \u001b[38;5;28;01mimport\u001b[39;00m save \u001b[38;5;28;01mas\u001b[39;00m saved_model_save\n\u001b[1;32m     29\u001b[0m \u001b[38;5;28;01mfrom\u001b[39;00m \u001b[38;5;21;01mkeras\u001b[39;00m\u001b[38;5;21;01m.\u001b[39;00m\u001b[38;5;21;01msaving\u001b[39;00m\u001b[38;5;21;01m.\u001b[39;00m\u001b[38;5;21;01mlegacy\u001b[39;00m\u001b[38;5;21;01m.\u001b[39;00m\u001b[38;5;21;01msaved_model\u001b[39;00m\u001b[38;5;21;01m.\u001b[39;00m\u001b[38;5;21;01mutils\u001b[39;00m \u001b[38;5;28;01mimport\u001b[39;00m keras_option_scope\n",
      "File \u001b[0;32m~/Development/TuneableCounterfactuals/.venv/lib/python3.12/site-packages/keras/saving/legacy/saved_model/load_context.py:68\u001b[0m\n\u001b[1;32m     64\u001b[0m \u001b[38;5;250m    \u001b[39m\u001b[38;5;124;03m\"\"\"Returns whether under a load context.\"\"\"\u001b[39;00m\n\u001b[1;32m     65\u001b[0m     \u001b[38;5;28;01mreturn\u001b[39;00m _load_context\u001b[38;5;241m.\u001b[39min_load_context()\n\u001b[0;32m---> 68\u001b[0m \u001b[43mtf\u001b[49m\u001b[38;5;241;43m.\u001b[39;49m\u001b[43m__internal__\u001b[49m\u001b[38;5;241;43m.\u001b[39;49m\u001b[43mregister_load_context_function\u001b[49m(in_load_context)\n",
      "\u001b[0;31mAttributeError\u001b[0m: module 'tensorflow._api.v2.compat.v2.__internal__' has no attribute 'register_load_context_function'"
     ]
    }
   ],
   "source": [
    "import os\n",
    "import sys\n",
    "\n",
    "sys.path.append(\"../../src\")\n",
    "\n",
    "import copy\n",
    "import pickle\n",
    "import random\n",
    "from time import time\n",
    "\n",
    "import keras\n",
    "import matplotlib.pyplot as plt\n",
    "import numpy as np\n",
    "import pandas as pd\n",
    "import shap\n",
    "import tensorflow as tf\n",
    "from alibi.explainers import Counterfactual, CounterfactualProto\n",
    "from keras.layers import Dropout  # type: ignore\n",
    "from keras.layers import Conv2D, Dense, Flatten, Input, MaxPooling2D, UpSampling2D\n",
    "from keras.utils import to_categorical\n",
    "from keras.wrappers.scikit_learn import KerasRegressor\n",
    "from scipy.ndimage import gaussian_filter\n",
    "from sklearn.pipeline import Pipeline\n",
    "from sklearn.preprocessing import FunctionTransformer\n",
    "from sklearn.svm import SVR\n",
    "from tensorflow.keras.models import Model, load_model  # type: ignore\n",
    "from tensorflow.keras.utils import to_categorical  # type: ignore\n",
    "from tqdm import tqdm\n",
    "\n",
    "from tuneable_counterfactuals_explainer.explainer import Explainer\n",
    "from tuneable_counterfactuals_explainer.single_variable_explainer import (\n",
    "    SingleVariableExplainer,\n",
    ")\n",
    "\n",
    "tf.get_logger().setLevel(40)  # suppress deprecation messages\n",
    "tf.compat.v1.disable_v2_behavior()  # disable TF2 behavior as alibi code still relies on TF1 constructs"
   ]
  },
  {
   "cell_type": "markdown",
   "metadata": {},
   "source": [
    "### Create and Train Model"
   ]
  },
  {
   "cell_type": "code",
   "execution_count": null,
   "metadata": {},
   "outputs": [
    {
     "ename": "",
     "evalue": "",
     "output_type": "error",
     "traceback": [
      "\u001b[1;31mThe kernel failed to start as the Python Environment 'venv (Python 3.11.3)' is no longer available. Consider selecting another kernel or refreshing the list of Python Environments."
     ]
    }
   ],
   "source": [
    "# Get MNIST data\n",
    "(x_train, y_train), (x_test, y_test) = tf.keras.datasets.mnist.load_data()\n",
    "print(\"x_train shape:\", x_train.shape, \"y_train shape:\", y_train.shape)\n",
    "\n",
    "# Filter to only 0s and 1s\n",
    "x_train = x_train[(y_train == 0) | (y_train == 1)]\n",
    "y_train = y_train[(y_train == 0) | (y_train == 1)]\n",
    "x_test = x_test[(y_test == 0) | (y_test == 1)]\n",
    "y_test = y_test[(y_test == 0) | (y_test == 1)]\n",
    "\n",
    "# Reshape and normalize\n",
    "x_train = x_train.astype(\"float32\") / 255\n",
    "x_test = x_test.astype(\"float32\") / 255\n",
    "x_train = np.reshape(x_train, x_train.shape + (1,))\n",
    "x_test = np.reshape(x_test, x_test.shape + (1,))\n",
    "\n",
    "# One-hot encode labels\n",
    "y_train = to_categorical(y_train)\n",
    "y_test = to_categorical(y_test)\n",
    "\n",
    "# Set Data Range\n",
    "xmin, xmax = -0.5, 0.5\n",
    "x_train = ((x_train - x_train.min()) / (x_train.max() - x_train.min())) * (\n",
    "    xmax - xmin\n",
    ") + xmin\n",
    "x_test = ((x_test - x_test.min()) / (x_test.max() - x_test.min())) * (\n",
    "    xmax - xmin\n",
    ") + xmin\n",
    "\n",
    "\n",
    "# Define Model\n",
    "def cnn_model():\n",
    "    x_in = Input(shape=(28, 28, 1))\n",
    "    x = Conv2D(filters=32, kernel_size=3, padding=\"same\", activation=\"relu\")(x_in)\n",
    "    x = MaxPooling2D(pool_size=2)(x)\n",
    "    x = Dropout(0.3)(x)\n",
    "\n",
    "    x = Conv2D(filters=64, kernel_size=2, padding=\"same\", activation=\"relu\")(x)\n",
    "    x = MaxPooling2D(pool_size=2)(x)\n",
    "    x = Dropout(0.3)(x)\n",
    "\n",
    "    x = Flatten()(x)\n",
    "    x = Dropout(0.5)(x)\n",
    "    x_out = Dense(2, activation=\"softmax\")(x)\n",
    "\n",
    "    cnn = Model(inputs=x_in, outputs=x_out)\n",
    "    cnn.compile(loss=\"categorical_crossentropy\", optimizer=\"adam\", metrics=[\"accuracy\"])\n",
    "\n",
    "    return cnn\n",
    "\n",
    "\n",
    "clf = KerasRegressor(build_fn=cnn_model, epochs=5, batch_size=32, verbose=1)\n",
    "sklearn_pipeline = Pipeline([(\"clf\", clf)])\n",
    "keras.utils.set_random_seed(0)\n",
    "sklearn_pipeline.fit(x_train, y_train)\n",
    "\n",
    "cnn = sklearn_pipeline[0].model\n",
    "\n",
    "# Evaluate Model\n",
    "score = cnn.evaluate(x_test, y_test, verbose=0)\n",
    "print(\"Test accuracy: \", score[1])"
   ]
  },
  {
   "cell_type": "code",
   "execution_count": null,
   "metadata": {},
   "outputs": [
    {
     "ename": "",
     "evalue": "",
     "output_type": "error",
     "traceback": [
      "\u001b[1;31mThe kernel failed to start as the Python Environment 'venv (Python 3.11.3)' is no longer available. Consider selecting another kernel or refreshing the list of Python Environments."
     ]
    }
   ],
   "source": [
    "def predict_class(x):\n",
    "    return cnn.predict(x).argmax(axis=1)[0]"
   ]
  },
  {
   "cell_type": "markdown",
   "metadata": {},
   "source": [
    "## Baseline Methodology"
   ]
  },
  {
   "cell_type": "markdown",
   "metadata": {},
   "source": [
    "### Setup Explainer Object "
   ]
  },
  {
   "cell_type": "code",
   "execution_count": null,
   "metadata": {},
   "outputs": [
    {
     "ename": "",
     "evalue": "",
     "output_type": "error",
     "traceback": [
      "\u001b[1;31mThe kernel failed to start as the Python Environment 'venv (Python 3.11.3)' is no longer available. Consider selecting another kernel or refreshing the list of Python Environments."
     ]
    }
   ],
   "source": [
    "cf_baseline = Counterfactual(\n",
    "    cnn,\n",
    "    shape=(1,) + x_train.shape[1:],\n",
    "    feature_range=(-0.5, 0.5),\n",
    ")"
   ]
  },
  {
   "cell_type": "markdown",
   "metadata": {},
   "source": [
    "### Run Single Example"
   ]
  },
  {
   "cell_type": "code",
   "execution_count": null,
   "metadata": {},
   "outputs": [
    {
     "ename": "",
     "evalue": "",
     "output_type": "error",
     "traceback": [
      "\u001b[1;31mThe kernel failed to start as the Python Environment 'venv (Python 3.11.3)' is no longer available. Consider selecting another kernel or refreshing the list of Python Environments."
     ]
    }
   ],
   "source": [
    "res_baseline = cf_baseline.explain(x_train[0].reshape(1, 28, 28, 1))"
   ]
  },
  {
   "cell_type": "markdown",
   "metadata": {},
   "source": [
    "### Do Plot"
   ]
  },
  {
   "cell_type": "code",
   "execution_count": null,
   "metadata": {},
   "outputs": [
    {
     "ename": "",
     "evalue": "",
     "output_type": "error",
     "traceback": [
      "\u001b[1;31mThe kernel failed to start as the Python Environment 'venv (Python 3.11.3)' is no longer available. Consider selecting another kernel or refreshing the list of Python Environments."
     ]
    }
   ],
   "source": [
    "fig, axs = plt.subplots(1, 3)\n",
    "plt.suptitle('Example \"traditional\" counterfactual', weight=\"bold\")\n",
    "\n",
    "# Plot the first image\n",
    "axs[0].imshow(\n",
    "    np.array(x_train[0]).astype(np.float32).reshape(28, 28),\n",
    "    cmap=\"binary\",\n",
    ")\n",
    "axs[0].set_title(\"Original image\")\n",
    "axs[0].set_xlabel(\n",
    "    f\"Classified as {predict_class(x_train[0].reshape(1, 28,28,1))} with\\nprobability {cnn.predict(x_train[0].reshape(1, 28,28,1)).max():.2f}\"\n",
    ")\n",
    "\n",
    "# Add an arrow between the two images\n",
    "axs[1].arrow(x=0.25, y=0.5, dx=0.5, dy=0, width=0.1, color=\"k\")\n",
    "axs[1].set_ylim([0, 1])\n",
    "\n",
    "# Plot the second image\n",
    "final = res_baseline.cf[\"X\"].reshape(28, 28)\n",
    "axs[2].imshow(np.array(final).astype(np.float32).reshape(28, 28), cmap=\"binary\")\n",
    "axs[2].set_title(\n",
    "    \"New image\",\n",
    ")\n",
    "axs[2].set_xlabel(\n",
    "    f'Classified as {predict_class(res_baseline.cf[\"X\"])} with\\nprobability {cnn.predict(res_baseline.cf[\"X\"]).max():.2f}'\n",
    ")\n",
    "\n",
    "\n",
    "for ax in axs:\n",
    "    ax.set_xticks([])\n",
    "    ax.set_yticks([])\n",
    "    ax.spines[\"top\"].set_visible(False)\n",
    "    ax.spines[\"right\"].set_visible(False)\n",
    "    ax.spines[\"bottom\"].set_visible(False)\n",
    "    ax.spines[\"left\"].set_visible(False)\n",
    "    ax.set_aspect(\"equal\")\n",
    "\n",
    "plt.tight_layout()\n",
    "fig.subplots_adjust(top=1.3)\n",
    "fig.subplots_adjust(right=0.9)\n",
    "fig.subplots_adjust(left=0.1)\n",
    "plt.savefig(\"../../figures/mnist_counterfactual_trad_example.eps\", bbox_inches=\"tight\")\n",
    "plt.show()"
   ]
  },
  {
   "cell_type": "markdown",
   "metadata": {},
   "source": [
    "## Prototype Methodology "
   ]
  },
  {
   "cell_type": "markdown",
   "metadata": {},
   "source": [
    "### Setup AutoEncoder"
   ]
  },
  {
   "cell_type": "code",
   "execution_count": null,
   "metadata": {},
   "outputs": [
    {
     "ename": "",
     "evalue": "",
     "output_type": "error",
     "traceback": [
      "\u001b[1;31mThe kernel failed to start as the Python Environment 'venv (Python 3.11.3)' is no longer available. Consider selecting another kernel or refreshing the list of Python Environments."
     ]
    }
   ],
   "source": [
    "def ae_model():\n",
    "    # encoder\n",
    "    x_in = Input(shape=(28, 28, 1))\n",
    "    x = Conv2D(16, (3, 3), activation=\"relu\", padding=\"same\")(x_in)\n",
    "    x = Conv2D(16, (3, 3), activation=\"relu\", padding=\"same\")(x)\n",
    "    x = MaxPooling2D((2, 2), padding=\"same\")(x)\n",
    "    encoded = Conv2D(1, (3, 3), activation=None, padding=\"same\")(x)\n",
    "    encoder = Model(x_in, encoded)\n",
    "\n",
    "    # decoder\n",
    "    dec_in = Input(shape=(14, 14, 1))\n",
    "    x = Conv2D(16, (3, 3), activation=\"relu\", padding=\"same\")(dec_in)\n",
    "    x = UpSampling2D((2, 2))(x)\n",
    "    x = Conv2D(16, (3, 3), activation=\"relu\", padding=\"same\")(x)\n",
    "    decoded = Conv2D(1, (3, 3), activation=None, padding=\"same\")(x)\n",
    "    decoder = Model(dec_in, decoded)\n",
    "\n",
    "    # autoencoder = encoder + decoder\n",
    "    x_out = decoder(encoder(x_in))\n",
    "    autoencoder = Model(x_in, x_out)\n",
    "    autoencoder.compile(optimizer=\"adam\", loss=\"mse\")\n",
    "\n",
    "    return autoencoder, encoder, decoder\n",
    "\n",
    "\n",
    "ae, enc, dec = ae_model()\n",
    "ae.fit(\n",
    "    x_train,\n",
    "    x_train,\n",
    "    batch_size=128,\n",
    "    epochs=4,\n",
    "    validation_data=(x_test, x_test),\n",
    "    verbose=0,\n",
    ")"
   ]
  },
  {
   "cell_type": "markdown",
   "metadata": {},
   "source": [
    "### Setup Explainer Object"
   ]
  },
  {
   "cell_type": "code",
   "execution_count": null,
   "metadata": {},
   "outputs": [
    {
     "ename": "",
     "evalue": "",
     "output_type": "error",
     "traceback": [
      "\u001b[1;31mThe kernel failed to start as the Python Environment 'venv (Python 3.11.3)' is no longer available. Consider selecting another kernel or refreshing the list of Python Environments."
     ]
    }
   ],
   "source": [
    "shape = (1,) + x_train.shape[1:]\n",
    "gamma = 100.0\n",
    "theta = 100.0\n",
    "c_init = 1.0\n",
    "c_steps = 2\n",
    "max_iterations = 1000\n",
    "feature_range = (x_train.min(), x_train.max())\n",
    "\n",
    "cf_prototype = CounterfactualProto(\n",
    "    cnn,\n",
    "    shape,\n",
    "    gamma=gamma,\n",
    "    theta=theta,\n",
    "    ae_model=ae,\n",
    "    enc_model=enc,\n",
    "    max_iterations=max_iterations,\n",
    "    feature_range=feature_range,\n",
    "    c_init=c_init,\n",
    "    c_steps=c_steps,\n",
    ")\n",
    "cf_prototype.fit(x_train)"
   ]
  },
  {
   "cell_type": "markdown",
   "metadata": {},
   "source": [
    "### Run Single Example"
   ]
  },
  {
   "cell_type": "code",
   "execution_count": null,
   "metadata": {},
   "outputs": [
    {
     "ename": "",
     "evalue": "",
     "output_type": "error",
     "traceback": [
      "\u001b[1;31mThe kernel failed to start as the Python Environment 'venv (Python 3.11.3)' is no longer available. Consider selecting another kernel or refreshing the list of Python Environments."
     ]
    }
   ],
   "source": [
    "res_prototype = cf_prototype.explain(x_train[1].reshape(1, 28, 28, 1))"
   ]
  },
  {
   "cell_type": "markdown",
   "metadata": {},
   "source": [
    "### Do Plot"
   ]
  },
  {
   "cell_type": "code",
   "execution_count": null,
   "metadata": {},
   "outputs": [
    {
     "ename": "",
     "evalue": "",
     "output_type": "error",
     "traceback": [
      "\u001b[1;31mThe kernel failed to start as the Python Environment 'venv (Python 3.11.3)' is no longer available. Consider selecting another kernel or refreshing the list of Python Environments."
     ]
    }
   ],
   "source": [
    "fig, axs = plt.subplots(1, 3)\n",
    "plt.suptitle('Example \"Prototype\" counterfactual', weight=\"bold\")\n",
    "\n",
    "# Plot the first image\n",
    "axs[0].imshow(\n",
    "    np.array(x_train[1]).astype(np.float32).reshape(28, 28),\n",
    "    cmap=\"binary\",\n",
    ")\n",
    "axs[0].set_title(\"Original image\")\n",
    "axs[0].set_xlabel(\n",
    "    f\"Classified as {predict_class(x_train[0].reshape(1, 28,28,1))} with\\nprobability {cnn.predict(x_train[0].reshape(1, 28,28,1)).max():.2f}\"\n",
    ")\n",
    "\n",
    "# Add an arrow between the two images\n",
    "axs[1].arrow(x=0.25, y=0.5, dx=0.5, dy=0, width=0.1, color=\"k\")\n",
    "axs[1].set_ylim([0, 1])\n",
    "\n",
    "# Plot the second image\n",
    "final = res_prototype.cf[\"X\"].reshape(28, 28)\n",
    "axs[2].imshow(np.array(final).astype(np.float32).reshape(28, 28), cmap=\"binary\")\n",
    "axs[2].set_title(\n",
    "    \"New image\",\n",
    ")\n",
    "axs[2].set_xlabel(\n",
    "    f'Classified as {predict_class(res_prototype.cf[\"X\"])} with\\nprobability {cnn.predict(res_prototype.cf[\"X\"]).max():.2f}'\n",
    ")\n",
    "\n",
    "\n",
    "for ax in axs:\n",
    "    ax.set_xticks([])\n",
    "    ax.set_yticks([])\n",
    "    ax.spines[\"top\"].set_visible(False)\n",
    "    ax.spines[\"right\"].set_visible(False)\n",
    "    ax.spines[\"bottom\"].set_visible(False)\n",
    "    ax.spines[\"left\"].set_visible(False)\n",
    "    ax.set_aspect(\"equal\")\n",
    "\n",
    "plt.tight_layout()\n",
    "fig.subplots_adjust(top=1.3)\n",
    "fig.subplots_adjust(right=0.9)\n",
    "fig.subplots_adjust(left=0.1)\n",
    "plt.savefig(\"../../figures/mnist_counterfactual_proto_example.eps\", bbox_inches=\"tight\")\n",
    "plt.show()"
   ]
  },
  {
   "cell_type": "markdown",
   "metadata": {},
   "source": [
    "## Novel Counterfactuals"
   ]
  },
  {
   "cell_type": "markdown",
   "metadata": {},
   "source": [
    "### Setup Modified Model with Reshape Layer"
   ]
  },
  {
   "cell_type": "code",
   "execution_count": null,
   "metadata": {},
   "outputs": [
    {
     "ename": "",
     "evalue": "",
     "output_type": "error",
     "traceback": [
      "\u001b[1;31mThe kernel failed to start as the Python Environment 'venv (Python 3.11.3)' is no longer available. Consider selecting another kernel or refreshing the list of Python Environments."
     ]
    }
   ],
   "source": [
    "pipeline_with_reshape = copy.copy(sklearn_pipeline)\n",
    "pipeline_with_reshape.steps.insert(\n",
    "    0, (\"reshape\", FunctionTransformer(lambda x: x.values.reshape(-1, 28, 28, 1)))\n",
    ")\n",
    "df = pd.DataFrame(x_train.reshape(-1, 28 * 28))\n",
    "df.columns = [f\"pixel_{i}\" for i in range(28 * 28)]\n",
    "df[\"target\"] = y_train[:, 1]\n",
    "pipeline_with_reshape[0].feature_names_in_ = df.columns[:-1]"
   ]
  },
  {
   "cell_type": "markdown",
   "metadata": {},
   "source": [
    "### Setup Explainer Object"
   ]
  },
  {
   "cell_type": "code",
   "execution_count": null,
   "metadata": {},
   "outputs": [
    {
     "ename": "",
     "evalue": "",
     "output_type": "error",
     "traceback": [
      "\u001b[1;31mThe kernel failed to start as the Python Environment 'venv (Python 3.11.3)' is no longer available. Consider selecting another kernel or refreshing the list of Python Environments."
     ]
    }
   ],
   "source": [
    "explainer = Explainer(\n",
    "    pipeline_with_reshape,\n",
    "    df,\n",
    "    \"target\",\n",
    "    regressor=\"linear\",\n",
    "    bounding_method=\"quantile\",\n",
    "    probability_prediction_function=lambda x: pipeline_with_reshape.predict(x).reshape(\n",
    "        -1, 2\n",
    "    ),\n",
    "    class_prediction_function=lambda x: (pipeline_with_reshape.predict(x).argmax()),\n",
    ")"
   ]
  },
  {
   "cell_type": "markdown",
   "metadata": {},
   "source": [
    "### Run Stepped Example"
   ]
  },
  {
   "cell_type": "code",
   "execution_count": null,
   "metadata": {},
   "outputs": [
    {
     "ename": "",
     "evalue": "",
     "output_type": "error",
     "traceback": [
      "\u001b[1;31mThe kernel failed to start as the Python Environment 'venv (Python 3.11.3)' is no longer available. Consider selecting another kernel or refreshing the list of Python Environments."
     ]
    }
   ],
   "source": [
    "results = []\n",
    "for additional_threshold in [-0.25, 0, 0.4999999]:\n",
    "    results.append(\n",
    "        explainer.explain(\n",
    "            df.iloc[1],\n",
    "            additional_threshold=additional_threshold,\n",
    "            store_historical_times=True,\n",
    "        )\n",
    "    )"
   ]
  },
  {
   "cell_type": "markdown",
   "metadata": {},
   "source": [
    "### Run \"Many\" Examples"
   ]
  },
  {
   "cell_type": "code",
   "execution_count": null,
   "metadata": {},
   "outputs": [
    {
     "ename": "",
     "evalue": "",
     "output_type": "error",
     "traceback": [
      "\u001b[1;31mThe kernel failed to start as the Python Environment 'venv (Python 3.11.3)' is no longer available. Consider selecting another kernel or refreshing the list of Python Environments."
     ]
    }
   ],
   "source": [
    "many_results = []\n",
    "for i in range(2, 10):\n",
    "    many_results.append(\n",
    "        (\n",
    "            df.iloc[i],\n",
    "            explainer.explain(\n",
    "                df.iloc[i],\n",
    "                additional_threshold=0.4999,\n",
    "                store_historical_times=True,\n",
    "            ),\n",
    "        )\n",
    "    )"
   ]
  },
  {
   "cell_type": "markdown",
   "metadata": {},
   "source": [
    "### Plotting Helper Functions"
   ]
  },
  {
   "cell_type": "code",
   "execution_count": null,
   "metadata": {},
   "outputs": [
    {
     "ename": "",
     "evalue": "",
     "output_type": "error",
     "traceback": [
      "\u001b[1;31mThe kernel failed to start as the Python Environment 'venv (Python 3.11.3)' is no longer available. Consider selecting another kernel or refreshing the list of Python Environments."
     ]
    }
   ],
   "source": [
    "def plot_with_changes_highlighted(\n",
    "    ax, original, result_object, initial_classification, fontsize=36\n",
    "):\n",
    "    new = result_object[1].explanation_point\n",
    "\n",
    "    new[result_object[1].explainable_variable] = result_object[1].get_arg_extrema(\n",
    "        initial_classification=initial_classification\n",
    "    )\n",
    "    new = np.array(new).astype(np.float32)\n",
    "\n",
    "    if type(original) is not np.ndarray:\n",
    "        original = np.array(original).astype(np.float32)\n",
    "\n",
    "    new_unchanged = new.copy()\n",
    "    new_larger = new.copy()\n",
    "    new_smaller = new.copy()\n",
    "\n",
    "    new_unchanged[original != new] = np.nan  # Only plot if it's the same\n",
    "    new_larger[original >= new] = np.nan  # Only plot if it's larger\n",
    "    new_smaller[original <= new] = np.nan  # Only plot if it's smaller\n",
    "\n",
    "    ax.imshow(\n",
    "        np.array(new_unchanged[:-1]).reshape(28, 28), cmap=\"binary\", vmin=-0.5, vmax=0.5\n",
    "    )\n",
    "\n",
    "    ax.imshow(\n",
    "        np.array(new_larger[:-1]).reshape(28, 28), cmap=\"Greens\", vmin=-0.5, vmax=0.5\n",
    "    )\n",
    "\n",
    "    ax.imshow(\n",
    "        np.array(new_smaller[:-1]).reshape(28, 28), cmap=\"Reds\", vmin=-0.5, vmax=0.5\n",
    "    )\n",
    "\n",
    "    def highlight_cell(x, y, ax, color):\n",
    "        ax.add_patch(\n",
    "            plt.Rectangle((x - 0.5, y - 0.5), 1, 1, fill=False, edgecolor=color, lw=2)\n",
    "        )\n",
    "\n",
    "    for i in range(28):\n",
    "        for j in range(28):\n",
    "            if not np.isnan(new_larger[i * 28 + j]):\n",
    "                highlight_cell(j, i, ax, \"g\")\n",
    "            if not np.isnan(new_smaller[i * 28 + j]):\n",
    "                highlight_cell(j, i, ax, \"r\")\n",
    "\n",
    "    ax.set_xlabel(\n",
    "        f\"Classified as {result_object[1].class_prediction_function(pd.DataFrame(new[:-1]).T)} with\\nprobability {result_object[1].probability_prediction_function(pd.DataFrame(new[:-1]).T).max():.5f}\",\n",
    "        fontsize=fontsize,\n",
    "    )\n",
    "\n",
    "    return new\n",
    "\n",
    "\n",
    "def plot_arrow(ax):\n",
    "    ax.arrow(x=0.25, y=0.5, dx=0.5, dy=0, width=0.1, color=\"k\")\n",
    "    ax.set_ylim([0, 1])"
   ]
  },
  {
   "cell_type": "markdown",
   "metadata": {},
   "source": [
    "### Plotting Results"
   ]
  },
  {
   "cell_type": "markdown",
   "metadata": {},
   "source": [
    "#### Many Results Example"
   ]
  },
  {
   "cell_type": "code",
   "execution_count": null,
   "metadata": {},
   "outputs": [
    {
     "ename": "",
     "evalue": "",
     "output_type": "error",
     "traceback": [
      "\u001b[1;31mThe kernel failed to start as the Python Environment 'venv (Python 3.11.3)' is no longer available. Consider selecting another kernel or refreshing the list of Python Environments."
     ]
    }
   ],
   "source": [
    "fig, axs = plt.subplots(4, 6, figsize=(12, 12))\n",
    "plt.suptitle('Example \"Tuneable\" counterfactuals', weight=\"bold\", fontsize=16)\n",
    "\n",
    "for i, (initial, result) in enumerate(many_results):\n",
    "    row_index = int(i / 2)\n",
    "    col_index = 3 * (i % 2)\n",
    "    axs[row_index, col_index].imshow(\n",
    "        np.array(initial[:-1]).astype(np.float32).reshape(28, 28),\n",
    "        cmap=\"binary\",\n",
    "    )\n",
    "    axs[row_index, col_index].set_title(\"Original image\")\n",
    "    axs[row_index, col_index].set_xlabel(\n",
    "        f\"Classified as {result[1].class_prediction_function(pd.DataFrame(initial[:-1]).T)} with\\nprobability {result[1].probability_prediction_function(pd.DataFrame(initial[:-1]).T).max():.5f}\",\n",
    "    )\n",
    "\n",
    "    plot_with_changes_highlighted(\n",
    "        axs[row_index, col_index + 2],\n",
    "        initial,\n",
    "        result,\n",
    "        initial_classification=result[1].class_prediction_function(\n",
    "            pd.DataFrame(initial[:-1]).T\n",
    "        ),\n",
    "        fontsize=None,\n",
    "    )\n",
    "    axs[row_index, col_index + 2].set_title(\"Counterfactual image\")\n",
    "    axs[row_index, col_index].set_xticks([])\n",
    "    axs[row_index, col_index].set_yticks([])\n",
    "    axs[row_index, col_index + 2].set_xticks([])\n",
    "    axs[row_index, col_index + 2].set_yticks([])\n",
    "    axs[row_index, col_index + 1].axis(\"off\")\n",
    "\n",
    "    # Set border to white\n",
    "    for ax in [axs[row_index, col_index], axs[row_index, col_index + 2]]:\n",
    "        ax.spines[\"top\"].set_visible(False)\n",
    "        ax.spines[\"right\"].set_visible(False)\n",
    "        ax.spines[\"bottom\"].set_visible(False)\n",
    "        ax.spines[\"left\"].set_visible(False)\n",
    "\n",
    "    # Draw arrows between the plots\n",
    "    plot_arrow(axs[row_index, col_index + 1])\n",
    "\n",
    "plt.tight_layout()\n",
    "plt.savefig(\n",
    "    \"../../figures/mnist_counterfactual_tuneable_example_many.eps\", bbox_inches=\"tight\"\n",
    ")"
   ]
  },
  {
   "cell_type": "markdown",
   "metadata": {},
   "source": [
    "#### Step-by-Step Example"
   ]
  },
  {
   "cell_type": "code",
   "execution_count": null,
   "metadata": {},
   "outputs": [
    {
     "ename": "",
     "evalue": "",
     "output_type": "error",
     "traceback": [
      "\u001b[1;31mThe kernel failed to start as the Python Environment 'venv (Python 3.11.3)' is no longer available. Consider selecting another kernel or refreshing the list of Python Environments."
     ]
    }
   ],
   "source": [
    "n = len(results)\n",
    "subplots = 2 * n + 1\n",
    "res = 8\n",
    "fig, axs = plt.subplots(1, subplots, figsize=(res * subplots, res))\n",
    "plt.suptitle(\"Example counterfactual explanation\\n\\n\", weight=\"bold\", fontsize=48)\n",
    "\n",
    "initial_classification = results[0][1].class_prediction_function(\n",
    "    pd.DataFrame(np.array(df.iloc[1]).astype(np.float32)[:-1]).T\n",
    ")\n",
    "\n",
    "axs[0].imshow(\n",
    "    np.array(df.iloc[1][:-1]).astype(np.float32).reshape(28, 28),\n",
    "    cmap=\"binary\",\n",
    ")\n",
    "axs[0].set_title(\"Original image\", fontsize=24)\n",
    "axs[0].set_xlabel(\n",
    "    f\"Classified as {initial_classification} with\\nprobability {results[0][1].probability_prediction_function(pd.DataFrame(np.array(df.iloc[1]).astype(np.float32)[:-1]).T).max():.2f}\",\n",
    "    fontsize=36,\n",
    ")\n",
    "\n",
    "axs[0].set_xticks([])\n",
    "axs[0].set_yticks([])\n",
    "for spine in axs[0].spines:\n",
    "    axs[0].spines[spine].set_visible(False)\n",
    "\n",
    "working_new = df.iloc[1]\n",
    "for i in range(1, subplots - 1, 2):\n",
    "    plot_arrow(axs[i])\n",
    "    working_new = plot_with_changes_highlighted(\n",
    "        axs[i + 1],\n",
    "        working_new,\n",
    "        results[i // 2],\n",
    "        initial_classification=initial_classification,\n",
    "    )\n",
    "    axs[i + 1].set_title(f\"Iteration {i//2 + 1}\", fontsize=24)\n",
    "    for ax in [axs[i], axs[i + 1]]:\n",
    "        ax.set_xticks([])\n",
    "        ax.set_yticks([])\n",
    "        for spine in ax.spines:\n",
    "            ax.spines[spine].set_visible(False)\n",
    "\n",
    "plt.savefig(\"../../figures/mnist_counterfactual_example.eps\", bbox_inches=\"tight\")\n",
    "plt.savefig(\"../../figures/mnist_counterfactual_example.png\", bbox_inches=\"tight\")"
   ]
  },
  {
   "cell_type": "markdown",
   "metadata": {},
   "source": [
    "#### Generation Statistics Plot "
   ]
  },
  {
   "cell_type": "code",
   "execution_count": null,
   "metadata": {},
   "outputs": [
    {
     "ename": "",
     "evalue": "",
     "output_type": "error",
     "traceback": [
      "\u001b[1;31mThe kernel failed to start as the Python Environment 'venv (Python 3.11.3)' is no longer available. Consider selecting another kernel or refreshing the list of Python Environments."
     ]
    }
   ],
   "source": [
    "overall_result = results[-1]"
   ]
  },
  {
   "cell_type": "code",
   "execution_count": null,
   "metadata": {},
   "outputs": [
    {
     "ename": "",
     "evalue": "",
     "output_type": "error",
     "traceback": [
      "\u001b[1;31mThe kernel failed to start as the Python Environment 'venv (Python 3.11.3)' is no longer available. Consider selecting another kernel or refreshing the list of Python Environments."
     ]
    }
   ],
   "source": [
    "initial_point = df.iloc[1][:-1]\n",
    "initial_classification = int(\n",
    "    results[0][1].class_prediction_function(pd.DataFrame(initial_point).T)\n",
    ")\n",
    "working_point = initial_point.copy()\n",
    "probabilities = [\n",
    "    results[0][1].probability_prediction_function(pd.DataFrame(initial_point).T)[:, 1]\n",
    "]\n",
    "for feature in overall_result[0]:\n",
    "    sve = SingleVariableExplainer(\n",
    "        pipeline_with_reshape,\n",
    "        \"target\",\n",
    "        feature,\n",
    "        working_point,\n",
    "        training_dataset=df,\n",
    "        regressor=\"linear\",\n",
    "        bounding_method=\"quantile\",\n",
    "        class_prediction_function=lambda x: pipeline_with_reshape.predict(x).argmax(),\n",
    "        probability_prediction_function=lambda x: pipeline_with_reshape.predict(\n",
    "            x\n",
    "        ).reshape(-1, 2),\n",
    "    )\n",
    "    working_point[feature] = sve.get_arg_extrema(\n",
    "        initial_classification=initial_classification\n",
    "    )\n",
    "    probabilities.append(\n",
    "        results[0][1].probability_prediction_function(pd.DataFrame(working_point).T)[\n",
    "            :, 1\n",
    "        ]\n",
    "    )\n",
    "\n",
    "probabilities = [(1 - x[0]) for x in probabilities]\n",
    "step_time = pd.DataFrame(overall_result[-1]).diff().values.flatten()\n",
    "scores = overall_result[3]"
   ]
  },
  {
   "cell_type": "code",
   "execution_count": null,
   "metadata": {},
   "outputs": [
    {
     "ename": "",
     "evalue": "",
     "output_type": "error",
     "traceback": [
      "\u001b[1;31mThe kernel failed to start as the Python Environment 'venv (Python 3.11.3)' is no longer available. Consider selecting another kernel or refreshing the list of Python Environments."
     ]
    }
   ],
   "source": [
    "fig, ax = plt.subplots(1, 1, figsize=(9, 6))\n",
    "ax.plot(probabilities, \"o-\", linewidth=2, markersize=6, color=\"C0\", alpha=0.8)\n",
    "\n",
    "twin_ax = ax.twinx()\n",
    "twin_ax.plot(step_time, \"o-\", linewidth=2, markersize=6, color=\"C1\", alpha=0.8)\n",
    "\n",
    "twin_ax_2 = ax.twinx()\n",
    "twin_ax_2.plot(scores, \"o-\", linewidth=2, markersize=6, color=\"C2\", alpha=0.8)\n",
    "\n",
    "twin_ax_2.spines[\"left\"].set_position((\"axes\", -0.15))\n",
    "twin_ax_2.spines[\"left\"].set_visible(True)\n",
    "\n",
    "twin_ax_2.yaxis.set_label_position(\"left\")\n",
    "twin_ax_2.yaxis.set_ticks_position(\"left\")\n",
    "\n",
    "ax.set_xlabel(\"Iteration\", fontsize=12)\n",
    "ax.set_ylabel(\"Class 0 Probability\", fontsize=12)\n",
    "twin_ax.set_ylabel(\"Time for each step of the method (s) \", fontsize=12)\n",
    "twin_ax_2.set_ylabel(\"Score of explainer\", fontsize=12)\n",
    "\n",
    "ax.tick_params(axis=\"both\", which=\"major\", labelsize=12)\n",
    "twin_ax.tick_params(axis=\"both\", which=\"major\", labelsize=12)\n",
    "twin_ax_2.tick_params(axis=\"both\", which=\"major\", labelsize=12)\n",
    "\n",
    "fit_train_x = np.arange(len(step_time[1:]))\n",
    "fit_train_y = step_time[1:]\n",
    "\n",
    "gpr = SVR()\n",
    "gpr.fit(fit_train_x.reshape(-1, 1), fit_train_y)\n",
    "gpr_y_pred = gpr.predict(fit_train_x.reshape(-1, 1))\n",
    "\n",
    "twin_ax.plot(fit_train_x + 1, gpr_y_pred, \"--\", linewidth=2, color=\"C1\", alpha=0.8)\n",
    "\n",
    "twin_ax.spines[\"left\"].set_color(\"C0\")\n",
    "twin_ax.spines[\"right\"].set_color(\"C1\")\n",
    "ax.yaxis.label.set_color(\"C0\")\n",
    "ax.tick_params(axis=\"y\", colors=\"C0\")\n",
    "twin_ax.yaxis.label.set_color(\"C1\")\n",
    "twin_ax.tick_params(axis=\"y\", colors=\"C1\")\n",
    "twin_ax_2.spines[\"left\"].set_color(\"C2\")\n",
    "twin_ax_2.yaxis.label.set_color(\"C2\")\n",
    "twin_ax_2.tick_params(axis=\"y\", colors=\"C2\")\n",
    "\n",
    "ax.set_zorder(twin_ax_2.get_zorder() + 2)\n",
    "twin_ax.set_zorder(twin_ax_2.get_zorder() + 1)\n",
    "ax.set_facecolor(\"none\")\n",
    "\n",
    "ax.set_title(\"Counterfactual explanation of a single image\", fontsize=18)\n",
    "plt.tight_layout()\n",
    "plt.savefig(\n",
    "    \"../../figures/mnist_counterfactual_example_time_scores.eps\", bbox_inches=\"tight\"\n",
    ")"
   ]
  },
  {
   "cell_type": "markdown",
   "metadata": {},
   "source": [
    "#### Overall Single Example"
   ]
  },
  {
   "cell_type": "code",
   "execution_count": null,
   "metadata": {},
   "outputs": [
    {
     "ename": "",
     "evalue": "",
     "output_type": "error",
     "traceback": [
      "\u001b[1;31mThe kernel failed to start as the Python Environment 'venv (Python 3.11.3)' is no longer available. Consider selecting another kernel or refreshing the list of Python Environments."
     ]
    }
   ],
   "source": [
    "fig, ax = plt.subplots(1, 3, figsize=(27, 9))\n",
    "ax[0].imshow(\n",
    "    np.array(df.iloc[1][:-1]).astype(np.float32).reshape(28, 28),\n",
    "    cmap=\"binary\",\n",
    ")\n",
    "ax[0].set_title(\"Original image\", fontsize=36)\n",
    "ax[0].set_xlabel(\n",
    "    f\"Classified as {pipeline_with_reshape.predict(df.iloc[1][:-1]).argmax()} with\\nprobability {pipeline_with_reshape.predict(df.iloc[1][:-1]).reshape(-1, 2).max():.3f}\",\n",
    "    fontsize=36,\n",
    ")\n",
    "\n",
    "plot_arrow(ax[1])\n",
    "_ = plot_with_changes_highlighted(\n",
    "    ax[2],\n",
    "    df.iloc[1],\n",
    "    overall_result,\n",
    "    initial_classification=pipeline_with_reshape.predict(df.iloc[1][:-1]).argmax(),\n",
    ")\n",
    "ax[2].set_title(\"Final image\", fontsize=36)\n",
    "\n",
    "for a in ax:\n",
    "    a.set_xticks([])\n",
    "    a.set_yticks([])\n",
    "    for spine in a.spines:\n",
    "        a.spines[spine].set_visible(False)\n",
    "\n",
    "plt.suptitle(\"Example counterfactual explanation\\n\\n\", weight=\"bold\", fontsize=48)\n",
    "\n",
    "plt.savefig(\n",
    "    \"../../figures/overall_mnist_counterfactual_example.eps\", bbox_inches=\"tight\"\n",
    ")\n",
    "plt.savefig(\n",
    "    \"../../figures/overall_mnist_counterfactual_example.png\", bbox_inches=\"tight\"\n",
    ")"
   ]
  },
  {
   "cell_type": "markdown",
   "metadata": {},
   "source": [
    "### Scoring Functions"
   ]
  },
  {
   "cell_type": "markdown",
   "metadata": {},
   "source": [
    "#### Setup Scores "
   ]
  },
  {
   "cell_type": "code",
   "execution_count": null,
   "metadata": {},
   "outputs": [
    {
     "ename": "",
     "evalue": "",
     "output_type": "error",
     "traceback": [
      "\u001b[1;31mThe kernel failed to start as the Python Environment 'venv (Python 3.11.3)' is no longer available. Consider selecting another kernel or refreshing the list of Python Environments."
     ]
    }
   ],
   "source": [
    "scores = gaussian_filter(\n",
    "    ((df.iloc[1].values[:-1].astype(float).reshape(28, 28)) + 0.5), sigma=5\n",
    ").reshape(784)\n",
    "dict_scores = {x: y for x, y in zip(df.columns[:-1], scores) if y > 0.05}"
   ]
  },
  {
   "cell_type": "markdown",
   "metadata": {},
   "source": [
    "#### Setup Explainer Object"
   ]
  },
  {
   "cell_type": "code",
   "execution_count": null,
   "metadata": {},
   "outputs": [
    {
     "ename": "",
     "evalue": "",
     "output_type": "error",
     "traceback": [
      "\u001b[1;31mThe kernel failed to start as the Python Environment 'venv (Python 3.11.3)' is no longer available. Consider selecting another kernel or refreshing the list of Python Environments."
     ]
    }
   ],
   "source": [
    "explainer_scoring = Explainer(\n",
    "    pipeline_with_reshape,\n",
    "    df,\n",
    "    \"target\",\n",
    "    regressor=\"linear\",\n",
    "    bounding_method=\"minmax\",\n",
    "    changeability_scores=dict_scores,\n",
    "    override_variable_bounds=(-0.5, 0.5),\n",
    "    probability_prediction_function=lambda x: pipeline_with_reshape.predict(x).reshape(\n",
    "        -1, 2\n",
    "    ),\n",
    "    class_prediction_function=lambda x: pipeline_with_reshape.predict(x).argmax(),\n",
    ")"
   ]
  },
  {
   "cell_type": "markdown",
   "metadata": {},
   "source": [
    "#### Generate the explanation"
   ]
  },
  {
   "cell_type": "code",
   "execution_count": null,
   "metadata": {},
   "outputs": [
    {
     "ename": "",
     "evalue": "",
     "output_type": "error",
     "traceback": [
      "\u001b[1;31mThe kernel failed to start as the Python Environment 'venv (Python 3.11.3)' is no longer available. Consider selecting another kernel or refreshing the list of Python Environments."
     ]
    }
   ],
   "source": [
    "result_scoring = explainer_scoring.explain(\n",
    "    df.iloc[1],\n",
    "    additional_threshold=0.4999999,\n",
    "    store_historical_times=True,\n",
    ")"
   ]
  },
  {
   "cell_type": "markdown",
   "metadata": {},
   "source": [
    "#### Plot Results"
   ]
  },
  {
   "cell_type": "code",
   "execution_count": null,
   "metadata": {},
   "outputs": [
    {
     "ename": "",
     "evalue": "",
     "output_type": "error",
     "traceback": [
      "\u001b[1;31mThe kernel failed to start as the Python Environment 'venv (Python 3.11.3)' is no longer available. Consider selecting another kernel or refreshing the list of Python Environments."
     ]
    }
   ],
   "source": [
    "fig, axs = plt.subplots(3, 3)\n",
    "plt.suptitle(\"Example usage of Changeability Scores for Image Recognition\")\n",
    "\n",
    "# Initial Image\n",
    "axs[0, 0].imshow(\n",
    "    np.array(df.iloc[1][:-1]).astype(np.float32).reshape(28, 28),\n",
    "    cmap=\"binary\",\n",
    ")\n",
    "axs[0, 0].set_title(\"Original Image\")\n",
    "axs[0, 0].set_xlabel(\n",
    "    f\"Classified as {pipeline_with_reshape.predict(df.iloc[2][:-1]).argmax()} with\\nprobability {pipeline_with_reshape.predict(df.iloc[2][:-1]).reshape(-1, 2).max():.3f}\"\n",
    ")\n",
    "\n",
    "# Blur Image\n",
    "blurred = gaussian_filter(\n",
    "    (np.array(df.iloc[1][:-1]).astype(np.float32).reshape(28, 28) + 0.5),\n",
    "    sigma=5,\n",
    ")\n",
    "axs[2, 0].imshow(blurred, cmap=\"Greens\")\n",
    "axs[2, 0].set_title(\"Blurred Image\")\n",
    "axs[2, 0].set_xlabel(\"Used in generating\\nchangeability scores\")\n",
    "\n",
    "# Changeability Scores\n",
    "blurred[blurred <= 0.05] = 0\n",
    "axs[2, 2].imshow(blurred, cmap=\"Greens\")\n",
    "axs[2, 2].set_title(\"Changeability Scores\")\n",
    "axs[2, 2].set_xlabel('Generated by \"clipping\"\\nthe blurred image')\n",
    "\n",
    "# Result\n",
    "final = result_scoring[1].explanation_point\n",
    "final[result_scoring[1].explainable_variable] = result_scoring[1].get_arg_extrema()\n",
    "axs[0, 2].imshow(np.array(final[:-1]).astype(np.float32).reshape(28, 28), cmap=\"binary\")\n",
    "axs[0, 2].set_title(\"Result\")\n",
    "axs[0, 2].set_xlabel(\n",
    "    f\"Classified as {pipeline_with_reshape.predict(final[:-1]).argmax()} with\\nprobability {pipeline_with_reshape.predict(final[:-1]).reshape(-1, 2).max():.3f}\"\n",
    ")\n",
    "\n",
    "axs[0, 1].arrow(x=0.25, y=0.5, dx=0.5, dy=0, width=0.1, color=\"k\")\n",
    "axs[0, 1].set_ylim([0, 1])\n",
    "\n",
    "axs[2, 1].arrow(x=0.25, y=0.5, dx=0.5, dy=0, width=0.1, color=\"green\")\n",
    "axs[2, 1].set_ylim([0, 1])\n",
    "\n",
    "axs[1, 0].arrow(x=0.5, y=0.75, dx=0, dy=-0.5, width=0.1, color=\"green\")\n",
    "axs[1, 0].set_xlim([0, 1])\n",
    "\n",
    "axs[1, 2].arrow(x=0.5, y=0.25, dx=0, dy=0.5, width=0.1, color=\"green\")\n",
    "axs[1, 2].set_xlim([0, 1])\n",
    "\n",
    "for ax_t in axs:\n",
    "    for ax in ax_t:\n",
    "        ax.set_xticks([])\n",
    "        ax.set_yticks([])\n",
    "        ax.spines[\"top\"].set_visible(False)\n",
    "        ax.spines[\"right\"].set_visible(False)\n",
    "        ax.spines[\"bottom\"].set_visible(False)\n",
    "        ax.spines[\"left\"].set_visible(False)\n",
    "        ax.set_aspect(\"equal\")\n",
    "\n",
    "plt.tight_layout()\n",
    "# fig.subplots_adjust(top=1.5)\n",
    "fig.subplots_adjust(right=0.9)\n",
    "fig.subplots_adjust(left=0.1)\n",
    "\n",
    "plt.savefig(\"../../figures/mnist_changeability_example.eps\", bbox_inches=\"tight\")\n",
    "plt.show()"
   ]
  },
  {
   "cell_type": "code",
   "execution_count": null,
   "metadata": {},
   "outputs": [
    {
     "ename": "",
     "evalue": "",
     "output_type": "error",
     "traceback": [
      "\u001b[1;31mThe kernel failed to start as the Python Environment 'venv (Python 3.11.3)' is no longer available. Consider selecting another kernel or refreshing the list of Python Environments."
     ]
    }
   ],
   "source": [
    "fig, ax = plt.subplots(2, 3, figsize=(27, 27))\n",
    "ax[0, 0].imshow(\n",
    "    np.array(df.iloc[1][:-1]).astype(np.float32).reshape(28, 28),\n",
    "    cmap=\"binary\",\n",
    ")\n",
    "ax[0, 0].set_title(\"Original image\", fontsize=36)\n",
    "ax[0, 0].set_xlabel(\n",
    "    f\"Classified as {pipeline_with_reshape.predict(df.iloc[1][:-1]).argmax()} with\\nprobability {pipeline_with_reshape.predict(df.iloc[1][:-1]).reshape(-1, 2).max():.3f}\",\n",
    "    fontsize=36,\n",
    ")\n",
    "\n",
    "blurred = gaussian_filter(\n",
    "    np.array(df.iloc[1][:-1]).astype(np.float32).reshape(28, 28) + 0.5,\n",
    "    sigma=5,\n",
    ")\n",
    "\n",
    "red_blurred = blurred.copy()\n",
    "blurred[blurred <= 0.05] = np.nan\n",
    "blurred[\n",
    "    ((df.values.astype(float).max(axis=0) - df.values.astype(float).min(axis=0)) == 0)[\n",
    "        :-1\n",
    "    ].reshape(28, 28)\n",
    "] = np.nan\n",
    "\n",
    "red_blurred[\n",
    "    ((df.values.astype(float).max(axis=0) - df.values.astype(float).min(axis=0)) != 0)[\n",
    "        :-1\n",
    "    ].reshape(28, 28)\n",
    "    & (blurred > 0.05)\n",
    "] = np.nan\n",
    "\n",
    "ax[1, 0].imshow(blurred, cmap=\"Greens\")\n",
    "ax[1, 0].imshow(red_blurred, cmap=\"Reds\")\n",
    "ax[1, 0].set_title(\"Gaussian Scoring Function\", fontsize=36)\n",
    "ax[1, 0].set_xlabel(\n",
    "    \"Score of each pixel, red pixels cannot be\\nchanged, either due to a rounded score or\\nthe features only taking one value in the\\ntraining data\",\n",
    "    fontsize=28,\n",
    ")\n",
    "\n",
    "gs = ax[1, 2].get_gridspec()\n",
    "for a in ax[:, -1]:\n",
    "    a.remove()\n",
    "axbig = fig.add_subplot(gs[:, -1])\n",
    "\n",
    "ax[1, 1].arrow(x=0.25, y=0.5, dx=0.5, dy=0.25, width=0.1, color=\"k\")\n",
    "ax[1, 1].set_ylim([0, 1])\n",
    "ax[0, 1].arrow(x=0.25, y=0.5, dx=0.5, dy=-0.25, width=0.1, color=\"k\")\n",
    "ax[0, 1].set_ylim([0, 1])\n",
    "_ = plot_with_changes_highlighted(\n",
    "    axbig,\n",
    "    df.iloc[1],\n",
    "    result_scoring,\n",
    "    initial_classification=pipeline_with_reshape.predict(df.iloc[1][:-1]).argmax(),\n",
    ")\n",
    "axbig.set_title(\"Final counterfactual image\", fontsize=36)\n",
    "\n",
    "for b in ax:\n",
    "    for a in b:\n",
    "        a.set_xticks([])\n",
    "        a.set_yticks([])\n",
    "        for spine in a.spines:\n",
    "            a.spines[spine].set_visible(False)\n",
    "for a in [axbig]:\n",
    "    a.set_xticks([])\n",
    "    a.set_yticks([])\n",
    "    for spine in a.spines:\n",
    "        a.spines[spine].set_visible(False)\n",
    "\n",
    "\n",
    "plt.suptitle(\n",
    "    \"Example counterfactual explanation\\nWith Gaussian Scoring\\n\",\n",
    "    weight=\"bold\",\n",
    "    fontsize=48,\n",
    ")\n",
    "plt.tight_layout()\n",
    "plt.savefig(\n",
    "    \"../../figures/overall_mnist_counterfactual_example.eps\", bbox_inches=\"tight\"\n",
    ")\n",
    "plt.savefig(\n",
    "    \"../../figures/overall_mnist_counterfactual_example.png\", bbox_inches=\"tight\"\n",
    ")"
   ]
  },
  {
   "cell_type": "markdown",
   "metadata": {},
   "source": [
    "## SHAP Explanations"
   ]
  },
  {
   "cell_type": "code",
   "execution_count": null,
   "metadata": {},
   "outputs": [
    {
     "ename": "",
     "evalue": "",
     "output_type": "error",
     "traceback": [
      "\u001b[1;31mThe kernel failed to start as the Python Environment 'venv (Python 3.11.3)' is no longer available. Consider selecting another kernel or refreshing the list of Python Environments."
     ]
    }
   ],
   "source": [
    "shap_explainer = shap.explainers.DeepExplainer(cnn, shap.sample(x_train, 1000))\n",
    "shap_explanation = shap_explainer.shap_values(x_train[1].reshape(1, 28, 28, 1))\n",
    "shap.image_plot(shap_explanation, x_train[1].reshape(1, 28, 28), show=False)\n",
    "plt.savefig(\"../../figures/mnist_shap_example.png\", bbox_inches=\"tight\")"
   ]
  },
  {
   "cell_type": "markdown",
   "metadata": {},
   "source": [
    "## Quantitative Evaluations"
   ]
  },
  {
   "cell_type": "markdown",
   "metadata": {},
   "source": [
    "### Novel Method"
   ]
  },
  {
   "cell_type": "code",
   "execution_count": null,
   "metadata": {},
   "outputs": [
    {
     "ename": "",
     "evalue": "",
     "output_type": "error",
     "traceback": [
      "\u001b[1;31mThe kernel failed to start as the Python Environment 'venv (Python 3.11.3)' is no longer available. Consider selecting another kernel or refreshing the list of Python Environments."
     ]
    }
   ],
   "source": [
    "explainer = Explainer(\n",
    "    pipeline_with_reshape,\n",
    "    df,\n",
    "    \"target\",\n",
    "    regressor=\"linear\",\n",
    "    bounding_method=\"quantile\",\n",
    "    probability_prediction_function=lambda x: pipeline_with_reshape.predict(x).reshape(\n",
    "        -1, 2\n",
    "    ),\n",
    "    class_prediction_function=lambda x: (pipeline_with_reshape.predict(x).argmax()),\n",
    ")"
   ]
  },
  {
   "cell_type": "code",
   "execution_count": null,
   "metadata": {},
   "outputs": [
    {
     "ename": "",
     "evalue": "",
     "output_type": "error",
     "traceback": [
      "\u001b[1;31mThe kernel failed to start as the Python Environment 'venv (Python 3.11.3)' is no longer available. Consider selecting another kernel or refreshing the list of Python Environments."
     ]
    }
   ],
   "source": [
    "results_novel = {}\n",
    "random.seed(0)\n",
    "for i in tqdm(list(random.sample(range(len(df)), 50))):\n",
    "    results_novel[i] = explainer.explain(df.iloc[i], additional_threshold=0.25)"
   ]
  },
  {
   "cell_type": "code",
   "execution_count": null,
   "metadata": {},
   "outputs": [
    {
     "ename": "",
     "evalue": "",
     "output_type": "error",
     "traceback": [
      "\u001b[1;31mThe kernel failed to start as the Python Environment 'venv (Python 3.11.3)' is no longer available. Consider selecting another kernel or refreshing the list of Python Environments."
     ]
    }
   ],
   "source": [
    "to_eval = list(results_novel.keys())"
   ]
  },
  {
   "cell_type": "markdown",
   "metadata": {},
   "source": [
    "### Baseline Results "
   ]
  },
  {
   "cell_type": "code",
   "execution_count": null,
   "metadata": {},
   "outputs": [
    {
     "ename": "",
     "evalue": "",
     "output_type": "error",
     "traceback": [
      "\u001b[1;31mThe kernel failed to start as the Python Environment 'venv (Python 3.11.3)' is no longer available. Consider selecting another kernel or refreshing the list of Python Environments."
     ]
    }
   ],
   "source": [
    "results_baseline = {}\n",
    "for id in tqdm(to_eval):\n",
    "    results_baseline[id] = cf_baseline.explain(x_train[id].reshape(1, 28, 28, 1))"
   ]
  },
  {
   "cell_type": "markdown",
   "metadata": {},
   "source": [
    "### Prototype Results"
   ]
  },
  {
   "cell_type": "code",
   "execution_count": null,
   "metadata": {},
   "outputs": [
    {
     "ename": "",
     "evalue": "",
     "output_type": "error",
     "traceback": [
      "\u001b[1;31mThe kernel failed to start as the Python Environment 'venv (Python 3.11.3)' is no longer available. Consider selecting another kernel or refreshing the list of Python Environments."
     ]
    }
   ],
   "source": [
    "results_prototype = {}\n",
    "for id in tqdm(to_eval):\n",
    "    results_prototype[id] = cf_prototype.explain(x_train[id].reshape(1, 28, 28, 1))"
   ]
  },
  {
   "cell_type": "markdown",
   "metadata": {},
   "source": [
    "### Plotting"
   ]
  },
  {
   "cell_type": "code",
   "execution_count": null,
   "metadata": {},
   "outputs": [
    {
     "ename": "",
     "evalue": "",
     "output_type": "error",
     "traceback": [
      "\u001b[1;31mThe kernel failed to start as the Python Environment 'venv (Python 3.11.3)' is no longer available. Consider selecting another kernel or refreshing the list of Python Environments."
     ]
    }
   ],
   "source": [
    "baseline_L1_distances = []\n",
    "prototype_L1_distances = []\n",
    "novel_L1_distances = []\n",
    "\n",
    "baseline_L2_distances = []\n",
    "prototype_L2_distances = []\n",
    "novel_L2_distances = []\n",
    "\n",
    "baseline_features_changed = []\n",
    "prototype_features_changed = []\n",
    "novel_features_changed = []\n",
    "\n",
    "\n",
    "def calculate_l_k_norm(initial, final, k):\n",
    "    return (sum([abs(final[i] - initial[i]) ** k for i in range(len(initial))])) ** (\n",
    "        1 / k\n",
    "    )\n",
    "\n",
    "\n",
    "for data_id in results_novel.keys():\n",
    "    original_data = df.iloc[data_id].values[:-1]\n",
    "    baseline_counterfactual = (\n",
    "        results_baseline[data_id]\n",
    "        .data[\"cf\"][\"X\"][0]\n",
    "        .reshape(\n",
    "            784,\n",
    "        )\n",
    "    )\n",
    "    prototype_counterfactual = (\n",
    "        results_prototype[data_id]\n",
    "        .data[\"cf\"][\"X\"][0]\n",
    "        .reshape(\n",
    "            784,\n",
    "        )\n",
    "    )\n",
    "\n",
    "    novel_counterfactual = results_novel[data_id][1].explanation_point\n",
    "    novel_counterfactual[results_novel[data_id][1].explainable_variable] = (\n",
    "        results_novel[data_id][1].get_arg_extrema()\n",
    "    )\n",
    "    novel_counterfactual = novel_counterfactual.values[:-1]\n",
    "\n",
    "    baseline_L1_distances.append(\n",
    "        calculate_l_k_norm(original_data, baseline_counterfactual, 1)\n",
    "    )\n",
    "    prototype_L1_distances.append(\n",
    "        calculate_l_k_norm(original_data, prototype_counterfactual, 1)\n",
    "    )\n",
    "    novel_L1_distances.append(\n",
    "        calculate_l_k_norm(original_data, novel_counterfactual, 1)\n",
    "    )\n",
    "\n",
    "    baseline_L2_distances.append(\n",
    "        calculate_l_k_norm(original_data, baseline_counterfactual, 2)\n",
    "    )\n",
    "    prototype_L2_distances.append(\n",
    "        calculate_l_k_norm(original_data, prototype_counterfactual, 2)\n",
    "    )\n",
    "    novel_L2_distances.append(\n",
    "        calculate_l_k_norm(original_data, novel_counterfactual, 2)\n",
    "    )\n",
    "\n",
    "    baseline_features_changed.append(\n",
    "        sum(\n",
    "            [\n",
    "                1 if original_data[i] != baseline_counterfactual[i] else 0\n",
    "                for i in range(len(original_data))\n",
    "            ]\n",
    "        )\n",
    "    )\n",
    "    prototype_features_changed.append(\n",
    "        sum(\n",
    "            [\n",
    "                1 if original_data[i] != prototype_counterfactual[i] else 0\n",
    "                for i in range(len(original_data))\n",
    "            ]\n",
    "        )\n",
    "    )\n",
    "    novel_features_changed.append(\n",
    "        sum(\n",
    "            [\n",
    "                1 if original_data[i] != novel_counterfactual[i] else 0\n",
    "                for i in range(len(original_data))\n",
    "            ]\n",
    "        )\n",
    "    )"
   ]
  },
  {
   "cell_type": "code",
   "execution_count": null,
   "metadata": {},
   "outputs": [
    {
     "ename": "",
     "evalue": "",
     "output_type": "error",
     "traceback": [
      "\u001b[1;31mThe kernel failed to start as the Python Environment 'venv (Python 3.11.3)' is no longer available. Consider selecting another kernel or refreshing the list of Python Environments."
     ]
    }
   ],
   "source": [
    "fig, ax1 = plt.subplots()\n",
    "ax2 = ax1.twinx()\n",
    "\n",
    "ax1.violinplot(\n",
    "    [\n",
    "        np.log(np.array(baseline_L1_distances)),\n",
    "        np.log(np.array(prototype_L1_distances)),\n",
    "        np.log(np.array(novel_L1_distances)),\n",
    "    ],\n",
    "    showmeans=True,\n",
    "    positions=[1, 4, 7],\n",
    ")\n",
    "ax1.set_xticks([1.5, 4.5, 7.5], [\"Baseline\", \"Prototype\", \"Novel\"])\n",
    "ax1.set_yticks(np.log(np.array([10, 20, 50, 100, 200])), [10, 20, 50, 100, 200])\n",
    "\n",
    "ax2.plot([], [])\n",
    "ax2.violinplot(\n",
    "    [\n",
    "        np.log(np.array(baseline_L2_distances)),\n",
    "        np.log(np.array(prototype_L2_distances)),\n",
    "        np.log(np.array(novel_L2_distances)),\n",
    "    ],\n",
    "    showmeans=True,\n",
    "    positions=[2, 5, 8],\n",
    ")\n",
    "ax2.set_yticks(np.log(np.array([1, 2, 5, 10])), [1, 2, 5, 10])\n",
    "\n",
    "\n",
    "ax1.set_ylabel(\"L1 distance\")\n",
    "ax1.yaxis.label.set_color(\"C0\")\n",
    "ax1.yaxis.set_tick_params(color=\"C0\", labelcolor=\"C0\")\n",
    "\n",
    "ax2.set_ylabel(\"L2 distance\")\n",
    "ax2.yaxis.label.set_color(\"C1\")\n",
    "ax2.yaxis.set_tick_params(color=\"C1\", labelcolor=\"C1\")\n",
    "\n",
    "ax3 = ax1.twinx()\n",
    "ax3.plot([], [], label=\"L1 distance\", color=\"C0\")\n",
    "ax3.plot([], [], label=\"L2 distance\", color=\"C1\")\n",
    "\n",
    "ax1.set_xlabel(\"Method for generating counterfactuals\")\n",
    "\n",
    "ax3.legend()\n",
    "ax3.set_yticks([])\n",
    "\n",
    "plt.title(\"L1 and L2 distances between\\noriginal and counterfactual data points\\n\")\n",
    "plt.tight_layout()\n",
    "\n",
    "plt.savefig(\"../../figures/counterfactual_distances.pdf\")"
   ]
  },
  {
   "cell_type": "code",
   "execution_count": null,
   "metadata": {},
   "outputs": [
    {
     "ename": "",
     "evalue": "",
     "output_type": "error",
     "traceback": [
      "\u001b[1;31mThe kernel failed to start as the Python Environment 'venv (Python 3.11.3)' is no longer available. Consider selecting another kernel or refreshing the list of Python Environments."
     ]
    }
   ],
   "source": [
    "plt.violinplot(\n",
    "    [\n",
    "        np.log(np.array(baseline_features_changed)),\n",
    "        np.log(np.array(prototype_features_changed)),\n",
    "        np.log(np.array(novel_features_changed)),\n",
    "    ],\n",
    "    showmeans=True,\n",
    ")\n",
    "\n",
    "plt.xticks([1, 2, 3], [\"Baseline\", \"Prototype\", \"Novel\"])\n",
    "plt.yticks(np.log(np.array([10, 100, 1000])), [10, 100, 1000])\n",
    "plt.ylabel(\"Number of features changed\")\n",
    "plt.xlabel(\"Method for generating counterfactuals\")\n",
    "plt.title(\n",
    "    \"Number of features changed between\\noriginal and counterfactual data points\\n\"\n",
    ")\n",
    "plt.tight_layout()\n",
    "plt.savefig(\"../../figures/counterfactual_features_changed.pdf\")"
   ]
  },
  {
   "cell_type": "code",
   "execution_count": null,
   "metadata": {},
   "outputs": [
    {
     "ename": "",
     "evalue": "",
     "output_type": "error",
     "traceback": [
      "\u001b[1;31mThe kernel failed to start as the Python Environment 'venv (Python 3.11.3)' is no longer available. Consider selecting another kernel or refreshing the list of Python Environments."
     ]
    }
   ],
   "source": []
  }
 ],
 "metadata": {
  "kernelspec": {
   "display_name": "venv",
   "language": "python",
   "name": "python3"
  },
  "language_info": {
   "codemirror_mode": {
    "name": "ipython",
    "version": 3
   },
   "file_extension": ".py",
   "mimetype": "text/x-python",
   "name": "python",
   "nbconvert_exporter": "python",
   "pygments_lexer": "ipython3",
   "version": "3.12.4"
  }
 },
 "nbformat": 4,
 "nbformat_minor": 2
}
