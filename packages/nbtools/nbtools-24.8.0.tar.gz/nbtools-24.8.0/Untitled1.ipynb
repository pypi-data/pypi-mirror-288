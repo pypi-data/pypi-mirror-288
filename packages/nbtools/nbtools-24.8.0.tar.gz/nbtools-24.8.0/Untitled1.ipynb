{
 "cells": [
  {
   "cell_type": "code",
   "execution_count": 3,
   "id": "b93f8279-e2d7-42fc-bf86-4a451cbc0c6f",
   "metadata": {
    "nbtools": {
     "force_display": true
    }
   },
   "outputs": [
    {
     "data": {
      "application/vnd.jupyter.widget-view+json": {
       "model_id": "76f91150c58a4bc5b03286aff10b8e06",
       "version_major": 2,
       "version_minor": 0
      },
      "text/plain": [
       "UIBuilder(children=(UIBuilderBase(accept_origins=['Testing'], collapse=True, form=InteractiveForm(children=(Fi…"
      ]
     },
     "metadata": {},
     "output_type": "display_data"
    }
   ],
   "source": [
    "import nbtools\n",
    "\n",
    "@nbtools.build_ui(accept_origins=['Testing'], parameters={\n",
    "    'bar': {\n",
    "        'type': 'file',\n",
    "        'kinds': ['gct', 'res']\n",
    "    }\n",
    "})\n",
    "def foo(bar):\n",
    "    pass"
   ]
  },
  {
   "cell_type": "code",
   "execution_count": 6,
   "id": "4755306a-cbdd-45fd-b7bb-a5dbca68bfe9",
   "metadata": {
    "nbtools": {
     "force_display": true
    }
   },
   "outputs": [
    {
     "data": {
      "application/vnd.jupyter.widget-view+json": {
       "model_id": "0e700abff0f44a6bb5d6a96e89116a0b",
       "version_major": 2,
       "version_minor": 0
      },
      "text/plain": [
       "UIBuilder(children=(UIBuilderBase(collapse=True, form=InteractiveForm(children=(NumberFormInput(value='', chil…"
      ]
     },
     "metadata": {},
     "output_type": "display_data"
    }
   ],
   "source": [
    "import nbtools\n",
    "\n",
    "@nbtools.build_ui(parameters={\n",
    "    'bar': {\n",
    "        'type': 'number',\n",
    "        'max': 10\n",
    "    }\n",
    "})\n",
    "def foo(bar):\n",
    "    print(bar)"
   ]
  },
  {
   "cell_type": "code",
   "execution_count": 5,
   "id": "4ff05afa-589f-42a5-a4b7-ca37e2589abb",
   "metadata": {
    "nbtools": {
     "force_display": true
    }
   },
   "outputs": [
    {
     "data": {
      "application/vnd.jupyter.widget-view+json": {
       "model_id": "b3f5177507654750a575a3072cfa3c07",
       "version_major": 2,
       "version_minor": 0
      },
      "text/plain": [
       "UIOutput(appendix=VBox(), files=[('http://foo.com/download/abcd1234efgh5678', 'equal.gct', 'tabular'), 'foobar…"
      ]
     },
     "execution_count": 5,
     "metadata": {},
     "output_type": "execute_result"
    }
   ],
   "source": [
    "nbtools.UIOutput(files=[('http://foo.com/download/abcd1234efgh5678', 'equal.gct', 'tabular'), 'foobar.txt'])"
   ]
  },
  {
   "cell_type": "markdown",
   "id": "fc403257-7e68-4418-96d4-a1144a955a7d",
   "metadata": {},
   "source": [
    "[hello](#Hello)"
   ]
  },
  {
   "cell_type": "code",
   "execution_count": null,
   "id": "08777087-23d6-46b6-92ed-8ab69204d7e5",
   "metadata": {},
   "outputs": [],
   "source": []
  },
  {
   "cell_type": "code",
   "execution_count": null,
   "id": "89dae293-40dd-461a-bb7e-dfe79eb3acec",
   "metadata": {},
   "outputs": [],
   "source": []
  },
  {
   "cell_type": "code",
   "execution_count": null,
   "id": "365890e3-31b8-4530-b0ed-6625ec9b0713",
   "metadata": {},
   "outputs": [],
   "source": []
  },
  {
   "cell_type": "code",
   "execution_count": null,
   "id": "1d1a3954-9284-4f29-a0fd-6035668fa9d5",
   "metadata": {},
   "outputs": [],
   "source": []
  },
  {
   "cell_type": "code",
   "execution_count": null,
   "id": "f90db941-c0cf-4cc9-a695-f5eb5edc916b",
   "metadata": {},
   "outputs": [],
   "source": []
  },
  {
   "cell_type": "code",
   "execution_count": null,
   "id": "fc23ad26-2ec6-403b-b2da-49a1e22d030f",
   "metadata": {},
   "outputs": [],
   "source": []
  },
  {
   "cell_type": "code",
   "execution_count": null,
   "id": "4d5af8c3-9e93-4822-8b6b-20f63fdd6328",
   "metadata": {},
   "outputs": [],
   "source": []
  },
  {
   "cell_type": "code",
   "execution_count": null,
   "id": "3dd402ce-3489-4db5-b32c-80cc61d8c36b",
   "metadata": {},
   "outputs": [],
   "source": []
  },
  {
   "cell_type": "code",
   "execution_count": null,
   "id": "e25611f7-3ae4-4b82-a50c-522eccd6b424",
   "metadata": {},
   "outputs": [],
   "source": []
  },
  {
   "cell_type": "code",
   "execution_count": null,
   "id": "536fdd07-7153-4975-a43c-1904cba66bd1",
   "metadata": {},
   "outputs": [],
   "source": []
  },
  {
   "cell_type": "markdown",
   "id": "17e31335-e70b-4e4c-bef5-c0750432b5c6",
   "metadata": {},
   "source": [
    "# Level 1 header in one cell"
   ]
  },
  {
   "cell_type": "code",
   "execution_count": null,
   "id": "99d10f1f-6ea0-490b-bd02-dde13d995ac0",
   "metadata": {},
   "outputs": [],
   "source": []
  }
 ],
 "metadata": {
  "GiN-version": "0.1.0a8",
  "kernelspec": {
   "display_name": "Python 3 (ipykernel)",
   "language": "python",
   "name": "python3"
  },
  "language_info": {
   "codemirror_mode": {
    "name": "ipython",
    "version": 3
   },
   "file_extension": ".py",
   "mimetype": "text/x-python",
   "name": "python",
   "nbconvert_exporter": "python",
   "pygments_lexer": "ipython3",
   "version": "3.9.16"
  },
  "widgets": {
   "application/vnd.jupyter.widget-state+json": {
    "state": {
     "005926feb45147a88431d33f7d1dfb84": {
      "model_module": "@jupyter-widgets/controls",
      "model_module_version": "2.0.0",
      "model_name": "ButtonModel",
      "state": {
       "_dom_classes": [
        "hidden"
       ],
       "description": "Run",
       "layout": "IPY_MODEL_39a3b271230041c4b32d0f07b30a6d77",
       "style": "IPY_MODEL_ef749d8c2cb1499d8505d8d822bbd0eb",
       "tooltip": null
      }
     },
     "008e5da2ab4b4e4aa94b10f2b2533cb9": {
      "model_module": "@jupyter-widgets/controls",
      "model_module_version": "2.0.0",
      "model_name": "TextModel",
      "state": {
       "layout": "IPY_MODEL_3a642c53df1f4898b3cdc99e99301a79",
       "style": "IPY_MODEL_171a3da3a67e4246a4a4438fbfc65211",
       "value": "1"
      }
     },
     "01fd6aa0c3724811ac5be0c824b5edcd": {
      "model_module": "@jupyter-widgets/base",
      "model_module_version": "2.0.0",
      "model_name": "LayoutModel",
      "state": {}
     },
     "02f998d5d9ec4a748244fae00b08ae1f": {
      "model_module": "@jupyter-widgets/output",
      "model_module_version": "1.0.0",
      "model_name": "OutputModel",
      "state": {
       "layout": "IPY_MODEL_69f1802c4e294ac785bd74cdedfb5099"
      }
     },
     "031f7dbee23b4a8c9be62004df8182f7": {
      "model_module": "@jupyter-widgets/controls",
      "model_module_version": "2.0.0",
      "model_name": "TextModel",
      "state": {
       "_dom_classes": [
        "nbtools-menu-attached"
       ],
       "layout": "IPY_MODEL_0c46669e8a804366b67e8685d6f7c50a",
       "style": "IPY_MODEL_a85d413be2ae4043978d86521c4c5875"
      }
     },
     "038b0e98043944b9be584493f3c7a89d": {
      "model_module": "@jupyter-widgets/controls",
      "model_module_version": "2.0.0",
      "model_name": "ButtonModel",
      "state": {
       "_dom_classes": [
        "hidden"
       ],
       "description": "Run",
       "layout": "IPY_MODEL_9cbeeeaf34e84a72b2fe72afa9df6674",
       "style": "IPY_MODEL_c0b1d5ed22564f21911fb01d3c15530a",
       "tooltip": null
      }
     },
     "03b02f04ce9f46d8b5fb0eadc14aafd3": {
      "model_module": "@jupyter-widgets/base",
      "model_module_version": "2.0.0",
      "model_name": "LayoutModel",
      "state": {
       "grid_area": "description",
       "width": "auto"
      }
     },
     "0474a013e75d4188ae13f6943fd6d349": {
      "model_module": "@jupyter-widgets/controls",
      "model_module_version": "2.0.0",
      "model_name": "LabelStyleModel",
      "state": {
       "description_width": "",
       "font_family": null,
       "font_size": null,
       "font_style": null,
       "font_variant": null,
       "font_weight": null,
       "text_color": null,
       "text_decoration": null
      }
     },
     "047b5ce2bf2d48d687b93e9439f5c3ed": {
      "model_module": "@jupyter-widgets/base",
      "model_module_version": "2.0.0",
      "model_name": "LayoutModel",
      "state": {}
     },
     "0597b7954c304e8b96384ec3af511434": {
      "model_module": "@jupyter-widgets/base",
      "model_module_version": "2.0.0",
      "model_name": "LayoutModel",
      "state": {}
     },
     "07ab66977d804b82b1bd9ed2bcbc5ed0": {
      "model_module": "@jupyter-widgets/controls",
      "model_module_version": "2.0.0",
      "model_name": "VBoxModel",
      "state": {
       "_dom_classes": [
        "widget-interact"
       ],
       "children": [
        "IPY_MODEL_baf6db2bc00f4dc6986c3f9a492e2c5d",
        "IPY_MODEL_ee038e8d1801466296f0ac2fed0e14c0",
        "IPY_MODEL_1a08af72e3c4497383fe501cec8c1d81"
       ],
       "layout": "IPY_MODEL_cea85810eb2647de9649c15a9b7f65e8"
      }
     },
     "09b82b9e364547479e6586046268f134": {
      "model_module": "@jupyter-widgets/controls",
      "model_module_version": "2.0.0",
      "model_name": "LabelStyleModel",
      "state": {
       "description_width": "",
       "font_family": null,
       "font_size": null,
       "font_style": null,
       "font_variant": null,
       "font_weight": null,
       "text_color": null,
       "text_decoration": null
      }
     },
     "0a993aafc0cb4fc8970947d2e837fcaa": {
      "model_module": "@jupyter-widgets/output",
      "model_module_version": "1.0.0",
      "model_name": "OutputModel",
      "state": {
       "layout": "IPY_MODEL_c7fa27915d454b859f6a339075951fea"
      }
     },
     "0bb8ca12afc648ad98536c5dfae590cc": {
      "model_module": "@jupyter-widgets/controls",
      "model_module_version": "2.0.0",
      "model_name": "TextStyleModel",
      "state": {
       "description_width": "",
       "font_size": null,
       "text_color": null
      }
     },
     "0c46669e8a804366b67e8685d6f7c50a": {
      "model_module": "@jupyter-widgets/base",
      "model_module_version": "2.0.0",
      "model_name": "LayoutModel",
      "state": {
       "grid_area": "input",
       "width": "auto"
      }
     },
     "0d72dd2851b04cce8af7995a76f36104": {
      "model_module": "@jupyter-widgets/controls",
      "model_module_version": "2.0.0",
      "model_name": "GridBoxModel",
      "state": {
       "_dom_classes": [
        "nbtools-input",
        "nbtools-numberinput",
        "required"
       ],
       "children": [
        "IPY_MODEL_bec265b5f7ec4d0e8862f03018992b64",
        "IPY_MODEL_f0fba93bbfa140539cb326dea5035ed9",
        "IPY_MODEL_4ca5536afcd24ad9beb59ab4267dddc4"
       ],
       "layout": "IPY_MODEL_caca4b3320664f8eadd06a35df44c292"
      }
     },
     "0d755a3021c8413d9e5d6773f02a2dc0": {
      "model_module": "@jupyter-widgets/controls",
      "model_module_version": "2.0.0",
      "model_name": "VBoxModel",
      "state": {
       "_dom_classes": [
        "widget-interact"
       ],
       "children": [
        "IPY_MODEL_75d29f951a5642c4822cd2156dd38053",
        "IPY_MODEL_adad7b0ffe3c493186d0f7e8085a721f"
       ],
       "layout": "IPY_MODEL_d05e7ddc6b7e4c1683bb24be43a386ba"
      }
     },
     "0e700abff0f44a6bb5d6a96e89116a0b": {
      "model_module": "@jupyter-widgets/controls",
      "model_module_version": "2.0.0",
      "model_name": "VBoxModel",
      "state": {
       "children": [
        "IPY_MODEL_38bb5c7898ac4510b469cff307e5a7e8",
        "IPY_MODEL_02f998d5d9ec4a748244fae00b08ae1f"
       ],
       "layout": "IPY_MODEL_e62bec1e18a84d5fb29e424d6ab84bba"
      }
     },
     "0fcf01bfb2b64b93b86e2dbf9a783c1f": {
      "model_module": "@jupyter-widgets/controls",
      "model_module_version": "2.0.0",
      "model_name": "VBoxModel",
      "state": {
       "_dom_classes": [
        "widget-interact"
       ],
       "children": [
        "IPY_MODEL_0d72dd2851b04cce8af7995a76f36104",
        "IPY_MODEL_038b0e98043944b9be584493f3c7a89d",
        "IPY_MODEL_33955e1e75b842fca72ee0be20c2fce8"
       ],
       "layout": "IPY_MODEL_f170f11fb09c4a52bfc30674e7e62ae2"
      }
     },
     "10ebcd96bad8449b829f4d8bc09a5722": {
      "model_module": "@jupyter-widgets/controls",
      "model_module_version": "2.0.0",
      "model_name": "LabelModel",
      "state": {
       "description": "output variable",
       "layout": "IPY_MODEL_3c0519c19c514c7199bb263d3c1e68d8",
       "style": "IPY_MODEL_81744bcadcae46b0b00cf69e38772981",
       "value": "output variable"
      }
     },
     "12fc26ef295543bd882ce735a765858c": {
      "model_module": "@jupyter-widgets/controls",
      "model_module_version": "2.0.0",
      "model_name": "LabelStyleModel",
      "state": {
       "description_width": "",
       "font_family": null,
       "font_size": null,
       "font_style": null,
       "font_variant": null,
       "font_weight": null,
       "text_color": null,
       "text_decoration": null
      }
     },
     "15bbbf94d1ad4bc983611d3052aa759b": {
      "model_module": "@jupyter-widgets/controls",
      "model_module_version": "2.0.0",
      "model_name": "VBoxModel",
      "state": {
       "_dom_classes": [
        "widget-interact"
       ],
       "children": [
        "IPY_MODEL_737abdbcc2784740b4253dd88c3c3c80",
        "IPY_MODEL_005926feb45147a88431d33f7d1dfb84",
        "IPY_MODEL_6985529be66340718919c5a8b4945f84"
       ],
       "layout": "IPY_MODEL_38cb683b51694dffb4628b2ed843dc87"
      }
     },
     "15ccd821dc844ddfafeb3700f1899822": {
      "model_module": "@g2nb/nbtools",
      "model_module_version": ">=23.7.0",
      "model_name": "UIBuilderModel",
      "state": {
       "_model_module_version": ">=23.7.0",
       "_parameters": [
        {
         "choices": {},
         "default": "",
         "description": "",
         "events": null,
         "hide": false,
         "id": null,
         "kinds": [
          "gct",
          "res"
         ],
         "label": "bar",
         "name": "bar",
         "optional": false,
         "type": "file",
         "value": ""
        },
        {
         "choices": {},
         "default": "",
         "description": "",
         "events": null,
         "hide": true,
         "id": null,
         "kinds": null,
         "label": "output variable",
         "name": "output_var",
         "optional": true,
         "type": "text",
         "value": ""
        }
       ],
       "_view_count": 1,
       "_view_module_version": ">=23.7.0",
       "accept_origins": [
        "Testing"
       ],
       "form": "IPY_MODEL_07ab66977d804b82b1bd9ed2bcbc5ed0",
       "layout": "IPY_MODEL_ea201a8b0fc3475d80b4100869175889",
       "name": "foo",
       "origin": "Notebook",
       "output": "IPY_MODEL_ffa14c81aaf0431484ac5eacd2354f9f",
       "output_var": ""
      }
     },
     "160b6bc59576473f9ba2d3e9b4d115ad": {
      "model_module": "@jupyter-widgets/controls",
      "model_module_version": "2.0.0",
      "model_name": "LabelStyleModel",
      "state": {
       "description_width": "",
       "font_family": null,
       "font_size": null,
       "font_style": null,
       "font_variant": null,
       "font_weight": null,
       "text_color": null,
       "text_decoration": null
      }
     },
     "171a3da3a67e4246a4a4438fbfc65211": {
      "model_module": "@jupyter-widgets/controls",
      "model_module_version": "2.0.0",
      "model_name": "TextStyleModel",
      "state": {
       "description_width": "",
       "font_size": null,
       "text_color": null
      }
     },
     "1761027c70e142e1a03d17b7ca0f0d99": {
      "model_module": "@jupyter-widgets/base",
      "model_module_version": "2.0.0",
      "model_name": "LayoutModel",
      "state": {}
     },
     "1a08af72e3c4497383fe501cec8c1d81": {
      "model_module": "@jupyter-widgets/controls",
      "model_module_version": "2.0.0",
      "model_name": "GridBoxModel",
      "state": {
       "_dom_classes": [
        "nbtools-input",
        "nbtools-textinput"
       ],
       "children": [
        "IPY_MODEL_3887ccabed21491d8b00a2b2099e3312",
        "IPY_MODEL_f1607e310b89483c88ff49d67b2f1886",
        "IPY_MODEL_fd8893a060464040b4102b76bedd51d1"
       ],
       "layout": "IPY_MODEL_a1b1cab978064220b27e2e7151a60a26"
      }
     },
     "1b721fce311f4c338b73bbdbb17c0979": {
      "model_module": "@jupyter-widgets/base",
      "model_module_version": "2.0.0",
      "model_name": "LayoutModel",
      "state": {
       "grid_area": "input",
       "width": "auto"
      }
     },
     "1c867f0d84194783b02fbfa48204ffbf": {
      "model_module": "@jupyter-widgets/base",
      "model_module_version": "2.0.0",
      "model_name": "LayoutModel",
      "state": {
       "grid_area": "description",
       "width": "auto"
      }
     },
     "1ef32ccb2c284cdda277e8f5959fed7f": {
      "model_module": "@jupyter-widgets/controls",
      "model_module_version": "2.0.0",
      "model_name": "VBoxModel",
      "state": {
       "_dom_classes": [
        "widget-interact"
       ],
       "children": [
        "IPY_MODEL_8bd8c99c7064448b9ffb8d7db6561669",
        "IPY_MODEL_0a993aafc0cb4fc8970947d2e837fcaa"
       ],
       "layout": "IPY_MODEL_34f971cca4e3408ab89b01ff429a74cf"
      }
     },
     "220b99ce1d8d458fb715eaa1bbf2e829": {
      "model_module": "@jupyter-widgets/controls",
      "model_module_version": "2.0.0",
      "model_name": "TextStyleModel",
      "state": {
       "description_width": "",
       "font_size": null,
       "text_color": null
      }
     },
     "23f43d3ed72b40348f1fa2ac134450bf": {
      "model_module": "@jupyter-widgets/controls",
      "model_module_version": "2.0.0",
      "model_name": "LabelModel",
      "state": {
       "layout": "IPY_MODEL_2ab32ba4681e4ce0b86ada1f2c7c6946",
       "style": "IPY_MODEL_160b6bc59576473f9ba2d3e9b4d115ad"
      }
     },
     "29fcccfb7d204e66afe00112dda50554": {
      "model_module": "@jupyter-widgets/controls",
      "model_module_version": "2.0.0",
      "model_name": "LabelStyleModel",
      "state": {
       "description_width": "",
       "font_family": null,
       "font_size": null,
       "font_style": null,
       "font_variant": null,
       "font_weight": null,
       "text_color": null,
       "text_decoration": null
      }
     },
     "2a4ded878c0a47c2a10842e9933a6810": {
      "model_module": "@jupyter-widgets/controls",
      "model_module_version": "2.0.0",
      "model_name": "LabelModel",
      "state": {
       "description": "bar",
       "layout": "IPY_MODEL_8f66b0a9998a4716b76e3c8426282992",
       "style": "IPY_MODEL_e647415939fb493a8475cd736397c95b",
       "value": "bar*"
      }
     },
     "2ab32ba4681e4ce0b86ada1f2c7c6946": {
      "model_module": "@jupyter-widgets/base",
      "model_module_version": "2.0.0",
      "model_name": "LayoutModel",
      "state": {
       "grid_area": "description",
       "width": "auto"
      }
     },
     "2c713493f940454f8e7ad42b5e259809": {
      "model_module": "@jupyter-widgets/controls",
      "model_module_version": "2.0.0",
      "model_name": "LabelModel",
      "state": {
       "layout": "IPY_MODEL_ba762db41e9946d18f5e5dcf0c048ea3",
       "style": "IPY_MODEL_f58ec6db85a242889045521ed1cc815c"
      }
     },
     "33620b8a0bd145a2adf9924f7456de39": {
      "model_module": "@jupyter-widgets/base",
      "model_module_version": "2.0.0",
      "model_name": "LayoutModel",
      "state": {}
     },
     "33955e1e75b842fca72ee0be20c2fce8": {
      "model_module": "@jupyter-widgets/controls",
      "model_module_version": "2.0.0",
      "model_name": "GridBoxModel",
      "state": {
       "_dom_classes": [
        "nbtools-input",
        "nbtools-textinput"
       ],
       "children": [
        "IPY_MODEL_3a9700c16adc4892b1f950a65372c813",
        "IPY_MODEL_bcfb05fe05364cd39a379fbd92c2558a",
        "IPY_MODEL_5c49ce312e744cffbad46b017cfe5096"
       ],
       "layout": "IPY_MODEL_6c1ecba761074b72a05c30ff7549aede"
      }
     },
     "34f971cca4e3408ab89b01ff429a74cf": {
      "model_module": "@jupyter-widgets/base",
      "model_module_version": "2.0.0",
      "model_name": "LayoutModel",
      "state": {}
     },
     "359fc00b3046440aaf33d4b4c8d408b5": {
      "model_module": "@jupyter-widgets/controls",
      "model_module_version": "2.0.0",
      "model_name": "LabelModel",
      "state": {
       "description": "output variable",
       "layout": "IPY_MODEL_4cb768f1387347ef9a34994f687ee00e",
       "style": "IPY_MODEL_09b82b9e364547479e6586046268f134",
       "value": "output variable"
      }
     },
     "3887ccabed21491d8b00a2b2099e3312": {
      "model_module": "@jupyter-widgets/controls",
      "model_module_version": "2.0.0",
      "model_name": "LabelModel",
      "state": {
       "description": "output variable",
       "layout": "IPY_MODEL_58ff890ea13f4c8b836d0edea57ef1c2",
       "style": "IPY_MODEL_8bb15443893f48498cdd248cddb0a7c6",
       "value": "output variable"
      }
     },
     "38bb5c7898ac4510b469cff307e5a7e8": {
      "model_module": "@g2nb/nbtools",
      "model_module_version": ">=23.7.0",
      "model_name": "UIBuilderModel",
      "state": {
       "_model_module_version": ">=23.7.0",
       "_parameters": [
        {
         "choices": {},
         "default": "",
         "description": "",
         "events": null,
         "hide": false,
         "id": null,
         "kinds": null,
         "label": "bar",
         "max": 10,
         "name": "bar",
         "optional": false,
         "type": "number",
         "value": ""
        },
        {
         "choices": {},
         "default": "",
         "description": "",
         "events": null,
         "hide": true,
         "id": null,
         "kinds": null,
         "label": "output variable",
         "name": "output_var",
         "optional": true,
         "type": "text",
         "value": ""
        }
       ],
       "_view_count": 1,
       "_view_module_version": ">=23.7.0",
       "form": "IPY_MODEL_15bbbf94d1ad4bc983611d3052aa759b",
       "layout": "IPY_MODEL_33620b8a0bd145a2adf9924f7456de39",
       "name": "foo",
       "origin": "Notebook",
       "output": "IPY_MODEL_02f998d5d9ec4a748244fae00b08ae1f",
       "output_var": ""
      }
     },
     "38cb683b51694dffb4628b2ed843dc87": {
      "model_module": "@jupyter-widgets/base",
      "model_module_version": "2.0.0",
      "model_name": "LayoutModel",
      "state": {}
     },
     "3991443cb2414980a0830f07fae0e55a": {
      "model_module": "@jupyter-widgets/controls",
      "model_module_version": "2.0.0",
      "model_name": "LabelStyleModel",
      "state": {
       "description_width": "",
       "font_family": null,
       "font_size": null,
       "font_style": null,
       "font_variant": null,
       "font_weight": null,
       "text_color": null,
       "text_decoration": null
      }
     },
     "39a3b271230041c4b32d0f07b30a6d77": {
      "model_module": "@jupyter-widgets/base",
      "model_module_version": "2.0.0",
      "model_name": "LayoutModel",
      "state": {}
     },
     "3a4d3bbba5f24a00be9a21d67471cd65": {
      "model_module": "@jupyter-widgets/controls",
      "model_module_version": "2.0.0",
      "model_name": "LabelStyleModel",
      "state": {
       "description_width": "",
       "font_family": null,
       "font_size": null,
       "font_style": null,
       "font_variant": null,
       "font_weight": null,
       "text_color": null,
       "text_decoration": null
      }
     },
     "3a642c53df1f4898b3cdc99e99301a79": {
      "model_module": "@jupyter-widgets/base",
      "model_module_version": "2.0.0",
      "model_name": "LayoutModel",
      "state": {
       "grid_area": "input",
       "width": "auto"
      }
     },
     "3a9700c16adc4892b1f950a65372c813": {
      "model_module": "@jupyter-widgets/controls",
      "model_module_version": "2.0.0",
      "model_name": "LabelModel",
      "state": {
       "description": "output variable",
       "layout": "IPY_MODEL_a807fff391ff4140a72006333349832d",
       "style": "IPY_MODEL_eb697c4d87774f7abc3e3a292a00c801",
       "value": "output variable"
      }
     },
     "3acf49b46085492e9a5f878036b04eb3": {
      "model_module": "@jupyter-widgets/controls",
      "model_module_version": "2.0.0",
      "model_name": "TextModel",
      "state": {
       "_dom_classes": [
        "nbtools-menu-attached"
       ],
       "layout": "IPY_MODEL_81fb18b167bf4216ae410e5734ee4ca3",
       "style": "IPY_MODEL_776bc9181f2f49038ceb82f82cd13eeb"
      }
     },
     "3c0519c19c514c7199bb263d3c1e68d8": {
      "model_module": "@jupyter-widgets/base",
      "model_module_version": "2.0.0",
      "model_name": "LayoutModel",
      "state": {
       "grid_area": "label",
       "width": "auto"
      }
     },
     "40d51974662f4de99b537d9524410788": {
      "model_module": "@jupyter-widgets/controls",
      "model_module_version": "2.0.0",
      "model_name": "GridBoxModel",
      "state": {
       "_dom_classes": [
        "nbtools-input",
        "nbtools-textinput"
       ],
       "children": [
        "IPY_MODEL_10ebcd96bad8449b829f4d8bc09a5722",
        "IPY_MODEL_e3d40dad319245eaaeee9a5e7c70511b",
        "IPY_MODEL_23f43d3ed72b40348f1fa2ac134450bf"
       ],
       "layout": "IPY_MODEL_ccc4a6acacbe460c9f03ae010cd985ac"
      }
     },
     "426f60db67d442fd89dba9bdd83610c3": {
      "model_module": "@jupyter-widgets/base",
      "model_module_version": "2.0.0",
      "model_name": "LayoutModel",
      "state": {}
     },
     "448c5588cf9c4a68b563402e5be41781": {
      "model_module": "@jupyter-widgets/base",
      "model_module_version": "2.0.0",
      "model_name": "LayoutModel",
      "state": {}
     },
     "484a122264774f849115885ebb86fe71": {
      "model_module": "@jupyter-widgets/base",
      "model_module_version": "2.0.0",
      "model_name": "LayoutModel",
      "state": {}
     },
     "49b8a8ccb15643eeb5de183df9d0bc4a": {
      "model_module": "@jupyter-widgets/base",
      "model_module_version": "2.0.0",
      "model_name": "LayoutModel",
      "state": {}
     },
     "4c61547cccda4423baef883eb70268b8": {
      "model_module": "@jupyter-widgets/controls",
      "model_module_version": "2.0.0",
      "model_name": "ButtonStyleModel",
      "state": {
       "font_family": null,
       "font_size": null,
       "font_style": null,
       "font_variant": null,
       "font_weight": null,
       "text_color": null,
       "text_decoration": null
      }
     },
     "4ca5536afcd24ad9beb59ab4267dddc4": {
      "model_module": "@jupyter-widgets/controls",
      "model_module_version": "2.0.0",
      "model_name": "LabelModel",
      "state": {
       "layout": "IPY_MODEL_de82533075db4b83959881d86ef662a1",
       "style": "IPY_MODEL_12fc26ef295543bd882ce735a765858c"
      }
     },
     "4cb768f1387347ef9a34994f687ee00e": {
      "model_module": "@jupyter-widgets/base",
      "model_module_version": "2.0.0",
      "model_name": "LayoutModel",
      "state": {
       "grid_area": "label",
       "width": "auto"
      }
     },
     "4ed60f6941d94e2d891cf149a79f1b85": {
      "model_module": "@jupyter-widgets/base",
      "model_module_version": "2.0.0",
      "model_name": "LayoutModel",
      "state": {
       "grid_area": "input",
       "width": "auto"
      }
     },
     "4f97325445374d0f953bedf69d79143a": {
      "model_module": "@jupyter-widgets/controls",
      "model_module_version": "2.0.0",
      "model_name": "ButtonStyleModel",
      "state": {
       "font_family": null,
       "font_size": null,
       "font_style": null,
       "font_variant": null,
       "font_weight": null,
       "text_color": null,
       "text_decoration": null
      }
     },
     "541726b73cb142e4ac17a961be99050d": {
      "model_module": "@jupyter-widgets/controls",
      "model_module_version": "2.0.0",
      "model_name": "LabelModel",
      "state": {
       "layout": "IPY_MODEL_8dd8767e3dfd47b1b4f2fea3a1a1a978",
       "style": "IPY_MODEL_c4865d5702aa404d955f5ef683a9bbbf"
      }
     },
     "58ff890ea13f4c8b836d0edea57ef1c2": {
      "model_module": "@jupyter-widgets/base",
      "model_module_version": "2.0.0",
      "model_name": "LayoutModel",
      "state": {
       "grid_area": "label",
       "width": "auto"
      }
     },
     "598d04c95d944963b4c1e9fc96bbddee": {
      "model_module": "@jupyter-widgets/controls",
      "model_module_version": "2.0.0",
      "model_name": "VBoxModel",
      "state": {
       "children": [
        "IPY_MODEL_975c21754d1a488fbdf8c464b87a6cc1"
       ],
       "layout": "IPY_MODEL_c6b027b215a84860b6daceed9d3db180"
      }
     },
     "5b0be1bda262440e84a5aedad075a4e5": {
      "model_module": "@jupyter-widgets/base",
      "model_module_version": "2.0.0",
      "model_name": "LayoutModel",
      "state": {}
     },
     "5c49ce312e744cffbad46b017cfe5096": {
      "model_module": "@jupyter-widgets/controls",
      "model_module_version": "2.0.0",
      "model_name": "LabelModel",
      "state": {
       "layout": "IPY_MODEL_1c867f0d84194783b02fbfa48204ffbf",
       "style": "IPY_MODEL_a0b0b0c365c84cdc8e82acd356c40468"
      }
     },
     "5c8f325d47104995b124ca8bd074b21b": {
      "model_module": "@jupyter-widgets/base",
      "model_module_version": "2.0.0",
      "model_name": "LayoutModel",
      "state": {
       "grid_area": "description",
       "width": "auto"
      }
     },
     "5d7c1b581441448fbdf62d9d03ba1338": {
      "model_module": "@jupyter-widgets/base",
      "model_module_version": "2.0.0",
      "model_name": "LayoutModel",
      "state": {
       "grid_area": "description",
       "width": "auto"
      }
     },
     "6985529be66340718919c5a8b4945f84": {
      "model_module": "@jupyter-widgets/controls",
      "model_module_version": "2.0.0",
      "model_name": "GridBoxModel",
      "state": {
       "_dom_classes": [
        "nbtools-input",
        "nbtools-textinput"
       ],
       "children": [
        "IPY_MODEL_359fc00b3046440aaf33d4b4c8d408b5",
        "IPY_MODEL_b2f19dc2e26c467a8e09034ca00db5b7",
        "IPY_MODEL_541726b73cb142e4ac17a961be99050d"
       ],
       "layout": "IPY_MODEL_ec5eaf13155f4a578df329e85d2402a4"
      }
     },
     "69f1802c4e294ac785bd74cdedfb5099": {
      "model_module": "@jupyter-widgets/base",
      "model_module_version": "2.0.0",
      "model_name": "LayoutModel",
      "state": {}
     },
     "6a7059384d4c479abc0520e4eed4266d": {
      "model_module": "@jupyter-widgets/controls",
      "model_module_version": "2.0.0",
      "model_name": "LabelStyleModel",
      "state": {
       "description_width": "",
       "font_family": null,
       "font_size": null,
       "font_style": null,
       "font_variant": null,
       "font_weight": null,
       "text_color": null,
       "text_decoration": null
      }
     },
     "6c1ecba761074b72a05c30ff7549aede": {
      "model_module": "@jupyter-widgets/base",
      "model_module_version": "2.0.0",
      "model_name": "LayoutModel",
      "state": {
       "display": "none",
       "grid_template_areas": "\n                    \"label input\"\n                    \". description\"\n                ",
       "grid_template_columns": "25% 75%",
       "grid_template_rows": "auto auto",
       "width": "100%"
      }
     },
     "6d29154665434c03b595620a80eb6a7e": {
      "model_module": "@jupyter-widgets/controls",
      "model_module_version": "2.0.0",
      "model_name": "VBoxModel",
      "state": {
       "_dom_classes": [
        "widget-interact"
       ],
       "children": [
        "IPY_MODEL_e5d55c223fd84a199883ba54c38c9041",
        "IPY_MODEL_73ed2c054da240daaee1485c3ad8d529"
       ],
       "layout": "IPY_MODEL_a26dab6c78564373b691a322ab4c835e"
      }
     },
     "6fce9de2fd2b414c83fe6af6d0289415": {
      "model_module": "@jupyter-widgets/controls",
      "model_module_version": "2.0.0",
      "model_name": "LabelModel",
      "state": {
       "description": "output variable",
       "layout": "IPY_MODEL_ebb35a104ce24224a9f81e66239c7165",
       "style": "IPY_MODEL_0474a013e75d4188ae13f6943fd6d349",
       "value": "output variable"
      }
     },
     "737abdbcc2784740b4253dd88c3c3c80": {
      "model_module": "@jupyter-widgets/controls",
      "model_module_version": "2.0.0",
      "model_name": "GridBoxModel",
      "state": {
       "_dom_classes": [
        "nbtools-input",
        "nbtools-numberinput",
        "required"
       ],
       "children": [
        "IPY_MODEL_2a4ded878c0a47c2a10842e9933a6810",
        "IPY_MODEL_008e5da2ab4b4e4aa94b10f2b2533cb9",
        "IPY_MODEL_a326e5e2425c49c6a2dc450c6624da56"
       ],
       "layout": "IPY_MODEL_a9d4ca31f96649b9b6762935f8591cee"
      }
     },
     "73ed2c054da240daaee1485c3ad8d529": {
      "model_module": "@jupyter-widgets/output",
      "model_module_version": "1.0.0",
      "model_name": "OutputModel",
      "state": {
       "layout": "IPY_MODEL_426f60db67d442fd89dba9bdd83610c3"
      }
     },
     "75d29f951a5642c4822cd2156dd38053": {
      "model_module": "@jupyter-widgets/controls",
      "model_module_version": "2.0.0",
      "model_name": "ButtonModel",
      "state": {
       "_dom_classes": [
        "hidden"
       ],
       "description": "Run",
       "layout": "IPY_MODEL_bf854a3afeab4d03b615d662bb2d803b",
       "style": "IPY_MODEL_baf3dd92c5e44da7b2abad405063ad31",
       "tooltip": null
      }
     },
     "76f91150c58a4bc5b03286aff10b8e06": {
      "model_module": "@jupyter-widgets/controls",
      "model_module_version": "2.0.0",
      "model_name": "VBoxModel",
      "state": {
       "children": [
        "IPY_MODEL_15ccd821dc844ddfafeb3700f1899822",
        "IPY_MODEL_ffa14c81aaf0431484ac5eacd2354f9f"
       ],
       "layout": "IPY_MODEL_a0a619c15d334a30a2c3e2c31909d29f"
      }
     },
     "776bc9181f2f49038ceb82f82cd13eeb": {
      "model_module": "@jupyter-widgets/controls",
      "model_module_version": "2.0.0",
      "model_name": "TextStyleModel",
      "state": {
       "description_width": "",
       "font_size": null,
       "text_color": null
      }
     },
     "7d077f957c354327a5ab4b13ba200b18": {
      "model_module": "@jupyter-widgets/base",
      "model_module_version": "2.0.0",
      "model_name": "LayoutModel",
      "state": {
       "grid_area": "input",
       "width": "auto"
      }
     },
     "81519978ae014664b3675a1fe2570806": {
      "model_module": "@jupyter-widgets/base",
      "model_module_version": "2.0.0",
      "model_name": "LayoutModel",
      "state": {
       "grid_area": "description",
       "width": "auto"
      }
     },
     "81744bcadcae46b0b00cf69e38772981": {
      "model_module": "@jupyter-widgets/controls",
      "model_module_version": "2.0.0",
      "model_name": "LabelStyleModel",
      "state": {
       "description_width": "",
       "font_family": null,
       "font_size": null,
       "font_style": null,
       "font_variant": null,
       "font_weight": null,
       "text_color": null,
       "text_decoration": null
      }
     },
     "81fb18b167bf4216ae410e5734ee4ca3": {
      "model_module": "@jupyter-widgets/base",
      "model_module_version": "2.0.0",
      "model_name": "LayoutModel",
      "state": {
       "grid_area": "input",
       "width": "auto"
      }
     },
     "84b65fef667c4483acda7b5a08058006": {
      "model_module": "@jupyter-widgets/controls",
      "model_module_version": "2.0.0",
      "model_name": "TextStyleModel",
      "state": {
       "description_width": "",
       "font_size": null,
       "text_color": null
      }
     },
     "8b92249619c84f4ca55e8c501a569485": {
      "model_module": "@jupyter-widgets/output",
      "model_module_version": "1.0.0",
      "model_name": "OutputModel",
      "state": {
       "layout": "IPY_MODEL_01fd6aa0c3724811ac5be0c824b5edcd"
      }
     },
     "8bb15443893f48498cdd248cddb0a7c6": {
      "model_module": "@jupyter-widgets/controls",
      "model_module_version": "2.0.0",
      "model_name": "LabelStyleModel",
      "state": {
       "description_width": "",
       "font_family": null,
       "font_size": null,
       "font_style": null,
       "font_variant": null,
       "font_weight": null,
       "text_color": null,
       "text_decoration": null
      }
     },
     "8bd8c99c7064448b9ffb8d7db6561669": {
      "model_module": "@jupyter-widgets/controls",
      "model_module_version": "2.0.0",
      "model_name": "ButtonModel",
      "state": {
       "_dom_classes": [
        "hidden"
       ],
       "description": "Run",
       "layout": "IPY_MODEL_0597b7954c304e8b96384ec3af511434",
       "style": "IPY_MODEL_eaec191ad1ac41d3ba37a3e0e366f5de",
       "tooltip": null
      }
     },
     "8dd8767e3dfd47b1b4f2fea3a1a1a978": {
      "model_module": "@jupyter-widgets/base",
      "model_module_version": "2.0.0",
      "model_name": "LayoutModel",
      "state": {
       "grid_area": "description",
       "width": "auto"
      }
     },
     "8de1b1b81d3a4c96be6b4ab7f2ed910f": {
      "model_module": "@jupyter-widgets/controls",
      "model_module_version": "2.0.0",
      "model_name": "LabelModel",
      "state": {
       "description": "bar",
       "layout": "IPY_MODEL_df73c96b299041298ad8fabcb59167ac",
       "style": "IPY_MODEL_df3a247e400947b5922e9644a7643319",
       "value": "bar*"
      }
     },
     "8f66b0a9998a4716b76e3c8426282992": {
      "model_module": "@jupyter-widgets/base",
      "model_module_version": "2.0.0",
      "model_name": "LayoutModel",
      "state": {
       "grid_area": "label",
       "width": "auto"
      }
     },
     "902fed2fb4774f98ab84839df1617fc7": {
      "model_module": "@jupyter-widgets/base",
      "model_module_version": "2.0.0",
      "model_name": "LayoutModel",
      "state": {}
     },
     "9315adf0960b452292defc691349608e": {
      "model_module": "@jupyter-widgets/base",
      "model_module_version": "2.0.0",
      "model_name": "LayoutModel",
      "state": {
       "grid_area": "input",
       "width": "auto"
      }
     },
     "975c21754d1a488fbdf8c464b87a6cc1": {
      "model_module": "@jupyter-widgets/controls",
      "model_module_version": "2.0.0",
      "model_name": "ComboboxModel",
      "state": {
       "_dom_classes": [
        "nbtools-menu-attached"
       ],
       "choices": {},
       "ensure_option": false,
       "kinds": [
        "gct",
        "res"
       ],
       "layout": "IPY_MODEL_a57b53531f2f49e48d16b1c8e52fa753",
       "style": "IPY_MODEL_84b65fef667c4483acda7b5a08058006"
      }
     },
     "9cbeeeaf34e84a72b2fe72afa9df6674": {
      "model_module": "@jupyter-widgets/base",
      "model_module_version": "2.0.0",
      "model_name": "LayoutModel",
      "state": {}
     },
     "a0a619c15d334a30a2c3e2c31909d29f": {
      "model_module": "@jupyter-widgets/base",
      "model_module_version": "2.0.0",
      "model_name": "LayoutModel",
      "state": {}
     },
     "a0b0b0c365c84cdc8e82acd356c40468": {
      "model_module": "@jupyter-widgets/controls",
      "model_module_version": "2.0.0",
      "model_name": "LabelStyleModel",
      "state": {
       "description_width": "",
       "font_family": null,
       "font_size": null,
       "font_style": null,
       "font_variant": null,
       "font_weight": null,
       "text_color": null,
       "text_decoration": null
      }
     },
     "a1b1cab978064220b27e2e7151a60a26": {
      "model_module": "@jupyter-widgets/base",
      "model_module_version": "2.0.0",
      "model_name": "LayoutModel",
      "state": {
       "display": "none",
       "grid_template_areas": "\n                    \"label input\"\n                    \". description\"\n                ",
       "grid_template_columns": "25% 75%",
       "grid_template_rows": "auto auto",
       "width": "100%"
      }
     },
     "a26dab6c78564373b691a322ab4c835e": {
      "model_module": "@jupyter-widgets/base",
      "model_module_version": "2.0.0",
      "model_name": "LayoutModel",
      "state": {}
     },
     "a29e060a334b40e7a494cff954ed541a": {
      "model_module": "@jupyter-widgets/output",
      "model_module_version": "1.0.0",
      "model_name": "OutputModel",
      "state": {
       "layout": "IPY_MODEL_448c5588cf9c4a68b563402e5be41781"
      }
     },
     "a326e5e2425c49c6a2dc450c6624da56": {
      "model_module": "@jupyter-widgets/controls",
      "model_module_version": "2.0.0",
      "model_name": "LabelModel",
      "state": {
       "layout": "IPY_MODEL_81519978ae014664b3675a1fe2570806",
       "style": "IPY_MODEL_3a4d3bbba5f24a00be9a21d67471cd65"
      }
     },
     "a39650a59ed84da084535b2739bfc753": {
      "model_module": "@jupyter-widgets/base",
      "model_module_version": "2.0.0",
      "model_name": "LayoutModel",
      "state": {}
     },
     "a57b53531f2f49e48d16b1c8e52fa753": {
      "model_module": "@jupyter-widgets/base",
      "model_module_version": "2.0.0",
      "model_name": "LayoutModel",
      "state": {}
     },
     "a807fff391ff4140a72006333349832d": {
      "model_module": "@jupyter-widgets/base",
      "model_module_version": "2.0.0",
      "model_name": "LayoutModel",
      "state": {
       "grid_area": "label",
       "width": "auto"
      }
     },
     "a85d413be2ae4043978d86521c4c5875": {
      "model_module": "@jupyter-widgets/controls",
      "model_module_version": "2.0.0",
      "model_name": "TextStyleModel",
      "state": {
       "description_width": "",
       "font_size": null,
       "text_color": null
      }
     },
     "a9937b1ba9aa42f6840364545d0f13c2": {
      "model_module": "@jupyter-widgets/base",
      "model_module_version": "2.0.0",
      "model_name": "LayoutModel",
      "state": {
       "grid_template_areas": "\n                    \"label input\"\n                    \". description\"\n                ",
       "grid_template_columns": "25% 75%",
       "grid_template_rows": "auto auto",
       "width": "100%"
      }
     },
     "a9d4ca31f96649b9b6762935f8591cee": {
      "model_module": "@jupyter-widgets/base",
      "model_module_version": "2.0.0",
      "model_name": "LayoutModel",
      "state": {
       "grid_template_areas": "\n                    \"label input\"\n                    \". description\"\n                ",
       "grid_template_columns": "25% 75%",
       "grid_template_rows": "auto auto",
       "width": "100%"
      }
     },
     "ac5db52ce0ab4b69b08d69d66791d9b7": {
      "model_module": "@jupyter-widgets/controls",
      "model_module_version": "2.0.0",
      "model_name": "ButtonStyleModel",
      "state": {
       "font_family": null,
       "font_size": null,
       "font_style": null,
       "font_variant": null,
       "font_weight": null,
       "text_color": null,
       "text_decoration": null
      }
     },
     "adad7b0ffe3c493186d0f7e8085a721f": {
      "model_module": "@jupyter-widgets/output",
      "model_module_version": "1.0.0",
      "model_name": "OutputModel",
      "state": {
       "layout": "IPY_MODEL_e1d9307563374dd9961a72b4131a032e"
      }
     },
     "b2c322f7940b4fc3a356ff560b583653": {
      "model_module": "@jupyter-widgets/controls",
      "model_module_version": "2.0.0",
      "model_name": "TextStyleModel",
      "state": {
       "description_width": "",
       "font_size": null,
       "text_color": null
      }
     },
     "b2f19dc2e26c467a8e09034ca00db5b7": {
      "model_module": "@jupyter-widgets/controls",
      "model_module_version": "2.0.0",
      "model_name": "TextModel",
      "state": {
       "_dom_classes": [
        "nbtools-menu-attached"
       ],
       "layout": "IPY_MODEL_9315adf0960b452292defc691349608e",
       "style": "IPY_MODEL_cdfc859f835642fc86ac9f40c28a468b"
      }
     },
     "b39133e125f24e3ca71dac93ffea62b6": {
      "model_module": "@g2nb/nbtools",
      "model_module_version": ">=23.7.0",
      "model_name": "UIBuilderModel",
      "state": {
       "_model_module_version": ">=23.7.0",
       "_parameters": [
        {
         "choices": {},
         "default": "",
         "description": "",
         "events": null,
         "hide": false,
         "id": null,
         "kinds": null,
         "label": "bar",
         "name": "bar",
         "optional": false,
         "type": "number",
         "value": ""
        },
        {
         "choices": {},
         "default": "",
         "description": "",
         "events": null,
         "hide": true,
         "id": null,
         "kinds": null,
         "label": "output variable",
         "name": "output_var",
         "optional": true,
         "type": "text",
         "value": ""
        }
       ],
       "_view_count": 0,
       "_view_module_version": ">=23.7.0",
       "form": "IPY_MODEL_0fcf01bfb2b64b93b86e2dbf9a783c1f",
       "layout": "IPY_MODEL_5b0be1bda262440e84a5aedad075a4e5",
       "name": "foo",
       "origin": "Notebook",
       "output": "IPY_MODEL_ff8a28d0784e4d98b08621a73fc106d6",
       "output_var": ""
      }
     },
     "b3cf8497d90f4953812e2ecad363582c": {
      "model_module": "@jupyter-widgets/base",
      "model_module_version": "2.0.0",
      "model_name": "LayoutModel",
      "state": {
       "grid_area": "input",
       "width": "auto"
      }
     },
     "b3f5177507654750a575a3072cfa3c07": {
      "model_module": "@g2nb/nbtools",
      "model_module_version": ">=23.7.0",
      "model_name": "UIOutputModel",
      "state": {
       "_model_module_version": ">=23.7.0",
       "_view_count": 1,
       "_view_module_version": ">=23.7.0",
       "appendix": "IPY_MODEL_dde0bcfe6c764eb59124134f8ddd9876",
       "files": [
        [
         "http://foo.com/download/abcd1234efgh5678",
         "equal.gct",
         "tabular"
        ],
        "foobar.txt"
       ],
       "layout": "IPY_MODEL_dc6da829dc424ddc83f0aea91e2021fe",
       "origin": "Notebook"
      }
     },
     "b4edb1d110444586bdde0ca24a563916": {
      "model_module": "@jupyter-widgets/controls",
      "model_module_version": "2.0.0",
      "model_name": "LabelModel",
      "state": {
       "layout": "IPY_MODEL_5c8f325d47104995b124ca8bd074b21b",
       "style": "IPY_MODEL_6a7059384d4c479abc0520e4eed4266d"
      }
     },
     "ba762db41e9946d18f5e5dcf0c048ea3": {
      "model_module": "@jupyter-widgets/base",
      "model_module_version": "2.0.0",
      "model_name": "LayoutModel",
      "state": {
       "grid_area": "description",
       "width": "auto"
      }
     },
     "baf3dd92c5e44da7b2abad405063ad31": {
      "model_module": "@jupyter-widgets/controls",
      "model_module_version": "2.0.0",
      "model_name": "ButtonStyleModel",
      "state": {
       "font_family": null,
       "font_size": null,
       "font_style": null,
       "font_variant": null,
       "font_weight": null,
       "text_color": null,
       "text_decoration": null
      }
     },
     "baf6db2bc00f4dc6986c3f9a492e2c5d": {
      "model_module": "@jupyter-widgets/controls",
      "model_module_version": "2.0.0",
      "model_name": "GridBoxModel",
      "state": {
       "_dom_classes": [
        "nbtools-input",
        "nbtools-fileinput",
        "required"
       ],
       "children": [
        "IPY_MODEL_8de1b1b81d3a4c96be6b4ab7f2ed910f",
        "IPY_MODEL_ec0bb3c1422a4a65af195d5a2e9a6d33",
        "IPY_MODEL_b4edb1d110444586bdde0ca24a563916"
       ],
       "layout": "IPY_MODEL_a9937b1ba9aa42f6840364545d0f13c2"
      }
     },
     "bcfb05fe05364cd39a379fbd92c2558a": {
      "model_module": "@jupyter-widgets/controls",
      "model_module_version": "2.0.0",
      "model_name": "TextModel",
      "state": {
       "_dom_classes": [
        "nbtools-menu-attached"
       ],
       "layout": "IPY_MODEL_7d077f957c354327a5ab4b13ba200b18",
       "style": "IPY_MODEL_b2c322f7940b4fc3a356ff560b583653"
      }
     },
     "be066263f8f54accbc44ce191f43312a": {
      "model_module": "@g2nb/ipyuploads",
      "model_module_version": "0.2.1",
      "model_name": "UploadModel",
      "state": {
       "description_allow_html": false,
       "layout": "IPY_MODEL_ea7c849a197d4589a3cd3f6d7db3854f",
       "style": "IPY_MODEL_ac5db52ce0ab4b69b08d69d66791d9b7"
      }
     },
     "bec265b5f7ec4d0e8862f03018992b64": {
      "model_module": "@jupyter-widgets/controls",
      "model_module_version": "2.0.0",
      "model_name": "LabelModel",
      "state": {
       "description": "bar",
       "layout": "IPY_MODEL_f04e36e847c64150af2ad5c714de33cd",
       "style": "IPY_MODEL_e937c84dbaa74e459cc1f0efd2e421c5",
       "value": "bar*"
      }
     },
     "bf854a3afeab4d03b615d662bb2d803b": {
      "model_module": "@jupyter-widgets/base",
      "model_module_version": "2.0.0",
      "model_name": "LayoutModel",
      "state": {}
     },
     "c06040cb620f4deb9617b98960b499e1": {
      "model_module": "@jupyter-widgets/base",
      "model_module_version": "2.0.0",
      "model_name": "LayoutModel",
      "state": {
       "display": "none",
       "grid_template_areas": "\n                    \"label input\"\n                    \". description\"\n                ",
       "grid_template_columns": "25% 75%",
       "grid_template_rows": "auto auto",
       "width": "100%"
      }
     },
     "c0b1d5ed22564f21911fb01d3c15530a": {
      "model_module": "@jupyter-widgets/controls",
      "model_module_version": "2.0.0",
      "model_name": "ButtonStyleModel",
      "state": {
       "font_family": null,
       "font_size": null,
       "font_style": null,
       "font_variant": null,
       "font_weight": null,
       "text_color": null,
       "text_decoration": null
      }
     },
     "c4865d5702aa404d955f5ef683a9bbbf": {
      "model_module": "@jupyter-widgets/controls",
      "model_module_version": "2.0.0",
      "model_name": "LabelStyleModel",
      "state": {
       "description_width": "",
       "font_family": null,
       "font_size": null,
       "font_style": null,
       "font_variant": null,
       "font_weight": null,
       "text_color": null,
       "text_decoration": null
      }
     },
     "c5f91d272c5040a3acb8c8316540e0bb": {
      "model_module": "@jupyter-widgets/controls",
      "model_module_version": "2.0.0",
      "model_name": "LabelModel",
      "state": {
       "description": "output variable",
       "layout": "IPY_MODEL_e4ee30d0f70f494db513ff7aec50fdbd",
       "style": "IPY_MODEL_3991443cb2414980a0830f07fae0e55a",
       "value": "output variable"
      }
     },
     "c6b027b215a84860b6daceed9d3db180": {
      "model_module": "@jupyter-widgets/base",
      "model_module_version": "2.0.0",
      "model_name": "LayoutModel",
      "state": {}
     },
     "c7fa27915d454b859f6a339075951fea": {
      "model_module": "@jupyter-widgets/base",
      "model_module_version": "2.0.0",
      "model_name": "LayoutModel",
      "state": {}
     },
     "caca4b3320664f8eadd06a35df44c292": {
      "model_module": "@jupyter-widgets/base",
      "model_module_version": "2.0.0",
      "model_name": "LayoutModel",
      "state": {
       "grid_template_areas": "\n                    \"label input\"\n                    \". description\"\n                ",
       "grid_template_columns": "25% 75%",
       "grid_template_rows": "auto auto",
       "width": "100%"
      }
     },
     "cb0dc98d790f4269a24dcdcf880b0fd0": {
      "model_module": "@jupyter-widgets/controls",
      "model_module_version": "2.0.0",
      "model_name": "GridBoxModel",
      "state": {
       "_dom_classes": [
        "nbtools-input",
        "nbtools-textinput"
       ],
       "children": [
        "IPY_MODEL_6fce9de2fd2b414c83fe6af6d0289415",
        "IPY_MODEL_3acf49b46085492e9a5f878036b04eb3",
        "IPY_MODEL_2c713493f940454f8e7ad42b5e259809"
       ],
       "layout": "IPY_MODEL_dafae6cef8404b55ba099f60be9824e7"
      }
     },
     "ccc4a6acacbe460c9f03ae010cd985ac": {
      "model_module": "@jupyter-widgets/base",
      "model_module_version": "2.0.0",
      "model_name": "LayoutModel",
      "state": {
       "display": "none",
       "grid_template_areas": "\n                    \"label input\"\n                    \". description\"\n                ",
       "grid_template_columns": "25% 75%",
       "grid_template_rows": "auto auto",
       "width": "100%"
      }
     },
     "cdfc859f835642fc86ac9f40c28a468b": {
      "model_module": "@jupyter-widgets/controls",
      "model_module_version": "2.0.0",
      "model_name": "TextStyleModel",
      "state": {
       "description_width": "",
       "font_size": null,
       "text_color": null
      }
     },
     "cea85810eb2647de9649c15a9b7f65e8": {
      "model_module": "@jupyter-widgets/base",
      "model_module_version": "2.0.0",
      "model_name": "LayoutModel",
      "state": {}
     },
     "d05e7ddc6b7e4c1683bb24be43a386ba": {
      "model_module": "@jupyter-widgets/base",
      "model_module_version": "2.0.0",
      "model_name": "LayoutModel",
      "state": {}
     },
     "d4852d3b23074b39baf101ae7dcf2da8": {
      "model_module": "@jupyter-widgets/output",
      "model_module_version": "1.0.0",
      "model_name": "OutputModel",
      "state": {
       "layout": "IPY_MODEL_49b8a8ccb15643eeb5de183df9d0bc4a"
      }
     },
     "d738d6bd5c764ac1b5aa7b3148e2254b": {
      "model_module": "@jupyter-widgets/controls",
      "model_module_version": "2.0.0",
      "model_name": "GridBoxModel",
      "state": {
       "_dom_classes": [
        "nbtools-input",
        "nbtools-textinput"
       ],
       "children": [
        "IPY_MODEL_c5f91d272c5040a3acb8c8316540e0bb",
        "IPY_MODEL_031f7dbee23b4a8c9be62004df8182f7",
        "IPY_MODEL_ee050138ded44d06bdbe1da1d53f98ea"
       ],
       "layout": "IPY_MODEL_c06040cb620f4deb9617b98960b499e1"
      }
     },
     "dafae6cef8404b55ba099f60be9824e7": {
      "model_module": "@jupyter-widgets/base",
      "model_module_version": "2.0.0",
      "model_name": "LayoutModel",
      "state": {
       "display": "none",
       "grid_template_areas": "\n                    \"label input\"\n                    \". description\"\n                ",
       "grid_template_columns": "25% 75%",
       "grid_template_rows": "auto auto",
       "width": "100%"
      }
     },
     "dc6da829dc424ddc83f0aea91e2021fe": {
      "model_module": "@jupyter-widgets/base",
      "model_module_version": "2.0.0",
      "model_name": "LayoutModel",
      "state": {}
     },
     "dde0bcfe6c764eb59124134f8ddd9876": {
      "model_module": "@jupyter-widgets/controls",
      "model_module_version": "2.0.0",
      "model_name": "VBoxModel",
      "state": {
       "layout": "IPY_MODEL_1761027c70e142e1a03d17b7ca0f0d99"
      }
     },
     "de82533075db4b83959881d86ef662a1": {
      "model_module": "@jupyter-widgets/base",
      "model_module_version": "2.0.0",
      "model_name": "LayoutModel",
      "state": {
       "grid_area": "description",
       "width": "auto"
      }
     },
     "df3a247e400947b5922e9644a7643319": {
      "model_module": "@jupyter-widgets/controls",
      "model_module_version": "2.0.0",
      "model_name": "LabelStyleModel",
      "state": {
       "description_width": "",
       "font_family": null,
       "font_size": null,
       "font_style": null,
       "font_variant": null,
       "font_weight": null,
       "text_color": null,
       "text_decoration": null
      }
     },
     "df73c96b299041298ad8fabcb59167ac": {
      "model_module": "@jupyter-widgets/base",
      "model_module_version": "2.0.0",
      "model_name": "LayoutModel",
      "state": {
       "grid_area": "label",
       "width": "auto"
      }
     },
     "e0783f2a097b44ec9fa32441be0e312f": {
      "model_module": "@jupyter-widgets/controls",
      "model_module_version": "2.0.0",
      "model_name": "TextStyleModel",
      "state": {
       "description_width": "",
       "font_size": null,
       "text_color": null
      }
     },
     "e1d9307563374dd9961a72b4131a032e": {
      "model_module": "@jupyter-widgets/base",
      "model_module_version": "2.0.0",
      "model_name": "LayoutModel",
      "state": {}
     },
     "e3d40dad319245eaaeee9a5e7c70511b": {
      "model_module": "@jupyter-widgets/controls",
      "model_module_version": "2.0.0",
      "model_name": "TextModel",
      "state": {
       "_dom_classes": [
        "nbtools-menu-attached"
       ],
       "layout": "IPY_MODEL_b3cf8497d90f4953812e2ecad363582c",
       "style": "IPY_MODEL_e0783f2a097b44ec9fa32441be0e312f"
      }
     },
     "e4ee30d0f70f494db513ff7aec50fdbd": {
      "model_module": "@jupyter-widgets/base",
      "model_module_version": "2.0.0",
      "model_name": "LayoutModel",
      "state": {
       "grid_area": "label",
       "width": "auto"
      }
     },
     "e5d55c223fd84a199883ba54c38c9041": {
      "model_module": "@jupyter-widgets/controls",
      "model_module_version": "2.0.0",
      "model_name": "ButtonModel",
      "state": {
       "_dom_classes": [
        "hidden"
       ],
       "description": "Run",
       "layout": "IPY_MODEL_a39650a59ed84da084535b2739bfc753",
       "style": "IPY_MODEL_4f97325445374d0f953bedf69d79143a",
       "tooltip": null
      }
     },
     "e62bec1e18a84d5fb29e424d6ab84bba": {
      "model_module": "@jupyter-widgets/base",
      "model_module_version": "2.0.0",
      "model_name": "LayoutModel",
      "state": {}
     },
     "e647415939fb493a8475cd736397c95b": {
      "model_module": "@jupyter-widgets/controls",
      "model_module_version": "2.0.0",
      "model_name": "LabelStyleModel",
      "state": {
       "description_width": "",
       "font_family": null,
       "font_size": null,
       "font_style": null,
       "font_variant": null,
       "font_weight": null,
       "text_color": null,
       "text_decoration": null
      }
     },
     "e937c84dbaa74e459cc1f0efd2e421c5": {
      "model_module": "@jupyter-widgets/controls",
      "model_module_version": "2.0.0",
      "model_name": "LabelStyleModel",
      "state": {
       "description_width": "",
       "font_family": null,
       "font_size": null,
       "font_style": null,
       "font_variant": null,
       "font_weight": null,
       "text_color": null,
       "text_decoration": null
      }
     },
     "ea201a8b0fc3475d80b4100869175889": {
      "model_module": "@jupyter-widgets/base",
      "model_module_version": "2.0.0",
      "model_name": "LayoutModel",
      "state": {}
     },
     "ea7c849a197d4589a3cd3f6d7db3854f": {
      "model_module": "@jupyter-widgets/base",
      "model_module_version": "2.0.0",
      "model_name": "LayoutModel",
      "state": {}
     },
     "eaec191ad1ac41d3ba37a3e0e366f5de": {
      "model_module": "@jupyter-widgets/controls",
      "model_module_version": "2.0.0",
      "model_name": "ButtonStyleModel",
      "state": {
       "font_family": null,
       "font_size": null,
       "font_style": null,
       "font_variant": null,
       "font_weight": null,
       "text_color": null,
       "text_decoration": null
      }
     },
     "eb012c81501e42c08728478ca73e9c58": {
      "model_module": "@jupyter-widgets/controls",
      "model_module_version": "2.0.0",
      "model_name": "VBoxModel",
      "state": {
       "children": [
        "IPY_MODEL_b39133e125f24e3ca71dac93ffea62b6",
        "IPY_MODEL_ff8a28d0784e4d98b08621a73fc106d6"
       ],
       "layout": "IPY_MODEL_902fed2fb4774f98ab84839df1617fc7"
      }
     },
     "eb697c4d87774f7abc3e3a292a00c801": {
      "model_module": "@jupyter-widgets/controls",
      "model_module_version": "2.0.0",
      "model_name": "LabelStyleModel",
      "state": {
       "description_width": "",
       "font_family": null,
       "font_size": null,
       "font_style": null,
       "font_variant": null,
       "font_weight": null,
       "text_color": null,
       "text_decoration": null
      }
     },
     "ebb35a104ce24224a9f81e66239c7165": {
      "model_module": "@jupyter-widgets/base",
      "model_module_version": "2.0.0",
      "model_name": "LayoutModel",
      "state": {
       "grid_area": "label",
       "width": "auto"
      }
     },
     "ec0bb3c1422a4a65af195d5a2e9a6d33": {
      "model_module": "@jupyter-widgets/controls",
      "model_module_version": "2.0.0",
      "model_name": "HBoxModel",
      "state": {
       "children": [
        "IPY_MODEL_be066263f8f54accbc44ce191f43312a",
        "IPY_MODEL_598d04c95d944963b4c1e9fc96bbddee"
       ],
       "layout": "IPY_MODEL_1b721fce311f4c338b73bbdbb17c0979"
      }
     },
     "ec5eaf13155f4a578df329e85d2402a4": {
      "model_module": "@jupyter-widgets/base",
      "model_module_version": "2.0.0",
      "model_name": "LayoutModel",
      "state": {
       "display": "none",
       "grid_template_areas": "\n                    \"label input\"\n                    \". description\"\n                ",
       "grid_template_columns": "25% 75%",
       "grid_template_rows": "auto auto",
       "width": "100%"
      }
     },
     "ee038e8d1801466296f0ac2fed0e14c0": {
      "model_module": "@jupyter-widgets/controls",
      "model_module_version": "2.0.0",
      "model_name": "ButtonModel",
      "state": {
       "_dom_classes": [
        "hidden"
       ],
       "description": "Run",
       "layout": "IPY_MODEL_ee137236b95e44588f39041d03a8762e",
       "style": "IPY_MODEL_4c61547cccda4423baef883eb70268b8",
       "tooltip": null
      }
     },
     "ee050138ded44d06bdbe1da1d53f98ea": {
      "model_module": "@jupyter-widgets/controls",
      "model_module_version": "2.0.0",
      "model_name": "LabelModel",
      "state": {
       "layout": "IPY_MODEL_03b02f04ce9f46d8b5fb0eadc14aafd3",
       "style": "IPY_MODEL_29fcccfb7d204e66afe00112dda50554"
      }
     },
     "ee137236b95e44588f39041d03a8762e": {
      "model_module": "@jupyter-widgets/base",
      "model_module_version": "2.0.0",
      "model_name": "LayoutModel",
      "state": {}
     },
     "ef749d8c2cb1499d8505d8d822bbd0eb": {
      "model_module": "@jupyter-widgets/controls",
      "model_module_version": "2.0.0",
      "model_name": "ButtonStyleModel",
      "state": {
       "font_family": null,
       "font_size": null,
       "font_style": null,
       "font_variant": null,
       "font_weight": null,
       "text_color": null,
       "text_decoration": null
      }
     },
     "f04e36e847c64150af2ad5c714de33cd": {
      "model_module": "@jupyter-widgets/base",
      "model_module_version": "2.0.0",
      "model_name": "LayoutModel",
      "state": {
       "grid_area": "label",
       "width": "auto"
      }
     },
     "f060acc4fbe34e5a80d645fbce3878f3": {
      "model_module": "@jupyter-widgets/base",
      "model_module_version": "2.0.0",
      "model_name": "LayoutModel",
      "state": {
       "grid_area": "input",
       "width": "auto"
      }
     },
     "f0fba93bbfa140539cb326dea5035ed9": {
      "model_module": "@jupyter-widgets/controls",
      "model_module_version": "2.0.0",
      "model_name": "TextModel",
      "state": {
       "layout": "IPY_MODEL_f060acc4fbe34e5a80d645fbce3878f3",
       "style": "IPY_MODEL_0bb8ca12afc648ad98536c5dfae590cc",
       "value": "33"
      }
     },
     "f1607e310b89483c88ff49d67b2f1886": {
      "model_module": "@jupyter-widgets/controls",
      "model_module_version": "2.0.0",
      "model_name": "TextModel",
      "state": {
       "_dom_classes": [
        "nbtools-menu-attached"
       ],
       "layout": "IPY_MODEL_4ed60f6941d94e2d891cf149a79f1b85",
       "style": "IPY_MODEL_220b99ce1d8d458fb715eaa1bbf2e829"
      }
     },
     "f170f11fb09c4a52bfc30674e7e62ae2": {
      "model_module": "@jupyter-widgets/base",
      "model_module_version": "2.0.0",
      "model_name": "LayoutModel",
      "state": {}
     },
     "f58ec6db85a242889045521ed1cc815c": {
      "model_module": "@jupyter-widgets/controls",
      "model_module_version": "2.0.0",
      "model_name": "LabelStyleModel",
      "state": {
       "description_width": "",
       "font_family": null,
       "font_size": null,
       "font_style": null,
       "font_variant": null,
       "font_weight": null,
       "text_color": null,
       "text_decoration": null
      }
     },
     "f7c3197f45f944719b105a38e836336e": {
      "model_module": "@jupyter-widgets/controls",
      "model_module_version": "2.0.0",
      "model_name": "LabelStyleModel",
      "state": {
       "description_width": "",
       "font_family": null,
       "font_size": null,
       "font_style": null,
       "font_variant": null,
       "font_weight": null,
       "text_color": null,
       "text_decoration": null
      }
     },
     "fd8893a060464040b4102b76bedd51d1": {
      "model_module": "@jupyter-widgets/controls",
      "model_module_version": "2.0.0",
      "model_name": "LabelModel",
      "state": {
       "layout": "IPY_MODEL_5d7c1b581441448fbdf62d9d03ba1338",
       "style": "IPY_MODEL_f7c3197f45f944719b105a38e836336e"
      }
     },
     "ff8a28d0784e4d98b08621a73fc106d6": {
      "model_module": "@jupyter-widgets/output",
      "model_module_version": "1.0.0",
      "model_name": "OutputModel",
      "state": {
       "layout": "IPY_MODEL_047b5ce2bf2d48d687b93e9439f5c3ed"
      }
     },
     "ffa14c81aaf0431484ac5eacd2354f9f": {
      "model_module": "@jupyter-widgets/output",
      "model_module_version": "1.0.0",
      "model_name": "OutputModel",
      "state": {
       "layout": "IPY_MODEL_484a122264774f849115885ebb86fe71"
      }
     }
    },
    "version_major": 2,
    "version_minor": 0
   }
  }
 },
 "nbformat": 4,
 "nbformat_minor": 5
}
