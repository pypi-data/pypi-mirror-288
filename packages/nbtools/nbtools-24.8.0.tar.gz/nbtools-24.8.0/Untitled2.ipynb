{
 "cells": [
  {
   "cell_type": "code",
   "execution_count": 5,
   "id": "e95b5d3c-9d87-49bc-bd96-002901a3960f",
   "metadata": {},
   "outputs": [],
   "source": [
    "import nbtools\n",
    "\n",
    "data = nbtools.Data(origin='Testing', group='manual', uri='https://testing.co/initial.pdf')\n",
    "\n",
    "nbtools.DataManager.instance().register(data)"
   ]
  },
  {
   "cell_type": "code",
   "execution_count": 6,
   "id": "573e1bd1-4ca4-4a2b-9a3d-e194c1c04541",
   "metadata": {},
   "outputs": [],
   "source": [
    "nbtools.ToolManager.instance().send_update()"
   ]
  },
  {
   "cell_type": "code",
   "execution_count": 7,
   "id": "cffde34e-b7c2-4a23-9cf6-ffdefcfe61aa",
   "metadata": {},
   "outputs": [],
   "source": [
    "data = nbtools.Data(origin='Testing', group='manual', uri='https://testing.co/initial3.pdf')\n",
    "\n",
    "nbtools.DataManager.instance().register(data)"
   ]
  },
  {
   "cell_type": "code",
   "execution_count": null,
   "id": "0f63a730-e478-410a-a151-c70da3a635eb",
   "metadata": {},
   "outputs": [],
   "source": []
  }
 ],
 "metadata": {
  "GiN-version": "0.1.0a8",
  "kernelspec": {
   "display_name": "Python 3 (ipykernel)",
   "language": "python",
   "name": "python3"
  },
  "language_info": {
   "codemirror_mode": {
    "name": "ipython",
    "version": 3
   },
   "file_extension": ".py",
   "mimetype": "text/x-python",
   "name": "python",
   "nbconvert_exporter": "python",
   "pygments_lexer": "ipython3",
   "version": "3.9.16"
  },
  "widgets": {
   "application/vnd.jupyter.widget-state+json": {
    "state": {},
    "version_major": 2,
    "version_minor": 0
   }
  }
 },
 "nbformat": 4,
 "nbformat_minor": 5
}
