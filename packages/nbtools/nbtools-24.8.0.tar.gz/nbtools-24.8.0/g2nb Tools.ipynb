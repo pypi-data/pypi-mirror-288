{
 "cells": [
  {
   "cell_type": "markdown",
   "id": "01a5dfc5-6587-4d36-8fec-1792bdfc733c",
   "metadata": {},
   "source": [
    "# Genomics to Notebook (g2nb): Enabling cross-platform compatibility in Jupyter notebooks\n",
    "\n",
    "The code below may be used to reproduce the results of the Genomics to Notebook (g2nb) paper."
   ]
  },
  {
   "cell_type": "markdown",
   "id": "b53ba84a-e40f-425f-93fd-f8325cf19437",
   "metadata": {},
   "source": [
    "<h2>Install the g2nb Extensions</h2>\n",
    "<p>Run the cell below to install the g2nb extensions. You may need to refresh your browser afterward before the extensions are loaded in your browser.</p>"
   ]
  },
  {
   "cell_type": "code",
   "execution_count": null,
   "id": "2606ef42-c984-40fd-b366-4303510be917",
   "metadata": {},
   "outputs": [],
   "source": [
    "!pip install g2nb"
   ]
  },
  {
   "cell_type": "markdown",
   "id": "f5598424-3c3e-44a1-93a2-26e18abe92d6",
   "metadata": {},
   "source": [
    "<h2>Import the Libraries</h2>\n",
    "<p>The code below imports the <a href=\"https://docs.g2nb.org/en/latest/programmatic/#ui-builder\" target=\"_blank\" rel=\"noopener\">User Interface Builder</a> decorator, which is used to a create graphical user interface. It also imports other libraries used in the code examples that follow.</p>"
   ]
  },
  {
   "cell_type": "code",
   "execution_count": null,
   "id": "25ce2b23-ab8b-440e-b030-294fa5a3ac36",
   "metadata": {},
   "outputs": [],
   "source": [
    "from nbtools import build_ui, UIBuilder\n",
    "from IPython.display import display\n",
    "from urllib.request import urlopen\n",
    "\n",
    "import builtins\n",
    "import json\n",
    "import re"
   ]
  },
  {
   "cell_type": "markdown",
   "id": "dd1c7ad5-3199-440c-a008-0a4002aee5e5",
   "metadata": {},
   "source": [
    "<h2>Create a User Interface Builder Tool</h2>\n",
    "<p>The code below employs the User Interface Builder to create a user-friendly graphical widget. This widget accepts a CX file and launches cytoscape.js with a view of the network.</p> \n",
    "<p>If you need a CX file to use as an example, you may download <a href=\"https://github.com/cytoscape/cy-jupyterlab/blob/master/example/example.cx\">the one linked here</a>. For the CX file to work correctly, ensure that you download the raw file.</p>"
   ]
  },
  {
   "cell_type": "code",
   "execution_count": null,
   "id": "c76ad680-e156-48eb-82b0-d31eda8e8592",
   "metadata": {},
   "outputs": [],
   "source": [
    "@build_ui(name='Cytoscape Network', \n",
    "          description='Displays a Cytoscape network in the notebook', \n",
    "          origin='+', color='rgb(210, 140, 34)',\n",
    "          parameters={\n",
    "              'cx_file': {\n",
    "                  'required': True,\n",
    "                  'description': 'Select a Cyoscape network to view',\n",
    "                  'type': 'file',\n",
    "                  'kinds': ['cx']\n",
    "              }\n",
    "          })\n",
    "def dispplay_cytoscape_network(cx_file=''):\n",
    "    with open(cx_file) as f: data = f.read()\n",
    "    data_json = json.loads(data)\n",
    "    cx_data = { \"application/cx\": data_json }\n",
    "    display(cx_data, raw=True)"
   ]
  },
  {
   "cell_type": "markdown",
   "id": "a795b203-3ef6-4b9c-a767-0ccb8cdc8cfd",
   "metadata": {
    "tags": []
   },
   "source": [
    "## Expanded Version\n",
    "\n",
    "An expanded version of the code that handles remote URLs as well as local files is included for reference below."
   ]
  },
  {
   "cell_type": "code",
   "execution_count": null,
   "id": "678f0ec8-3b37-43bb-9d6d-f7def5f5058f",
   "metadata": {},
   "outputs": [],
   "source": [
    "@build_ui(name='Cytoscape Network With URL Support',\n",
    "          description='Displays a Cytoscape network in the notebook.',\n",
    "          origin='+', color='rgb(210, 140, 34)',\n",
    "          parameters={\n",
    "              'cx_file': {\n",
    "                  'required': True,\n",
    "                  'description': 'Select a Cytoscape network to view',\n",
    "                  'type': 'file',\n",
    "                  'kinds': ['cx']\n",
    "              }\n",
    "          })\n",
    "def display_cytoscape_network(cx_file=''):\n",
    "    # Determine if the input is a file path or URL\n",
    "    is_url = re.compile(\n",
    "        r'^(?:http|ftp)s?://'  # http:// or https://\n",
    "        r'(?:(?:[A-Z0-9](?:[A-Z0-9-]{0,61}[A-Z0-9])?\\.)+(?:[A-Z]{2,6}\\.?|[A-Z0-9-]{2,}\\.?)|'  # domain...\n",
    "        r'localhost|'  # localhost...\n",
    "        r'\\d{1,3}\\.\\d{1,3}\\.\\d{1,3}\\.\\d{1,3})'  # ...or ip\n",
    "        r'(?::\\d+)?'  # optional port\n",
    "        r'(?:/?|[/?]\\S+)$', re.IGNORECASE)\n",
    "\n",
    "    # Set the opener based on local or remote\n",
    "    if re.match(is_url, cx_file): open_file = urlopen\n",
    "    else: open_file = builtins.open\n",
    "\n",
    "    # Read the contents of the file\n",
    "    data = ''\n",
    "    with open_file(cx_file) as f: data = f.read()\n",
    "\n",
    "    # Display the network\n",
    "    data_json = json.loads(data)\n",
    "    cx_data = { \"application/cx\": data_json }\n",
    "    display(cx_data, raw=True)"
   ]
  },
  {
   "cell_type": "markdown",
   "id": "a41d08c4-f541-4799-9a37-f1d37f08b01e",
   "metadata": {},
   "source": [
    "## User Interface Builder Features\n",
    "\n",
    "Below are a selection of User Interface Builder features may be useful when integrating a bioinformatics tool."
   ]
  },
  {
   "cell_type": "markdown",
   "id": "2a018d44-f54f-472c-9ec4-247803df3a7d",
   "metadata": {},
   "source": [
    "<h3 id=\"Python-Variables-&amp;-String-Literals\">Python Variables &amp; String Literals</h3>\n",
    "<p>Python variables may be used as input when filling out a UI Builder form. To do this, simply type the name of the variable into the input field. When the form is submitted, the widget will pass a reference to the variable in the resulting function call.</p>\n",
    "<p>Conversely, to ensure that an input value is evaluated as a string literal rather than a variable name, a user can wrap the input to a particular field in either single or double quotes (' or \"). This tells the UI Builder to skip checking for variable names and to treat the value in quotes as a literal string. For example, forcing the string <em>foo</em> to be treated as a string literal would be entered in the input field as: <code>\"foo\"</code>.</p>"
   ]
  },
  {
   "cell_type": "code",
   "execution_count": null,
   "id": "2e3d8826-31ea-46d6-9bc6-e203c73e4da3",
   "metadata": {
    "tags": []
   },
   "outputs": [],
   "source": [
    "foo = \"This is a Python variable\""
   ]
  },
  {
   "cell_type": "code",
   "execution_count": null,
   "id": "07b03a64-e674-4145-863f-b85db4de891a",
   "metadata": {
    "tags": []
   },
   "outputs": [],
   "source": [
    "@build_ui\n",
    "def variable_example(input_text='foo'):\n",
    "    \"\"\"Print what was input\"\"\"\n",
    "    print(input_text)"
   ]
  },
  {
   "cell_type": "markdown",
   "id": "c9c3ef4a-8174-4629-99fa-c968685f569e",
   "metadata": {},
   "source": [
    "<h3 id=\"Rendering-Existing-Functions\">Rendering Existing Functions</h3>\n",
    "<p>Existing Python functions, such as those included in third-party Python libraries, can also be used with the UI Builder. To display an existing function, first import it and then pass the function into the constructor of a <code>UIBuilder</code> object. Return this object in a cell to display the resulting widget. For example, the code for displaying the <code>os</code> module's <code>chdir</code> function is given below.</p>"
   ]
  },
  {
   "cell_type": "code",
   "execution_count": null,
   "id": "37e26278-aa87-4b62-b695-cd0e8744f420",
   "metadata": {
    "tags": []
   },
   "outputs": [],
   "source": [
    "from os import chdir\n",
    "\n",
    "UIBuilder(chdir)"
   ]
  },
  {
   "cell_type": "markdown",
   "id": "c24e47ee-eb88-46fa-b4e4-b2aa51565296",
   "metadata": {},
   "source": [
    "<h3 id=\"Hiding-Parameters\">Hiding Parameters</h3>\n",
    "<p>Sometimes a particular function has parameters that shouldn't be changed in the current context or which the notebook author does not wish to expose. The UI Builder has the ability to hide the input for these parameters, simplifying the user interface and allowing users to focus only on the relevant inputs.</p>\n",
    "<p>When the function is called, these hidden parameters will automatically use their default values. This may be combined with overriding the default value for the parameter in question in order to force a particular input.</p>\n",
    "<p>An example is given below in which a parameter is hidden.</p>"
   ]
  },
  {
   "cell_type": "code",
   "execution_count": null,
   "id": "16bff42b-1d4c-4d9f-8158-c2c70dfd32e8",
   "metadata": {
    "tags": []
   },
   "outputs": [],
   "source": [
    "@build_ui(parameters={\n",
    "    \"param_2\": { \n",
    "        \"hide\": True, \n",
    "        \"default\": \"Default value\" \n",
    "    }\n",
    "})\n",
    "def hiding_example(param_1, param_2):\n",
    "    \"\"\"Hide parameters\"\"\"\n",
    "    print(param_2)"
   ]
  },
  {
   "cell_type": "markdown",
   "id": "1acd6edf-de5f-40e4-b81d-d73c9c8c27a6",
   "metadata": {},
   "source": [
    "<h3 id=\"Output-Variable\">Output Variable</h3>\n",
    "<p>The result of a UI Builder function can optionally be assigned to a Python variable. If enabled, a text field for this variable will appear at the bottom of a UI Builder widget. This field can be overridden just like any other parameter using the <code>output_var</code> parameter name. An example is given below. Enter a text value into the input form, then note that this value is assigned to the `results` variable after the function is executed.</p>"
   ]
  },
  {
   "cell_type": "code",
   "execution_count": null,
   "id": "44f17f49-27ee-4ab8-9abc-b939d856e8f6",
   "metadata": {
    "tags": []
   },
   "outputs": [],
   "source": [
    "@build_ui(parameters={\n",
    "    \"output_var\": {\n",
    "        \"name\": \"output\",\n",
    "        \"default\": \"results\",\n",
    "        \"description\": \"The results of the function\",\n",
    "        \"hide\": False,\n",
    "    }\n",
    "})\n",
    "def output_var_example(param_1):\n",
    "    \"\"\"Override and hide the output variable\"\"\"\n",
    "    return param_1"
   ]
  },
  {
   "cell_type": "code",
   "execution_count": null,
   "id": "73ecfb91-4654-49f3-9631-588217e6163c",
   "metadata": {
    "tags": []
   },
   "outputs": [],
   "source": [
    "results"
   ]
  },
  {
   "cell_type": "markdown",
   "id": "34567750-a1eb-4637-8f2c-17668e72bc78",
   "metadata": {},
   "source": [
    "<h3 id=\"Parameter-Types\">Parameter Types</h3>\n",
    "<p>The UI Builder supports a number of parameter types and implements features to make handling those types easier. Supported types include:</p>\n",
    "<ul>\n",
    "<li><strong>text:</strong> Supports any text value. Text is also the default parameter type if no other type information has been specified or can be determined.</li>\n",
    "<li><strong>number:</strong> Accepts any numerical value and renders itself in a notebook as an HTML number input.</li>\n",
    "<li><strong>password:</strong> Works exactly like a text input, but obfuscates the input value as a password field.</li>\n",
    "<li><strong>choice:</strong> When provided with a list of choices, this input will render as a dropdown parameter, with the default value selected. Choice parameters are described in their own section below.</li>\n",
    "<li><strong>bool:</strong> A boolean input representing True and False. Renders as a choice parameter with those two options.</li>\n",
    "<li><strong>file:</strong> An input intended to receive a file or file-like object. File parameters are described in their own section below.</li>\n",
    "</ul>\n",
    "<p>The UI Builder will infer a parameter's type from its default value, defaulting to a text parameter if no value is available or if the default value's type doesn't match one of the known types above. Alternatively,you may specify a parameter's type in the code. An example is provided below. It illustrates how to specify each type, except for choice and file parameters, which are each detailed in their own sections.</p>"
   ]
  },
  {
   "cell_type": "code",
   "execution_count": null,
   "id": "f05146a6-36ff-4a07-9413-1deb35179cdd",
   "metadata": {
    "tags": []
   },
   "outputs": [],
   "source": [
    "@build_ui(parameters={\n",
    "    \"a_text_param\": {\n",
    "        \"type\": \"text\"\n",
    "    },\n",
    "    \"a_number_param\": {\n",
    "        \"type\": \"number\"\n",
    "    },\n",
    "    \"a_password_param\": {\n",
    "        \"type\": \"password\"\n",
    "    },\n",
    "    \"a_bool_param\": {\n",
    "        \"type\": \"bool\"\n",
    "    },\n",
    "})\n",
    "def type_example(a_text_param, a_number_param, a_password_param, a_bool_param=True):\n",
    "    \"\"\"Parameter type example\"\"\"\n",
    "    print([a_text_param, a_number_param, a_password_param, a_bool_param])"
   ]
  },
  {
   "cell_type": "markdown",
   "id": "dbda6b88-fe3e-4d85-8a9a-57515d8c8d21",
   "metadata": {},
   "source": [
    "<h4 id=\"Choice-Parameters\">Choice Parameters</h4>\n",
    "<p>Sometimes a parameter only accepts a limited set of valid input values. This is often represented in a user interface as a dropdown (select) input. The UI Builder has support for this functionality. To change a particular parameter into a dropdown input, simply set the type to \"choice\" and provide the parameter with a dictionary of available choices.</p>"
   ]
  },
  {
   "cell_type": "code",
   "execution_count": null,
   "id": "28d0f89d-4e80-46bb-a75e-cfde6c733a3a",
   "metadata": {
    "tags": []
   },
   "outputs": [],
   "source": [
    "@build_ui(parameters={\n",
    "    \"param_1\": {\n",
    "        \"default\": \"some_value\",\n",
    "        \"type\": \"choice\",\n",
    "        \"choices\": {\n",
    "            \"foo label\": \"foo value\",\n",
    "            \"bar label\": \"bar value\",\n",
    "            \"some_label\": \"some_value\"\n",
    "        }\n",
    "    } \n",
    "})\n",
    "def choice_example(param_1):\n",
    "    \"\"\"Select a value from a dropdown\"\"\"\n",
    "    print(param_1)"
   ]
  },
  {
   "cell_type": "markdown",
   "id": "72c70ad0-669c-47fc-9401-5b782f5a6ce3",
   "metadata": {},
   "source": [
    "<h4 id=\"File-Parameters\">File Parameters</h4>\n",
    "<p>File parameters are intended to handle input representing a file or file-like object. Optionally, you may specify the kinds of files that a file parameter accepts. This is accomplished by providing a list of file extensions. For example, a parameter that expects a gct, odf or res file would list: <code>[\"gct\", \"odf\", \"res\"]</code>.</p>\n",
    "<p>It is worth noting that when a file is selected in the menu, the value provided to the function will actually be a string containing a path or URL to the specified file. This may be used to create a file-like object.</p>"
   ]
  },
  {
   "cell_type": "code",
   "execution_count": null,
   "id": "5be201b5-ad8c-4f70-9316-7815d8620d27",
   "metadata": {
    "tags": []
   },
   "outputs": [],
   "source": [
    "@build_ui(parameters={\n",
    "    \"param_1\": {\n",
    "        \"type\": \"file\",\n",
    "        \"kinds\": [\"gct\", \"odf\"]\n",
    "    }\n",
    "})\n",
    "def file_example(param_1):\n",
    "    \"\"\"Create a file parameter\"\"\"\n",
    "    print(param_1)"
   ]
  },
  {
   "cell_type": "markdown",
   "id": "ec6d1d24-7921-4f91-8b3f-afbdf53ee15d",
   "metadata": {},
   "source": [
    "<p>Similar to choice parameters, a file parameter may likewise be given a dictionary of possible options. These options will appear in a dropdown when the parameter it selected.</p>"
   ]
  },
  {
   "cell_type": "code",
   "execution_count": null,
   "id": "3b60fe60-e19a-4779-bc0b-e95a9f7a067b",
   "metadata": {},
   "outputs": [],
   "source": [
    "@build_ui(parameters={\n",
    "    \"param_1\": {\n",
    "        \"type\": \"file\",\n",
    "        \"choices\": {\n",
    "            \"Example Label #1\": \"ftp://fake.example.com/example_1.csv\",\n",
    "            \"Example Label #2\": \"ftp://fake.example.com/example2.csv\",\n",
    "            \"Example Label #3\": \"ftp://fake.example.com/example_3.csv\"\n",
    "        }\n",
    "    }\n",
    "})\n",
    "def file_choice_example(param_1):\n",
    "    \"\"\"Create a file parameter with choices\"\"\"\n",
    "    print(param_1)"
   ]
  },
  {
   "cell_type": "markdown",
   "id": "e8d17d13-ff09-4564-bb27-21628709df6a",
   "metadata": {},
   "source": [
    "<h3 id=\"Files-in-Markdown-Cells\">Files in Markdown Cells</h3>\n",
    "<p>Sometimes it is beneficial to the narrative of a notebook to link an externally-hosted file in a markdown cell and then to use that file as input to a UI Builder function. This can be made easier by annotating the external file link with the <code>nbtools-markdown-file</code> class. Doing so will make the file automatically appear as an option in file parameters.</p>"
   ]
  },
  {
   "cell_type": "code",
   "execution_count": null,
   "id": "dc9c82df-9e28-4a60-a607-2d3595a97bae",
   "metadata": {
    "tags": []
   },
   "outputs": [],
   "source": [
    "%%html\n",
    "\n",
    "<a class=\"nbtools-markdown-file\" href=\"https://datasets.genepattern.org/data/all_aml/all_aml_test.cls\">An annotated link to an external file.</a>"
   ]
  },
  {
   "cell_type": "code",
   "execution_count": null,
   "id": "40424ce2-5a61-46fc-bf8a-2218f9c33cfe",
   "metadata": {
    "tags": []
   },
   "outputs": [],
   "source": [
    "@build_ui(parameters={\n",
    "    \"param_1\": {\n",
    "        \"type\": \"file\",\n",
    "        \"kinds\": [\"cls\"]\n",
    "    }\n",
    "})\n",
    "def markdown_file_example(param_1):\n",
    "    \"\"\"Markdown file example\"\"\"\n",
    "    print(param_1)"
   ]
  },
  {
   "cell_type": "markdown",
   "id": "006400b1-6287-4e65-b0cc-ae9538dcb0b0",
   "metadata": {},
   "source": [
    "<h3 id=\"Messages\">Messages</h3>\n",
    "<p>You can set informative messages on a UI Builder widget to display useful information to the user. These may either be specified when the widget is created or dynamically within the wrapped function, adding a degree of interactivity. Message types include:</p>\n",
    "<ul>\n",
    "<li><strong>info:</strong> Sets an informative message to display to the user in a highlighted info callout.</li>\n",
    "<li><strong>error:</strong> Sets an error message to display to the user in an error callout.</li>\n",
    "</ul>"
   ]
  },
  {
   "cell_type": "code",
   "execution_count": null,
   "id": "18d3434d-0b5f-4239-aee9-0d506c06ab32",
   "metadata": {
    "tags": []
   },
   "outputs": [],
   "source": [
    "@build_ui(info='You must do something before running this function.',\n",
    "                  error='An error was encountered performing the function.')\n",
    "def message_example(first_parameter):\n",
    "    print(first_parameter)"
   ]
  },
  {
   "cell_type": "code",
   "execution_count": null,
   "id": "1f6081c3-b090-4ff9-8eb1-d14e4aa76a3c",
   "metadata": {},
   "outputs": [],
   "source": []
  }
 ],
 "metadata": {
  "kernelspec": {
   "display_name": "Python 3 (ipykernel)",
   "language": "python",
   "name": "python3"
  },
  "language_info": {
   "codemirror_mode": {
    "name": "ipython",
    "version": 3
   },
   "file_extension": ".py",
   "mimetype": "text/x-python",
   "name": "python",
   "nbconvert_exporter": "python",
   "pygments_lexer": "ipython3",
   "version": "3.10.10"
  },
  "widgets": {
   "application/vnd.jupyter.widget-state+json": {
    "state": {
     "0008ba0c33d949d19ff4a9ec0544dcb5": {
      "model_module": "@jupyter-widgets/base",
      "model_module_version": "2.0.0",
      "model_name": "LayoutModel",
      "state": {
       "grid_area": "input",
       "width": "auto"
      }
     },
     "02b75c9c60034e5ba2760798df1c3fd5": {
      "model_module": "@jupyter-widgets/controls",
      "model_module_version": "2.0.0",
      "model_name": "GridBoxModel",
      "state": {
       "_dom_classes": [
        "nbtools-input",
        "nbtools-comboinput"
       ],
       "children": [
        "IPY_MODEL_12004c88fc154eabaa12101033ce2225",
        "IPY_MODEL_9bb43e5d088445ebadc91bd2ae371500",
        "IPY_MODEL_3a9712c9a3664653a97536c60fbdc91e"
       ],
       "layout": "IPY_MODEL_1cf2d7aa0f084bdda49d063157963b0c"
      }
     },
     "0328aa2368f940db86c33ab3c567aac6": {
      "model_module": "@jupyter-widgets/controls",
      "model_module_version": "2.0.0",
      "model_name": "LabelStyleModel",
      "state": {
       "description_width": "",
       "font_family": null,
       "font_size": null,
       "font_style": null,
       "font_variant": null,
       "font_weight": null,
       "text_color": null,
       "text_decoration": null
      }
     },
     "03739c8e942d4971b7310aab69fb9d52": {
      "model_module": "@jupyter-widgets/base",
      "model_module_version": "2.0.0",
      "model_name": "LayoutModel",
      "state": {}
     },
     "07543278af014580b367896e53c08e6e": {
      "model_module": "@jupyter-widgets/controls",
      "model_module_version": "2.0.0",
      "model_name": "VBoxModel",
      "state": {
       "children": [
        "IPY_MODEL_b5fd642598b74f99b232afa01d4c1951"
       ],
       "layout": "IPY_MODEL_73acd59a76c6480f916799c6ba7d8e52"
      }
     },
     "07bcb581728145b79d4e2000811f8d93": {
      "model_module": "@jupyter-widgets/controls",
      "model_module_version": "2.0.0",
      "model_name": "TextModel",
      "state": {
       "_dom_classes": [
        "nbtools-menu-attached"
       ],
       "layout": "IPY_MODEL_46a4cb680d7a4ff5999eb30ffcffa9a6",
       "style": "IPY_MODEL_55e5c744de024ba68a81d3c65b188530"
      }
     },
     "096e06a75b91451e8f7dc8210fa18e11": {
      "model_module": "@jupyter-widgets/base",
      "model_module_version": "2.0.0",
      "model_name": "LayoutModel",
      "state": {
       "display": "none",
       "grid_template_areas": "\n                    \"label input\"\n                    \". description\"\n                ",
       "grid_template_columns": "25% 75%",
       "grid_template_rows": "auto auto",
       "width": "100%"
      }
     },
     "09881b64ded04cf6a55c7fd0583e95f3": {
      "model_module": "@jupyter-widgets/controls",
      "model_module_version": "2.0.0",
      "model_name": "ComboboxModel",
      "state": {
       "_dom_classes": [
        "nbtools-menu-attached",
        "nbtools-nosendto"
       ],
       "choices": {
        "Bonobo (MPI-EVA panpan1.1/panPan2)": "panPan2",
        "C. elegans (ce11)": "ce11",
        "Chimp (SAC 2.1.4/panTro4)": "panTro4",
        "Cow (UMD_3.1.1/bosTau8)": "bosTau8",
        "D. melanogaster (dm6)": "dm6",
        "Dog (Broad CanFam3.1/canFam3)": "canFam3",
        "Gorilla (gorGor4.1/gorGor4)": "gorGor4",
        "Human (CRCh37/hg19)": "hg19",
        "Human (GRCh38/hg38)": "hg38",
        "Human (hg18)": "hg18",
        "Mouse (GRCm38/mm10)": "mm10",
        "Pig (SGSC Sscrofa11.1/susScr11)": "susScr11",
        "Rat (RGCS 6.0/rn6)": "rn6",
        "S. cerevisiae (sacCer3)": "sacCer3",
        "Zebrafish (GRCZ10/danRer10)": "danRer10",
        "Zebrafish (GRCZ11/danRer11)": "danRer11"
       },
       "ensure_option": false,
       "kinds": [],
       "layout": "IPY_MODEL_cb43ff68d01d4723bfb7c7e4e7d14124",
       "style": "IPY_MODEL_09d43adbe0d2415595f839a67f50fbd2",
       "value": "hg38"
      }
     },
     "09d43adbe0d2415595f839a67f50fbd2": {
      "model_module": "@jupyter-widgets/controls",
      "model_module_version": "2.0.0",
      "model_name": "TextStyleModel",
      "state": {
       "description_width": "",
       "font_size": null,
       "text_color": null
      }
     },
     "0b4f184ea2464f31873a5519d576881a": {
      "model_module": "@jupyter-widgets/controls",
      "model_module_version": "2.0.0",
      "model_name": "ComboboxModel",
      "state": {
       "_dom_classes": [
        "nbtools-menu-attached"
       ],
       "choices": {},
       "ensure_option": false,
       "kinds": [],
       "layout": "IPY_MODEL_53aa28924b2e42e09ab780bcb9d662e4",
       "style": "IPY_MODEL_f0b838a511ab458895674937e54f8ff6"
      }
     },
     "0bb2a77ce2eb45c6bcbb1f7fe28037a8": {
      "model_module": "@jupyter-widgets/controls",
      "model_module_version": "2.0.0",
      "model_name": "LabelStyleModel",
      "state": {
       "description_width": "",
       "font_family": null,
       "font_size": null,
       "font_style": null,
       "font_variant": null,
       "font_weight": null,
       "text_color": null,
       "text_decoration": null
      }
     },
     "0bc4b3eccf114005b9138f6812af87ac": {
      "model_module": "@jupyter-widgets/controls",
      "model_module_version": "2.0.0",
      "model_name": "ButtonModel",
      "state": {
       "_dom_classes": [
        "hidden"
       ],
       "description": "Run",
       "layout": "IPY_MODEL_8bf9ce1c50394fd5bb3b2b5fb1d34fd8",
       "style": "IPY_MODEL_90ab0f1c392d4736abe2a075e15f2e99",
       "tooltip": null
      }
     },
     "0c47637a2d1e42f9af730a52faba20df": {
      "model_module": "@jupyter-widgets/controls",
      "model_module_version": "2.0.0",
      "model_name": "LabelStyleModel",
      "state": {
       "description_width": "",
       "font_family": null,
       "font_size": null,
       "font_style": null,
       "font_variant": null,
       "font_weight": null,
       "text_color": null,
       "text_decoration": null
      }
     },
     "0cf978017bfc46ad9854676d1f4c8fb0": {
      "model_module": "@jupyter-widgets/base",
      "model_module_version": "2.0.0",
      "model_name": "LayoutModel",
      "state": {
       "display": "none",
       "grid_template_areas": "\n                    \"label input\"\n                    \". description\"\n                ",
       "grid_template_columns": "25% 75%",
       "grid_template_rows": "auto auto",
       "width": "100%"
      }
     },
     "10528f508acd4d3aabb71a14055a79b5": {
      "model_module": "@jupyter-widgets/controls",
      "model_module_version": "2.0.0",
      "model_name": "LabelStyleModel",
      "state": {
       "description_width": "",
       "font_family": null,
       "font_size": null,
       "font_style": null,
       "font_variant": null,
       "font_weight": null,
       "text_color": null,
       "text_decoration": null
      }
     },
     "108cface69c44b6c8c7919dc38c2d9aa": {
      "model_module": "@jupyter-widgets/controls",
      "model_module_version": "2.0.0",
      "model_name": "ButtonModel",
      "state": {
       "_dom_classes": [
        "hidden"
       ],
       "description": "Run",
       "layout": "IPY_MODEL_2f169f65da574f219d34cd2ccfd29deb",
       "style": "IPY_MODEL_9e5b20e2e863447baebf89a39d30417b",
       "tooltip": null
      }
     },
     "11a9fdcde0e44dbd89cf7e431a42d42f": {
      "model_module": "@jupyter-widgets/controls",
      "model_module_version": "2.0.0",
      "model_name": "LabelStyleModel",
      "state": {
       "description_width": "",
       "font_family": null,
       "font_size": null,
       "font_style": null,
       "font_variant": null,
       "font_weight": null,
       "text_color": null,
       "text_decoration": null
      }
     },
     "12004c88fc154eabaa12101033ce2225": {
      "model_module": "@jupyter-widgets/controls",
      "model_module_version": "2.0.0",
      "model_name": "LabelModel",
      "state": {
       "description": "track type",
       "layout": "IPY_MODEL_d6ed3a86c4e949a5b8b78109e15b4fd9",
       "style": "IPY_MODEL_60c2f1b19b444910a1651afa220ffa5c",
       "value": "track type"
      }
     },
     "134564d993a44b22abb54453057a942c": {
      "model_module": "@jupyter-widgets/base",
      "model_module_version": "2.0.0",
      "model_name": "LayoutModel",
      "state": {}
     },
     "141e621343e944db86b5996dd6b79ec7": {
      "model_module": "@jupyter-widgets/output",
      "model_module_version": "1.0.0",
      "model_name": "OutputModel",
      "state": {
       "layout": "IPY_MODEL_4a620f799f3f4da78435b2156044b075"
      }
     },
     "15755cb105164b68a004f3faf2b04e86": {
      "model_module": "@g2nb/ipyuploads",
      "model_module_version": "0.2.1",
      "model_name": "UploadModel",
      "state": {
       "description_allow_html": false,
       "layout": "IPY_MODEL_ac1719911c3d4a0f8f9996391f4e4b59",
       "style": "IPY_MODEL_9bf8e7da376f42c8b783411dc8e68400"
      }
     },
     "16bf1993dde745aea74b07332107b344": {
      "model_module": "@jupyter-widgets/base",
      "model_module_version": "2.0.0",
      "model_name": "LayoutModel",
      "state": {
       "grid_area": "label",
       "width": "auto"
      }
     },
     "173321149bb244b8b4a77e975e176aca": {
      "model_module": "@jupyter-widgets/controls",
      "model_module_version": "2.0.0",
      "model_name": "TextStyleModel",
      "state": {
       "description_width": "",
       "font_size": null,
       "text_color": null
      }
     },
     "17877371495649bb9db4cfbec0d35ae6": {
      "model_module": "@jupyter-widgets/base",
      "model_module_version": "2.0.0",
      "model_name": "LayoutModel",
      "state": {
       "grid_area": "label",
       "width": "auto"
      }
     },
     "181393a36113498c92364dcbfd5a6643": {
      "model_module": "@jupyter-widgets/controls",
      "model_module_version": "2.0.0",
      "model_name": "LabelModel",
      "state": {
       "description": "output variable",
       "layout": "IPY_MODEL_17877371495649bb9db4cfbec0d35ae6",
       "style": "IPY_MODEL_6a9f9ef36abc48a09bfe19686aaf2dff",
       "value": "output variable"
      }
     },
     "1854a3c6e5a74b7db86d9d3df21418ba": {
      "model_module": "@jupyter-widgets/base",
      "model_module_version": "2.0.0",
      "model_name": "LayoutModel",
      "state": {
       "grid_area": "description",
       "width": "auto"
      }
     },
     "185dd6997e3747eca370a485776caedc": {
      "model_module": "@jupyter-widgets/controls",
      "model_module_version": "2.0.0",
      "model_name": "LabelModel",
      "state": {
       "description": "Choose the genome for your data.",
       "layout": "IPY_MODEL_73a6b256cc064d9bbe9eb64691578b56",
       "style": "IPY_MODEL_ad76cc167c2c48008e7253d46264df59",
       "value": "Choose the genome for your data."
      }
     },
     "18b97e4098934a62b7f8208a6312a56d": {
      "model_module": "@jupyter-widgets/controls",
      "model_module_version": "2.0.0",
      "model_name": "ButtonModel",
      "state": {
       "_dom_classes": [
        "hidden"
       ],
       "description": "Run",
       "layout": "IPY_MODEL_e7abc1ca830542b88df7924fb0ffae42",
       "style": "IPY_MODEL_463b243e3b294a5f970841c6d7acbca0",
       "tooltip": null
      }
     },
     "18ebb179bd3344429a2f14ae805d7cdf": {
      "model_module": "@jupyter-widgets/output",
      "model_module_version": "1.0.0",
      "model_name": "OutputModel",
      "state": {
       "layout": "IPY_MODEL_ab2a118ce0384e2cb57f1a1ce034b8a7"
      }
     },
     "1a02997f72f54122ae7295b07363ebf8": {
      "model_module": "@jupyter-widgets/base",
      "model_module_version": "2.0.0",
      "model_name": "LayoutModel",
      "state": {
       "grid_area": "input",
       "width": "auto"
      }
     },
     "1bdb327998484910a366149da0d78b2b": {
      "model_module": "@jupyter-widgets/base",
      "model_module_version": "2.0.0",
      "model_name": "LayoutModel",
      "state": {}
     },
     "1c23564aa1be49f2b1181c19756afc20": {
      "model_module": "@jupyter-widgets/base",
      "model_module_version": "2.0.0",
      "model_name": "LayoutModel",
      "state": {
       "grid_area": "input",
       "width": "auto"
      }
     },
     "1c8b0143a6e8474b9c01009212ea998b": {
      "model_module": "@jupyter-widgets/controls",
      "model_module_version": "2.0.0",
      "model_name": "LabelStyleModel",
      "state": {
       "description_width": "",
       "font_family": null,
       "font_size": null,
       "font_style": null,
       "font_variant": null,
       "font_weight": null,
       "text_color": null,
       "text_decoration": null
      }
     },
     "1cf2d7aa0f084bdda49d063157963b0c": {
      "model_module": "@jupyter-widgets/base",
      "model_module_version": "2.0.0",
      "model_name": "LayoutModel",
      "state": {
       "grid_template_areas": "\n                    \"label input\"\n                    \". description\"\n                ",
       "grid_template_columns": "25% 75%",
       "grid_template_rows": "auto auto",
       "width": "100%"
      }
     },
     "1e201e005b6042db89d79860dc4f7159": {
      "model_module": "@jupyter-widgets/controls",
      "model_module_version": "2.0.0",
      "model_name": "LabelModel",
      "state": {
       "description": "Select a Cytoscape network to view",
       "layout": "IPY_MODEL_e0410a911d9042738f7b0d1c21eca134",
       "style": "IPY_MODEL_664a80ab8abf41d6b84492dc7b69d6fe",
       "value": "Select a Cytoscape network to view"
      }
     },
     "20545ab82cbb4dad9f45784445f95ed5": {
      "model_module": "@jupyter-widgets/controls",
      "model_module_version": "2.0.0",
      "model_name": "LabelStyleModel",
      "state": {
       "description_width": "",
       "font_family": null,
       "font_size": null,
       "font_style": null,
       "font_variant": null,
       "font_weight": null,
       "text_color": null,
       "text_decoration": null
      }
     },
     "239a96d562c14ee2abd218f225151560": {
      "model_module": "@jupyter-widgets/controls",
      "model_module_version": "2.0.0",
      "model_name": "TextStyleModel",
      "state": {
       "description_width": "",
       "font_size": null,
       "text_color": null
      }
     },
     "23b58288c8ff4678bc733088a5a027ed": {
      "model_module": "@jupyter-widgets/base",
      "model_module_version": "2.0.0",
      "model_name": "LayoutModel",
      "state": {}
     },
     "25961bc2d7b74b3d99743d69a785fab6": {
      "model_module": "@jupyter-widgets/base",
      "model_module_version": "2.0.0",
      "model_name": "LayoutModel",
      "state": {}
     },
     "283c050c89a04f60a46de5f8e1b653a9": {
      "model_module": "@jupyter-widgets/base",
      "model_module_version": "2.0.0",
      "model_name": "LayoutModel",
      "state": {}
     },
     "29759b26a6d64b45bd2be0114a241f66": {
      "model_module": "@jupyter-widgets/base",
      "model_module_version": "2.0.0",
      "model_name": "LayoutModel",
      "state": {
       "display": "none",
       "grid_template_areas": "\n                    \"label input\"\n                    \". description\"\n                ",
       "grid_template_columns": "25% 75%",
       "grid_template_rows": "auto auto",
       "width": "100%"
      }
     },
     "2a7d13bfd3744c6280f4385453e86551": {
      "model_module": "@jupyter-widgets/controls",
      "model_module_version": "2.0.0",
      "model_name": "LabelModel",
      "state": {
       "description": "output variable",
       "layout": "IPY_MODEL_4c0b4e95e2e54afab860b1ae71baf42b",
       "style": "IPY_MODEL_10528f508acd4d3aabb71a14055a79b5",
       "value": "output variable"
      }
     },
     "2f169f65da574f219d34cd2ccfd29deb": {
      "model_module": "@jupyter-widgets/base",
      "model_module_version": "2.0.0",
      "model_name": "LayoutModel",
      "state": {}
     },
     "2fe611a46d3e4b0992f58e7242b2ca18": {
      "model_module": "@jupyter-widgets/controls",
      "model_module_version": "2.0.0",
      "model_name": "LabelModel",
      "state": {
       "description": "tracks",
       "layout": "IPY_MODEL_def3a7351ffc436d978952ecae97c4d7",
       "style": "IPY_MODEL_b41275ccefc64cb4b319e9a10cf81146",
       "value": "tracks"
      }
     },
     "3055fc5596d8401f9af62ae5040a82a9": {
      "model_module": "@jupyter-widgets/controls",
      "model_module_version": "2.0.0",
      "model_name": "ButtonStyleModel",
      "state": {
       "font_family": null,
       "font_size": null,
       "font_style": null,
       "font_variant": null,
       "font_weight": null,
       "text_color": null,
       "text_decoration": null
      }
     },
     "36b5280009d6432595bd7c8a4ca50a6d": {
      "model_module": "@jupyter-widgets/base",
      "model_module_version": "2.0.0",
      "model_name": "LayoutModel",
      "state": {
       "grid_area": "label",
       "width": "auto"
      }
     },
     "380d11ef043b422dba40c389fa6f6dc1": {
      "model_module": "@jupyter-widgets/output",
      "model_module_version": "1.0.0",
      "model_name": "OutputModel",
      "state": {
       "layout": "IPY_MODEL_23b58288c8ff4678bc733088a5a027ed"
      }
     },
     "3818da5735144cae9d572a515ca8b201": {
      "model_module": "@jupyter-widgets/controls",
      "model_module_version": "2.0.0",
      "model_name": "TextModel",
      "state": {
       "_dom_classes": [
        "nbtools-menu-attached"
       ],
       "layout": "IPY_MODEL_f264341dcf8e473691cb09601d8f4612",
       "style": "IPY_MODEL_3c8aea329b774cb0a49652c9c045c9b9"
      }
     },
     "3824337333d54d31b327725a57a5abb4": {
      "model_module": "@jupyter-widgets/base",
      "model_module_version": "2.0.0",
      "model_name": "LayoutModel",
      "state": {
       "grid_area": "label",
       "width": "auto"
      }
     },
     "3a9712c9a3664653a97536c60fbdc91e": {
      "model_module": "@jupyter-widgets/controls",
      "model_module_version": "2.0.0",
      "model_name": "LabelModel",
      "state": {
       "description": "Enter the type of the track datasets",
       "layout": "IPY_MODEL_704b59c07cb5431387165aac2dba0f80",
       "style": "IPY_MODEL_c39a8b0c4cff44aaa37933709f7d5758",
       "value": "Enter the type of the track datasets"
      }
     },
     "3b9a8a9282ac45a6ac14f9a97211ab77": {
      "model_module": "@jupyter-widgets/controls",
      "model_module_version": "2.0.0",
      "model_name": "LabelModel",
      "state": {
       "description": "Enter the URL to the index files that correspond to each track",
       "layout": "IPY_MODEL_ad9a160c721f4bfdaaa080ae8a8f2958",
       "style": "IPY_MODEL_0328aa2368f940db86c33ab3c567aac6",
       "value": "Enter the URL to the index files that correspond to each track"
      }
     },
     "3c8aea329b774cb0a49652c9c045c9b9": {
      "model_module": "@jupyter-widgets/controls",
      "model_module_version": "2.0.0",
      "model_name": "TextStyleModel",
      "state": {
       "description_width": "",
       "font_size": null,
       "text_color": null
      }
     },
     "3cc5a00701974a70bfa29d45f3797c9d": {
      "model_module": "@jupyter-widgets/base",
      "model_module_version": "2.0.0",
      "model_name": "LayoutModel",
      "state": {}
     },
     "3df297780d8e4321b5f3925e65002e2f": {
      "model_module": "@jupyter-widgets/controls",
      "model_module_version": "2.0.0",
      "model_name": "VBoxModel",
      "state": {
       "children": [
        "IPY_MODEL_b877ce9a277b487d9ba2e4aac4d0228e",
        "IPY_MODEL_f301d74624e84ca9bf8640bf5cd6ecbe"
       ],
       "layout": "IPY_MODEL_283c050c89a04f60a46de5f8e1b653a9"
      }
     },
     "4105229936b746cf9aa5bc8c571e58c3": {
      "model_module": "@jupyter-widgets/controls",
      "model_module_version": "2.0.0",
      "model_name": "LabelModel",
      "state": {
       "description": "output variable",
       "layout": "IPY_MODEL_a012e1a7da5a45fcb4ccdd4257f58cb1",
       "style": "IPY_MODEL_78ee387601ab47cb826ab0058fcef6a7",
       "value": "output variable"
      }
     },
     "427713d25b31462b948c8f495b280027": {
      "model_module": "@jupyter-widgets/base",
      "model_module_version": "2.0.0",
      "model_name": "LayoutModel",
      "state": {
       "display": "none",
       "grid_template_areas": "\n                    \"label input\"\n                    \". description\"\n                ",
       "grid_template_columns": "25% 75%",
       "grid_template_rows": "auto auto",
       "width": "100%"
      }
     },
     "463823f6e11947e6bc64e4f172e0dcfd": {
      "model_module": "@jupyter-widgets/controls",
      "model_module_version": "2.0.0",
      "model_name": "TextStyleModel",
      "state": {
       "description_width": "",
       "font_size": null,
       "text_color": null
      }
     },
     "463b243e3b294a5f970841c6d7acbca0": {
      "model_module": "@jupyter-widgets/controls",
      "model_module_version": "2.0.0",
      "model_name": "ButtonStyleModel",
      "state": {
       "font_family": null,
       "font_size": null,
       "font_style": null,
       "font_variant": null,
       "font_weight": null,
       "text_color": null,
       "text_decoration": null
      }
     },
     "46a4cb680d7a4ff5999eb30ffcffa9a6": {
      "model_module": "@jupyter-widgets/base",
      "model_module_version": "2.0.0",
      "model_name": "LayoutModel",
      "state": {
       "grid_area": "input",
       "width": "auto"
      }
     },
     "470451adb27d44c793b0b6d5b696c435": {
      "model_module": "@jupyter-widgets/base",
      "model_module_version": "2.0.0",
      "model_name": "LayoutModel",
      "state": {}
     },
     "479fbb4de81c4a30a1efd127a645e991": {
      "model_module": "@jupyter-widgets/controls",
      "model_module_version": "2.0.0",
      "model_name": "LabelStyleModel",
      "state": {
       "description_width": "",
       "font_family": null,
       "font_size": null,
       "font_style": null,
       "font_variant": null,
       "font_weight": null,
       "text_color": null,
       "text_decoration": null
      }
     },
     "49742d982153432f92a7525f242d445d": {
      "model_module": "@g2nb/nbtools",
      "model_module_version": ">=23.4.0",
      "model_name": "UIBuilderModel",
      "state": {
       "_model_module_version": ">=23.4.0",
       "_parameters": [
        {
         "choices": {},
         "default": "",
         "description": "Select a Cytoscape network to view",
         "events": null,
         "hide": false,
         "id": null,
         "kinds": [
          "cx"
         ],
         "label": "cx_file",
         "name": "cx_file",
         "optional": true,
         "required": true,
         "type": "file",
         "value": ""
        },
        {
         "choices": {},
         "default": "",
         "description": "",
         "events": null,
         "hide": true,
         "id": null,
         "kinds": null,
         "label": "output variable",
         "name": "output_var",
         "optional": true,
         "type": "text",
         "value": ""
        }
       ],
       "_view_count": 0,
       "_view_module_version": ">=23.4.0",
       "color": "rgb(210, 140, 34)",
       "description": "Displays a Cytoscape network in the notebook.",
       "form": "IPY_MODEL_787202f117254278bc639b423e7a3bfc",
       "layout": "IPY_MODEL_93bf31ce12ac413eb1b34ee26f85742b",
       "logo": "",
       "name": "Cytoscape Network",
       "origin": "+",
       "output": "IPY_MODEL_380d11ef043b422dba40c389fa6f6dc1",
       "output_var": ""
      }
     },
     "4a620f799f3f4da78435b2156044b075": {
      "model_module": "@jupyter-widgets/base",
      "model_module_version": "2.0.0",
      "model_name": "LayoutModel",
      "state": {}
     },
     "4b52595c6b034a72963caee71182d331": {
      "model_module": "@jupyter-widgets/controls",
      "model_module_version": "2.0.0",
      "model_name": "VBoxModel",
      "state": {
       "_dom_classes": [
        "widget-interact"
       ],
       "children": [
        "IPY_MODEL_0bc4b3eccf114005b9138f6812af87ac",
        "IPY_MODEL_5c09895d685747589eff5a64caa9cca1"
       ],
       "layout": "IPY_MODEL_1bdb327998484910a366149da0d78b2b"
      }
     },
     "4c0b4e95e2e54afab860b1ae71baf42b": {
      "model_module": "@jupyter-widgets/base",
      "model_module_version": "2.0.0",
      "model_name": "LayoutModel",
      "state": {
       "grid_area": "label",
       "width": "auto"
      }
     },
     "4c3ef08a5f8243abacea7517e3cbb088": {
      "model_module": "@jupyter-widgets/controls",
      "model_module_version": "2.0.0",
      "model_name": "ComboboxModel",
      "state": {
       "_dom_classes": [
        "nbtools-menu-attached"
       ],
       "choices": {},
       "ensure_option": false,
       "kinds": [],
       "layout": "IPY_MODEL_134564d993a44b22abb54453057a942c",
       "style": "IPY_MODEL_be8f54266a3e4e4c8691335a4527ae89"
      }
     },
     "521a6872f7c34523a53150896c5ab1b8": {
      "model_module": "@jupyter-widgets/controls",
      "model_module_version": "2.0.0",
      "model_name": "LabelModel",
      "state": {
       "description": "cx_file",
       "layout": "IPY_MODEL_8f8adec8b75a4910ae6609f3cf4a775b",
       "style": "IPY_MODEL_b8888b72bb004298834b94edc0cb9ebe",
       "value": "cx_file"
      }
     },
     "52b8c2b5a6034cba9f792f430adc0e34": {
      "model_module": "@jupyter-widgets/base",
      "model_module_version": "2.0.0",
      "model_name": "LayoutModel",
      "state": {
       "grid_area": "description",
       "width": "auto"
      }
     },
     "53aa28924b2e42e09ab780bcb9d662e4": {
      "model_module": "@jupyter-widgets/base",
      "model_module_version": "2.0.0",
      "model_name": "LayoutModel",
      "state": {}
     },
     "54ba21f83d574d0fb24a28f95af8e2fb": {
      "model_module": "@jupyter-widgets/base",
      "model_module_version": "2.0.0",
      "model_name": "LayoutModel",
      "state": {}
     },
     "55e5c744de024ba68a81d3c65b188530": {
      "model_module": "@jupyter-widgets/controls",
      "model_module_version": "2.0.0",
      "model_name": "TextStyleModel",
      "state": {
       "description_width": "",
       "font_size": null,
       "text_color": null
      }
     },
     "593603346c9c4dbb85bfb7d59d1f0330": {
      "model_module": "@jupyter-widgets/controls",
      "model_module_version": "2.0.0",
      "model_name": "HBoxModel",
      "state": {
       "children": [
        "IPY_MODEL_15755cb105164b68a004f3faf2b04e86",
        "IPY_MODEL_6f4b39acf9054c2cb09f053f4bad0b38"
       ],
       "layout": "IPY_MODEL_c06b20c6ddd047ecae29b4d24a167452"
      }
     },
     "5af8569b5a7947e3821b905fe854549d": {
      "model_module": "@jupyter-widgets/controls",
      "model_module_version": "2.0.0",
      "model_name": "GridBoxModel",
      "state": {
       "_dom_classes": [
        "nbtools-input",
        "nbtools-comboinput",
        "required"
       ],
       "children": [
        "IPY_MODEL_e4986903f6cf41f39dadf610788ae5f4",
        "IPY_MODEL_09881b64ded04cf6a55c7fd0583e95f3",
        "IPY_MODEL_185dd6997e3747eca370a485776caedc"
       ],
       "layout": "IPY_MODEL_c83f61ee2041459c8a954d7e251c0a27"
      }
     },
     "5c09895d685747589eff5a64caa9cca1": {
      "model_module": "@jupyter-widgets/output",
      "model_module_version": "1.0.0",
      "model_name": "OutputModel",
      "state": {
       "layout": "IPY_MODEL_ba163092efe64de3bafe0d83e998e80c"
      }
     },
     "5d5b18f9a29e498bba75381c3c17987e": {
      "model_module": "@jupyter-widgets/base",
      "model_module_version": "2.0.0",
      "model_name": "LayoutModel",
      "state": {}
     },
     "60c2f1b19b444910a1651afa220ffa5c": {
      "model_module": "@jupyter-widgets/controls",
      "model_module_version": "2.0.0",
      "model_name": "LabelStyleModel",
      "state": {
       "description_width": "",
       "font_family": null,
       "font_size": null,
       "font_style": null,
       "font_variant": null,
       "font_weight": null,
       "text_color": null,
       "text_decoration": null
      }
     },
     "664a80ab8abf41d6b84492dc7b69d6fe": {
      "model_module": "@jupyter-widgets/controls",
      "model_module_version": "2.0.0",
      "model_name": "LabelStyleModel",
      "state": {
       "description_width": "",
       "font_family": null,
       "font_size": null,
       "font_style": null,
       "font_variant": null,
       "font_weight": null,
       "text_color": null,
       "text_decoration": null
      }
     },
     "680555f6f21842cfb44e81a2c6803319": {
      "model_module": "@jupyter-widgets/controls",
      "model_module_version": "2.0.0",
      "model_name": "LabelStyleModel",
      "state": {
       "description_width": "",
       "font_family": null,
       "font_size": null,
       "font_style": null,
       "font_variant": null,
       "font_weight": null,
       "text_color": null,
       "text_decoration": null
      }
     },
     "6887848d82fa438a9044cf2cbc46e163": {
      "model_module": "@jupyter-widgets/base",
      "model_module_version": "2.0.0",
      "model_name": "LayoutModel",
      "state": {
       "grid_area": "description",
       "width": "auto"
      }
     },
     "6a9f9ef36abc48a09bfe19686aaf2dff": {
      "model_module": "@jupyter-widgets/controls",
      "model_module_version": "2.0.0",
      "model_name": "LabelStyleModel",
      "state": {
       "description_width": "",
       "font_family": null,
       "font_size": null,
       "font_style": null,
       "font_variant": null,
       "font_weight": null,
       "text_color": null,
       "text_decoration": null
      }
     },
     "6ba44548eeb64365acabd295a6ac1daa": {
      "model_module": "@jupyter-widgets/controls",
      "model_module_version": "2.0.0",
      "model_name": "GridBoxModel",
      "state": {
       "_dom_classes": [
        "nbtools-input",
        "nbtools-textinput"
       ],
       "children": [
        "IPY_MODEL_2a7d13bfd3744c6280f4385453e86551",
        "IPY_MODEL_3818da5735144cae9d572a515ca8b201",
        "IPY_MODEL_fa4850bf5303465e9a03b8f7e85c8bef"
       ],
       "layout": "IPY_MODEL_29759b26a6d64b45bd2be0114a241f66"
      }
     },
     "6c598107459e4075ae9e9dd473f58117": {
      "model_module": "@jupyter-widgets/controls",
      "model_module_version": "2.0.0",
      "model_name": "LabelModel",
      "state": {
       "description": "Provide a locus or gene of interest for your data",
       "layout": "IPY_MODEL_91d35411fd0f4153a16cc4131c3256df",
       "style": "IPY_MODEL_82194ae45a684408bc23e41dec151e94",
       "value": "Provide a locus or gene of interest for your data"
      }
     },
     "6d44d68e6ec94bf9adb7a8a5cb616f6f": {
      "model_module": "@jupyter-widgets/controls",
      "model_module_version": "2.0.0",
      "model_name": "TextStyleModel",
      "state": {
       "description_width": "",
       "font_size": null,
       "text_color": null
      }
     },
     "6f1835775a754bda99437207aadcd72b": {
      "model_module": "@jupyter-widgets/controls",
      "model_module_version": "2.0.0",
      "model_name": "ComboboxModel",
      "state": {
       "_dom_classes": [
        "nbtools-menu-attached"
       ],
       "choices": {},
       "ensure_option": false,
       "kinds": [],
       "layout": "IPY_MODEL_8da90d7aec1a4cff8e0499932bcbef68",
       "style": "IPY_MODEL_7c51aa5f2c8048299ea9c1b1ccc7f65a"
      }
     },
     "6f4b39acf9054c2cb09f053f4bad0b38": {
      "model_module": "@jupyter-widgets/controls",
      "model_module_version": "2.0.0",
      "model_name": "VBoxModel",
      "state": {
       "children": [
        "IPY_MODEL_0b4f184ea2464f31873a5519d576881a",
        "IPY_MODEL_6f1835775a754bda99437207aadcd72b"
       ],
       "layout": "IPY_MODEL_3cc5a00701974a70bfa29d45f3797c9d"
      }
     },
     "7035015aaceb476d9d024ac330954a5e": {
      "model_module": "@jupyter-widgets/controls",
      "model_module_version": "2.0.0",
      "model_name": "HBoxModel",
      "state": {
       "children": [
        "IPY_MODEL_d8218a50a13b46319f77708928a2157f",
        "IPY_MODEL_07543278af014580b367896e53c08e6e"
       ],
       "layout": "IPY_MODEL_1c23564aa1be49f2b1181c19756afc20"
      }
     },
     "704b59c07cb5431387165aac2dba0f80": {
      "model_module": "@jupyter-widgets/base",
      "model_module_version": "2.0.0",
      "model_name": "LayoutModel",
      "state": {
       "grid_area": "description",
       "width": "auto"
      }
     },
     "727f114678a34ff5bb86f4649bb2a4e5": {
      "model_module": "@jupyter-widgets/controls",
      "model_module_version": "2.0.0",
      "model_name": "GridBoxModel",
      "state": {
       "_dom_classes": [
        "nbtools-input",
        "nbtools-textinput"
       ],
       "children": [
        "IPY_MODEL_4105229936b746cf9aa5bc8c571e58c3",
        "IPY_MODEL_d03d945349cb4d19bb455296d734ddf0",
        "IPY_MODEL_eb1954aa6b0c4ee09b7c0ac94cf64d9e"
       ],
       "layout": "IPY_MODEL_096e06a75b91451e8f7dc8210fa18e11"
      }
     },
     "73a6b256cc064d9bbe9eb64691578b56": {
      "model_module": "@jupyter-widgets/base",
      "model_module_version": "2.0.0",
      "model_name": "LayoutModel",
      "state": {
       "grid_area": "description",
       "width": "auto"
      }
     },
     "73acd59a76c6480f916799c6ba7d8e52": {
      "model_module": "@jupyter-widgets/base",
      "model_module_version": "2.0.0",
      "model_name": "LayoutModel",
      "state": {}
     },
     "74e1932a7eef494b9d4789405bba6431": {
      "model_module": "@jupyter-widgets/base",
      "model_module_version": "2.0.0",
      "model_name": "LayoutModel",
      "state": {}
     },
     "787202f117254278bc639b423e7a3bfc": {
      "model_module": "@jupyter-widgets/controls",
      "model_module_version": "2.0.0",
      "model_name": "VBoxModel",
      "state": {
       "_dom_classes": [
        "widget-interact"
       ],
       "children": [
        "IPY_MODEL_fbbe50784316481a8aa9398319ff0edc",
        "IPY_MODEL_18b97e4098934a62b7f8208a6312a56d",
        "IPY_MODEL_727f114678a34ff5bb86f4649bb2a4e5"
       ],
       "layout": "IPY_MODEL_03739c8e942d4971b7310aab69fb9d52"
      }
     },
     "78ee387601ab47cb826ab0058fcef6a7": {
      "model_module": "@jupyter-widgets/controls",
      "model_module_version": "2.0.0",
      "model_name": "LabelStyleModel",
      "state": {
       "description_width": "",
       "font_family": null,
       "font_size": null,
       "font_style": null,
       "font_variant": null,
       "font_weight": null,
       "text_color": null,
       "text_decoration": null
      }
     },
     "7b37ba57566b49b78f8c731d03d29e42": {
      "model_module": "@jupyter-widgets/controls",
      "model_module_version": "2.0.0",
      "model_name": "GridBoxModel",
      "state": {
       "_dom_classes": [
        "nbtools-input",
        "nbtools-textinput"
       ],
       "children": [
        "IPY_MODEL_96d97ff47d3f4a41abd27aeaba30af98",
        "IPY_MODEL_9f8689687feb4eec958ebbf8c4a9bc2f",
        "IPY_MODEL_6c598107459e4075ae9e9dd473f58117"
       ],
       "layout": "IPY_MODEL_9ee0a52ad5d649e5b4ef3dcf783b8687"
      }
     },
     "7bdd6cb6c9134b10b98854257f1ad3b6": {
      "model_module": "@jupyter-widgets/base",
      "model_module_version": "2.0.0",
      "model_name": "LayoutModel",
      "state": {
       "grid_area": "label",
       "width": "auto"
      }
     },
     "7c49972d4a1142308cbdccbe460885df": {
      "model_module": "@jupyter-widgets/controls",
      "model_module_version": "2.0.0",
      "model_name": "VBoxModel",
      "state": {
       "children": [
        "IPY_MODEL_4c3ef08a5f8243abacea7517e3cbb088",
        "IPY_MODEL_9f6beeb6037e4a91959c6d89602d104b"
       ],
       "layout": "IPY_MODEL_74e1932a7eef494b9d4789405bba6431"
      }
     },
     "7c51aa5f2c8048299ea9c1b1ccc7f65a": {
      "model_module": "@jupyter-widgets/controls",
      "model_module_version": "2.0.0",
      "model_name": "TextStyleModel",
      "state": {
       "description_width": "",
       "font_size": null,
       "text_color": null
      }
     },
     "7ccfe25c7df54b059d6ad8860e87702f": {
      "model_module": "@jupyter-widgets/base",
      "model_module_version": "2.0.0",
      "model_name": "LayoutModel",
      "state": {}
     },
     "7f35ad7b69244562863fdfcd7b875115": {
      "model_module": "@jupyter-widgets/controls",
      "model_module_version": "2.0.0",
      "model_name": "GridBoxModel",
      "state": {
       "_dom_classes": [
        "nbtools-input",
        "nbtools-comboinput"
       ],
       "children": [
        "IPY_MODEL_a968a9db124e4b3aaef3d8eb4c04d2aa",
        "IPY_MODEL_82a97b7712a245bd8eeacffdea165f92",
        "IPY_MODEL_c9b0528430964c01aef1868107a68f80"
       ],
       "layout": "IPY_MODEL_c48fbee61259436f883f15d3147d4f64"
      }
     },
     "7fa75f31a8134e38a14e92eb45e589ca": {
      "model_module": "@jupyter-widgets/controls",
      "model_module_version": "2.0.0",
      "model_name": "VBoxModel",
      "state": {
       "_dom_classes": [
        "widget-interact"
       ],
       "children": [
        "IPY_MODEL_cf83c848f26049269b0d40d570b968a0",
        "IPY_MODEL_f98686ef90be4d6793aa936f5faa57ab"
       ],
       "layout": "IPY_MODEL_470451adb27d44c793b0b6d5b696c435"
      }
     },
     "82194ae45a684408bc23e41dec151e94": {
      "model_module": "@jupyter-widgets/controls",
      "model_module_version": "2.0.0",
      "model_name": "LabelStyleModel",
      "state": {
       "description_width": "",
       "font_family": null,
       "font_size": null,
       "font_style": null,
       "font_variant": null,
       "font_weight": null,
       "text_color": null,
       "text_decoration": null
      }
     },
     "82a97b7712a245bd8eeacffdea165f92": {
      "model_module": "@jupyter-widgets/controls",
      "model_module_version": "2.0.0",
      "model_name": "ComboboxModel",
      "state": {
       "_dom_classes": [
        "nbtools-menu-attached"
       ],
       "choices": {
        "": "",
        "bam": "bam",
        "bb": "bb",
        "bed": "bed",
        "bedgraph": "bedgraph",
        "bedpe": "bedpe",
        "bedpe-loop": "bedpe-loop",
        "bigbed": "bigbed",
        "bigwig": "bigwig",
        "bp": "bp",
        "bw": "bw",
        "cram": "cram",
        "gwas": "gwas",
        "mut": "mut",
        "seg": "seg",
        "tdf": "tdf",
        "vcf": "vcf",
        "wig": "wig"
       },
       "ensure_option": false,
       "kinds": [],
       "layout": "IPY_MODEL_b88bf9e88bee423c9d26156b2b128534",
       "style": "IPY_MODEL_6d44d68e6ec94bf9adb7a8a5cb616f6f"
      }
     },
     "83361ced1f604fd3ac5ebf47a6bcf6fc": {
      "model_module": "@jupyter-widgets/controls",
      "model_module_version": "2.0.0",
      "model_name": "VBoxModel",
      "state": {
       "children": [
        "IPY_MODEL_49742d982153432f92a7525f242d445d",
        "IPY_MODEL_380d11ef043b422dba40c389fa6f6dc1"
       ],
       "layout": "IPY_MODEL_a7fa0849fba04fd2a46147203a4af622"
      }
     },
     "846dbd18a9674b5caea8214b89e3c89d": {
      "model_module": "@jupyter-widgets/controls",
      "model_module_version": "2.0.0",
      "model_name": "VBoxModel",
      "state": {
       "_dom_classes": [
        "widget-interact"
       ],
       "children": [
        "IPY_MODEL_5af8569b5a7947e3821b905fe854549d",
        "IPY_MODEL_e2af9026e9934e2cbc45dfb4103188d0",
        "IPY_MODEL_89499f64e4d742f0a79b862b1345ccf4",
        "IPY_MODEL_7f35ad7b69244562863fdfcd7b875115",
        "IPY_MODEL_02b75c9c60034e5ba2760798df1c3fd5",
        "IPY_MODEL_7b37ba57566b49b78f8c731d03d29e42",
        "IPY_MODEL_108cface69c44b6c8c7919dc38c2d9aa",
        "IPY_MODEL_bf8bbb44889f45fa9a4b1de435657796"
       ],
       "layout": "IPY_MODEL_54ba21f83d574d0fb24a28f95af8e2fb"
      }
     },
     "87e824055212453094733f6a6ead639a": {
      "model_module": "@jupyter-widgets/base",
      "model_module_version": "2.0.0",
      "model_name": "LayoutModel",
      "state": {
       "grid_template_areas": "\n                    \"label input\"\n                    \". description\"\n                ",
       "grid_template_columns": "25% 75%",
       "grid_template_rows": "auto auto",
       "width": "100%"
      }
     },
     "89499f64e4d742f0a79b862b1345ccf4": {
      "model_module": "@jupyter-widgets/controls",
      "model_module_version": "2.0.0",
      "model_name": "GridBoxModel",
      "state": {
       "_dom_classes": [
        "nbtools-input",
        "nbtools-fileinput"
       ],
       "children": [
        "IPY_MODEL_9a4b34cd29354919bbd3be709c177f86",
        "IPY_MODEL_9f80351f13844ccfb4d33dfc5ef5218f",
        "IPY_MODEL_3b9a8a9282ac45a6ac14f9a97211ab77"
       ],
       "layout": "IPY_MODEL_87e824055212453094733f6a6ead639a"
      }
     },
     "8b1ec79176b44b73b171c827986a43e0": {
      "model_module": "@jupyter-widgets/controls",
      "model_module_version": "2.0.0",
      "model_name": "GridBoxModel",
      "state": {
       "_dom_classes": [
        "nbtools-input",
        "nbtools-textinput"
       ],
       "children": [
        "IPY_MODEL_d5a79bfb0db147e38787aa2a718c8a31",
        "IPY_MODEL_b278fe53402b4f02bd93e126eec52865",
        "IPY_MODEL_9691ba7943c64a169423d6d58c3775ef"
       ],
       "layout": "IPY_MODEL_0cf978017bfc46ad9854676d1f4c8fb0"
      }
     },
     "8bf9ce1c50394fd5bb3b2b5fb1d34fd8": {
      "model_module": "@jupyter-widgets/base",
      "model_module_version": "2.0.0",
      "model_name": "LayoutModel",
      "state": {}
     },
     "8d2b897398dd47ae86c66c06dc2288c3": {
      "model_module": "@jupyter-widgets/controls",
      "model_module_version": "2.0.0",
      "model_name": "TextStyleModel",
      "state": {
       "description_width": "",
       "font_size": null,
       "text_color": null
      }
     },
     "8d989da2521a47919c6cbf5f86e02212": {
      "model_module": "@g2nb/ipyuploads",
      "model_module_version": "0.2.1",
      "model_name": "UploadModel",
      "state": {
       "description_allow_html": false,
       "layout": "IPY_MODEL_5d5b18f9a29e498bba75381c3c17987e",
       "style": "IPY_MODEL_c2ccb65006e14b7e87c94a05fe16d7e3"
      }
     },
     "8da90d7aec1a4cff8e0499932bcbef68": {
      "model_module": "@jupyter-widgets/base",
      "model_module_version": "2.0.0",
      "model_name": "LayoutModel",
      "state": {}
     },
     "8f8adec8b75a4910ae6609f3cf4a775b": {
      "model_module": "@jupyter-widgets/base",
      "model_module_version": "2.0.0",
      "model_name": "LayoutModel",
      "state": {
       "grid_area": "label",
       "width": "auto"
      }
     },
     "90ab0f1c392d4736abe2a075e15f2e99": {
      "model_module": "@jupyter-widgets/controls",
      "model_module_version": "2.0.0",
      "model_name": "ButtonStyleModel",
      "state": {
       "font_family": null,
       "font_size": null,
       "font_style": null,
       "font_variant": null,
       "font_weight": null,
       "text_color": null,
       "text_decoration": null
      }
     },
     "91d35411fd0f4153a16cc4131c3256df": {
      "model_module": "@jupyter-widgets/base",
      "model_module_version": "2.0.0",
      "model_name": "LayoutModel",
      "state": {
       "grid_area": "description",
       "width": "auto"
      }
     },
     "93bf31ce12ac413eb1b34ee26f85742b": {
      "model_module": "@jupyter-widgets/base",
      "model_module_version": "2.0.0",
      "model_name": "LayoutModel",
      "state": {}
     },
     "9691ba7943c64a169423d6d58c3775ef": {
      "model_module": "@jupyter-widgets/controls",
      "model_module_version": "2.0.0",
      "model_name": "LabelModel",
      "state": {
       "layout": "IPY_MODEL_1854a3c6e5a74b7db86d9d3df21418ba",
       "style": "IPY_MODEL_d9d0b8fc7f874ea5bf9b25cf3c55fc6b"
      }
     },
     "96d97ff47d3f4a41abd27aeaba30af98": {
      "model_module": "@jupyter-widgets/controls",
      "model_module_version": "2.0.0",
      "model_name": "LabelModel",
      "state": {
       "description": "locus",
       "layout": "IPY_MODEL_7bdd6cb6c9134b10b98854257f1ad3b6",
       "style": "IPY_MODEL_11a9fdcde0e44dbd89cf7e431a42d42f",
       "value": "locus"
      }
     },
     "9a4b34cd29354919bbd3be709c177f86": {
      "model_module": "@jupyter-widgets/controls",
      "model_module_version": "2.0.0",
      "model_name": "LabelModel",
      "state": {
       "description": "indices",
       "layout": "IPY_MODEL_16bf1993dde745aea74b07332107b344",
       "style": "IPY_MODEL_d427bdb022bd4520a4a249d3f2418a43",
       "value": "indices"
      }
     },
     "9bb43e5d088445ebadc91bd2ae371500": {
      "model_module": "@jupyter-widgets/controls",
      "model_module_version": "2.0.0",
      "model_name": "ComboboxModel",
      "state": {
       "_dom_classes": [
        "nbtools-menu-attached"
       ],
       "choices": {
        "": "",
        "alignment": "alignment",
        "annotation": "annotation",
        "arc": "arc",
        "bedtype": "bedtype",
        "gwas": "gwas",
        "interaction": "interaction",
        "mut": "mut",
        "seg": "seg",
        "variant": "variant",
        "wig": "wig"
       },
       "ensure_option": false,
       "kinds": [],
       "layout": "IPY_MODEL_0008ba0c33d949d19ff4a9ec0544dcb5",
       "style": "IPY_MODEL_463823f6e11947e6bc64e4f172e0dcfd"
      }
     },
     "9bf8e7da376f42c8b783411dc8e68400": {
      "model_module": "@jupyter-widgets/controls",
      "model_module_version": "2.0.0",
      "model_name": "ButtonStyleModel",
      "state": {
       "font_family": null,
       "font_size": null,
       "font_style": null,
       "font_variant": null,
       "font_weight": null,
       "text_color": null,
       "text_decoration": null
      }
     },
     "9dd54f29efdc426dbea552d7c4fd9868": {
      "model_module": "@jupyter-widgets/controls",
      "model_module_version": "2.0.0",
      "model_name": "TextStyleModel",
      "state": {
       "description_width": "",
       "font_size": null,
       "text_color": null
      }
     },
     "9e5b20e2e863447baebf89a39d30417b": {
      "model_module": "@jupyter-widgets/controls",
      "model_module_version": "2.0.0",
      "model_name": "ButtonStyleModel",
      "state": {
       "font_family": null,
       "font_size": null,
       "font_style": null,
       "font_variant": null,
       "font_weight": null,
       "text_color": null,
       "text_decoration": null
      }
     },
     "9ee0a52ad5d649e5b4ef3dcf783b8687": {
      "model_module": "@jupyter-widgets/base",
      "model_module_version": "2.0.0",
      "model_name": "LayoutModel",
      "state": {
       "grid_template_areas": "\n                    \"label input\"\n                    \". description\"\n                ",
       "grid_template_columns": "25% 75%",
       "grid_template_rows": "auto auto",
       "width": "100%"
      }
     },
     "9f6beeb6037e4a91959c6d89602d104b": {
      "model_module": "@jupyter-widgets/controls",
      "model_module_version": "2.0.0",
      "model_name": "ComboboxModel",
      "state": {
       "_dom_classes": [
        "nbtools-menu-attached"
       ],
       "choices": {},
       "ensure_option": false,
       "kinds": [],
       "layout": "IPY_MODEL_e835b852743f4fe08ddce0eeadc2ac4b",
       "style": "IPY_MODEL_173321149bb244b8b4a77e975e176aca"
      }
     },
     "9f80351f13844ccfb4d33dfc5ef5218f": {
      "model_module": "@jupyter-widgets/controls",
      "model_module_version": "2.0.0",
      "model_name": "HBoxModel",
      "state": {
       "children": [
        "IPY_MODEL_8d989da2521a47919c6cbf5f86e02212",
        "IPY_MODEL_7c49972d4a1142308cbdccbe460885df"
       ],
       "layout": "IPY_MODEL_1a02997f72f54122ae7295b07363ebf8"
      }
     },
     "9f8689687feb4eec958ebbf8c4a9bc2f": {
      "model_module": "@jupyter-widgets/controls",
      "model_module_version": "2.0.0",
      "model_name": "TextModel",
      "state": {
       "_dom_classes": [
        "nbtools-menu-attached"
       ],
       "layout": "IPY_MODEL_b649fd8c7b5b48519e875b5eedb5ce09",
       "style": "IPY_MODEL_8d2b897398dd47ae86c66c06dc2288c3"
      }
     },
     "a012e1a7da5a45fcb4ccdd4257f58cb1": {
      "model_module": "@jupyter-widgets/base",
      "model_module_version": "2.0.0",
      "model_name": "LayoutModel",
      "state": {
       "grid_area": "label",
       "width": "auto"
      }
     },
     "a190cc095a2c4eacba9dca870fbbbdd0": {
      "model_module": "@jupyter-widgets/base",
      "model_module_version": "2.0.0",
      "model_name": "LayoutModel",
      "state": {
       "grid_area": "input",
       "width": "auto"
      }
     },
     "a7fa0849fba04fd2a46147203a4af622": {
      "model_module": "@jupyter-widgets/base",
      "model_module_version": "2.0.0",
      "model_name": "LayoutModel",
      "state": {}
     },
     "a968a9db124e4b3aaef3d8eb4c04d2aa": {
      "model_module": "@jupyter-widgets/controls",
      "model_module_version": "2.0.0",
      "model_name": "LabelModel",
      "state": {
       "description": "track format",
       "layout": "IPY_MODEL_d09e0dc5dd4f454f959c93dd45cd7169",
       "style": "IPY_MODEL_e5e39fce1ba44846ba2f28139aa84ea7",
       "value": "track format"
      }
     },
     "ab2a118ce0384e2cb57f1a1ce034b8a7": {
      "model_module": "@jupyter-widgets/base",
      "model_module_version": "2.0.0",
      "model_name": "LayoutModel",
      "state": {}
     },
     "ac1719911c3d4a0f8f9996391f4e4b59": {
      "model_module": "@jupyter-widgets/base",
      "model_module_version": "2.0.0",
      "model_name": "LayoutModel",
      "state": {}
     },
     "ad76cc167c2c48008e7253d46264df59": {
      "model_module": "@jupyter-widgets/controls",
      "model_module_version": "2.0.0",
      "model_name": "LabelStyleModel",
      "state": {
       "description_width": "",
       "font_family": null,
       "font_size": null,
       "font_style": null,
       "font_variant": null,
       "font_weight": null,
       "text_color": null,
       "text_decoration": null
      }
     },
     "ad9a160c721f4bfdaaa080ae8a8f2958": {
      "model_module": "@jupyter-widgets/base",
      "model_module_version": "2.0.0",
      "model_name": "LayoutModel",
      "state": {
       "grid_area": "description",
       "width": "auto"
      }
     },
     "b278fe53402b4f02bd93e126eec52865": {
      "model_module": "@jupyter-widgets/controls",
      "model_module_version": "2.0.0",
      "model_name": "TextModel",
      "state": {
       "_dom_classes": [
        "nbtools-menu-attached"
       ],
       "layout": "IPY_MODEL_ea4cb96bb29d4641b0bedd185b8b276a",
       "style": "IPY_MODEL_b9834f61b27e44b0894620fdec884f75"
      }
     },
     "b41275ccefc64cb4b319e9a10cf81146": {
      "model_module": "@jupyter-widgets/controls",
      "model_module_version": "2.0.0",
      "model_name": "LabelStyleModel",
      "state": {
       "description_width": "",
       "font_family": null,
       "font_size": null,
       "font_style": null,
       "font_variant": null,
       "font_weight": null,
       "text_color": null,
       "text_decoration": null
      }
     },
     "b5886ed7ab694a159f904ef7bdf9cb93": {
      "model_module": "@jupyter-widgets/base",
      "model_module_version": "2.0.0",
      "model_name": "LayoutModel",
      "state": {
       "grid_template_areas": "\n                    \"label input\"\n                    \". description\"\n                ",
       "grid_template_columns": "25% 75%",
       "grid_template_rows": "auto auto",
       "width": "100%"
      }
     },
     "b5fd642598b74f99b232afa01d4c1951": {
      "model_module": "@jupyter-widgets/controls",
      "model_module_version": "2.0.0",
      "model_name": "ComboboxModel",
      "state": {
       "_dom_classes": [
        "nbtools-menu-attached"
       ],
       "choices": {},
       "ensure_option": false,
       "kinds": [
        "cx"
       ],
       "layout": "IPY_MODEL_25961bc2d7b74b3d99743d69a785fab6",
       "style": "IPY_MODEL_239a96d562c14ee2abd218f225151560"
      }
     },
     "b649fd8c7b5b48519e875b5eedb5ce09": {
      "model_module": "@jupyter-widgets/base",
      "model_module_version": "2.0.0",
      "model_name": "LayoutModel",
      "state": {
       "grid_area": "input",
       "width": "auto"
      }
     },
     "b66e7e813f8345b69a3ab0a0fa61bd82": {
      "model_module": "@jupyter-widgets/controls",
      "model_module_version": "2.0.0",
      "model_name": "LabelStyleModel",
      "state": {
       "description_width": "",
       "font_family": null,
       "font_size": null,
       "font_style": null,
       "font_variant": null,
       "font_weight": null,
       "text_color": null,
       "text_decoration": null
      }
     },
     "b877ce9a277b487d9ba2e4aac4d0228e": {
      "model_module": "@g2nb/nbtools",
      "model_module_version": ">=23.4.0",
      "model_name": "UIBuilderModel",
      "state": {
       "_model_module_version": ">=23.4.0",
       "_parameters": [
        {
         "choices": {
          "Bonobo (MPI-EVA panpan1.1/panPan2)": "panPan2",
          "C. elegans (ce11)": "ce11",
          "Chimp (SAC 2.1.4/panTro4)": "panTro4",
          "Cow (UMD_3.1.1/bosTau8)": "bosTau8",
          "D. melanogaster (dm6)": "dm6",
          "Dog (Broad CanFam3.1/canFam3)": "canFam3",
          "Gorilla (gorGor4.1/gorGor4)": "gorGor4",
          "Human (CRCh37/hg19)": "hg19",
          "Human (GRCh38/hg38)": "hg38",
          "Human (hg18)": "hg18",
          "Mouse (GRCm38/mm10)": "mm10",
          "Pig (SGSC Sscrofa11.1/susScr11)": "susScr11",
          "Rat (RGCS 6.0/rn6)": "rn6",
          "S. cerevisiae (sacCer3)": "sacCer3",
          "Zebrafish (GRCZ10/danRer10)": "danRer10",
          "Zebrafish (GRCZ11/danRer11)": "danRer11"
         },
         "combo": true,
         "default": "hg38",
         "description": "Choose the genome for your data.",
         "events": null,
         "hide": false,
         "id": null,
         "kinds": null,
         "label": "genome",
         "name": "genome",
         "optional": false,
         "sendto": false,
         "type": "choice",
         "value": ""
        },
        {
         "choices": {},
         "default": "",
         "description": "Enter the URL to the track dataset(s)",
         "events": null,
         "hide": false,
         "id": null,
         "kinds": null,
         "label": "tracks",
         "maximum": 100,
         "name": "tracks",
         "optional": true,
         "type": "file",
         "value": "None"
        },
        {
         "choices": {},
         "default": "",
         "description": "Enter the URL to the index files that correspond to each track",
         "events": null,
         "hide": false,
         "id": null,
         "kinds": null,
         "label": "indices",
         "maximum": 100,
         "name": "indices",
         "optional": true,
         "type": "file",
         "value": "None"
        },
        {
         "choices": {
          "": "",
          "bam": "bam",
          "bb": "bb",
          "bed": "bed",
          "bedgraph": "bedgraph",
          "bedpe": "bedpe",
          "bedpe-loop": "bedpe-loop",
          "bigbed": "bigbed",
          "bigwig": "bigwig",
          "bp": "bp",
          "bw": "bw",
          "cram": "cram",
          "gwas": "gwas",
          "mut": "mut",
          "seg": "seg",
          "tdf": "tdf",
          "vcf": "vcf",
          "wig": "wig"
         },
         "combo": true,
         "default": "",
         "description": "Enter the format of the track datasets",
         "events": null,
         "hide": false,
         "id": null,
         "kinds": null,
         "label": "track format",
         "name": "track_format",
         "optional": true,
         "type": "choice",
         "value": "None"
        },
        {
         "choices": {
          "": "",
          "alignment": "alignment",
          "annotation": "annotation",
          "arc": "arc",
          "bedtype": "bedtype",
          "gwas": "gwas",
          "interaction": "interaction",
          "mut": "mut",
          "seg": "seg",
          "variant": "variant",
          "wig": "wig"
         },
         "combo": true,
         "default": "",
         "description": "Enter the type of the track datasets",
         "events": null,
         "hide": false,
         "id": null,
         "kinds": null,
         "label": "track type",
         "name": "track_type",
         "optional": true,
         "type": "choice",
         "value": "None"
        },
        {
         "choices": {},
         "default": "",
         "description": "Provide a locus or gene of interest for your data",
         "events": null,
         "hide": false,
         "id": null,
         "kinds": null,
         "label": "locus",
         "name": "locus",
         "optional": true,
         "type": "text",
         "value": "None"
        },
        {
         "choices": {},
         "default": "",
         "description": "",
         "events": null,
         "hide": true,
         "id": null,
         "kinds": null,
         "label": "output variable",
         "name": "output_var",
         "optional": true,
         "type": "text",
         "value": ""
        }
       ],
       "_view_count": 0,
       "_view_module_version": ">=23.4.0",
       "color": "#4a8797",
       "description": "Use igv.js to embed an interactive genome visualization",
       "form": "IPY_MODEL_846dbd18a9674b5caea8214b89e3c89d",
       "layout": "IPY_MODEL_ee511bd4fe8746d4b45daa18c001d7ae",
       "logo": "http://igv.org/web/img/favicon.ico",
       "name": "Integrative Genomics Viewer (IGV)",
       "origin": "+",
       "output": "IPY_MODEL_f301d74624e84ca9bf8640bf5cd6ecbe",
       "output_var": "",
       "parameter_groups": [
        {
         "name": "Basic Parameters",
         "parameters": [
          "genome",
          "tracks",
          "indices",
          "locus"
         ]
        },
        {
         "advanced": true,
         "hidden": false,
         "name": "Advanced Parameters",
         "parameters": [
          "track_format",
          "track_type"
         ]
        }
       ],
       "run_label": "Visualize"
      }
     },
     "b8888b72bb004298834b94edc0cb9ebe": {
      "model_module": "@jupyter-widgets/controls",
      "model_module_version": "2.0.0",
      "model_name": "LabelStyleModel",
      "state": {
       "description_width": "",
       "font_family": null,
       "font_size": null,
       "font_style": null,
       "font_variant": null,
       "font_weight": null,
       "text_color": null,
       "text_decoration": null
      }
     },
     "b88bf9e88bee423c9d26156b2b128534": {
      "model_module": "@jupyter-widgets/base",
      "model_module_version": "2.0.0",
      "model_name": "LayoutModel",
      "state": {
       "grid_area": "input",
       "width": "auto"
      }
     },
     "b8cffefe90ef46a4a73c905bf045ba5b": {
      "model_module": "@jupyter-widgets/base",
      "model_module_version": "2.0.0",
      "model_name": "LayoutModel",
      "state": {
       "grid_area": "description",
       "width": "auto"
      }
     },
     "b9834f61b27e44b0894620fdec884f75": {
      "model_module": "@jupyter-widgets/controls",
      "model_module_version": "2.0.0",
      "model_name": "TextStyleModel",
      "state": {
       "description_width": "",
       "font_size": null,
       "text_color": null
      }
     },
     "ba163092efe64de3bafe0d83e998e80c": {
      "model_module": "@jupyter-widgets/base",
      "model_module_version": "2.0.0",
      "model_name": "LayoutModel",
      "state": {}
     },
     "bba02365cbd8437d9cf25895920b0c17": {
      "model_module": "@jupyter-widgets/base",
      "model_module_version": "2.0.0",
      "model_name": "LayoutModel",
      "state": {
       "grid_template_areas": "\n                    \"label input\"\n                    \". description\"\n                ",
       "grid_template_columns": "25% 75%",
       "grid_template_rows": "auto auto",
       "width": "100%"
      }
     },
     "be8f54266a3e4e4c8691335a4527ae89": {
      "model_module": "@jupyter-widgets/controls",
      "model_module_version": "2.0.0",
      "model_name": "TextStyleModel",
      "state": {
       "description_width": "",
       "font_size": null,
       "text_color": null
      }
     },
     "bee5bab71f3a47b7b97fd8d30a9fce1e": {
      "model_module": "@jupyter-widgets/controls",
      "model_module_version": "2.0.0",
      "model_name": "LabelModel",
      "state": {
       "description": "Enter the URL to the track dataset(s)",
       "layout": "IPY_MODEL_52b8c2b5a6034cba9f792f430adc0e34",
       "style": "IPY_MODEL_20545ab82cbb4dad9f45784445f95ed5",
       "value": "Enter the URL to the track dataset(s)"
      }
     },
     "bf8bbb44889f45fa9a4b1de435657796": {
      "model_module": "@jupyter-widgets/controls",
      "model_module_version": "2.0.0",
      "model_name": "GridBoxModel",
      "state": {
       "_dom_classes": [
        "nbtools-input",
        "nbtools-textinput"
       ],
       "children": [
        "IPY_MODEL_181393a36113498c92364dcbfd5a6643",
        "IPY_MODEL_07bcb581728145b79d4e2000811f8d93",
        "IPY_MODEL_c0f6b40e46f94c4d98249813c02ab914"
       ],
       "layout": "IPY_MODEL_427713d25b31462b948c8f495b280027"
      }
     },
     "c06b20c6ddd047ecae29b4d24a167452": {
      "model_module": "@jupyter-widgets/base",
      "model_module_version": "2.0.0",
      "model_name": "LayoutModel",
      "state": {
       "grid_area": "input",
       "width": "auto"
      }
     },
     "c0f6b40e46f94c4d98249813c02ab914": {
      "model_module": "@jupyter-widgets/controls",
      "model_module_version": "2.0.0",
      "model_name": "LabelModel",
      "state": {
       "layout": "IPY_MODEL_fe8a38699c6f4acd9969e6d03013b4a3",
       "style": "IPY_MODEL_479fbb4de81c4a30a1efd127a645e991"
      }
     },
     "c2ccb65006e14b7e87c94a05fe16d7e3": {
      "model_module": "@jupyter-widgets/controls",
      "model_module_version": "2.0.0",
      "model_name": "ButtonStyleModel",
      "state": {
       "font_family": null,
       "font_size": null,
       "font_style": null,
       "font_variant": null,
       "font_weight": null,
       "text_color": null,
       "text_decoration": null
      }
     },
     "c39a8b0c4cff44aaa37933709f7d5758": {
      "model_module": "@jupyter-widgets/controls",
      "model_module_version": "2.0.0",
      "model_name": "LabelStyleModel",
      "state": {
       "description_width": "",
       "font_family": null,
       "font_size": null,
       "font_style": null,
       "font_variant": null,
       "font_weight": null,
       "text_color": null,
       "text_decoration": null
      }
     },
     "c48fbee61259436f883f15d3147d4f64": {
      "model_module": "@jupyter-widgets/base",
      "model_module_version": "2.0.0",
      "model_name": "LayoutModel",
      "state": {
       "grid_template_areas": "\n                    \"label input\"\n                    \". description\"\n                ",
       "grid_template_columns": "25% 75%",
       "grid_template_rows": "auto auto",
       "width": "100%"
      }
     },
     "c83f61ee2041459c8a954d7e251c0a27": {
      "model_module": "@jupyter-widgets/base",
      "model_module_version": "2.0.0",
      "model_name": "LayoutModel",
      "state": {
       "grid_template_areas": "\n                    \"label input\"\n                    \". description\"\n                ",
       "grid_template_columns": "25% 75%",
       "grid_template_rows": "auto auto",
       "width": "100%"
      }
     },
     "c9b0528430964c01aef1868107a68f80": {
      "model_module": "@jupyter-widgets/controls",
      "model_module_version": "2.0.0",
      "model_name": "LabelModel",
      "state": {
       "description": "Enter the format of the track datasets",
       "layout": "IPY_MODEL_b8cffefe90ef46a4a73c905bf045ba5b",
       "style": "IPY_MODEL_b66e7e813f8345b69a3ab0a0fa61bd82",
       "value": "Enter the format of the track datasets"
      }
     },
     "cb43ff68d01d4723bfb7c7e4e7d14124": {
      "model_module": "@jupyter-widgets/base",
      "model_module_version": "2.0.0",
      "model_name": "LayoutModel",
      "state": {
       "grid_area": "input",
       "width": "auto"
      }
     },
     "cc5906a94d47469db67258f367c65d63": {
      "model_module": "@jupyter-widgets/base",
      "model_module_version": "2.0.0",
      "model_name": "LayoutModel",
      "state": {}
     },
     "cf83c848f26049269b0d40d570b968a0": {
      "model_module": "@jupyter-widgets/controls",
      "model_module_version": "2.0.0",
      "model_name": "ButtonModel",
      "state": {
       "_dom_classes": [
        "hidden"
       ],
       "description": "Run",
       "layout": "IPY_MODEL_7ccfe25c7df54b059d6ad8860e87702f",
       "style": "IPY_MODEL_d823cff3cbaf4d909a3f59c0c29891bb",
       "tooltip": null
      }
     },
     "d03d945349cb4d19bb455296d734ddf0": {
      "model_module": "@jupyter-widgets/controls",
      "model_module_version": "2.0.0",
      "model_name": "TextModel",
      "state": {
       "_dom_classes": [
        "nbtools-menu-attached"
       ],
       "layout": "IPY_MODEL_a190cc095a2c4eacba9dca870fbbbdd0",
       "style": "IPY_MODEL_9dd54f29efdc426dbea552d7c4fd9868"
      }
     },
     "d09e0dc5dd4f454f959c93dd45cd7169": {
      "model_module": "@jupyter-widgets/base",
      "model_module_version": "2.0.0",
      "model_name": "LayoutModel",
      "state": {
       "grid_area": "label",
       "width": "auto"
      }
     },
     "d427bdb022bd4520a4a249d3f2418a43": {
      "model_module": "@jupyter-widgets/controls",
      "model_module_version": "2.0.0",
      "model_name": "LabelStyleModel",
      "state": {
       "description_width": "",
       "font_family": null,
       "font_size": null,
       "font_style": null,
       "font_variant": null,
       "font_weight": null,
       "text_color": null,
       "text_decoration": null
      }
     },
     "d5a79bfb0db147e38787aa2a718c8a31": {
      "model_module": "@jupyter-widgets/controls",
      "model_module_version": "2.0.0",
      "model_name": "LabelModel",
      "state": {
       "description": "output variable",
       "layout": "IPY_MODEL_36b5280009d6432595bd7c8a4ca50a6d",
       "style": "IPY_MODEL_0bb2a77ce2eb45c6bcbb1f7fe28037a8",
       "value": "output variable"
      }
     },
     "d6ed3a86c4e949a5b8b78109e15b4fd9": {
      "model_module": "@jupyter-widgets/base",
      "model_module_version": "2.0.0",
      "model_name": "LayoutModel",
      "state": {
       "grid_area": "label",
       "width": "auto"
      }
     },
     "d8218a50a13b46319f77708928a2157f": {
      "model_module": "@g2nb/ipyuploads",
      "model_module_version": "0.2.1",
      "model_name": "UploadModel",
      "state": {
       "accept": ".cx",
       "description_allow_html": false,
       "layout": "IPY_MODEL_e10984d635554cc1886ef7a6920117d6",
       "style": "IPY_MODEL_3055fc5596d8401f9af62ae5040a82a9"
      }
     },
     "d823cff3cbaf4d909a3f59c0c29891bb": {
      "model_module": "@jupyter-widgets/controls",
      "model_module_version": "2.0.0",
      "model_name": "ButtonStyleModel",
      "state": {
       "font_family": null,
       "font_size": null,
       "font_style": null,
       "font_variant": null,
       "font_weight": null,
       "text_color": null,
       "text_decoration": null
      }
     },
     "d9d0b8fc7f874ea5bf9b25cf3c55fc6b": {
      "model_module": "@jupyter-widgets/controls",
      "model_module_version": "2.0.0",
      "model_name": "LabelStyleModel",
      "state": {
       "description_width": "",
       "font_family": null,
       "font_size": null,
       "font_style": null,
       "font_variant": null,
       "font_weight": null,
       "text_color": null,
       "text_decoration": null
      }
     },
     "da6d220cf16740c7b2c6f665e809fa8b": {
      "model_module": "@jupyter-widgets/base",
      "model_module_version": "2.0.0",
      "model_name": "LayoutModel",
      "state": {
       "grid_area": "description",
       "width": "auto"
      }
     },
     "def3a7351ffc436d978952ecae97c4d7": {
      "model_module": "@jupyter-widgets/base",
      "model_module_version": "2.0.0",
      "model_name": "LayoutModel",
      "state": {
       "grid_area": "label",
       "width": "auto"
      }
     },
     "e0410a911d9042738f7b0d1c21eca134": {
      "model_module": "@jupyter-widgets/base",
      "model_module_version": "2.0.0",
      "model_name": "LayoutModel",
      "state": {
       "grid_area": "description",
       "width": "auto"
      }
     },
     "e10984d635554cc1886ef7a6920117d6": {
      "model_module": "@jupyter-widgets/base",
      "model_module_version": "2.0.0",
      "model_name": "LayoutModel",
      "state": {}
     },
     "e2af9026e9934e2cbc45dfb4103188d0": {
      "model_module": "@jupyter-widgets/controls",
      "model_module_version": "2.0.0",
      "model_name": "GridBoxModel",
      "state": {
       "_dom_classes": [
        "nbtools-input",
        "nbtools-fileinput"
       ],
       "children": [
        "IPY_MODEL_2fe611a46d3e4b0992f58e7242b2ca18",
        "IPY_MODEL_593603346c9c4dbb85bfb7d59d1f0330",
        "IPY_MODEL_bee5bab71f3a47b7b97fd8d30a9fce1e"
       ],
       "layout": "IPY_MODEL_bba02365cbd8437d9cf25895920b0c17"
      }
     },
     "e4986903f6cf41f39dadf610788ae5f4": {
      "model_module": "@jupyter-widgets/controls",
      "model_module_version": "2.0.0",
      "model_name": "LabelModel",
      "state": {
       "description": "genome",
       "layout": "IPY_MODEL_3824337333d54d31b327725a57a5abb4",
       "style": "IPY_MODEL_0c47637a2d1e42f9af730a52faba20df",
       "value": "genome*"
      }
     },
     "e5e39fce1ba44846ba2f28139aa84ea7": {
      "model_module": "@jupyter-widgets/controls",
      "model_module_version": "2.0.0",
      "model_name": "LabelStyleModel",
      "state": {
       "description_width": "",
       "font_family": null,
       "font_size": null,
       "font_style": null,
       "font_variant": null,
       "font_weight": null,
       "text_color": null,
       "text_decoration": null
      }
     },
     "e5f5f477634e4872b1afbd495c6d085b": {
      "model_module": "@jupyter-widgets/base",
      "model_module_version": "2.0.0",
      "model_name": "LayoutModel",
      "state": {}
     },
     "e7abc1ca830542b88df7924fb0ffae42": {
      "model_module": "@jupyter-widgets/base",
      "model_module_version": "2.0.0",
      "model_name": "LayoutModel",
      "state": {}
     },
     "e835b852743f4fe08ddce0eeadc2ac4b": {
      "model_module": "@jupyter-widgets/base",
      "model_module_version": "2.0.0",
      "model_name": "LayoutModel",
      "state": {}
     },
     "ea4cb96bb29d4641b0bedd185b8b276a": {
      "model_module": "@jupyter-widgets/base",
      "model_module_version": "2.0.0",
      "model_name": "LayoutModel",
      "state": {
       "grid_area": "input",
       "width": "auto"
      }
     },
     "eb1954aa6b0c4ee09b7c0ac94cf64d9e": {
      "model_module": "@jupyter-widgets/controls",
      "model_module_version": "2.0.0",
      "model_name": "LabelModel",
      "state": {
       "layout": "IPY_MODEL_6887848d82fa438a9044cf2cbc46e163",
       "style": "IPY_MODEL_680555f6f21842cfb44e81a2c6803319"
      }
     },
     "ee511bd4fe8746d4b45daa18c001d7ae": {
      "model_module": "@jupyter-widgets/base",
      "model_module_version": "2.0.0",
      "model_name": "LayoutModel",
      "state": {}
     },
     "f0b838a511ab458895674937e54f8ff6": {
      "model_module": "@jupyter-widgets/controls",
      "model_module_version": "2.0.0",
      "model_name": "TextStyleModel",
      "state": {
       "description_width": "",
       "font_size": null,
       "text_color": null
      }
     },
     "f264341dcf8e473691cb09601d8f4612": {
      "model_module": "@jupyter-widgets/base",
      "model_module_version": "2.0.0",
      "model_name": "LayoutModel",
      "state": {
       "grid_area": "input",
       "width": "auto"
      }
     },
     "f301d74624e84ca9bf8640bf5cd6ecbe": {
      "model_module": "@jupyter-widgets/output",
      "model_module_version": "1.0.0",
      "model_name": "OutputModel",
      "state": {
       "layout": "IPY_MODEL_e5f5f477634e4872b1afbd495c6d085b"
      }
     },
     "f98686ef90be4d6793aa936f5faa57ab": {
      "model_module": "@jupyter-widgets/output",
      "model_module_version": "1.0.0",
      "model_name": "OutputModel",
      "state": {
       "layout": "IPY_MODEL_cc5906a94d47469db67258f367c65d63"
      }
     },
     "fa4850bf5303465e9a03b8f7e85c8bef": {
      "model_module": "@jupyter-widgets/controls",
      "model_module_version": "2.0.0",
      "model_name": "LabelModel",
      "state": {
       "layout": "IPY_MODEL_da6d220cf16740c7b2c6f665e809fa8b",
       "style": "IPY_MODEL_1c8b0143a6e8474b9c01009212ea998b"
      }
     },
     "fbbe50784316481a8aa9398319ff0edc": {
      "model_module": "@jupyter-widgets/controls",
      "model_module_version": "2.0.0",
      "model_name": "GridBoxModel",
      "state": {
       "_dom_classes": [
        "nbtools-input",
        "nbtools-fileinput"
       ],
       "children": [
        "IPY_MODEL_521a6872f7c34523a53150896c5ab1b8",
        "IPY_MODEL_7035015aaceb476d9d024ac330954a5e",
        "IPY_MODEL_1e201e005b6042db89d79860dc4f7159"
       ],
       "layout": "IPY_MODEL_b5886ed7ab694a159f904ef7bdf9cb93"
      }
     },
     "fe8a38699c6f4acd9969e6d03013b4a3": {
      "model_module": "@jupyter-widgets/base",
      "model_module_version": "2.0.0",
      "model_name": "LayoutModel",
      "state": {
       "grid_area": "description",
       "width": "auto"
      }
     }
    },
    "version_major": 2,
    "version_minor": 0
   }
  }
 },
 "nbformat": 4,
 "nbformat_minor": 5
}
