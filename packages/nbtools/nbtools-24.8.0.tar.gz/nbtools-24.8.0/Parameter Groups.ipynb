{
 "cells": [
  {
   "cell_type": "code",
   "execution_count": 7,
   "id": "91029117-0015-4c0d-9ed0-327bd427df97",
   "metadata": {
    "nbtools": {
     "force_display": true
    }
   },
   "outputs": [
    {
     "data": {
      "application/vnd.jupyter.widget-view+json": {
       "model_id": "4224e9f9961647d58de1001e0a1d41a2",
       "version_major": 2,
       "version_minor": 0
      },
      "text/plain": [
       "UIBuilder(children=(UIBuilderBase(form=InteractiveForm(children=(TextFormInput(value='', children=(Label(value…"
      ]
     },
     "metadata": {},
     "output_type": "display_data"
    }
   ],
   "source": [
    "import nbtools\n",
    "\n",
    "parameter_groups = [\n",
    "    {\n",
    "        'name': 'Display Options',\n",
    "        'description': 'How to display the data',\n",
    "        'hidden': False,\n",
    "        'parameters': ['display_type', 'display_color', 'display_label']\n",
    "    },\n",
    "    {\n",
    "        'name': 'Advanced Options',\n",
    "        'description': 'Change the preprocessing',\n",
    "        'hidden': True,\n",
    "        'parameters': ['min', 'max', 'fold_change']\n",
    "    },\n",
    "]\n",
    "\n",
    "groups = [\n",
    "    'input_file',\n",
    "    {\n",
    "        'name': 'Display Options',\n",
    "        'description': 'How to display the data',\n",
    "        'hidden': False,\n",
    "        'parameters': ['display_type', {\n",
    "            'name': 'Color Options',\n",
    "            'description': 'Change the colors',\n",
    "            'hidden': False,\n",
    "            'parameters': ['display_color_line', 'display_color_fill', {\n",
    "                'name': 'Nested Options',\n",
    "                'description': '3 deep',\n",
    "                'hidden': False,\n",
    "                'parameters': []\n",
    "            }]\n",
    "        }, 'display_label']\n",
    "    },\n",
    "    {\n",
    "        'name': 'Advanced Options',\n",
    "        'description': 'Change the preprocessing',\n",
    "        'hidden': True,\n",
    "        'parameters': ['min', 'max', 'fold_change']\n",
    "    }\n",
    "]\n",
    "\n",
    "@nbtools.build_ui(parameter_groups=groups, collapse=False)\n",
    "def widget_with_groups(input_file, display_type, display_color_line, display_color_fill, display_label, min, max, fold_change):\n",
    "    print(f'input: {input_file}')\n",
    "    print(f'display: {display_type} {display_label}')\n",
    "    print(f'color: {display_color_line} {display_color_fill}')\n",
    "    print(f'advanced: {min} {max} {fold_change}')"
   ]
  },
  {
   "cell_type": "code",
   "execution_count": null,
   "id": "ac0c8f2d-b567-4c84-84a3-0cf0e9e9101f",
   "metadata": {},
   "outputs": [],
   "source": []
  }
 ],
 "metadata": {
  "GiN-version": "0.1.0a8",
  "kernelspec": {
   "display_name": "Python 3 (ipykernel)",
   "language": "python",
   "name": "python3"
  },
  "language_info": {
   "codemirror_mode": {
    "name": "ipython",
    "version": 3
   },
   "file_extension": ".py",
   "mimetype": "text/x-python",
   "name": "python",
   "nbconvert_exporter": "python",
   "pygments_lexer": "ipython3",
   "version": "3.9.16"
  },
  "widgets": {
   "application/vnd.jupyter.widget-state+json": {
    "state": {
     "009ec550d0194754a87f81b8f833495e": {
      "model_module": "@jupyter-widgets/controls",
      "model_module_version": "2.0.0",
      "model_name": "TextModel",
      "state": {
       "_dom_classes": [
        "nbtools-menu-attached"
       ],
       "layout": "IPY_MODEL_8cb1baac4af4453d82e0d5a7b6c5b2be",
       "style": "IPY_MODEL_ddd2023d2ddd4ef8959a3972115219a8"
      }
     },
     "0324b1ed68e14dedb4b1feeed971934e": {
      "model_module": "@jupyter-widgets/controls",
      "model_module_version": "2.0.0",
      "model_name": "LabelStyleModel",
      "state": {
       "description_width": "",
       "font_family": null,
       "font_size": null,
       "font_style": null,
       "font_variant": null,
       "font_weight": null,
       "text_color": null,
       "text_decoration": null
      }
     },
     "03b47949ae5048dda5f035ac93819824": {
      "model_module": "@jupyter-widgets/controls",
      "model_module_version": "2.0.0",
      "model_name": "GridBoxModel",
      "state": {
       "_dom_classes": [
        "nbtools-input",
        "nbtools-textinput"
       ],
       "children": [
        "IPY_MODEL_80b8106eed9a4f3d952ec3f3d3a0da18",
        "IPY_MODEL_efa9224290df44c1b00f08e1e4eeb514",
        "IPY_MODEL_436a866fc9a14105914d37cf2c2d650c"
       ],
       "layout": "IPY_MODEL_08b0a9c5f58847eea83c2b541d797405"
      }
     },
     "03fb832471c14d81b2710e60e7d1b4f6": {
      "model_module": "@jupyter-widgets/controls",
      "model_module_version": "2.0.0",
      "model_name": "TextModel",
      "state": {
       "_dom_classes": [
        "nbtools-menu-attached"
       ],
       "layout": "IPY_MODEL_64d00355144f4ac189dc3f34c64d10a4",
       "style": "IPY_MODEL_b0ccee2428fb4ab8bc1ae015e5ace412"
      }
     },
     "04566d87052c4239bd5355445ffb3a18": {
      "model_module": "@jupyter-widgets/controls",
      "model_module_version": "2.0.0",
      "model_name": "TextModel",
      "state": {
       "_dom_classes": [
        "nbtools-menu-attached"
       ],
       "layout": "IPY_MODEL_4f2a17a4fb8e4b3db62ff331db6ddb5a",
       "style": "IPY_MODEL_5d4f41a2dc354471842b231e04dea69a"
      }
     },
     "0466c7c8320d480d88a9f8f21d72e178": {
      "model_module": "@jupyter-widgets/controls",
      "model_module_version": "2.0.0",
      "model_name": "LabelStyleModel",
      "state": {
       "description_width": "",
       "font_family": null,
       "font_size": null,
       "font_style": null,
       "font_variant": null,
       "font_weight": null,
       "text_color": null,
       "text_decoration": null
      }
     },
     "054a2a319e504d5284ec33237727a9f8": {
      "model_module": "@jupyter-widgets/base",
      "model_module_version": "2.0.0",
      "model_name": "LayoutModel",
      "state": {}
     },
     "055f532d068d478aafd009e5b71f097d": {
      "model_module": "@jupyter-widgets/base",
      "model_module_version": "2.0.0",
      "model_name": "LayoutModel",
      "state": {}
     },
     "05f9f87261834de88f0edc6fcbd30569": {
      "model_module": "@jupyter-widgets/base",
      "model_module_version": "2.0.0",
      "model_name": "LayoutModel",
      "state": {
       "grid_area": "description",
       "width": "auto"
      }
     },
     "05fedbd07b3a463696606478935f4c7f": {
      "model_module": "@jupyter-widgets/controls",
      "model_module_version": "2.0.0",
      "model_name": "TextModel",
      "state": {
       "_dom_classes": [
        "nbtools-menu-attached"
       ],
       "layout": "IPY_MODEL_5bdd991dea1342d89151ead29a7df339",
       "style": "IPY_MODEL_8370db9e16024a7c83a24195441d56de"
      }
     },
     "0646f266f33442439eea611857edeea4": {
      "model_module": "@jupyter-widgets/controls",
      "model_module_version": "2.0.0",
      "model_name": "VBoxModel",
      "state": {
       "_dom_classes": [
        "widget-interact"
       ],
       "children": [
        "IPY_MODEL_3b54135021c042bf92048aa0b058ed96",
        "IPY_MODEL_4bd7efdfd46948989a4e03464948af61"
       ],
       "layout": "IPY_MODEL_378aa138e33b441da196f09a1d08d54b"
      }
     },
     "06888af069e2496a8ff9e2b9313690cf": {
      "model_module": "@jupyter-widgets/base",
      "model_module_version": "2.0.0",
      "model_name": "LayoutModel",
      "state": {}
     },
     "06a16eb04fd2425aa062f841442d590a": {
      "model_module": "@jupyter-widgets/controls",
      "model_module_version": "2.0.0",
      "model_name": "LabelStyleModel",
      "state": {
       "description_width": "",
       "font_family": null,
       "font_size": null,
       "font_style": null,
       "font_variant": null,
       "font_weight": null,
       "text_color": null,
       "text_decoration": null
      }
     },
     "080e54fc0c4044e9a7f1084f36e37e16": {
      "model_module": "@jupyter-widgets/controls",
      "model_module_version": "2.0.0",
      "model_name": "TextModel",
      "state": {
       "_dom_classes": [
        "nbtools-menu-attached"
       ],
       "layout": "IPY_MODEL_bf9bcdb6bb874d949b5c454e3435a734",
       "style": "IPY_MODEL_72e8374cc89b4638b1c28c46cdeb9990"
      }
     },
     "08b0a9c5f58847eea83c2b541d797405": {
      "model_module": "@jupyter-widgets/base",
      "model_module_version": "2.0.0",
      "model_name": "LayoutModel",
      "state": {
       "display": "none",
       "grid_template_areas": "\n                    \"label input\"\n                    \". description\"\n                ",
       "grid_template_columns": "25% 75%",
       "grid_template_rows": "auto auto",
       "width": "100%"
      }
     },
     "08e61b2e6e444033a53dfa61d3e0039a": {
      "model_module": "@jupyter-widgets/controls",
      "model_module_version": "2.0.0",
      "model_name": "LabelModel",
      "state": {
       "description": "fold_change",
       "layout": "IPY_MODEL_6023f3f54d5e489a9851f98034a44b33",
       "style": "IPY_MODEL_f953ff87edb84716865d34374cc315e1",
       "value": "fold_change*"
      }
     },
     "094f93887c584db3a73b55c674ffc5bd": {
      "model_module": "@jupyter-widgets/base",
      "model_module_version": "2.0.0",
      "model_name": "LayoutModel",
      "state": {}
     },
     "09b06fdf225c491db71790c308958845": {
      "model_module": "@jupyter-widgets/base",
      "model_module_version": "2.0.0",
      "model_name": "LayoutModel",
      "state": {}
     },
     "0a0917ff9a714e9ca497ff8ed58f89cc": {
      "model_module": "@jupyter-widgets/controls",
      "model_module_version": "2.0.0",
      "model_name": "LabelModel",
      "state": {
       "description": "display_color_fill",
       "layout": "IPY_MODEL_c197fb728d7543829bd6f33af4d88cc1",
       "style": "IPY_MODEL_76d71c1ab1cb463d94dda152cefa1820",
       "value": "display_color_fill*"
      }
     },
     "0a479f0bfe3d480da525b815e776666c": {
      "model_module": "@jupyter-widgets/base",
      "model_module_version": "2.0.0",
      "model_name": "LayoutModel",
      "state": {
       "grid_area": "description",
       "width": "auto"
      }
     },
     "0b387b72ca1742f682fa74348b82daad": {
      "model_module": "@jupyter-widgets/controls",
      "model_module_version": "2.0.0",
      "model_name": "GridBoxModel",
      "state": {
       "_dom_classes": [
        "nbtools-input",
        "nbtools-textinput",
        "required"
       ],
       "children": [
        "IPY_MODEL_84e6fc51dacf44beb743281e96cf4f66",
        "IPY_MODEL_9179958517fd429eb6d861f287e62867",
        "IPY_MODEL_d84073d376984b3f9acd55c35e4d51a6"
       ],
       "layout": "IPY_MODEL_3f82580b91e64d4792071a565cf58b38"
      }
     },
     "0bdcd589ee9342f787bf41de9f860fda": {
      "model_module": "@jupyter-widgets/controls",
      "model_module_version": "2.0.0",
      "model_name": "GridBoxModel",
      "state": {
       "_dom_classes": [
        "nbtools-input",
        "nbtools-textinput",
        "required"
       ],
       "children": [
        "IPY_MODEL_40b1bb9c7c334a1fab5d30454e83eeb4",
        "IPY_MODEL_ae52bbcbf3044873bc4ff55580972182",
        "IPY_MODEL_8396997ce92c41a68d8c66b70365b57c"
       ],
       "layout": "IPY_MODEL_4febd420340f41a7a8622eee86cd0304"
      }
     },
     "0d635e70f55a4996a87468a87dba660c": {
      "model_module": "@jupyter-widgets/controls",
      "model_module_version": "2.0.0",
      "model_name": "ButtonStyleModel",
      "state": {
       "font_family": null,
       "font_size": null,
       "font_style": null,
       "font_variant": null,
       "font_weight": null,
       "text_color": null,
       "text_decoration": null
      }
     },
     "0e2d30c8505b4fb287704c1be1a496d6": {
      "model_module": "@jupyter-widgets/controls",
      "model_module_version": "2.0.0",
      "model_name": "LabelModel",
      "state": {
       "layout": "IPY_MODEL_60010ecb2bc94f38a740975fb1892066",
       "style": "IPY_MODEL_c1673d4e0c1a4076a5059bb9ba2c092d"
      }
     },
     "0fabffacf9d046a692a2b21d0e12c9d4": {
      "model_module": "@jupyter-widgets/controls",
      "model_module_version": "2.0.0",
      "model_name": "LabelStyleModel",
      "state": {
       "description_width": "",
       "font_family": null,
       "font_size": null,
       "font_style": null,
       "font_variant": null,
       "font_weight": null,
       "text_color": null,
       "text_decoration": null
      }
     },
     "0fd2adc8a8264ea7af02d8ff3b81faa5": {
      "model_module": "@jupyter-widgets/base",
      "model_module_version": "2.0.0",
      "model_name": "LayoutModel",
      "state": {
       "grid_area": "description",
       "width": "auto"
      }
     },
     "1123302c52ad4c86a9da906c76df5fdb": {
      "model_module": "@jupyter-widgets/controls",
      "model_module_version": "2.0.0",
      "model_name": "ButtonStyleModel",
      "state": {
       "font_family": null,
       "font_size": null,
       "font_style": null,
       "font_variant": null,
       "font_weight": null,
       "text_color": null,
       "text_decoration": null
      }
     },
     "1138b0af478d4145ad54f199e5be3254": {
      "model_module": "@jupyter-widgets/controls",
      "model_module_version": "2.0.0",
      "model_name": "TextModel",
      "state": {
       "_dom_classes": [
        "nbtools-menu-attached"
       ],
       "layout": "IPY_MODEL_9ea1884908574c75a1d43514c0ccbc54",
       "style": "IPY_MODEL_ccbbffe097a545fba4ab7c04c1a5ba07"
      }
     },
     "116ccf3277fa4a708e72234458638206": {
      "model_module": "@jupyter-widgets/base",
      "model_module_version": "2.0.0",
      "model_name": "LayoutModel",
      "state": {}
     },
     "1187b9675f8541008bf3fc5aab3a0eeb": {
      "model_module": "@jupyter-widgets/base",
      "model_module_version": "2.0.0",
      "model_name": "LayoutModel",
      "state": {}
     },
     "11c60b77576446d2b0a68b4fb0b7a3b2": {
      "model_module": "@jupyter-widgets/base",
      "model_module_version": "2.0.0",
      "model_name": "LayoutModel",
      "state": {
       "grid_template_areas": "\n                    \"label input\"\n                    \". description\"\n                ",
       "grid_template_columns": "25% 75%",
       "grid_template_rows": "auto auto",
       "width": "100%"
      }
     },
     "1391db6c376a4c2abd6919b8e160edee": {
      "model_module": "@jupyter-widgets/controls",
      "model_module_version": "2.0.0",
      "model_name": "LabelModel",
      "state": {
       "layout": "IPY_MODEL_4236233c5fb240c6bc047b31be76b0ca",
       "style": "IPY_MODEL_8ea73baaf27c43eaaea3c680b7195588"
      }
     },
     "140ea1d2ed5f4a29b7c17b4f8d0b2a52": {
      "model_module": "@jupyter-widgets/controls",
      "model_module_version": "2.0.0",
      "model_name": "TextModel",
      "state": {
       "_dom_classes": [
        "nbtools-menu-attached"
       ],
       "layout": "IPY_MODEL_1576736025014310b28abd77921f1622",
       "style": "IPY_MODEL_a9e743dd888a40cb827aa884a77051e0"
      }
     },
     "1467cabaa588417392e8ae69b6716e08": {
      "model_module": "@jupyter-widgets/controls",
      "model_module_version": "2.0.0",
      "model_name": "GridBoxModel",
      "state": {
       "_dom_classes": [
        "nbtools-input",
        "nbtools-textinput",
        "required"
       ],
       "children": [
        "IPY_MODEL_62d213290bc94ce683bec9dd62baad41",
        "IPY_MODEL_23ac0e292e6a4509bf44a7848b553f45",
        "IPY_MODEL_7eea685775e343429c804a5dbd74d49a"
       ],
       "layout": "IPY_MODEL_fc5ad95f13f5466d8eaca26c84ce2865"
      }
     },
     "14be89ebcd304586b606ad047b555d9d": {
      "model_module": "@jupyter-widgets/base",
      "model_module_version": "2.0.0",
      "model_name": "LayoutModel",
      "state": {}
     },
     "1576736025014310b28abd77921f1622": {
      "model_module": "@jupyter-widgets/base",
      "model_module_version": "2.0.0",
      "model_name": "LayoutModel",
      "state": {
       "grid_area": "input",
       "width": "auto"
      }
     },
     "1673e5cf5ca645019a441b23279dff08": {
      "model_module": "@jupyter-widgets/base",
      "model_module_version": "2.0.0",
      "model_name": "LayoutModel",
      "state": {}
     },
     "184ac0e842714dada87712acedabb490": {
      "model_module": "@jupyter-widgets/controls",
      "model_module_version": "2.0.0",
      "model_name": "LabelStyleModel",
      "state": {
       "description_width": "",
       "font_family": null,
       "font_size": null,
       "font_style": null,
       "font_variant": null,
       "font_weight": null,
       "text_color": null,
       "text_decoration": null
      }
     },
     "19974fdd748b468c84c505475b1e1e81": {
      "model_module": "@jupyter-widgets/controls",
      "model_module_version": "2.0.0",
      "model_name": "LabelModel",
      "state": {
       "layout": "IPY_MODEL_f31f50987f544d738a02dc7fda8c8882",
       "style": "IPY_MODEL_547b44ba3e784acaa4a30ae940a1aa32"
      }
     },
     "1a20a91b58d04eafb7393f4f061caa6b": {
      "model_module": "@jupyter-widgets/controls",
      "model_module_version": "2.0.0",
      "model_name": "LabelStyleModel",
      "state": {
       "description_width": "",
       "font_family": null,
       "font_size": null,
       "font_style": null,
       "font_variant": null,
       "font_weight": null,
       "text_color": null,
       "text_decoration": null
      }
     },
     "1accacd94e624a0098506ea651fb030b": {
      "model_module": "@jupyter-widgets/base",
      "model_module_version": "2.0.0",
      "model_name": "LayoutModel",
      "state": {
       "grid_area": "description",
       "width": "auto"
      }
     },
     "1b838aaab79b4033a1cd902db7aadb55": {
      "model_module": "@jupyter-widgets/controls",
      "model_module_version": "2.0.0",
      "model_name": "LabelModel",
      "state": {
       "description": "display_type",
       "layout": "IPY_MODEL_23c6cf6f2ef54e4daa9a1cbb54dde484",
       "style": "IPY_MODEL_6786fe250b0845d6842137f5f0194e69",
       "value": "display_type*"
      }
     },
     "1bd00dc4f43942b4992f05984a1985f1": {
      "model_module": "@jupyter-widgets/base",
      "model_module_version": "2.0.0",
      "model_name": "LayoutModel",
      "state": {
       "grid_area": "input",
       "width": "auto"
      }
     },
     "1c05fe90ab904055ac9b771c7391f661": {
      "model_module": "@jupyter-widgets/controls",
      "model_module_version": "2.0.0",
      "model_name": "LabelStyleModel",
      "state": {
       "description_width": "",
       "font_family": null,
       "font_size": null,
       "font_style": null,
       "font_variant": null,
       "font_weight": null,
       "text_color": null,
       "text_decoration": null
      }
     },
     "2004f4c452c24c4280145bc8f1988e98": {
      "model_module": "@jupyter-widgets/controls",
      "model_module_version": "2.0.0",
      "model_name": "LabelStyleModel",
      "state": {
       "description_width": "",
       "font_family": null,
       "font_size": null,
       "font_style": null,
       "font_variant": null,
       "font_weight": null,
       "text_color": null,
       "text_decoration": null
      }
     },
     "20d1c21c97814e649b22dc4f4ca61ed7": {
      "model_module": "@jupyter-widgets/controls",
      "model_module_version": "2.0.0",
      "model_name": "LabelStyleModel",
      "state": {
       "description_width": "",
       "font_family": null,
       "font_size": null,
       "font_style": null,
       "font_variant": null,
       "font_weight": null,
       "text_color": null,
       "text_decoration": null
      }
     },
     "21714b9d607b46169a4b9179cfb27d08": {
      "model_module": "@jupyter-widgets/controls",
      "model_module_version": "2.0.0",
      "model_name": "TextStyleModel",
      "state": {
       "description_width": "",
       "font_size": null,
       "text_color": null
      }
     },
     "21b94a007d874ae4a98c1a3ca3aeeefb": {
      "model_module": "@jupyter-widgets/controls",
      "model_module_version": "2.0.0",
      "model_name": "ButtonModel",
      "state": {
       "_dom_classes": [
        "hidden"
       ],
       "description": "Run",
       "layout": "IPY_MODEL_5faeedbbf3234a1ea588dd6ea6d9bc1b",
       "style": "IPY_MODEL_1123302c52ad4c86a9da906c76df5fdb",
       "tooltip": null
      }
     },
     "225395d5190945d6972112413e9e5472": {
      "model_module": "@jupyter-widgets/base",
      "model_module_version": "2.0.0",
      "model_name": "LayoutModel",
      "state": {}
     },
     "234e4aa5c54040f7ac70730159d93302": {
      "model_module": "@jupyter-widgets/controls",
      "model_module_version": "2.0.0",
      "model_name": "LabelStyleModel",
      "state": {
       "description_width": "",
       "font_family": null,
       "font_size": null,
       "font_style": null,
       "font_variant": null,
       "font_weight": null,
       "text_color": null,
       "text_decoration": null
      }
     },
     "2369eb90c47549abb95846675c6b87bf": {
      "model_module": "@jupyter-widgets/base",
      "model_module_version": "2.0.0",
      "model_name": "LayoutModel",
      "state": {
       "grid_area": "description",
       "width": "auto"
      }
     },
     "237360b94b124f65beb1a26d49adea98": {
      "model_module": "@jupyter-widgets/base",
      "model_module_version": "2.0.0",
      "model_name": "LayoutModel",
      "state": {
       "grid_area": "input",
       "width": "auto"
      }
     },
     "23ac0e292e6a4509bf44a7848b553f45": {
      "model_module": "@jupyter-widgets/controls",
      "model_module_version": "2.0.0",
      "model_name": "TextModel",
      "state": {
       "_dom_classes": [
        "nbtools-menu-attached"
       ],
       "layout": "IPY_MODEL_478a3436132a437589cd810d1b506c5c",
       "style": "IPY_MODEL_4bb65571b48540559f1e21711e2f8152"
      }
     },
     "23c6cf6f2ef54e4daa9a1cbb54dde484": {
      "model_module": "@jupyter-widgets/base",
      "model_module_version": "2.0.0",
      "model_name": "LayoutModel",
      "state": {
       "grid_area": "label",
       "width": "auto"
      }
     },
     "2422e086987849cb97d1a63e27348153": {
      "model_module": "@jupyter-widgets/controls",
      "model_module_version": "2.0.0",
      "model_name": "LabelModel",
      "state": {
       "description": "max",
       "layout": "IPY_MODEL_8751091cabe14b7f8e1893dda93feca7",
       "style": "IPY_MODEL_9ab7d09d638f4c059a178fcace1c1d9a",
       "value": "max*"
      }
     },
     "245b6cd5db1d43dfacb7f31b211e0052": {
      "model_module": "@jupyter-widgets/base",
      "model_module_version": "2.0.0",
      "model_name": "LayoutModel",
      "state": {
       "grid_template_areas": "\n                    \"label input\"\n                    \". description\"\n                ",
       "grid_template_columns": "25% 75%",
       "grid_template_rows": "auto auto",
       "width": "100%"
      }
     },
     "245f36bd70694f2dbce3db3f700cbe11": {
      "model_module": "@jupyter-widgets/controls",
      "model_module_version": "2.0.0",
      "model_name": "LabelModel",
      "state": {
       "layout": "IPY_MODEL_f14183aecd4b4787bbc59456906eed6a",
       "style": "IPY_MODEL_91f9df98d4c540d796e14de279d4f4ee"
      }
     },
     "246d1fdd5f0444f5823a5e9ef4f87702": {
      "model_module": "@jupyter-widgets/controls",
      "model_module_version": "2.0.0",
      "model_name": "TextModel",
      "state": {
       "_dom_classes": [
        "nbtools-menu-attached"
       ],
       "layout": "IPY_MODEL_3199bdb128c546b3b8c0fe7b17098404",
       "style": "IPY_MODEL_5d6b92b93c004063a8dec45af72fb5d0"
      }
     },
     "2510ce2203f6436796fbf6cefe1dea7c": {
      "model_module": "@jupyter-widgets/controls",
      "model_module_version": "2.0.0",
      "model_name": "ButtonModel",
      "state": {
       "_dom_classes": [
        "hidden"
       ],
       "description": "Run",
       "layout": "IPY_MODEL_f984c7425f034c8c8e19af89a2488905",
       "style": "IPY_MODEL_2cb3094ca0eb4649b562915856f3feab",
       "tooltip": null
      }
     },
     "2577f28361444bb8a68a62952ed3a4d5": {
      "model_module": "@jupyter-widgets/controls",
      "model_module_version": "2.0.0",
      "model_name": "TextModel",
      "state": {
       "_dom_classes": [
        "nbtools-menu-attached"
       ],
       "layout": "IPY_MODEL_a4e78c024a1843c6b10df470db511a42",
       "style": "IPY_MODEL_4b97457fff03447cbf825306d2e030fc"
      }
     },
     "27fba64a380b42ec979d7b0c1f1a0f23": {
      "model_module": "@jupyter-widgets/controls",
      "model_module_version": "2.0.0",
      "model_name": "LabelModel",
      "state": {
       "layout": "IPY_MODEL_ba79ae9bdcc84410848cf79c9568b10b",
       "style": "IPY_MODEL_9cf308ef6c2a4b068e26a99ec770fe74"
      }
     },
     "2827d7c862024b1182d62fe503fa2a4b": {
      "model_module": "@jupyter-widgets/base",
      "model_module_version": "2.0.0",
      "model_name": "LayoutModel",
      "state": {
       "grid_area": "description",
       "width": "auto"
      }
     },
     "28b756ebef29439b8cf65f927b2576a8": {
      "model_module": "@jupyter-widgets/base",
      "model_module_version": "2.0.0",
      "model_name": "LayoutModel",
      "state": {
       "grid_template_areas": "\n                    \"label input\"\n                    \". description\"\n                ",
       "grid_template_columns": "25% 75%",
       "grid_template_rows": "auto auto",
       "width": "100%"
      }
     },
     "28fa498e710e497b86de59c208bab895": {
      "model_module": "@jupyter-widgets/controls",
      "model_module_version": "2.0.0",
      "model_name": "TextModel",
      "state": {
       "_dom_classes": [
        "nbtools-menu-attached"
       ],
       "layout": "IPY_MODEL_ac65ea2ec93b42f186a75712d0333451",
       "style": "IPY_MODEL_98bc653d67884227a449a5fa2d9a24ac"
      }
     },
     "29120b4d83f24cceb4ad1c89bbac95a7": {
      "model_module": "@g2nb/nbtools",
      "model_module_version": ">=24.4.0",
      "model_name": "UIBuilderModel",
      "state": {
       "_model_module_version": ">=24.4.0",
       "_parameters": [
        {
         "choices": {},
         "default": "",
         "description": "",
         "events": null,
         "hide": false,
         "id": null,
         "kinds": null,
         "label": "input_file",
         "name": "input_file",
         "optional": false,
         "type": "text",
         "value": ""
        },
        {
         "choices": {},
         "default": "",
         "description": "",
         "events": null,
         "hide": false,
         "id": null,
         "kinds": null,
         "label": "display_type",
         "name": "display_type",
         "optional": false,
         "type": "text",
         "value": ""
        },
        {
         "choices": {},
         "default": "",
         "description": "",
         "events": null,
         "hide": false,
         "id": null,
         "kinds": null,
         "label": "display_color_line",
         "name": "display_color_line",
         "optional": false,
         "type": "text",
         "value": ""
        },
        {
         "choices": {},
         "default": "",
         "description": "",
         "events": null,
         "hide": false,
         "id": null,
         "kinds": null,
         "label": "display_color_fill",
         "name": "display_color_fill",
         "optional": false,
         "type": "text",
         "value": ""
        },
        {
         "choices": {},
         "default": "",
         "description": "",
         "events": null,
         "hide": false,
         "id": null,
         "kinds": null,
         "label": "display_label",
         "name": "display_label",
         "optional": false,
         "type": "text",
         "value": ""
        },
        {
         "choices": {},
         "default": "",
         "description": "",
         "events": null,
         "hide": false,
         "id": null,
         "kinds": null,
         "label": "min",
         "name": "min",
         "optional": false,
         "type": "text",
         "value": ""
        },
        {
         "choices": {},
         "default": "",
         "description": "",
         "events": null,
         "hide": false,
         "id": null,
         "kinds": null,
         "label": "max",
         "name": "max",
         "optional": false,
         "type": "text",
         "value": ""
        },
        {
         "choices": {},
         "default": "",
         "description": "",
         "events": null,
         "hide": false,
         "id": null,
         "kinds": null,
         "label": "fold_change",
         "name": "fold_change",
         "optional": false,
         "type": "text",
         "value": ""
        },
        {
         "choices": {},
         "default": "",
         "description": "",
         "events": null,
         "hide": true,
         "id": null,
         "kinds": null,
         "label": "output variable",
         "name": "output_var",
         "optional": true,
         "type": "text",
         "value": ""
        }
       ],
       "_view_count": -1,
       "_view_module_version": ">=24.4.0",
       "collapse": false,
       "form": "IPY_MODEL_e8787230363f4ff6a975b3a498a73d47",
       "layout": "IPY_MODEL_cb883b9230a04b91a668629ee3679e65",
       "name": "widget_with_groups",
       "origin": "Notebook",
       "output": "IPY_MODEL_6afc19a1c4c544779a30df48703278a3",
       "output_var": "",
       "parameter_groups": [
        "input_file",
        {
         "description": "How to display the data",
         "hidden": false,
         "name": "Display Options",
         "parameters": [
          "display_type",
          {
           "description": "Change the colors",
           "hidden": false,
           "name": "Color Options",
           "parameters": [
            "display_color_line",
            "display_color_fill",
            {
             "description": "3 deep",
             "hidden": false,
             "name": "Nested Options",
             "parameters": []
            }
           ]
          },
          "display_label"
         ]
        },
        {
         "description": "Change the preprocessing",
         "hidden": true,
         "name": "Advanced Options",
         "parameters": [
          "min",
          "max",
          "fold_change"
         ]
        }
       ]
      }
     },
     "2971e68f3ad14b29975ff0c9c13cbd82": {
      "model_module": "@jupyter-widgets/base",
      "model_module_version": "2.0.0",
      "model_name": "LayoutModel",
      "state": {
       "grid_area": "description",
       "width": "auto"
      }
     },
     "2ae29949ce9042c189f8d176a4440f11": {
      "model_module": "@jupyter-widgets/base",
      "model_module_version": "2.0.0",
      "model_name": "LayoutModel",
      "state": {
       "grid_area": "description",
       "width": "auto"
      }
     },
     "2c2c5fd3a16348fdb8285064af295e84": {
      "model_module": "@jupyter-widgets/controls",
      "model_module_version": "2.0.0",
      "model_name": "LabelModel",
      "state": {
       "description": "min",
       "layout": "IPY_MODEL_6e7ffe15ed994e25aef62ce875761693",
       "style": "IPY_MODEL_9d452bd33e2b4b239b7d424bc3ddd35b",
       "value": "min*"
      }
     },
     "2c72fa87f9cc4d4d9a48a259a75df583": {
      "model_module": "@jupyter-widgets/controls",
      "model_module_version": "2.0.0",
      "model_name": "GridBoxModel",
      "state": {
       "_dom_classes": [
        "nbtools-input",
        "nbtools-textinput",
        "required"
       ],
       "children": [
        "IPY_MODEL_a2b038dfdc404fa49bd5ff9c7f6fc2d2",
        "IPY_MODEL_05fedbd07b3a463696606478935f4c7f",
        "IPY_MODEL_56b1c99d9fcb4a389dfd18d6f45f0b6b"
       ],
       "layout": "IPY_MODEL_d522080b3d2f4ab7beb597c580e44a00"
      }
     },
     "2cb3094ca0eb4649b562915856f3feab": {
      "model_module": "@jupyter-widgets/controls",
      "model_module_version": "2.0.0",
      "model_name": "ButtonStyleModel",
      "state": {
       "font_family": null,
       "font_size": null,
       "font_style": null,
       "font_variant": null,
       "font_weight": null,
       "text_color": null,
       "text_decoration": null
      }
     },
     "2cc785f2b5de4dbca9e81719bfe281d2": {
      "model_module": "@jupyter-widgets/base",
      "model_module_version": "2.0.0",
      "model_name": "LayoutModel",
      "state": {
       "grid_area": "label",
       "width": "auto"
      }
     },
     "2d4c97d06fd74a4e94141e3bee570864": {
      "model_module": "@jupyter-widgets/controls",
      "model_module_version": "2.0.0",
      "model_name": "LabelStyleModel",
      "state": {
       "description_width": "",
       "font_family": null,
       "font_size": null,
       "font_style": null,
       "font_variant": null,
       "font_weight": null,
       "text_color": null,
       "text_decoration": null
      }
     },
     "2dc3195d17764ec58a21ad0696bfccb5": {
      "model_module": "@jupyter-widgets/base",
      "model_module_version": "2.0.0",
      "model_name": "LayoutModel",
      "state": {
       "display": "none",
       "grid_template_areas": "\n                    \"label input\"\n                    \". description\"\n                ",
       "grid_template_columns": "25% 75%",
       "grid_template_rows": "auto auto",
       "width": "100%"
      }
     },
     "2fe6aa14a92c4665a97a5c5d7f342c2f": {
      "model_module": "@jupyter-widgets/controls",
      "model_module_version": "2.0.0",
      "model_name": "GridBoxModel",
      "state": {
       "_dom_classes": [
        "nbtools-input",
        "nbtools-textinput",
        "required"
       ],
       "children": [
        "IPY_MODEL_1b838aaab79b4033a1cd902db7aadb55",
        "IPY_MODEL_03fb832471c14d81b2710e60e7d1b4f6",
        "IPY_MODEL_a6253ff7321745f1bccbb18d1a5d94c8"
       ],
       "layout": "IPY_MODEL_bc24544faa5b4b7ab159d7a1bc3c5cf8"
      }
     },
     "30a38306ecd74d64b7f4b30584de0182": {
      "model_module": "@jupyter-widgets/base",
      "model_module_version": "2.0.0",
      "model_name": "LayoutModel",
      "state": {}
     },
     "3199bdb128c546b3b8c0fe7b17098404": {
      "model_module": "@jupyter-widgets/base",
      "model_module_version": "2.0.0",
      "model_name": "LayoutModel",
      "state": {
       "grid_area": "input",
       "width": "auto"
      }
     },
     "31c4868b2fba4c8fbbd1bfde7e618b8f": {
      "model_module": "@jupyter-widgets/controls",
      "model_module_version": "2.0.0",
      "model_name": "LabelStyleModel",
      "state": {
       "description_width": "",
       "font_family": null,
       "font_size": null,
       "font_style": null,
       "font_variant": null,
       "font_weight": null,
       "text_color": null,
       "text_decoration": null
      }
     },
     "3242d5734cb44ac4919e2437f26dba28": {
      "model_module": "@jupyter-widgets/base",
      "model_module_version": "2.0.0",
      "model_name": "LayoutModel",
      "state": {
       "grid_area": "description",
       "width": "auto"
      }
     },
     "3373a87a2efe461580262c955ad0382f": {
      "model_module": "@jupyter-widgets/controls",
      "model_module_version": "2.0.0",
      "model_name": "LabelStyleModel",
      "state": {
       "description_width": "",
       "font_family": null,
       "font_size": null,
       "font_style": null,
       "font_variant": null,
       "font_weight": null,
       "text_color": null,
       "text_decoration": null
      }
     },
     "3381737628504f309a8da43067d0a4ac": {
      "model_module": "@jupyter-widgets/base",
      "model_module_version": "2.0.0",
      "model_name": "LayoutModel",
      "state": {
       "grid_area": "label",
       "width": "auto"
      }
     },
     "33981c43fd164c6a80e26392523086d9": {
      "model_module": "@jupyter-widgets/controls",
      "model_module_version": "2.0.0",
      "model_name": "LabelStyleModel",
      "state": {
       "description_width": "",
       "font_family": null,
       "font_size": null,
       "font_style": null,
       "font_variant": null,
       "font_weight": null,
       "text_color": null,
       "text_decoration": null
      }
     },
     "3522eb8af6c14095b65003dea1f3edef": {
      "model_module": "@jupyter-widgets/controls",
      "model_module_version": "2.0.0",
      "model_name": "GridBoxModel",
      "state": {
       "_dom_classes": [
        "nbtools-input",
        "nbtools-textinput",
        "required"
       ],
       "children": [
        "IPY_MODEL_4e62788cd4fa4cfe8c182fe312a0ff29",
        "IPY_MODEL_04566d87052c4239bd5355445ffb3a18",
        "IPY_MODEL_5abb29003a82493ea5c6d047b30f7f99"
       ],
       "layout": "IPY_MODEL_907a3a7c4eb74e8fbbe92fd531141337"
      }
     },
     "354648b8f45d40038bf5826cee767d99": {
      "model_module": "@jupyter-widgets/controls",
      "model_module_version": "2.0.0",
      "model_name": "LabelStyleModel",
      "state": {
       "description_width": "",
       "font_family": null,
       "font_size": null,
       "font_style": null,
       "font_variant": null,
       "font_weight": null,
       "text_color": null,
       "text_decoration": null
      }
     },
     "375c536e951d41a5938e505d69dbfd69": {
      "model_module": "@jupyter-widgets/controls",
      "model_module_version": "2.0.0",
      "model_name": "LabelModel",
      "state": {
       "layout": "IPY_MODEL_d86bffcf3a83484da4db978cf22c9b99",
       "style": "IPY_MODEL_b462a91a601842e78fcc7f69ca011ff5"
      }
     },
     "378aa138e33b441da196f09a1d08d54b": {
      "model_module": "@jupyter-widgets/base",
      "model_module_version": "2.0.0",
      "model_name": "LayoutModel",
      "state": {}
     },
     "3797c3877a7c4cb7ae9599fb60822a94": {
      "model_module": "@jupyter-widgets/base",
      "model_module_version": "2.0.0",
      "model_name": "LayoutModel",
      "state": {
       "display": "none",
       "grid_template_areas": "\n                    \"label input\"\n                    \". description\"\n                ",
       "grid_template_columns": "25% 75%",
       "grid_template_rows": "auto auto",
       "width": "100%"
      }
     },
     "38474e5200bf4efe9c4e6681db98d9ba": {
      "model_module": "@jupyter-widgets/controls",
      "model_module_version": "2.0.0",
      "model_name": "LabelStyleModel",
      "state": {
       "description_width": "",
       "font_family": null,
       "font_size": null,
       "font_style": null,
       "font_variant": null,
       "font_weight": null,
       "text_color": null,
       "text_decoration": null
      }
     },
     "38d8534cf1544a08b065a16fcf8f1f25": {
      "model_module": "@jupyter-widgets/base",
      "model_module_version": "2.0.0",
      "model_name": "LayoutModel",
      "state": {
       "grid_area": "label",
       "width": "auto"
      }
     },
     "3930721d56d84d799bd01c1801d301d8": {
      "model_module": "@jupyter-widgets/base",
      "model_module_version": "2.0.0",
      "model_name": "LayoutModel",
      "state": {
       "grid_area": "description",
       "width": "auto"
      }
     },
     "3973783310e54a2986474820c7e82321": {
      "model_module": "@jupyter-widgets/controls",
      "model_module_version": "2.0.0",
      "model_name": "TextStyleModel",
      "state": {
       "description_width": "",
       "font_size": null,
       "text_color": null
      }
     },
     "398a43b2cd414549b36d4d281d9dc2fa": {
      "model_module": "@jupyter-widgets/controls",
      "model_module_version": "2.0.0",
      "model_name": "LabelStyleModel",
      "state": {
       "description_width": "",
       "font_family": null,
       "font_size": null,
       "font_style": null,
       "font_variant": null,
       "font_weight": null,
       "text_color": null,
       "text_decoration": null
      }
     },
     "39b9518a0c6e4393b36df90541f6b79d": {
      "model_module": "@jupyter-widgets/controls",
      "model_module_version": "2.0.0",
      "model_name": "GridBoxModel",
      "state": {
       "_dom_classes": [
        "nbtools-input",
        "nbtools-textinput",
        "required"
       ],
       "children": [
        "IPY_MODEL_bfb3414ff8b84bb8950ec136098ac711",
        "IPY_MODEL_ca6e8c1d34ec41599f8676a741f66d6e",
        "IPY_MODEL_3aa5b7182dba4fb8945bb37a82114f9d"
       ],
       "layout": "IPY_MODEL_11c60b77576446d2b0a68b4fb0b7a3b2"
      }
     },
     "39c9114408234effb2b962731135ad45": {
      "model_module": "@jupyter-widgets/controls",
      "model_module_version": "2.0.0",
      "model_name": "LabelStyleModel",
      "state": {
       "description_width": "",
       "font_family": null,
       "font_size": null,
       "font_style": null,
       "font_variant": null,
       "font_weight": null,
       "text_color": null,
       "text_decoration": null
      }
     },
     "3aa5b7182dba4fb8945bb37a82114f9d": {
      "model_module": "@jupyter-widgets/controls",
      "model_module_version": "2.0.0",
      "model_name": "LabelModel",
      "state": {
       "layout": "IPY_MODEL_3242d5734cb44ac4919e2437f26dba28",
       "style": "IPY_MODEL_953b24b3b44943bc9131b611da1be72e"
      }
     },
     "3b482a3187fe4939ada029d07b4ce2fb": {
      "model_module": "@jupyter-widgets/controls",
      "model_module_version": "2.0.0",
      "model_name": "TextModel",
      "state": {
       "_dom_classes": [
        "nbtools-menu-attached"
       ],
       "layout": "IPY_MODEL_74548300e3994baea3194f4507297274",
       "style": "IPY_MODEL_e6856b03b771429d87386fa779ec07b6"
      }
     },
     "3b54135021c042bf92048aa0b058ed96": {
      "model_module": "@jupyter-widgets/controls",
      "model_module_version": "2.0.0",
      "model_name": "ButtonModel",
      "state": {
       "_dom_classes": [
        "hidden"
       ],
       "description": "Run",
       "layout": "IPY_MODEL_1673e5cf5ca645019a441b23279dff08",
       "style": "IPY_MODEL_583cd94da2474ec18f5925054dfac947",
       "tooltip": null
      }
     },
     "3d336224d0b04b979e0a3a3150b5facb": {
      "model_module": "@jupyter-widgets/base",
      "model_module_version": "2.0.0",
      "model_name": "LayoutModel",
      "state": {
       "grid_area": "label",
       "width": "auto"
      }
     },
     "3d74b4b324f34079a914d1d5824891e0": {
      "model_module": "@jupyter-widgets/controls",
      "model_module_version": "2.0.0",
      "model_name": "LabelModel",
      "state": {
       "description": "max",
       "layout": "IPY_MODEL_ab5d1d07462c4b9b8c4b3b99eb951bab",
       "style": "IPY_MODEL_5392b153aa4f4672b619a6a0c6c1d8e7",
       "value": "max*"
      }
     },
     "3f82580b91e64d4792071a565cf58b38": {
      "model_module": "@jupyter-widgets/base",
      "model_module_version": "2.0.0",
      "model_name": "LayoutModel",
      "state": {
       "grid_template_areas": "\n                    \"label input\"\n                    \". description\"\n                ",
       "grid_template_columns": "25% 75%",
       "grid_template_rows": "auto auto",
       "width": "100%"
      }
     },
     "3fa173c96d914b47accec0235542fd16": {
      "model_module": "@jupyter-widgets/controls",
      "model_module_version": "2.0.0",
      "model_name": "GridBoxModel",
      "state": {
       "_dom_classes": [
        "nbtools-input",
        "nbtools-textinput",
        "required"
       ],
       "children": [
        "IPY_MODEL_7842fb79f0e54609981d8fd3778b82d1",
        "IPY_MODEL_d81a1decab824eeab572e768b8357ccc",
        "IPY_MODEL_4049ecde395248188fde446e3b1e62ed"
       ],
       "layout": "IPY_MODEL_47dc503745864286998a26d4c1e544de"
      }
     },
     "3fae1701623043d0bb7c32e4bc901f23": {
      "model_module": "@jupyter-widgets/controls",
      "model_module_version": "2.0.0",
      "model_name": "LabelModel",
      "state": {
       "layout": "IPY_MODEL_e73de2230af74f70b105bac6218a6400",
       "style": "IPY_MODEL_06a16eb04fd2425aa062f841442d590a"
      }
     },
     "4049ecde395248188fde446e3b1e62ed": {
      "model_module": "@jupyter-widgets/controls",
      "model_module_version": "2.0.0",
      "model_name": "LabelModel",
      "state": {
       "layout": "IPY_MODEL_adcd208d5ace4a16ba2665e23fa68dba",
       "style": "IPY_MODEL_afb65e8e07f14b46ae88eb1d0b180ed6"
      }
     },
     "404e7fdf02ee48ab90947d56070293e3": {
      "model_module": "@jupyter-widgets/controls",
      "model_module_version": "2.0.0",
      "model_name": "LabelModel",
      "state": {
       "layout": "IPY_MODEL_2369eb90c47549abb95846675c6b87bf",
       "style": "IPY_MODEL_184ac0e842714dada87712acedabb490"
      }
     },
     "40772df994c840b69c132445e8247884": {
      "model_module": "@jupyter-widgets/controls",
      "model_module_version": "2.0.0",
      "model_name": "GridBoxModel",
      "state": {
       "_dom_classes": [
        "nbtools-input",
        "nbtools-textinput",
        "required"
       ],
       "children": [
        "IPY_MODEL_58e8aa32f6b744faba56fb93c83fe486",
        "IPY_MODEL_e0625b2447e84c879216e2ee16498a28",
        "IPY_MODEL_64eb84272d6b4faf985b235b9959e901"
       ],
       "layout": "IPY_MODEL_245b6cd5db1d43dfacb7f31b211e0052"
      }
     },
     "40b1bb9c7c334a1fab5d30454e83eeb4": {
      "model_module": "@jupyter-widgets/controls",
      "model_module_version": "2.0.0",
      "model_name": "LabelModel",
      "state": {
       "description": "input_file",
       "layout": "IPY_MODEL_7519c7346d5a45478c1e773e6639166c",
       "style": "IPY_MODEL_398a43b2cd414549b36d4d281d9dc2fa",
       "value": "input_file*"
      }
     },
     "411f935eca0a40efb1e1bee3a0999585": {
      "model_module": "@jupyter-widgets/base",
      "model_module_version": "2.0.0",
      "model_name": "LayoutModel",
      "state": {
       "grid_area": "label",
       "width": "auto"
      }
     },
     "414b087916264d9dbe6db99bbd470f7f": {
      "model_module": "@jupyter-widgets/controls",
      "model_module_version": "2.0.0",
      "model_name": "GridBoxModel",
      "state": {
       "_dom_classes": [
        "nbtools-input",
        "nbtools-textinput"
       ],
       "children": [
        "IPY_MODEL_e4ae1c3d314543598cb70c573a2b99b7",
        "IPY_MODEL_2577f28361444bb8a68a62952ed3a4d5",
        "IPY_MODEL_1391db6c376a4c2abd6919b8e160edee"
       ],
       "layout": "IPY_MODEL_84bcadcf13834ada90ea03f4ccd33a4b"
      }
     },
     "4224e9f9961647d58de1001e0a1d41a2": {
      "model_module": "@jupyter-widgets/controls",
      "model_module_version": "2.0.0",
      "model_name": "VBoxModel",
      "state": {
       "children": [
        "IPY_MODEL_29120b4d83f24cceb4ad1c89bbac95a7",
        "IPY_MODEL_6afc19a1c4c544779a30df48703278a3"
       ],
       "layout": "IPY_MODEL_93cb643c959f44a6a3fd93bd34d357df"
      }
     },
     "4236233c5fb240c6bc047b31be76b0ca": {
      "model_module": "@jupyter-widgets/base",
      "model_module_version": "2.0.0",
      "model_name": "LayoutModel",
      "state": {
       "grid_area": "description",
       "width": "auto"
      }
     },
     "436a866fc9a14105914d37cf2c2d650c": {
      "model_module": "@jupyter-widgets/controls",
      "model_module_version": "2.0.0",
      "model_name": "LabelModel",
      "state": {
       "layout": "IPY_MODEL_2971e68f3ad14b29975ff0c9c13cbd82",
       "style": "IPY_MODEL_8b11c7e76d484ee5a6ac20df81c2637f"
      }
     },
     "4425afb6f3c44e50835c70b091f26595": {
      "model_module": "@jupyter-widgets/base",
      "model_module_version": "2.0.0",
      "model_name": "LayoutModel",
      "state": {
       "grid_area": "input",
       "width": "auto"
      }
     },
     "459a40440b0d4eba9bb96e8143549859": {
      "model_module": "@jupyter-widgets/base",
      "model_module_version": "2.0.0",
      "model_name": "LayoutModel",
      "state": {
       "grid_area": "input",
       "width": "auto"
      }
     },
     "463ba2c967be44778b403f1f1ce1751e": {
      "model_module": "@jupyter-widgets/controls",
      "model_module_version": "2.0.0",
      "model_name": "LabelStyleModel",
      "state": {
       "description_width": "",
       "font_family": null,
       "font_size": null,
       "font_style": null,
       "font_variant": null,
       "font_weight": null,
       "text_color": null,
       "text_decoration": null
      }
     },
     "478a3436132a437589cd810d1b506c5c": {
      "model_module": "@jupyter-widgets/base",
      "model_module_version": "2.0.0",
      "model_name": "LayoutModel",
      "state": {
       "grid_area": "input",
       "width": "auto"
      }
     },
     "47dc503745864286998a26d4c1e544de": {
      "model_module": "@jupyter-widgets/base",
      "model_module_version": "2.0.0",
      "model_name": "LayoutModel",
      "state": {
       "grid_template_areas": "\n                    \"label input\"\n                    \". description\"\n                ",
       "grid_template_columns": "25% 75%",
       "grid_template_rows": "auto auto",
       "width": "100%"
      }
     },
     "49a99c538276414fa3f41c5b67b54c1b": {
      "model_module": "@g2nb/nbtools",
      "model_module_version": ">=24.4.0",
      "model_name": "UIBuilderModel",
      "state": {
       "_model_module_version": ">=24.4.0",
       "_parameters": [
        {
         "choices": {},
         "default": "",
         "description": "",
         "events": null,
         "hide": false,
         "id": null,
         "kinds": null,
         "label": "input_file",
         "name": "input_file",
         "optional": false,
         "type": "text",
         "value": ""
        },
        {
         "choices": {},
         "default": "",
         "description": "",
         "events": null,
         "hide": false,
         "id": null,
         "kinds": null,
         "label": "display_type",
         "name": "display_type",
         "optional": false,
         "type": "text",
         "value": ""
        },
        {
         "choices": {},
         "default": "",
         "description": "",
         "events": null,
         "hide": false,
         "id": null,
         "kinds": null,
         "label": "display_color_line",
         "name": "display_color_line",
         "optional": false,
         "type": "text",
         "value": ""
        },
        {
         "choices": {},
         "default": "",
         "description": "",
         "events": null,
         "hide": false,
         "id": null,
         "kinds": null,
         "label": "display_color_fill",
         "name": "display_color_fill",
         "optional": false,
         "type": "text",
         "value": ""
        },
        {
         "choices": {},
         "default": "",
         "description": "",
         "events": null,
         "hide": false,
         "id": null,
         "kinds": null,
         "label": "display_label",
         "name": "display_label",
         "optional": false,
         "type": "text",
         "value": ""
        },
        {
         "choices": {},
         "default": "",
         "description": "",
         "events": null,
         "hide": false,
         "id": null,
         "kinds": null,
         "label": "min",
         "name": "min",
         "optional": false,
         "type": "text",
         "value": ""
        },
        {
         "choices": {},
         "default": "",
         "description": "",
         "events": null,
         "hide": false,
         "id": null,
         "kinds": null,
         "label": "max",
         "name": "max",
         "optional": false,
         "type": "text",
         "value": ""
        },
        {
         "choices": {},
         "default": "",
         "description": "",
         "events": null,
         "hide": false,
         "id": null,
         "kinds": null,
         "label": "fold_change",
         "name": "fold_change",
         "optional": false,
         "type": "text",
         "value": ""
        },
        {
         "choices": {},
         "default": "",
         "description": "",
         "events": null,
         "hide": true,
         "id": null,
         "kinds": null,
         "label": "output variable",
         "name": "output_var",
         "optional": true,
         "type": "text",
         "value": ""
        }
       ],
       "_view_count": 1,
       "_view_module_version": ">=24.4.0",
       "collapse": false,
       "form": "IPY_MODEL_cbf31717184d4b40809aef8a1f76b84b",
       "layout": "IPY_MODEL_6d1fc777b99341029cc17a4d8c0e131a",
       "name": "widget_with_groups",
       "origin": "Notebook",
       "output": "IPY_MODEL_6e51a7335d02484f87f65c002531066c",
       "output_var": "",
       "parameter_groups": [
        "input_file",
        {
         "description": "How to display the data",
         "hidden": false,
         "name": "Display Options",
         "parameters": [
          "display_type",
          {
           "description": "Change the colors",
           "hidden": false,
           "name": "Color Options",
           "parameters": [
            "display_color_line",
            "display_color_fill",
            {
             "description": "3 deep",
             "hidden": false,
             "name": "Nested Options",
             "parameters": []
            }
           ]
          },
          "display_label"
         ]
        },
        {
         "description": "Change the preprocessing",
         "hidden": true,
         "name": "Advanced Options",
         "parameters": [
          "min",
          "max",
          "fold_change"
         ]
        }
       ]
      }
     },
     "4a8b8665a14641d48e513959c7a460a9": {
      "model_module": "@jupyter-widgets/base",
      "model_module_version": "2.0.0",
      "model_name": "LayoutModel",
      "state": {
       "grid_area": "description",
       "width": "auto"
      }
     },
     "4abe3e77e4cc4425aa3e0032c7b1c8ea": {
      "model_module": "@jupyter-widgets/controls",
      "model_module_version": "2.0.0",
      "model_name": "LabelStyleModel",
      "state": {
       "description_width": "",
       "font_family": null,
       "font_size": null,
       "font_style": null,
       "font_variant": null,
       "font_weight": null,
       "text_color": null,
       "text_decoration": null
      }
     },
     "4b97457fff03447cbf825306d2e030fc": {
      "model_module": "@jupyter-widgets/controls",
      "model_module_version": "2.0.0",
      "model_name": "TextStyleModel",
      "state": {
       "description_width": "",
       "font_size": null,
       "text_color": null
      }
     },
     "4bb65571b48540559f1e21711e2f8152": {
      "model_module": "@jupyter-widgets/controls",
      "model_module_version": "2.0.0",
      "model_name": "TextStyleModel",
      "state": {
       "description_width": "",
       "font_size": null,
       "text_color": null
      }
     },
     "4bd7efdfd46948989a4e03464948af61": {
      "model_module": "@jupyter-widgets/output",
      "model_module_version": "1.0.0",
      "model_name": "OutputModel",
      "state": {
       "layout": "IPY_MODEL_055f532d068d478aafd009e5b71f097d"
      }
     },
     "4c17e3f15f1542ccb39d5ba42b76c9e3": {
      "model_module": "@jupyter-widgets/controls",
      "model_module_version": "2.0.0",
      "model_name": "GridBoxModel",
      "state": {
       "_dom_classes": [
        "nbtools-input",
        "nbtools-textinput",
        "required"
       ],
       "children": [
        "IPY_MODEL_0a0917ff9a714e9ca497ff8ed58f89cc",
        "IPY_MODEL_28fa498e710e497b86de59c208bab895",
        "IPY_MODEL_9542dce06d624a07b58d26e92cbae715"
       ],
       "layout": "IPY_MODEL_9bf24386f2db4a03a6e34d6ba332ad5c"
      }
     },
     "4c4a5b318c094b308967f60aef1435d1": {
      "model_module": "@jupyter-widgets/base",
      "model_module_version": "2.0.0",
      "model_name": "LayoutModel",
      "state": {
       "grid_area": "description",
       "width": "auto"
      }
     },
     "4d399d1b41054b7ebe981274bee8bf92": {
      "model_module": "@jupyter-widgets/controls",
      "model_module_version": "2.0.0",
      "model_name": "GridBoxModel",
      "state": {
       "_dom_classes": [
        "nbtools-input",
        "nbtools-textinput"
       ],
       "children": [
        "IPY_MODEL_eb356eb3b10046598632d67f24c5a51c",
        "IPY_MODEL_e5f09bd488f843e5b51917a33df53995",
        "IPY_MODEL_375c536e951d41a5938e505d69dbfd69"
       ],
       "layout": "IPY_MODEL_2dc3195d17764ec58a21ad0696bfccb5"
      }
     },
     "4e62788cd4fa4cfe8c182fe312a0ff29": {
      "model_module": "@jupyter-widgets/controls",
      "model_module_version": "2.0.0",
      "model_name": "LabelModel",
      "state": {
       "description": "max",
       "layout": "IPY_MODEL_beeb5ad820bc4cd19eff2456dbe13952",
       "style": "IPY_MODEL_bce31ce50785413dafb3043fcb9024fd",
       "value": "max*"
      }
     },
     "4ea118c027c542b0853e22bce8b8b9be": {
      "model_module": "@jupyter-widgets/controls",
      "model_module_version": "2.0.0",
      "model_name": "TextModel",
      "state": {
       "_dom_classes": [
        "nbtools-menu-attached"
       ],
       "layout": "IPY_MODEL_459a40440b0d4eba9bb96e8143549859",
       "style": "IPY_MODEL_6e924b4008124601adfd6e2b81672c34"
      }
     },
     "4f2a17a4fb8e4b3db62ff331db6ddb5a": {
      "model_module": "@jupyter-widgets/base",
      "model_module_version": "2.0.0",
      "model_name": "LayoutModel",
      "state": {
       "grid_area": "input",
       "width": "auto"
      }
     },
     "4febd420340f41a7a8622eee86cd0304": {
      "model_module": "@jupyter-widgets/base",
      "model_module_version": "2.0.0",
      "model_name": "LayoutModel",
      "state": {
       "grid_template_areas": "\n                    \"label input\"\n                    \". description\"\n                ",
       "grid_template_columns": "25% 75%",
       "grid_template_rows": "auto auto",
       "width": "100%"
      }
     },
     "50aa076a7bbb47229a00e20857fd34c7": {
      "model_module": "@jupyter-widgets/base",
      "model_module_version": "2.0.0",
      "model_name": "LayoutModel",
      "state": {
       "grid_area": "input",
       "width": "auto"
      }
     },
     "51a34efd9d44453ca07aa456342d9781": {
      "model_module": "@jupyter-widgets/base",
      "model_module_version": "2.0.0",
      "model_name": "LayoutModel",
      "state": {
       "grid_area": "label",
       "width": "auto"
      }
     },
     "52d86e4f955d407ea5200473a2289994": {
      "model_module": "@jupyter-widgets/base",
      "model_module_version": "2.0.0",
      "model_name": "LayoutModel",
      "state": {
       "display": "none",
       "grid_template_areas": "\n                    \"label input\"\n                    \". description\"\n                ",
       "grid_template_columns": "25% 75%",
       "grid_template_rows": "auto auto",
       "width": "100%"
      }
     },
     "53224ac602484aa0988076f9755d6f7d": {
      "model_module": "@jupyter-widgets/controls",
      "model_module_version": "2.0.0",
      "model_name": "TextStyleModel",
      "state": {
       "description_width": "",
       "font_size": null,
       "text_color": null
      }
     },
     "5335248e04dc4b69988f48c567eccca1": {
      "model_module": "@jupyter-widgets/controls",
      "model_module_version": "2.0.0",
      "model_name": "LabelStyleModel",
      "state": {
       "description_width": "",
       "font_family": null,
       "font_size": null,
       "font_style": null,
       "font_variant": null,
       "font_weight": null,
       "text_color": null,
       "text_decoration": null
      }
     },
     "5342f4a21b75499798207a9076ad9501": {
      "model_module": "@jupyter-widgets/controls",
      "model_module_version": "2.0.0",
      "model_name": "GridBoxModel",
      "state": {
       "_dom_classes": [
        "nbtools-input",
        "nbtools-textinput",
        "required"
       ],
       "children": [
        "IPY_MODEL_2c2c5fd3a16348fdb8285064af295e84",
        "IPY_MODEL_6a099ecdd4e74c1591a1cab358dd6f20",
        "IPY_MODEL_88deb47b98f6426abacda741ac239a44"
       ],
       "layout": "IPY_MODEL_e7bd09aae29d449981111bfbdaef8222"
      }
     },
     "5392b153aa4f4672b619a6a0c6c1d8e7": {
      "model_module": "@jupyter-widgets/controls",
      "model_module_version": "2.0.0",
      "model_name": "LabelStyleModel",
      "state": {
       "description_width": "",
       "font_family": null,
       "font_size": null,
       "font_style": null,
       "font_variant": null,
       "font_weight": null,
       "text_color": null,
       "text_decoration": null
      }
     },
     "547b44ba3e784acaa4a30ae940a1aa32": {
      "model_module": "@jupyter-widgets/controls",
      "model_module_version": "2.0.0",
      "model_name": "LabelStyleModel",
      "state": {
       "description_width": "",
       "font_family": null,
       "font_size": null,
       "font_style": null,
       "font_variant": null,
       "font_weight": null,
       "text_color": null,
       "text_decoration": null
      }
     },
     "55e9850ab51146609cb044db4a918c51": {
      "model_module": "@jupyter-widgets/controls",
      "model_module_version": "2.0.0",
      "model_name": "GridBoxModel",
      "state": {
       "_dom_classes": [
        "nbtools-input",
        "nbtools-textinput",
        "required"
       ],
       "children": [
        "IPY_MODEL_e6f4a42952c540c0835cc3c9d1753129",
        "IPY_MODEL_d8f5abea626f4442b442563ae45012ae",
        "IPY_MODEL_a59a94a8cad8450e8d300d52d29fedf2"
       ],
       "layout": "IPY_MODEL_28b756ebef29439b8cf65f927b2576a8"
      }
     },
     "562dab1dd6c24541b391664720929b1b": {
      "model_module": "@jupyter-widgets/controls",
      "model_module_version": "2.0.0",
      "model_name": "TextStyleModel",
      "state": {
       "description_width": "",
       "font_size": null,
       "text_color": null
      }
     },
     "5645eb9751654345bf6fb4730ed7423c": {
      "model_module": "@jupyter-widgets/base",
      "model_module_version": "2.0.0",
      "model_name": "LayoutModel",
      "state": {
       "grid_area": "label",
       "width": "auto"
      }
     },
     "56846cef983149d0a77093bb13176dde": {
      "model_module": "@jupyter-widgets/controls",
      "model_module_version": "2.0.0",
      "model_name": "TextModel",
      "state": {
       "_dom_classes": [
        "nbtools-menu-attached"
       ],
       "layout": "IPY_MODEL_4425afb6f3c44e50835c70b091f26595",
       "style": "IPY_MODEL_562dab1dd6c24541b391664720929b1b"
      }
     },
     "56b1c99d9fcb4a389dfd18d6f45f0b6b": {
      "model_module": "@jupyter-widgets/controls",
      "model_module_version": "2.0.0",
      "model_name": "LabelModel",
      "state": {
       "layout": "IPY_MODEL_8b7f2add48654f82a2a459dc54d433b9",
       "style": "IPY_MODEL_6319bb6489f646a2912592f11749352c"
      }
     },
     "56f237524b5548ae866a4cce2df19831": {
      "model_module": "@jupyter-widgets/controls",
      "model_module_version": "2.0.0",
      "model_name": "LabelModel",
      "state": {
       "layout": "IPY_MODEL_4a8b8665a14641d48e513959c7a460a9",
       "style": "IPY_MODEL_f6c60f7b82024b8982a200c538e18798"
      }
     },
     "57c6c32bd5dc4cc9bf0239c27916bfbe": {
      "model_module": "@jupyter-widgets/controls",
      "model_module_version": "2.0.0",
      "model_name": "GridBoxModel",
      "state": {
       "_dom_classes": [
        "nbtools-input",
        "nbtools-textinput",
        "required"
       ],
       "children": [
        "IPY_MODEL_2422e086987849cb97d1a63e27348153",
        "IPY_MODEL_4ea118c027c542b0853e22bce8b8b9be",
        "IPY_MODEL_56f237524b5548ae866a4cce2df19831"
       ],
       "layout": "IPY_MODEL_703fd7419efa49ae898e98ef37e3c0d6"
      }
     },
     "58156deefa464079a51ab902910f345a": {
      "model_module": "@jupyter-widgets/base",
      "model_module_version": "2.0.0",
      "model_name": "LayoutModel",
      "state": {
       "grid_area": "label",
       "width": "auto"
      }
     },
     "583cd94da2474ec18f5925054dfac947": {
      "model_module": "@jupyter-widgets/controls",
      "model_module_version": "2.0.0",
      "model_name": "ButtonStyleModel",
      "state": {
       "font_family": null,
       "font_size": null,
       "font_style": null,
       "font_variant": null,
       "font_weight": null,
       "text_color": null,
       "text_decoration": null
      }
     },
     "58e8aa32f6b744faba56fb93c83fe486": {
      "model_module": "@jupyter-widgets/controls",
      "model_module_version": "2.0.0",
      "model_name": "LabelModel",
      "state": {
       "description": "display_label",
       "layout": "IPY_MODEL_62b1e2e96fa34396a983927f9102f79c",
       "style": "IPY_MODEL_0466c7c8320d480d88a9f8f21d72e178",
       "value": "display_label*"
      }
     },
     "5a7d2ab87d834a62b2f65bd4c7257c7d": {
      "model_module": "@jupyter-widgets/controls",
      "model_module_version": "2.0.0",
      "model_name": "GridBoxModel",
      "state": {
       "_dom_classes": [
        "nbtools-input",
        "nbtools-textinput"
       ],
       "children": [
        "IPY_MODEL_ef6c4ec6871e4990b92ed82de352adf9",
        "IPY_MODEL_78d753f4875d4983a558fdc71abde1cb",
        "IPY_MODEL_19974fdd748b468c84c505475b1e1e81"
       ],
       "layout": "IPY_MODEL_3797c3877a7c4cb7ae9599fb60822a94"
      }
     },
     "5abb29003a82493ea5c6d047b30f7f99": {
      "model_module": "@jupyter-widgets/controls",
      "model_module_version": "2.0.0",
      "model_name": "LabelModel",
      "state": {
       "layout": "IPY_MODEL_5daa3fb8a76f42019e95944c174c3295",
       "style": "IPY_MODEL_1a20a91b58d04eafb7393f4f061caa6b"
      }
     },
     "5b5d209cfaf546649916e9575f110e59": {
      "model_module": "@jupyter-widgets/base",
      "model_module_version": "2.0.0",
      "model_name": "LayoutModel",
      "state": {
       "display": "none",
       "grid_template_areas": "\n                    \"label input\"\n                    \". description\"\n                ",
       "grid_template_columns": "25% 75%",
       "grid_template_rows": "auto auto",
       "width": "100%"
      }
     },
     "5bdd991dea1342d89151ead29a7df339": {
      "model_module": "@jupyter-widgets/base",
      "model_module_version": "2.0.0",
      "model_name": "LayoutModel",
      "state": {
       "grid_area": "input",
       "width": "auto"
      }
     },
     "5d4f41a2dc354471842b231e04dea69a": {
      "model_module": "@jupyter-widgets/controls",
      "model_module_version": "2.0.0",
      "model_name": "TextStyleModel",
      "state": {
       "description_width": "",
       "font_size": null,
       "text_color": null
      }
     },
     "5d6b92b93c004063a8dec45af72fb5d0": {
      "model_module": "@jupyter-widgets/controls",
      "model_module_version": "2.0.0",
      "model_name": "TextStyleModel",
      "state": {
       "description_width": "",
       "font_size": null,
       "text_color": null
      }
     },
     "5d6e5748564b4c26a80782321af9b05a": {
      "model_module": "@jupyter-widgets/controls",
      "model_module_version": "2.0.0",
      "model_name": "LabelModel",
      "state": {
       "layout": "IPY_MODEL_9b34460341ac48e9bec20473eed556e6",
       "style": "IPY_MODEL_fb4051f20bb04a6c92b05303566c4e62"
      }
     },
     "5daa3fb8a76f42019e95944c174c3295": {
      "model_module": "@jupyter-widgets/base",
      "model_module_version": "2.0.0",
      "model_name": "LayoutModel",
      "state": {
       "grid_area": "description",
       "width": "auto"
      }
     },
     "5e74d190e2524e32bd511fc3dfed699a": {
      "model_module": "@jupyter-widgets/base",
      "model_module_version": "2.0.0",
      "model_name": "LayoutModel",
      "state": {}
     },
     "5faeedbbf3234a1ea588dd6ea6d9bc1b": {
      "model_module": "@jupyter-widgets/base",
      "model_module_version": "2.0.0",
      "model_name": "LayoutModel",
      "state": {}
     },
     "5fb77d3589924ac9b26516c044a8fc85": {
      "model_module": "@jupyter-widgets/base",
      "model_module_version": "2.0.0",
      "model_name": "LayoutModel",
      "state": {
       "grid_template_areas": "\n                    \"label input\"\n                    \". description\"\n                ",
       "grid_template_columns": "25% 75%",
       "grid_template_rows": "auto auto",
       "width": "100%"
      }
     },
     "60010ecb2bc94f38a740975fb1892066": {
      "model_module": "@jupyter-widgets/base",
      "model_module_version": "2.0.0",
      "model_name": "LayoutModel",
      "state": {
       "grid_area": "description",
       "width": "auto"
      }
     },
     "6023f3f54d5e489a9851f98034a44b33": {
      "model_module": "@jupyter-widgets/base",
      "model_module_version": "2.0.0",
      "model_name": "LayoutModel",
      "state": {
       "grid_area": "label",
       "width": "auto"
      }
     },
     "60b271c321964e06bd7579b566667ca3": {
      "model_module": "@jupyter-widgets/base",
      "model_module_version": "2.0.0",
      "model_name": "LayoutModel",
      "state": {}
     },
     "61886f71cd6d4f7e856da5406f4cc908": {
      "model_module": "@jupyter-widgets/controls",
      "model_module_version": "2.0.0",
      "model_name": "TextStyleModel",
      "state": {
       "description_width": "",
       "font_size": null,
       "text_color": null
      }
     },
     "61bce00eb3d747cc98c3ea5029fc8bda": {
      "model_module": "@jupyter-widgets/base",
      "model_module_version": "2.0.0",
      "model_name": "LayoutModel",
      "state": {
       "grid_area": "input",
       "width": "auto"
      }
     },
     "6246ff3932e1419e807a1d6b745f183f": {
      "model_module": "@jupyter-widgets/base",
      "model_module_version": "2.0.0",
      "model_name": "LayoutModel",
      "state": {
       "grid_area": "input",
       "width": "auto"
      }
     },
     "62b1e2e96fa34396a983927f9102f79c": {
      "model_module": "@jupyter-widgets/base",
      "model_module_version": "2.0.0",
      "model_name": "LayoutModel",
      "state": {
       "grid_area": "label",
       "width": "auto"
      }
     },
     "62d213290bc94ce683bec9dd62baad41": {
      "model_module": "@jupyter-widgets/controls",
      "model_module_version": "2.0.0",
      "model_name": "LabelModel",
      "state": {
       "description": "display_type",
       "layout": "IPY_MODEL_b492e390769f448a98d4c64941d11f3d",
       "style": "IPY_MODEL_354648b8f45d40038bf5826cee767d99",
       "value": "display_type*"
      }
     },
     "63094f1680754a35a7ed2028ed629288": {
      "model_module": "@jupyter-widgets/base",
      "model_module_version": "2.0.0",
      "model_name": "LayoutModel",
      "state": {
       "grid_area": "input",
       "width": "auto"
      }
     },
     "6319bb6489f646a2912592f11749352c": {
      "model_module": "@jupyter-widgets/controls",
      "model_module_version": "2.0.0",
      "model_name": "LabelStyleModel",
      "state": {
       "description_width": "",
       "font_family": null,
       "font_size": null,
       "font_style": null,
       "font_variant": null,
       "font_weight": null,
       "text_color": null,
       "text_decoration": null
      }
     },
     "631d741d34c34b85a375c58a9f7d84bd": {
      "model_module": "@jupyter-widgets/base",
      "model_module_version": "2.0.0",
      "model_name": "LayoutModel",
      "state": {
       "grid_area": "label",
       "width": "auto"
      }
     },
     "63db3ecb95be43bfb1ab316c4c1cb4b2": {
      "model_module": "@jupyter-widgets/controls",
      "model_module_version": "2.0.0",
      "model_name": "LabelModel",
      "state": {
       "description": "display_color_line",
       "layout": "IPY_MODEL_fe81e7fd3a94449788eb6832df8f6f5e",
       "style": "IPY_MODEL_dcb01e7b582c4c9180d0d272136a114b",
       "value": "display_color_line*"
      }
     },
     "63e890e7668e4f939467b43c7050ebb5": {
      "model_module": "@jupyter-widgets/controls",
      "model_module_version": "2.0.0",
      "model_name": "LabelStyleModel",
      "state": {
       "description_width": "",
       "font_family": null,
       "font_size": null,
       "font_style": null,
       "font_variant": null,
       "font_weight": null,
       "text_color": null,
       "text_decoration": null
      }
     },
     "63eaa18b936241f9b72f24025bbfaaa8": {
      "model_module": "@jupyter-widgets/controls",
      "model_module_version": "2.0.0",
      "model_name": "VBoxModel",
      "state": {
       "_dom_classes": [
        "widget-interact"
       ],
       "children": [
        "IPY_MODEL_ba05b7c6905f4116ae64a3f535162621",
        "IPY_MODEL_b3aac2bd51f54f4fb4a03ddfbf2cf61c"
       ],
       "layout": "IPY_MODEL_09b06fdf225c491db71790c308958845"
      }
     },
     "64ca81b2325744afa5b832fb9d5a1820": {
      "model_module": "@jupyter-widgets/base",
      "model_module_version": "2.0.0",
      "model_name": "LayoutModel",
      "state": {
       "grid_area": "label",
       "width": "auto"
      }
     },
     "64d00355144f4ac189dc3f34c64d10a4": {
      "model_module": "@jupyter-widgets/base",
      "model_module_version": "2.0.0",
      "model_name": "LayoutModel",
      "state": {
       "grid_area": "input",
       "width": "auto"
      }
     },
     "64e515d8c68a4914b5629783dc0642da": {
      "model_module": "@jupyter-widgets/controls",
      "model_module_version": "2.0.0",
      "model_name": "VBoxModel",
      "state": {
       "_dom_classes": [
        "widget-interact"
       ],
       "children": [
        "IPY_MODEL_0bdcd589ee9342f787bf41de9f860fda",
        "IPY_MODEL_2fe6aa14a92c4665a97a5c5d7f342c2f",
        "IPY_MODEL_cb5939a6a978485a936eaa24977beb46",
        "IPY_MODEL_7fe55b559a484850ab44e8aa09c95acf",
        "IPY_MODEL_40772df994c840b69c132445e8247884",
        "IPY_MODEL_8fcd9fde24cd43f593849743b8579546",
        "IPY_MODEL_3522eb8af6c14095b65003dea1f3edef",
        "IPY_MODEL_980e9d23ce8542108bfe3883c5de057d",
        "IPY_MODEL_cfc214b3125043e7b0967778c1380c54",
        "IPY_MODEL_4d399d1b41054b7ebe981274bee8bf92"
       ],
       "layout": "IPY_MODEL_74c78fb980614d12be8a1cf93251a588"
      }
     },
     "64eb84272d6b4faf985b235b9959e901": {
      "model_module": "@jupyter-widgets/controls",
      "model_module_version": "2.0.0",
      "model_name": "LabelModel",
      "state": {
       "layout": "IPY_MODEL_0fd2adc8a8264ea7af02d8ff3b81faa5",
       "style": "IPY_MODEL_d9495b2bfcd240a39023dfd86d15e835"
      }
     },
     "6786fe250b0845d6842137f5f0194e69": {
      "model_module": "@jupyter-widgets/controls",
      "model_module_version": "2.0.0",
      "model_name": "LabelStyleModel",
      "state": {
       "description_width": "",
       "font_family": null,
       "font_size": null,
       "font_style": null,
       "font_variant": null,
       "font_weight": null,
       "text_color": null,
       "text_decoration": null
      }
     },
     "678d4c71c8cb42b29297ad2a3d6db923": {
      "model_module": "@jupyter-widgets/output",
      "model_module_version": "1.0.0",
      "model_name": "OutputModel",
      "state": {
       "layout": "IPY_MODEL_5e74d190e2524e32bd511fc3dfed699a"
      }
     },
     "6814b02ab9c6483d940f99b4a5359eb1": {
      "model_module": "@jupyter-widgets/controls",
      "model_module_version": "2.0.0",
      "model_name": "LabelModel",
      "state": {
       "description": "fold_change",
       "layout": "IPY_MODEL_b59cbec357254df5b0867797cc095fc4",
       "style": "IPY_MODEL_a23ec649321e45c69ff614e41c1f4869",
       "value": "fold_change*"
      }
     },
     "6a099ecdd4e74c1591a1cab358dd6f20": {
      "model_module": "@jupyter-widgets/controls",
      "model_module_version": "2.0.0",
      "model_name": "TextModel",
      "state": {
       "_dom_classes": [
        "nbtools-menu-attached"
       ],
       "layout": "IPY_MODEL_faa3866baa65440db8d01031875ab113",
       "style": "IPY_MODEL_cf7643a32cc248a2afe6fcbe3e995b8a"
      }
     },
     "6a19a97a8ae442eca45dba664557027f": {
      "model_module": "@jupyter-widgets/controls",
      "model_module_version": "2.0.0",
      "model_name": "LabelModel",
      "state": {
       "layout": "IPY_MODEL_858fc2fb0b564894b602fcc6d9c8c8b9",
       "style": "IPY_MODEL_b3dec20c22e24e01bfa6988537fbfeb6"
      }
     },
     "6afc19a1c4c544779a30df48703278a3": {
      "model_module": "@jupyter-widgets/output",
      "model_module_version": "1.0.0",
      "model_name": "OutputModel",
      "state": {
       "layout": "IPY_MODEL_225395d5190945d6972112413e9e5472"
      }
     },
     "6b6b35a3e3cb42a1a36df99f4527bca2": {
      "model_module": "@jupyter-widgets/controls",
      "model_module_version": "2.0.0",
      "model_name": "LabelModel",
      "state": {
       "description": "display_color_fill",
       "layout": "IPY_MODEL_74d5c3d225c2445393dec7106627d838",
       "style": "IPY_MODEL_3373a87a2efe461580262c955ad0382f",
       "value": "display_color_fill*"
      }
     },
     "6ba4988495894ec5800166e17f1f7105": {
      "model_module": "@jupyter-widgets/base",
      "model_module_version": "2.0.0",
      "model_name": "LayoutModel",
      "state": {}
     },
     "6c2c1d4f395d40b99ee32cd548cdae1a": {
      "model_module": "@jupyter-widgets/base",
      "model_module_version": "2.0.0",
      "model_name": "LayoutModel",
      "state": {}
     },
     "6d1fc777b99341029cc17a4d8c0e131a": {
      "model_module": "@jupyter-widgets/base",
      "model_module_version": "2.0.0",
      "model_name": "LayoutModel",
      "state": {}
     },
     "6e51a7335d02484f87f65c002531066c": {
      "model_module": "@jupyter-widgets/output",
      "model_module_version": "1.0.0",
      "model_name": "OutputModel",
      "state": {
       "layout": "IPY_MODEL_094f93887c584db3a73b55c674ffc5bd"
      }
     },
     "6e7ffe15ed994e25aef62ce875761693": {
      "model_module": "@jupyter-widgets/base",
      "model_module_version": "2.0.0",
      "model_name": "LayoutModel",
      "state": {
       "grid_area": "label",
       "width": "auto"
      }
     },
     "6e924b4008124601adfd6e2b81672c34": {
      "model_module": "@jupyter-widgets/controls",
      "model_module_version": "2.0.0",
      "model_name": "TextStyleModel",
      "state": {
       "description_width": "",
       "font_size": null,
       "text_color": null
      }
     },
     "703fd7419efa49ae898e98ef37e3c0d6": {
      "model_module": "@jupyter-widgets/base",
      "model_module_version": "2.0.0",
      "model_name": "LayoutModel",
      "state": {
       "grid_template_areas": "\n                    \"label input\"\n                    \". description\"\n                ",
       "grid_template_columns": "25% 75%",
       "grid_template_rows": "auto auto",
       "width": "100%"
      }
     },
     "71386b43d9bb49c8b0c58f8aa61daaa2": {
      "model_module": "@jupyter-widgets/controls",
      "model_module_version": "2.0.0",
      "model_name": "TextModel",
      "state": {
       "_dom_classes": [
        "nbtools-menu-attached"
       ],
       "layout": "IPY_MODEL_8e207ce8c5214d2daca60c9560fc1c00",
       "style": "IPY_MODEL_53224ac602484aa0988076f9755d6f7d"
      }
     },
     "71987fa003c6491f8fc1f468705fa01e": {
      "model_module": "@jupyter-widgets/controls",
      "model_module_version": "2.0.0",
      "model_name": "TextStyleModel",
      "state": {
       "description_width": "",
       "font_size": null,
       "text_color": null
      }
     },
     "72e8374cc89b4638b1c28c46cdeb9990": {
      "model_module": "@jupyter-widgets/controls",
      "model_module_version": "2.0.0",
      "model_name": "TextStyleModel",
      "state": {
       "description_width": "",
       "font_size": null,
       "text_color": null
      }
     },
     "73a7481945e84e8592772173528abfb3": {
      "model_module": "@jupyter-widgets/controls",
      "model_module_version": "2.0.0",
      "model_name": "VBoxModel",
      "state": {
       "children": [
        "IPY_MODEL_f7c59b1d9eb0418a9fa4304a2b22670a",
        "IPY_MODEL_678d4c71c8cb42b29297ad2a3d6db923"
       ],
       "layout": "IPY_MODEL_30a38306ecd74d64b7f4b30584de0182"
      }
     },
     "74548300e3994baea3194f4507297274": {
      "model_module": "@jupyter-widgets/base",
      "model_module_version": "2.0.0",
      "model_name": "LayoutModel",
      "state": {
       "grid_area": "input",
       "width": "auto"
      }
     },
     "74c78fb980614d12be8a1cf93251a588": {
      "model_module": "@jupyter-widgets/base",
      "model_module_version": "2.0.0",
      "model_name": "LayoutModel",
      "state": {}
     },
     "74d5c3d225c2445393dec7106627d838": {
      "model_module": "@jupyter-widgets/base",
      "model_module_version": "2.0.0",
      "model_name": "LayoutModel",
      "state": {
       "grid_area": "label",
       "width": "auto"
      }
     },
     "7519c7346d5a45478c1e773e6639166c": {
      "model_module": "@jupyter-widgets/base",
      "model_module_version": "2.0.0",
      "model_name": "LayoutModel",
      "state": {
       "grid_area": "label",
       "width": "auto"
      }
     },
     "75e70be0feec4aae8fd87c1dfe6d6f06": {
      "model_module": "@jupyter-widgets/controls",
      "model_module_version": "2.0.0",
      "model_name": "TextModel",
      "state": {
       "_dom_classes": [
        "nbtools-menu-attached"
       ],
       "layout": "IPY_MODEL_61bce00eb3d747cc98c3ea5029fc8bda",
       "style": "IPY_MODEL_ccd65febabde410f8fc8c35021e8b570"
      }
     },
     "76d71c1ab1cb463d94dda152cefa1820": {
      "model_module": "@jupyter-widgets/controls",
      "model_module_version": "2.0.0",
      "model_name": "LabelStyleModel",
      "state": {
       "description_width": "",
       "font_family": null,
       "font_size": null,
       "font_style": null,
       "font_variant": null,
       "font_weight": null,
       "text_color": null,
       "text_decoration": null
      }
     },
     "773d4dc8a1864fdd801ca5f7157fff20": {
      "model_module": "@jupyter-widgets/base",
      "model_module_version": "2.0.0",
      "model_name": "LayoutModel",
      "state": {
       "grid_area": "input",
       "width": "auto"
      }
     },
     "783cdadf89ea45cabbffe6cd58ddc280": {
      "model_module": "@jupyter-widgets/base",
      "model_module_version": "2.0.0",
      "model_name": "LayoutModel",
      "state": {
       "grid_area": "label",
       "width": "auto"
      }
     },
     "7842fb79f0e54609981d8fd3778b82d1": {
      "model_module": "@jupyter-widgets/controls",
      "model_module_version": "2.0.0",
      "model_name": "LabelModel",
      "state": {
       "description": "display_color_line",
       "layout": "IPY_MODEL_eea703343cf3496bad298deaac1c6af5",
       "style": "IPY_MODEL_20d1c21c97814e649b22dc4f4ca61ed7",
       "value": "display_color_line*"
      }
     },
     "78aa21d85ac24144bf385c1b2990bef4": {
      "model_module": "@jupyter-widgets/base",
      "model_module_version": "2.0.0",
      "model_name": "LayoutModel",
      "state": {
       "grid_area": "description",
       "width": "auto"
      }
     },
     "78d753f4875d4983a558fdc71abde1cb": {
      "model_module": "@jupyter-widgets/controls",
      "model_module_version": "2.0.0",
      "model_name": "TextModel",
      "state": {
       "_dom_classes": [
        "nbtools-menu-attached"
       ],
       "layout": "IPY_MODEL_6246ff3932e1419e807a1d6b745f183f",
       "style": "IPY_MODEL_fec8718026884771aedab6ed47ed29c4"
      }
     },
     "7c3b15d866c145828557e6e0222aa4ff": {
      "model_module": "@jupyter-widgets/controls",
      "model_module_version": "2.0.0",
      "model_name": "TextStyleModel",
      "state": {
       "description_width": "",
       "font_size": null,
       "text_color": null
      }
     },
     "7ea9ac45404444daa4d32e7a94dfc290": {
      "model_module": "@jupyter-widgets/controls",
      "model_module_version": "2.0.0",
      "model_name": "TextModel",
      "state": {
       "_dom_classes": [
        "nbtools-menu-attached"
       ],
       "layout": "IPY_MODEL_85b71662908941eeb45ceab4d365744d",
       "style": "IPY_MODEL_dea5642a43b94e9ca1859c0a3272c3b1"
      }
     },
     "7eb3d264ef4245bb876f34448a4c4fb6": {
      "model_module": "@jupyter-widgets/controls",
      "model_module_version": "2.0.0",
      "model_name": "LabelModel",
      "state": {
       "layout": "IPY_MODEL_0a479f0bfe3d480da525b815e776666c",
       "style": "IPY_MODEL_63e890e7668e4f939467b43c7050ebb5"
      }
     },
     "7ee6ba5a2e5049acbb03d633adc0b640": {
      "model_module": "@jupyter-widgets/controls",
      "model_module_version": "2.0.0",
      "model_name": "ButtonModel",
      "state": {
       "_dom_classes": [
        "hidden"
       ],
       "description": "Run",
       "layout": "IPY_MODEL_f40f10e74e5a4d248de1bf07425faeba",
       "style": "IPY_MODEL_cf3ddcc308d74b6da70a169fb404c0bb",
       "tooltip": null
      }
     },
     "7eea685775e343429c804a5dbd74d49a": {
      "model_module": "@jupyter-widgets/controls",
      "model_module_version": "2.0.0",
      "model_name": "LabelModel",
      "state": {
       "layout": "IPY_MODEL_1accacd94e624a0098506ea651fb030b",
       "style": "IPY_MODEL_a7f7712c316a4878934dfb0fee4485eb"
      }
     },
     "7f75a527ca32468f9563e6b388051d4e": {
      "model_module": "@jupyter-widgets/controls",
      "model_module_version": "2.0.0",
      "model_name": "GridBoxModel",
      "state": {
       "_dom_classes": [
        "nbtools-input",
        "nbtools-textinput",
        "required"
       ],
       "children": [
        "IPY_MODEL_f344fb7a130a4d6b94e708b7b6791ad8",
        "IPY_MODEL_75e70be0feec4aae8fd87c1dfe6d6f06",
        "IPY_MODEL_f6913ecf047a4eefacef138eeea641ee"
       ],
       "layout": "IPY_MODEL_a3e21eb79799400094cfb0e95b407fd9"
      }
     },
     "7f76eae545d8455da40f380004e3e520": {
      "model_module": "@jupyter-widgets/controls",
      "model_module_version": "2.0.0",
      "model_name": "LabelModel",
      "state": {
       "description": "min",
       "layout": "IPY_MODEL_783cdadf89ea45cabbffe6cd58ddc280",
       "style": "IPY_MODEL_2004f4c452c24c4280145bc8f1988e98",
       "value": "min*"
      }
     },
     "7fa477c8327d4cfd844375d82b37bdec": {
      "model_module": "@jupyter-widgets/base",
      "model_module_version": "2.0.0",
      "model_name": "LayoutModel",
      "state": {
       "grid_template_areas": "\n                    \"label input\"\n                    \". description\"\n                ",
       "grid_template_columns": "25% 75%",
       "grid_template_rows": "auto auto",
       "width": "100%"
      }
     },
     "7fe55b559a484850ab44e8aa09c95acf": {
      "model_module": "@jupyter-widgets/controls",
      "model_module_version": "2.0.0",
      "model_name": "GridBoxModel",
      "state": {
       "_dom_classes": [
        "nbtools-input",
        "nbtools-textinput",
        "required"
       ],
       "children": [
        "IPY_MODEL_6b6b35a3e3cb42a1a36df99f4527bca2",
        "IPY_MODEL_080e54fc0c4044e9a7f1084f36e37e16",
        "IPY_MODEL_8549d2fc034f481ca80401a44d5e8daf"
       ],
       "layout": "IPY_MODEL_d08e26e7715143c39103c565ca6a5373"
      }
     },
     "80b8106eed9a4f3d952ec3f3d3a0da18": {
      "model_module": "@jupyter-widgets/controls",
      "model_module_version": "2.0.0",
      "model_name": "LabelModel",
      "state": {
       "description": "output variable",
       "layout": "IPY_MODEL_38d8534cf1544a08b065a16fcf8f1f25",
       "style": "IPY_MODEL_0324b1ed68e14dedb4b1feeed971934e",
       "value": "output variable"
      }
     },
     "8370db9e16024a7c83a24195441d56de": {
      "model_module": "@jupyter-widgets/controls",
      "model_module_version": "2.0.0",
      "model_name": "TextStyleModel",
      "state": {
       "description_width": "",
       "font_size": null,
       "text_color": null
      }
     },
     "8396997ce92c41a68d8c66b70365b57c": {
      "model_module": "@jupyter-widgets/controls",
      "model_module_version": "2.0.0",
      "model_name": "LabelModel",
      "state": {
       "layout": "IPY_MODEL_c180e2c5c33e49c597c164daf159987f",
       "style": "IPY_MODEL_38474e5200bf4efe9c4e6681db98d9ba"
      }
     },
     "84bcadcf13834ada90ea03f4ccd33a4b": {
      "model_module": "@jupyter-widgets/base",
      "model_module_version": "2.0.0",
      "model_name": "LayoutModel",
      "state": {
       "display": "none",
       "grid_template_areas": "\n                    \"label input\"\n                    \". description\"\n                ",
       "grid_template_columns": "25% 75%",
       "grid_template_rows": "auto auto",
       "width": "100%"
      }
     },
     "84e6fc51dacf44beb743281e96cf4f66": {
      "model_module": "@jupyter-widgets/controls",
      "model_module_version": "2.0.0",
      "model_name": "LabelModel",
      "state": {
       "description": "display_type",
       "layout": "IPY_MODEL_ad330f0fd7c846a1aaa4ea66b429739a",
       "style": "IPY_MODEL_dc770f53c06448c79c85f8a8b6070cba",
       "value": "display_type*"
      }
     },
     "8549d2fc034f481ca80401a44d5e8daf": {
      "model_module": "@jupyter-widgets/controls",
      "model_module_version": "2.0.0",
      "model_name": "LabelModel",
      "state": {
       "layout": "IPY_MODEL_b9c2e2b538fc418c8308c19d9c29a3f1",
       "style": "IPY_MODEL_c84f48ee9ee1425b8457c02b2f9225a2"
      }
     },
     "858fc2fb0b564894b602fcc6d9c8c8b9": {
      "model_module": "@jupyter-widgets/base",
      "model_module_version": "2.0.0",
      "model_name": "LayoutModel",
      "state": {
       "grid_area": "description",
       "width": "auto"
      }
     },
     "85b71662908941eeb45ceab4d365744d": {
      "model_module": "@jupyter-widgets/base",
      "model_module_version": "2.0.0",
      "model_name": "LayoutModel",
      "state": {
       "grid_area": "input",
       "width": "auto"
      }
     },
     "8654b2108a804122b0dab678ee8881fa": {
      "model_module": "@jupyter-widgets/controls",
      "model_module_version": "2.0.0",
      "model_name": "TextStyleModel",
      "state": {
       "description_width": "",
       "font_size": null,
       "text_color": null
      }
     },
     "8751091cabe14b7f8e1893dda93feca7": {
      "model_module": "@jupyter-widgets/base",
      "model_module_version": "2.0.0",
      "model_name": "LayoutModel",
      "state": {
       "grid_area": "label",
       "width": "auto"
      }
     },
     "88ba6f1c27a94dd596f89c36f5487c81": {
      "model_module": "@jupyter-widgets/controls",
      "model_module_version": "2.0.0",
      "model_name": "TextModel",
      "state": {
       "_dom_classes": [
        "nbtools-menu-attached"
       ],
       "layout": "IPY_MODEL_ceda69c910aa4aa8ad58eeb28a00e3f0",
       "style": "IPY_MODEL_21714b9d607b46169a4b9179cfb27d08"
      }
     },
     "88c3482ad4954815b0860d4cb6535d52": {
      "model_module": "@jupyter-widgets/controls",
      "model_module_version": "2.0.0",
      "model_name": "VBoxModel",
      "state": {
       "_dom_classes": [
        "widget-interact"
       ],
       "children": [
        "IPY_MODEL_2510ce2203f6436796fbf6cefe1dea7c",
        "IPY_MODEL_9ee2a9612f9841e79d50f79a61b8f2e6"
       ],
       "layout": "IPY_MODEL_f25f213ab3af4515a3125370fb749335"
      }
     },
     "88deb47b98f6426abacda741ac239a44": {
      "model_module": "@jupyter-widgets/controls",
      "model_module_version": "2.0.0",
      "model_name": "LabelModel",
      "state": {
       "layout": "IPY_MODEL_2ae29949ce9042c189f8d176a4440f11",
       "style": "IPY_MODEL_b90c1ca1fd4846f3a75d0c0de454b578"
      }
     },
     "894a6ec32d8e45b5901251d413008bf6": {
      "model_module": "@jupyter-widgets/controls",
      "model_module_version": "2.0.0",
      "model_name": "VBoxModel",
      "state": {
       "children": [
        "IPY_MODEL_49a99c538276414fa3f41c5b67b54c1b",
        "IPY_MODEL_6e51a7335d02484f87f65c002531066c"
       ],
       "layout": "IPY_MODEL_06888af069e2496a8ff9e2b9313690cf"
      }
     },
     "897258a8c5ca42d9868a81b24332465b": {
      "model_module": "@jupyter-widgets/controls",
      "model_module_version": "2.0.0",
      "model_name": "LabelStyleModel",
      "state": {
       "description_width": "",
       "font_family": null,
       "font_size": null,
       "font_style": null,
       "font_variant": null,
       "font_weight": null,
       "text_color": null,
       "text_decoration": null
      }
     },
     "8b11c7e76d484ee5a6ac20df81c2637f": {
      "model_module": "@jupyter-widgets/controls",
      "model_module_version": "2.0.0",
      "model_name": "LabelStyleModel",
      "state": {
       "description_width": "",
       "font_family": null,
       "font_size": null,
       "font_style": null,
       "font_variant": null,
       "font_weight": null,
       "text_color": null,
       "text_decoration": null
      }
     },
     "8b7f2add48654f82a2a459dc54d433b9": {
      "model_module": "@jupyter-widgets/base",
      "model_module_version": "2.0.0",
      "model_name": "LayoutModel",
      "state": {
       "grid_area": "description",
       "width": "auto"
      }
     },
     "8cb1baac4af4453d82e0d5a7b6c5b2be": {
      "model_module": "@jupyter-widgets/base",
      "model_module_version": "2.0.0",
      "model_name": "LayoutModel",
      "state": {
       "grid_area": "input",
       "width": "auto"
      }
     },
     "8dcd7c614e574f3bb9c7edd4d378bbe3": {
      "model_module": "@jupyter-widgets/base",
      "model_module_version": "2.0.0",
      "model_name": "LayoutModel",
      "state": {
       "grid_area": "input",
       "width": "auto"
      }
     },
     "8e207ce8c5214d2daca60c9560fc1c00": {
      "model_module": "@jupyter-widgets/base",
      "model_module_version": "2.0.0",
      "model_name": "LayoutModel",
      "state": {
       "grid_area": "input",
       "width": "auto"
      }
     },
     "8ea73baaf27c43eaaea3c680b7195588": {
      "model_module": "@jupyter-widgets/controls",
      "model_module_version": "2.0.0",
      "model_name": "LabelStyleModel",
      "state": {
       "description_width": "",
       "font_family": null,
       "font_size": null,
       "font_style": null,
       "font_variant": null,
       "font_weight": null,
       "text_color": null,
       "text_decoration": null
      }
     },
     "8fcd9fde24cd43f593849743b8579546": {
      "model_module": "@jupyter-widgets/controls",
      "model_module_version": "2.0.0",
      "model_name": "GridBoxModel",
      "state": {
       "_dom_classes": [
        "nbtools-input",
        "nbtools-textinput",
        "required"
       ],
       "children": [
        "IPY_MODEL_7f76eae545d8455da40f380004e3e520",
        "IPY_MODEL_71386b43d9bb49c8b0c58f8aa61daaa2",
        "IPY_MODEL_c7c510924c994607b7ad0d6409d6fc39"
       ],
       "layout": "IPY_MODEL_abc7c965c27342b491587fd1c7c1eb50"
      }
     },
     "907a3a7c4eb74e8fbbe92fd531141337": {
      "model_module": "@jupyter-widgets/base",
      "model_module_version": "2.0.0",
      "model_name": "LayoutModel",
      "state": {
       "grid_template_areas": "\n                    \"label input\"\n                    \". description\"\n                ",
       "grid_template_columns": "25% 75%",
       "grid_template_rows": "auto auto",
       "width": "100%"
      }
     },
     "910c04acd616428c8356c33643a50d5b": {
      "model_module": "@jupyter-widgets/controls",
      "model_module_version": "2.0.0",
      "model_name": "TextStyleModel",
      "state": {
       "description_width": "",
       "font_size": null,
       "text_color": null
      }
     },
     "9179958517fd429eb6d861f287e62867": {
      "model_module": "@jupyter-widgets/controls",
      "model_module_version": "2.0.0",
      "model_name": "TextModel",
      "state": {
       "_dom_classes": [
        "nbtools-menu-attached"
       ],
       "layout": "IPY_MODEL_e8bf91a572f44b588c6e991d037ca2c2",
       "style": "IPY_MODEL_61886f71cd6d4f7e856da5406f4cc908"
      }
     },
     "91f9df98d4c540d796e14de279d4f4ee": {
      "model_module": "@jupyter-widgets/controls",
      "model_module_version": "2.0.0",
      "model_name": "LabelStyleModel",
      "state": {
       "description_width": "",
       "font_family": null,
       "font_size": null,
       "font_style": null,
       "font_variant": null,
       "font_weight": null,
       "text_color": null,
       "text_decoration": null
      }
     },
     "92808349001044bf9c5efdf5d3bce81c": {
      "model_module": "@jupyter-widgets/base",
      "model_module_version": "2.0.0",
      "model_name": "LayoutModel",
      "state": {
       "grid_area": "description",
       "width": "auto"
      }
     },
     "9353a785575e4bdcb97d214227b849ab": {
      "model_module": "@jupyter-widgets/base",
      "model_module_version": "2.0.0",
      "model_name": "LayoutModel",
      "state": {
       "grid_template_areas": "\n                    \"label input\"\n                    \". description\"\n                ",
       "grid_template_columns": "25% 75%",
       "grid_template_rows": "auto auto",
       "width": "100%"
      }
     },
     "9389a16ded504e54bbccc10088714873": {
      "model_module": "@jupyter-widgets/base",
      "model_module_version": "2.0.0",
      "model_name": "LayoutModel",
      "state": {
       "grid_area": "description",
       "width": "auto"
      }
     },
     "93cb643c959f44a6a3fd93bd34d357df": {
      "model_module": "@jupyter-widgets/base",
      "model_module_version": "2.0.0",
      "model_name": "LayoutModel",
      "state": {}
     },
     "94c1c059b49a4f72902fc4d5ac843387": {
      "model_module": "@jupyter-widgets/base",
      "model_module_version": "2.0.0",
      "model_name": "LayoutModel",
      "state": {
       "grid_area": "label",
       "width": "auto"
      }
     },
     "953b24b3b44943bc9131b611da1be72e": {
      "model_module": "@jupyter-widgets/controls",
      "model_module_version": "2.0.0",
      "model_name": "LabelStyleModel",
      "state": {
       "description_width": "",
       "font_family": null,
       "font_size": null,
       "font_style": null,
       "font_variant": null,
       "font_weight": null,
       "text_color": null,
       "text_decoration": null
      }
     },
     "9542dce06d624a07b58d26e92cbae715": {
      "model_module": "@jupyter-widgets/controls",
      "model_module_version": "2.0.0",
      "model_name": "LabelModel",
      "state": {
       "layout": "IPY_MODEL_3930721d56d84d799bd01c1801d301d8",
       "style": "IPY_MODEL_31c4868b2fba4c8fbbd1bfde7e618b8f"
      }
     },
     "97cb2e00377a4cf7959e72dc166e6f15": {
      "model_module": "@jupyter-widgets/controls",
      "model_module_version": "2.0.0",
      "model_name": "GridBoxModel",
      "state": {
       "_dom_classes": [
        "nbtools-input",
        "nbtools-textinput",
        "required"
       ],
       "children": [
        "IPY_MODEL_3d74b4b324f34079a914d1d5824891e0",
        "IPY_MODEL_88ba6f1c27a94dd596f89c36f5487c81",
        "IPY_MODEL_6a19a97a8ae442eca45dba664557027f"
       ],
       "layout": "IPY_MODEL_9353a785575e4bdcb97d214227b849ab"
      }
     },
     "980e9d23ce8542108bfe3883c5de057d": {
      "model_module": "@jupyter-widgets/controls",
      "model_module_version": "2.0.0",
      "model_name": "GridBoxModel",
      "state": {
       "_dom_classes": [
        "nbtools-input",
        "nbtools-textinput",
        "required"
       ],
       "children": [
        "IPY_MODEL_6814b02ab9c6483d940f99b4a5359eb1",
        "IPY_MODEL_56846cef983149d0a77093bb13176dde",
        "IPY_MODEL_9bc403590f2447fe888012f50af64d50"
       ],
       "layout": "IPY_MODEL_c297eda410cf4ea3b83668dfb5dd4c06"
      }
     },
     "98bc653d67884227a449a5fa2d9a24ac": {
      "model_module": "@jupyter-widgets/controls",
      "model_module_version": "2.0.0",
      "model_name": "TextStyleModel",
      "state": {
       "description_width": "",
       "font_size": null,
       "text_color": null
      }
     },
     "9913b75bf2114dc4bb9730c15a6f24aa": {
      "model_module": "@jupyter-widgets/controls",
      "model_module_version": "2.0.0",
      "model_name": "TextStyleModel",
      "state": {
       "description_width": "",
       "font_size": null,
       "text_color": null
      }
     },
     "9ab7d09d638f4c059a178fcace1c1d9a": {
      "model_module": "@jupyter-widgets/controls",
      "model_module_version": "2.0.0",
      "model_name": "LabelStyleModel",
      "state": {
       "description_width": "",
       "font_family": null,
       "font_size": null,
       "font_style": null,
       "font_variant": null,
       "font_weight": null,
       "text_color": null,
       "text_decoration": null
      }
     },
     "9b34460341ac48e9bec20473eed556e6": {
      "model_module": "@jupyter-widgets/base",
      "model_module_version": "2.0.0",
      "model_name": "LayoutModel",
      "state": {
       "grid_area": "description",
       "width": "auto"
      }
     },
     "9ba686b3d8014aa6865b4e467b4577ac": {
      "model_module": "@jupyter-widgets/controls",
      "model_module_version": "2.0.0",
      "model_name": "LabelModel",
      "state": {
       "description": "output variable",
       "layout": "IPY_MODEL_64ca81b2325744afa5b832fb9d5a1820",
       "style": "IPY_MODEL_39c9114408234effb2b962731135ad45",
       "value": "output variable"
      }
     },
     "9bc403590f2447fe888012f50af64d50": {
      "model_module": "@jupyter-widgets/controls",
      "model_module_version": "2.0.0",
      "model_name": "LabelModel",
      "state": {
       "layout": "IPY_MODEL_2827d7c862024b1182d62fe503fa2a4b",
       "style": "IPY_MODEL_33981c43fd164c6a80e26392523086d9"
      }
     },
     "9bf24386f2db4a03a6e34d6ba332ad5c": {
      "model_module": "@jupyter-widgets/base",
      "model_module_version": "2.0.0",
      "model_name": "LayoutModel",
      "state": {
       "grid_template_areas": "\n                    \"label input\"\n                    \". description\"\n                ",
       "grid_template_columns": "25% 75%",
       "grid_template_rows": "auto auto",
       "width": "100%"
      }
     },
     "9c588172fa7a4f94ac4f4b4c02ffcb14": {
      "model_module": "@jupyter-widgets/base",
      "model_module_version": "2.0.0",
      "model_name": "LayoutModel",
      "state": {
       "grid_area": "description",
       "width": "auto"
      }
     },
     "9cf308ef6c2a4b068e26a99ec770fe74": {
      "model_module": "@jupyter-widgets/controls",
      "model_module_version": "2.0.0",
      "model_name": "LabelStyleModel",
      "state": {
       "description_width": "",
       "font_family": null,
       "font_size": null,
       "font_style": null,
       "font_variant": null,
       "font_weight": null,
       "text_color": null,
       "text_decoration": null
      }
     },
     "9d452bd33e2b4b239b7d424bc3ddd35b": {
      "model_module": "@jupyter-widgets/controls",
      "model_module_version": "2.0.0",
      "model_name": "LabelStyleModel",
      "state": {
       "description_width": "",
       "font_family": null,
       "font_size": null,
       "font_style": null,
       "font_variant": null,
       "font_weight": null,
       "text_color": null,
       "text_decoration": null
      }
     },
     "9ea1884908574c75a1d43514c0ccbc54": {
      "model_module": "@jupyter-widgets/base",
      "model_module_version": "2.0.0",
      "model_name": "LayoutModel",
      "state": {
       "grid_area": "input",
       "width": "auto"
      }
     },
     "9ee2a9612f9841e79d50f79a61b8f2e6": {
      "model_module": "@jupyter-widgets/output",
      "model_module_version": "1.0.0",
      "model_name": "OutputModel",
      "state": {
       "layout": "IPY_MODEL_1187b9675f8541008bf3fc5aab3a0eeb"
      }
     },
     "9f7465791ee4466b869e7a0e35737ba7": {
      "model_module": "@jupyter-widgets/controls",
      "model_module_version": "2.0.0",
      "model_name": "GridBoxModel",
      "state": {
       "_dom_classes": [
        "nbtools-input",
        "nbtools-textinput",
        "required"
       ],
       "children": [
        "IPY_MODEL_63db3ecb95be43bfb1ab316c4c1cb4b2",
        "IPY_MODEL_7ea9ac45404444daa4d32e7a94dfc290",
        "IPY_MODEL_7eb3d264ef4245bb876f34448a4c4fb6"
       ],
       "layout": "IPY_MODEL_c8753500a58f46e38864899850347a50"
      }
     },
     "a223c916ff6c4728baa297c51d1d8e78": {
      "model_module": "@jupyter-widgets/controls",
      "model_module_version": "2.0.0",
      "model_name": "LabelStyleModel",
      "state": {
       "description_width": "",
       "font_family": null,
       "font_size": null,
       "font_style": null,
       "font_variant": null,
       "font_weight": null,
       "text_color": null,
       "text_decoration": null
      }
     },
     "a23ec649321e45c69ff614e41c1f4869": {
      "model_module": "@jupyter-widgets/controls",
      "model_module_version": "2.0.0",
      "model_name": "LabelStyleModel",
      "state": {
       "description_width": "",
       "font_family": null,
       "font_size": null,
       "font_style": null,
       "font_variant": null,
       "font_weight": null,
       "text_color": null,
       "text_decoration": null
      }
     },
     "a2b038dfdc404fa49bd5ff9c7f6fc2d2": {
      "model_module": "@jupyter-widgets/controls",
      "model_module_version": "2.0.0",
      "model_name": "LabelModel",
      "state": {
       "description": "display_label",
       "layout": "IPY_MODEL_2cc785f2b5de4dbca9e81719bfe281d2",
       "style": "IPY_MODEL_fd09b502a16a4c01a6f12153bbd77c94",
       "value": "display_label*"
      }
     },
     "a3e21eb79799400094cfb0e95b407fd9": {
      "model_module": "@jupyter-widgets/base",
      "model_module_version": "2.0.0",
      "model_name": "LayoutModel",
      "state": {
       "grid_template_areas": "\n                    \"label input\"\n                    \". description\"\n                ",
       "grid_template_columns": "25% 75%",
       "grid_template_rows": "auto auto",
       "width": "100%"
      }
     },
     "a4e78c024a1843c6b10df470db511a42": {
      "model_module": "@jupyter-widgets/base",
      "model_module_version": "2.0.0",
      "model_name": "LayoutModel",
      "state": {
       "grid_area": "input",
       "width": "auto"
      }
     },
     "a59a94a8cad8450e8d300d52d29fedf2": {
      "model_module": "@jupyter-widgets/controls",
      "model_module_version": "2.0.0",
      "model_name": "LabelModel",
      "state": {
       "layout": "IPY_MODEL_92808349001044bf9c5efdf5d3bce81c",
       "style": "IPY_MODEL_b516cdced1184ed4b390c7885cc85ac8"
      }
     },
     "a6253ff7321745f1bccbb18d1a5d94c8": {
      "model_module": "@jupyter-widgets/controls",
      "model_module_version": "2.0.0",
      "model_name": "LabelModel",
      "state": {
       "layout": "IPY_MODEL_9c588172fa7a4f94ac4f4b4c02ffcb14",
       "style": "IPY_MODEL_2d4c97d06fd74a4e94141e3bee570864"
      }
     },
     "a71599fefca04dd08309ef748ff9c8b3": {
      "model_module": "@jupyter-widgets/base",
      "model_module_version": "2.0.0",
      "model_name": "LayoutModel",
      "state": {
       "grid_area": "label",
       "width": "auto"
      }
     },
     "a7f7712c316a4878934dfb0fee4485eb": {
      "model_module": "@jupyter-widgets/controls",
      "model_module_version": "2.0.0",
      "model_name": "LabelStyleModel",
      "state": {
       "description_width": "",
       "font_family": null,
       "font_size": null,
       "font_style": null,
       "font_variant": null,
       "font_weight": null,
       "text_color": null,
       "text_decoration": null
      }
     },
     "a9ba3a93f4c94e5f840a94a20568bfde": {
      "model_module": "@jupyter-widgets/controls",
      "model_module_version": "2.0.0",
      "model_name": "TextModel",
      "state": {
       "_dom_classes": [
        "nbtools-menu-attached"
       ],
       "layout": "IPY_MODEL_1bd00dc4f43942b4992f05984a1985f1",
       "style": "IPY_MODEL_bb0b2cbc2e3e4e39a4441752dbb665d8"
      }
     },
     "a9e743dd888a40cb827aa884a77051e0": {
      "model_module": "@jupyter-widgets/controls",
      "model_module_version": "2.0.0",
      "model_name": "TextStyleModel",
      "state": {
       "description_width": "",
       "font_size": null,
       "text_color": null
      }
     },
     "aa2433804d274799a589cb2679f7bde9": {
      "model_module": "@jupyter-widgets/base",
      "model_module_version": "2.0.0",
      "model_name": "LayoutModel",
      "state": {
       "grid_template_areas": "\n                    \"label input\"\n                    \". description\"\n                ",
       "grid_template_columns": "25% 75%",
       "grid_template_rows": "auto auto",
       "width": "100%"
      }
     },
     "aaf8e056419c4caf918d2eb66d6bdce9": {
      "model_module": "@jupyter-widgets/controls",
      "model_module_version": "2.0.0",
      "model_name": "ButtonStyleModel",
      "state": {
       "font_family": null,
       "font_size": null,
       "font_style": null,
       "font_variant": null,
       "font_weight": null,
       "text_color": null,
       "text_decoration": null
      }
     },
     "ab5d1d07462c4b9b8c4b3b99eb951bab": {
      "model_module": "@jupyter-widgets/base",
      "model_module_version": "2.0.0",
      "model_name": "LayoutModel",
      "state": {
       "grid_area": "label",
       "width": "auto"
      }
     },
     "abc7c965c27342b491587fd1c7c1eb50": {
      "model_module": "@jupyter-widgets/base",
      "model_module_version": "2.0.0",
      "model_name": "LayoutModel",
      "state": {
       "grid_template_areas": "\n                    \"label input\"\n                    \". description\"\n                ",
       "grid_template_columns": "25% 75%",
       "grid_template_rows": "auto auto",
       "width": "100%"
      }
     },
     "ac65ea2ec93b42f186a75712d0333451": {
      "model_module": "@jupyter-widgets/base",
      "model_module_version": "2.0.0",
      "model_name": "LayoutModel",
      "state": {
       "grid_area": "input",
       "width": "auto"
      }
     },
     "ad330f0fd7c846a1aaa4ea66b429739a": {
      "model_module": "@jupyter-widgets/base",
      "model_module_version": "2.0.0",
      "model_name": "LayoutModel",
      "state": {
       "grid_area": "label",
       "width": "auto"
      }
     },
     "adcd208d5ace4a16ba2665e23fa68dba": {
      "model_module": "@jupyter-widgets/base",
      "model_module_version": "2.0.0",
      "model_name": "LayoutModel",
      "state": {
       "grid_area": "description",
       "width": "auto"
      }
     },
     "ae52bbcbf3044873bc4ff55580972182": {
      "model_module": "@jupyter-widgets/controls",
      "model_module_version": "2.0.0",
      "model_name": "TextModel",
      "state": {
       "_dom_classes": [
        "nbtools-menu-attached"
       ],
       "layout": "IPY_MODEL_773d4dc8a1864fdd801ca5f7157fff20",
       "style": "IPY_MODEL_7c3b15d866c145828557e6e0222aa4ff"
      }
     },
     "af32fc05e7084c8fb8d9ab943bb3e610": {
      "model_module": "@jupyter-widgets/controls",
      "model_module_version": "2.0.0",
      "model_name": "LabelModel",
      "state": {
       "description": "min",
       "layout": "IPY_MODEL_5645eb9751654345bf6fb4730ed7423c",
       "style": "IPY_MODEL_e884ac6e96a1433b8278fb316a529751",
       "value": "min*"
      }
     },
     "afb65e8e07f14b46ae88eb1d0b180ed6": {
      "model_module": "@jupyter-widgets/controls",
      "model_module_version": "2.0.0",
      "model_name": "LabelStyleModel",
      "state": {
       "description_width": "",
       "font_family": null,
       "font_size": null,
       "font_style": null,
       "font_variant": null,
       "font_weight": null,
       "text_color": null,
       "text_decoration": null
      }
     },
     "b06d028adf314b9a9959655d988ed948": {
      "model_module": "@jupyter-widgets/controls",
      "model_module_version": "2.0.0",
      "model_name": "TextModel",
      "state": {
       "_dom_classes": [
        "nbtools-menu-attached"
       ],
       "layout": "IPY_MODEL_e5fcbbe8964e443ba72edf8ca258c199",
       "style": "IPY_MODEL_71987fa003c6491f8fc1f468705fa01e"
      }
     },
     "b0ccee2428fb4ab8bc1ae015e5ace412": {
      "model_module": "@jupyter-widgets/controls",
      "model_module_version": "2.0.0",
      "model_name": "TextStyleModel",
      "state": {
       "description_width": "",
       "font_size": null,
       "text_color": null
      }
     },
     "b1183574505c4ffda34d31fefc50c205": {
      "model_module": "@jupyter-widgets/output",
      "model_module_version": "1.0.0",
      "model_name": "OutputModel",
      "state": {
       "layout": "IPY_MODEL_d37c5cbfe15f4132a732a2337cbf30ef"
      }
     },
     "b383bc4e24d74089a76d07ccca942c9e": {
      "model_module": "@jupyter-widgets/controls",
      "model_module_version": "2.0.0",
      "model_name": "TextStyleModel",
      "state": {
       "description_width": "",
       "font_size": null,
       "text_color": null
      }
     },
     "b3aac2bd51f54f4fb4a03ddfbf2cf61c": {
      "model_module": "@jupyter-widgets/output",
      "model_module_version": "1.0.0",
      "model_name": "OutputModel",
      "state": {
       "layout": "IPY_MODEL_116ccf3277fa4a708e72234458638206"
      }
     },
     "b3dec20c22e24e01bfa6988537fbfeb6": {
      "model_module": "@jupyter-widgets/controls",
      "model_module_version": "2.0.0",
      "model_name": "LabelStyleModel",
      "state": {
       "description_width": "",
       "font_family": null,
       "font_size": null,
       "font_style": null,
       "font_variant": null,
       "font_weight": null,
       "text_color": null,
       "text_decoration": null
      }
     },
     "b462a91a601842e78fcc7f69ca011ff5": {
      "model_module": "@jupyter-widgets/controls",
      "model_module_version": "2.0.0",
      "model_name": "LabelStyleModel",
      "state": {
       "description_width": "",
       "font_family": null,
       "font_size": null,
       "font_style": null,
       "font_variant": null,
       "font_weight": null,
       "text_color": null,
       "text_decoration": null
      }
     },
     "b492e390769f448a98d4c64941d11f3d": {
      "model_module": "@jupyter-widgets/base",
      "model_module_version": "2.0.0",
      "model_name": "LayoutModel",
      "state": {
       "grid_area": "label",
       "width": "auto"
      }
     },
     "b516cdced1184ed4b390c7885cc85ac8": {
      "model_module": "@jupyter-widgets/controls",
      "model_module_version": "2.0.0",
      "model_name": "LabelStyleModel",
      "state": {
       "description_width": "",
       "font_family": null,
       "font_size": null,
       "font_style": null,
       "font_variant": null,
       "font_weight": null,
       "text_color": null,
       "text_decoration": null
      }
     },
     "b59cbec357254df5b0867797cc095fc4": {
      "model_module": "@jupyter-widgets/base",
      "model_module_version": "2.0.0",
      "model_name": "LayoutModel",
      "state": {
       "grid_area": "label",
       "width": "auto"
      }
     },
     "b6584d6113fe45a5bcc2f58894708bb5": {
      "model_module": "@jupyter-widgets/base",
      "model_module_version": "2.0.0",
      "model_name": "LayoutModel",
      "state": {
       "grid_area": "input",
       "width": "auto"
      }
     },
     "b81218d4f40a40c499f76868095eb93d": {
      "model_module": "@jupyter-widgets/base",
      "model_module_version": "2.0.0",
      "model_name": "LayoutModel",
      "state": {}
     },
     "b90c1ca1fd4846f3a75d0c0de454b578": {
      "model_module": "@jupyter-widgets/controls",
      "model_module_version": "2.0.0",
      "model_name": "LabelStyleModel",
      "state": {
       "description_width": "",
       "font_family": null,
       "font_size": null,
       "font_style": null,
       "font_variant": null,
       "font_weight": null,
       "text_color": null,
       "text_decoration": null
      }
     },
     "b9c2e2b538fc418c8308c19d9c29a3f1": {
      "model_module": "@jupyter-widgets/base",
      "model_module_version": "2.0.0",
      "model_name": "LayoutModel",
      "state": {
       "grid_area": "description",
       "width": "auto"
      }
     },
     "b9e4b70813e440389460a91feafb6ba5": {
      "model_module": "@jupyter-widgets/controls",
      "model_module_version": "2.0.0",
      "model_name": "GridBoxModel",
      "state": {
       "_dom_classes": [
        "nbtools-input",
        "nbtools-textinput",
        "required"
       ],
       "children": [
        "IPY_MODEL_08e61b2e6e444033a53dfa61d3e0039a",
        "IPY_MODEL_140ea1d2ed5f4a29b7c17b4f8d0b2a52",
        "IPY_MODEL_27fba64a380b42ec979d7b0c1f1a0f23"
       ],
       "layout": "IPY_MODEL_fbf16ca693e44e468be66ba8c45f78c5"
      }
     },
     "b9fe7b449d8b4471acf9017cc2d65566": {
      "model_module": "@jupyter-widgets/base",
      "model_module_version": "2.0.0",
      "model_name": "LayoutModel",
      "state": {
       "grid_area": "input",
       "width": "auto"
      }
     },
     "ba05b7c6905f4116ae64a3f535162621": {
      "model_module": "@jupyter-widgets/controls",
      "model_module_version": "2.0.0",
      "model_name": "ButtonModel",
      "state": {
       "_dom_classes": [
        "hidden"
       ],
       "description": "Run",
       "layout": "IPY_MODEL_6ba4988495894ec5800166e17f1f7105",
       "style": "IPY_MODEL_0d635e70f55a4996a87468a87dba660c",
       "tooltip": null
      }
     },
     "ba79ae9bdcc84410848cf79c9568b10b": {
      "model_module": "@jupyter-widgets/base",
      "model_module_version": "2.0.0",
      "model_name": "LayoutModel",
      "state": {
       "grid_area": "description",
       "width": "auto"
      }
     },
     "bb0b2cbc2e3e4e39a4441752dbb665d8": {
      "model_module": "@jupyter-widgets/controls",
      "model_module_version": "2.0.0",
      "model_name": "TextStyleModel",
      "state": {
       "description_width": "",
       "font_size": null,
       "text_color": null
      }
     },
     "bc24544faa5b4b7ab159d7a1bc3c5cf8": {
      "model_module": "@jupyter-widgets/base",
      "model_module_version": "2.0.0",
      "model_name": "LayoutModel",
      "state": {
       "grid_template_areas": "\n                    \"label input\"\n                    \". description\"\n                ",
       "grid_template_columns": "25% 75%",
       "grid_template_rows": "auto auto",
       "width": "100%"
      }
     },
     "bce31ce50785413dafb3043fcb9024fd": {
      "model_module": "@jupyter-widgets/controls",
      "model_module_version": "2.0.0",
      "model_name": "LabelStyleModel",
      "state": {
       "description_width": "",
       "font_family": null,
       "font_size": null,
       "font_style": null,
       "font_variant": null,
       "font_weight": null,
       "text_color": null,
       "text_decoration": null
      }
     },
     "beeb5ad820bc4cd19eff2456dbe13952": {
      "model_module": "@jupyter-widgets/base",
      "model_module_version": "2.0.0",
      "model_name": "LayoutModel",
      "state": {
       "grid_area": "label",
       "width": "auto"
      }
     },
     "bf387122cf9a4f33a2aebf61ec9ee39a": {
      "model_module": "@jupyter-widgets/controls",
      "model_module_version": "2.0.0",
      "model_name": "GridBoxModel",
      "state": {
       "_dom_classes": [
        "nbtools-input",
        "nbtools-textinput"
       ],
       "children": [
        "IPY_MODEL_d20e4ad02c2846f894b43d5e3b17f8c4",
        "IPY_MODEL_b06d028adf314b9a9959655d988ed948",
        "IPY_MODEL_0e2d30c8505b4fb287704c1be1a496d6"
       ],
       "layout": "IPY_MODEL_52d86e4f955d407ea5200473a2289994"
      }
     },
     "bf9bcdb6bb874d949b5c454e3435a734": {
      "model_module": "@jupyter-widgets/base",
      "model_module_version": "2.0.0",
      "model_name": "LayoutModel",
      "state": {
       "grid_area": "input",
       "width": "auto"
      }
     },
     "bfb3414ff8b84bb8950ec136098ac711": {
      "model_module": "@jupyter-widgets/controls",
      "model_module_version": "2.0.0",
      "model_name": "LabelModel",
      "state": {
       "description": "input_file",
       "layout": "IPY_MODEL_51a34efd9d44453ca07aa456342d9781",
       "style": "IPY_MODEL_e389e59542de447484b6751592cfc3a2",
       "value": "input_file*"
      }
     },
     "c1673d4e0c1a4076a5059bb9ba2c092d": {
      "model_module": "@jupyter-widgets/controls",
      "model_module_version": "2.0.0",
      "model_name": "LabelStyleModel",
      "state": {
       "description_width": "",
       "font_family": null,
       "font_size": null,
       "font_style": null,
       "font_variant": null,
       "font_weight": null,
       "text_color": null,
       "text_decoration": null
      }
     },
     "c180e2c5c33e49c597c164daf159987f": {
      "model_module": "@jupyter-widgets/base",
      "model_module_version": "2.0.0",
      "model_name": "LayoutModel",
      "state": {
       "grid_area": "description",
       "width": "auto"
      }
     },
     "c197fb728d7543829bd6f33af4d88cc1": {
      "model_module": "@jupyter-widgets/base",
      "model_module_version": "2.0.0",
      "model_name": "LayoutModel",
      "state": {
       "grid_area": "label",
       "width": "auto"
      }
     },
     "c22fdb3d71834d8695994635c8981365": {
      "model_module": "@jupyter-widgets/base",
      "model_module_version": "2.0.0",
      "model_name": "LayoutModel",
      "state": {}
     },
     "c297eda410cf4ea3b83668dfb5dd4c06": {
      "model_module": "@jupyter-widgets/base",
      "model_module_version": "2.0.0",
      "model_name": "LayoutModel",
      "state": {
       "grid_template_areas": "\n                    \"label input\"\n                    \". description\"\n                ",
       "grid_template_columns": "25% 75%",
       "grid_template_rows": "auto auto",
       "width": "100%"
      }
     },
     "c333db1793eb4cd1bd9440c85d2d8a95": {
      "model_module": "@jupyter-widgets/controls",
      "model_module_version": "2.0.0",
      "model_name": "LabelStyleModel",
      "state": {
       "description_width": "",
       "font_family": null,
       "font_size": null,
       "font_style": null,
       "font_variant": null,
       "font_weight": null,
       "text_color": null,
       "text_decoration": null
      }
     },
     "c5b8755831fd4f158559388499800e90": {
      "model_module": "@jupyter-widgets/controls",
      "model_module_version": "2.0.0",
      "model_name": "LabelStyleModel",
      "state": {
       "description_width": "",
       "font_family": null,
       "font_size": null,
       "font_style": null,
       "font_variant": null,
       "font_weight": null,
       "text_color": null,
       "text_decoration": null
      }
     },
     "c7c510924c994607b7ad0d6409d6fc39": {
      "model_module": "@jupyter-widgets/controls",
      "model_module_version": "2.0.0",
      "model_name": "LabelModel",
      "state": {
       "layout": "IPY_MODEL_05f9f87261834de88f0edc6fcbd30569",
       "style": "IPY_MODEL_f6dc5b494c77428daa307cb732892949"
      }
     },
     "c84f48ee9ee1425b8457c02b2f9225a2": {
      "model_module": "@jupyter-widgets/controls",
      "model_module_version": "2.0.0",
      "model_name": "LabelStyleModel",
      "state": {
       "description_width": "",
       "font_family": null,
       "font_size": null,
       "font_style": null,
       "font_variant": null,
       "font_weight": null,
       "text_color": null,
       "text_decoration": null
      }
     },
     "c8640a1ca79243e5ba5d29bc3930f43d": {
      "model_module": "@jupyter-widgets/controls",
      "model_module_version": "2.0.0",
      "model_name": "LabelStyleModel",
      "state": {
       "description_width": "",
       "font_family": null,
       "font_size": null,
       "font_style": null,
       "font_variant": null,
       "font_weight": null,
       "text_color": null,
       "text_decoration": null
      }
     },
     "c8753500a58f46e38864899850347a50": {
      "model_module": "@jupyter-widgets/base",
      "model_module_version": "2.0.0",
      "model_name": "LayoutModel",
      "state": {
       "grid_template_areas": "\n                    \"label input\"\n                    \". description\"\n                ",
       "grid_template_columns": "25% 75%",
       "grid_template_rows": "auto auto",
       "width": "100%"
      }
     },
     "c8e8b07fc3c6434289eb7c0cb4e584b0": {
      "model_module": "@jupyter-widgets/base",
      "model_module_version": "2.0.0",
      "model_name": "LayoutModel",
      "state": {
       "grid_template_areas": "\n                    \"label input\"\n                    \". description\"\n                ",
       "grid_template_columns": "25% 75%",
       "grid_template_rows": "auto auto",
       "width": "100%"
      }
     },
     "ca6c6b7e765444ae940a7d2339c98c1b": {
      "model_module": "@jupyter-widgets/base",
      "model_module_version": "2.0.0",
      "model_name": "LayoutModel",
      "state": {
       "grid_area": "label",
       "width": "auto"
      }
     },
     "ca6e8c1d34ec41599f8676a741f66d6e": {
      "model_module": "@jupyter-widgets/controls",
      "model_module_version": "2.0.0",
      "model_name": "TextModel",
      "state": {
       "_dom_classes": [
        "nbtools-menu-attached"
       ],
       "layout": "IPY_MODEL_8dcd7c614e574f3bb9c7edd4d378bbe3",
       "style": "IPY_MODEL_8654b2108a804122b0dab678ee8881fa"
      }
     },
     "cb5939a6a978485a936eaa24977beb46": {
      "model_module": "@jupyter-widgets/controls",
      "model_module_version": "2.0.0",
      "model_name": "GridBoxModel",
      "state": {
       "_dom_classes": [
        "nbtools-input",
        "nbtools-textinput",
        "required"
       ],
       "children": [
        "IPY_MODEL_d961648882a248cbaa874994e6b686c4",
        "IPY_MODEL_3b482a3187fe4939ada029d07b4ce2fb",
        "IPY_MODEL_245f36bd70694f2dbce3db3f700cbe11"
       ],
       "layout": "IPY_MODEL_5fb77d3589924ac9b26516c044a8fc85"
      }
     },
     "cb883b9230a04b91a668629ee3679e65": {
      "model_module": "@jupyter-widgets/base",
      "model_module_version": "2.0.0",
      "model_name": "LayoutModel",
      "state": {}
     },
     "cbf31717184d4b40809aef8a1f76b84b": {
      "model_module": "@jupyter-widgets/controls",
      "model_module_version": "2.0.0",
      "model_name": "VBoxModel",
      "state": {
       "_dom_classes": [
        "widget-interact"
       ],
       "children": [
        "IPY_MODEL_7f75a527ca32468f9563e6b388051d4e",
        "IPY_MODEL_0b387b72ca1742f682fa74348b82daad",
        "IPY_MODEL_3fa173c96d914b47accec0235542fd16",
        "IPY_MODEL_4c17e3f15f1542ccb39d5ba42b76c9e3",
        "IPY_MODEL_e792a3a307f4416081d9e7219ac2b5fd",
        "IPY_MODEL_5342f4a21b75499798207a9076ad9501",
        "IPY_MODEL_97cb2e00377a4cf7959e72dc166e6f15",
        "IPY_MODEL_55e9850ab51146609cb044db4a918c51",
        "IPY_MODEL_21b94a007d874ae4a98c1a3ca3aeeefb",
        "IPY_MODEL_414b087916264d9dbe6db99bbd470f7f"
       ],
       "layout": "IPY_MODEL_14be89ebcd304586b606ad047b555d9d"
      }
     },
     "ccbbffe097a545fba4ab7c04c1a5ba07": {
      "model_module": "@jupyter-widgets/controls",
      "model_module_version": "2.0.0",
      "model_name": "TextStyleModel",
      "state": {
       "description_width": "",
       "font_size": null,
       "text_color": null
      }
     },
     "ccd65febabde410f8fc8c35021e8b570": {
      "model_module": "@jupyter-widgets/controls",
      "model_module_version": "2.0.0",
      "model_name": "TextStyleModel",
      "state": {
       "description_width": "",
       "font_size": null,
       "text_color": null
      }
     },
     "cece207c387f4521a95484fc3cf98b08": {
      "model_module": "@jupyter-widgets/controls",
      "model_module_version": "2.0.0",
      "model_name": "TextStyleModel",
      "state": {
       "description_width": "",
       "font_size": null,
       "text_color": null
      }
     },
     "ceda69c910aa4aa8ad58eeb28a00e3f0": {
      "model_module": "@jupyter-widgets/base",
      "model_module_version": "2.0.0",
      "model_name": "LayoutModel",
      "state": {
       "grid_area": "input",
       "width": "auto"
      }
     },
     "cf3ddcc308d74b6da70a169fb404c0bb": {
      "model_module": "@jupyter-widgets/controls",
      "model_module_version": "2.0.0",
      "model_name": "ButtonStyleModel",
      "state": {
       "font_family": null,
       "font_size": null,
       "font_style": null,
       "font_variant": null,
       "font_weight": null,
       "text_color": null,
       "text_decoration": null
      }
     },
     "cf7643a32cc248a2afe6fcbe3e995b8a": {
      "model_module": "@jupyter-widgets/controls",
      "model_module_version": "2.0.0",
      "model_name": "TextStyleModel",
      "state": {
       "description_width": "",
       "font_size": null,
       "text_color": null
      }
     },
     "cfc214b3125043e7b0967778c1380c54": {
      "model_module": "@jupyter-widgets/controls",
      "model_module_version": "2.0.0",
      "model_name": "ButtonModel",
      "state": {
       "_dom_classes": [
        "hidden"
       ],
       "description": "Run",
       "layout": "IPY_MODEL_c22fdb3d71834d8695994635c8981365",
       "style": "IPY_MODEL_aaf8e056419c4caf918d2eb66d6bdce9",
       "tooltip": null
      }
     },
     "cff4144ebcb64203a2d340060cff0db3": {
      "model_module": "@jupyter-widgets/controls",
      "model_module_version": "2.0.0",
      "model_name": "GridBoxModel",
      "state": {
       "_dom_classes": [
        "nbtools-input",
        "nbtools-textinput"
       ],
       "children": [
        "IPY_MODEL_9ba686b3d8014aa6865b4e467b4577ac",
        "IPY_MODEL_a9ba3a93f4c94e5f840a94a20568bfde",
        "IPY_MODEL_dbc8839f15c94f369535f6f0ba0a0997"
       ],
       "layout": "IPY_MODEL_5b5d209cfaf546649916e9575f110e59"
      }
     },
     "d02e581dcad841a7b463323c4bb0a52f": {
      "model_module": "@jupyter-widgets/output",
      "model_module_version": "1.0.0",
      "model_name": "OutputModel",
      "state": {
       "layout": "IPY_MODEL_b81218d4f40a40c499f76868095eb93d"
      }
     },
     "d08e26e7715143c39103c565ca6a5373": {
      "model_module": "@jupyter-widgets/base",
      "model_module_version": "2.0.0",
      "model_name": "LayoutModel",
      "state": {
       "grid_template_areas": "\n                    \"label input\"\n                    \". description\"\n                ",
       "grid_template_columns": "25% 75%",
       "grid_template_rows": "auto auto",
       "width": "100%"
      }
     },
     "d20e4ad02c2846f894b43d5e3b17f8c4": {
      "model_module": "@jupyter-widgets/controls",
      "model_module_version": "2.0.0",
      "model_name": "LabelModel",
      "state": {
       "description": "output variable",
       "layout": "IPY_MODEL_ca6c6b7e765444ae940a7d2339c98c1b",
       "style": "IPY_MODEL_0fabffacf9d046a692a2b21d0e12c9d4",
       "value": "output variable"
      }
     },
     "d37c5cbfe15f4132a732a2337cbf30ef": {
      "model_module": "@jupyter-widgets/base",
      "model_module_version": "2.0.0",
      "model_name": "LayoutModel",
      "state": {}
     },
     "d3b1a135c2314769977349d214dd3cc6": {
      "model_module": "@jupyter-widgets/controls",
      "model_module_version": "2.0.0",
      "model_name": "LabelStyleModel",
      "state": {
       "description_width": "",
       "font_family": null,
       "font_size": null,
       "font_style": null,
       "font_variant": null,
       "font_weight": null,
       "text_color": null,
       "text_decoration": null
      }
     },
     "d4cedecd32a54ab9b0731b6a286644d9": {
      "model_module": "@jupyter-widgets/controls",
      "model_module_version": "2.0.0",
      "model_name": "LabelModel",
      "state": {
       "description": "display_color_fill",
       "layout": "IPY_MODEL_58156deefa464079a51ab902910f345a",
       "style": "IPY_MODEL_4abe3e77e4cc4425aa3e0032c7b1c8ea",
       "value": "display_color_fill*"
      }
     },
     "d522080b3d2f4ab7beb597c580e44a00": {
      "model_module": "@jupyter-widgets/base",
      "model_module_version": "2.0.0",
      "model_name": "LayoutModel",
      "state": {
       "grid_template_areas": "\n                    \"label input\"\n                    \". description\"\n                ",
       "grid_template_columns": "25% 75%",
       "grid_template_rows": "auto auto",
       "width": "100%"
      }
     },
     "d81a1decab824eeab572e768b8357ccc": {
      "model_module": "@jupyter-widgets/controls",
      "model_module_version": "2.0.0",
      "model_name": "TextModel",
      "state": {
       "_dom_classes": [
        "nbtools-menu-attached"
       ],
       "layout": "IPY_MODEL_63094f1680754a35a7ed2028ed629288",
       "style": "IPY_MODEL_3973783310e54a2986474820c7e82321"
      }
     },
     "d84073d376984b3f9acd55c35e4d51a6": {
      "model_module": "@jupyter-widgets/controls",
      "model_module_version": "2.0.0",
      "model_name": "LabelModel",
      "state": {
       "layout": "IPY_MODEL_9389a16ded504e54bbccc10088714873",
       "style": "IPY_MODEL_5335248e04dc4b69988f48c567eccca1"
      }
     },
     "d86bffcf3a83484da4db978cf22c9b99": {
      "model_module": "@jupyter-widgets/base",
      "model_module_version": "2.0.0",
      "model_name": "LayoutModel",
      "state": {
       "grid_area": "description",
       "width": "auto"
      }
     },
     "d8f5abea626f4442b442563ae45012ae": {
      "model_module": "@jupyter-widgets/controls",
      "model_module_version": "2.0.0",
      "model_name": "TextModel",
      "state": {
       "_dom_classes": [
        "nbtools-menu-attached"
       ],
       "layout": "IPY_MODEL_b9fe7b449d8b4471acf9017cc2d65566",
       "style": "IPY_MODEL_cece207c387f4521a95484fc3cf98b08"
      }
     },
     "d944af0a7cc8462cb8fc9dbf2936bbad": {
      "model_module": "@jupyter-widgets/controls",
      "model_module_version": "2.0.0",
      "model_name": "LabelModel",
      "state": {
       "description": "display_label",
       "layout": "IPY_MODEL_dba8efd01a944380b72625e2ed16fdb9",
       "style": "IPY_MODEL_1c05fe90ab904055ac9b771c7391f661",
       "value": "display_label*"
      }
     },
     "d9495b2bfcd240a39023dfd86d15e835": {
      "model_module": "@jupyter-widgets/controls",
      "model_module_version": "2.0.0",
      "model_name": "LabelStyleModel",
      "state": {
       "description_width": "",
       "font_family": null,
       "font_size": null,
       "font_style": null,
       "font_variant": null,
       "font_weight": null,
       "text_color": null,
       "text_decoration": null
      }
     },
     "d961648882a248cbaa874994e6b686c4": {
      "model_module": "@jupyter-widgets/controls",
      "model_module_version": "2.0.0",
      "model_name": "LabelModel",
      "state": {
       "description": "display_color_line",
       "layout": "IPY_MODEL_3d336224d0b04b979e0a3a3150b5facb",
       "style": "IPY_MODEL_463ba2c967be44778b403f1f1ce1751e",
       "value": "display_color_line*"
      }
     },
     "db16dcff392743ac8b71fdc206edfd87": {
      "model_module": "@jupyter-widgets/output",
      "model_module_version": "1.0.0",
      "model_name": "OutputModel",
      "state": {
       "layout": "IPY_MODEL_60b271c321964e06bd7579b566667ca3"
      }
     },
     "dba8efd01a944380b72625e2ed16fdb9": {
      "model_module": "@jupyter-widgets/base",
      "model_module_version": "2.0.0",
      "model_name": "LayoutModel",
      "state": {
       "grid_area": "label",
       "width": "auto"
      }
     },
     "dbacbae3472f4ba88972be0b12b90dec": {
      "model_module": "@jupyter-widgets/controls",
      "model_module_version": "2.0.0",
      "model_name": "GridBoxModel",
      "state": {
       "_dom_classes": [
        "nbtools-input",
        "nbtools-textinput",
        "required"
       ],
       "children": [
        "IPY_MODEL_af32fc05e7084c8fb8d9ab943bb3e610",
        "IPY_MODEL_246d1fdd5f0444f5823a5e9ef4f87702",
        "IPY_MODEL_3fae1701623043d0bb7c32e4bc901f23"
       ],
       "layout": "IPY_MODEL_7fa477c8327d4cfd844375d82b37bdec"
      }
     },
     "dbc8839f15c94f369535f6f0ba0a0997": {
      "model_module": "@jupyter-widgets/controls",
      "model_module_version": "2.0.0",
      "model_name": "LabelModel",
      "state": {
       "layout": "IPY_MODEL_78aa21d85ac24144bf385c1b2990bef4",
       "style": "IPY_MODEL_234e4aa5c54040f7ac70730159d93302"
      }
     },
     "dc770f53c06448c79c85f8a8b6070cba": {
      "model_module": "@jupyter-widgets/controls",
      "model_module_version": "2.0.0",
      "model_name": "LabelStyleModel",
      "state": {
       "description_width": "",
       "font_family": null,
       "font_size": null,
       "font_style": null,
       "font_variant": null,
       "font_weight": null,
       "text_color": null,
       "text_decoration": null
      }
     },
     "dcb01e7b582c4c9180d0d272136a114b": {
      "model_module": "@jupyter-widgets/controls",
      "model_module_version": "2.0.0",
      "model_name": "LabelStyleModel",
      "state": {
       "description_width": "",
       "font_family": null,
       "font_size": null,
       "font_style": null,
       "font_variant": null,
       "font_weight": null,
       "text_color": null,
       "text_decoration": null
      }
     },
     "ddd2023d2ddd4ef8959a3972115219a8": {
      "model_module": "@jupyter-widgets/controls",
      "model_module_version": "2.0.0",
      "model_name": "TextStyleModel",
      "state": {
       "description_width": "",
       "font_size": null,
       "text_color": null
      }
     },
     "dea5642a43b94e9ca1859c0a3272c3b1": {
      "model_module": "@jupyter-widgets/controls",
      "model_module_version": "2.0.0",
      "model_name": "TextStyleModel",
      "state": {
       "description_width": "",
       "font_size": null,
       "text_color": null
      }
     },
     "e0625b2447e84c879216e2ee16498a28": {
      "model_module": "@jupyter-widgets/controls",
      "model_module_version": "2.0.0",
      "model_name": "TextModel",
      "state": {
       "_dom_classes": [
        "nbtools-menu-attached"
       ],
       "layout": "IPY_MODEL_50aa076a7bbb47229a00e20857fd34c7",
       "style": "IPY_MODEL_b383bc4e24d74089a76d07ccca942c9e"
      }
     },
     "e389e59542de447484b6751592cfc3a2": {
      "model_module": "@jupyter-widgets/controls",
      "model_module_version": "2.0.0",
      "model_name": "LabelStyleModel",
      "state": {
       "description_width": "",
       "font_family": null,
       "font_size": null,
       "font_style": null,
       "font_variant": null,
       "font_weight": null,
       "text_color": null,
       "text_decoration": null
      }
     },
     "e4ae1c3d314543598cb70c573a2b99b7": {
      "model_module": "@jupyter-widgets/controls",
      "model_module_version": "2.0.0",
      "model_name": "LabelModel",
      "state": {
       "description": "output variable",
       "layout": "IPY_MODEL_3381737628504f309a8da43067d0a4ac",
       "style": "IPY_MODEL_c5b8755831fd4f158559388499800e90",
       "value": "output variable"
      }
     },
     "e5f09bd488f843e5b51917a33df53995": {
      "model_module": "@jupyter-widgets/controls",
      "model_module_version": "2.0.0",
      "model_name": "TextModel",
      "state": {
       "_dom_classes": [
        "nbtools-menu-attached"
       ],
       "layout": "IPY_MODEL_b6584d6113fe45a5bcc2f58894708bb5",
       "style": "IPY_MODEL_9913b75bf2114dc4bb9730c15a6f24aa"
      }
     },
     "e5fcbbe8964e443ba72edf8ca258c199": {
      "model_module": "@jupyter-widgets/base",
      "model_module_version": "2.0.0",
      "model_name": "LayoutModel",
      "state": {
       "grid_area": "input",
       "width": "auto"
      }
     },
     "e6856b03b771429d87386fa779ec07b6": {
      "model_module": "@jupyter-widgets/controls",
      "model_module_version": "2.0.0",
      "model_name": "TextStyleModel",
      "state": {
       "description_width": "",
       "font_size": null,
       "text_color": null
      }
     },
     "e6f4a42952c540c0835cc3c9d1753129": {
      "model_module": "@jupyter-widgets/controls",
      "model_module_version": "2.0.0",
      "model_name": "LabelModel",
      "state": {
       "description": "fold_change",
       "layout": "IPY_MODEL_a71599fefca04dd08309ef748ff9c8b3",
       "style": "IPY_MODEL_a223c916ff6c4728baa297c51d1d8e78",
       "value": "fold_change*"
      }
     },
     "e73de2230af74f70b105bac6218a6400": {
      "model_module": "@jupyter-widgets/base",
      "model_module_version": "2.0.0",
      "model_name": "LayoutModel",
      "state": {
       "grid_area": "description",
       "width": "auto"
      }
     },
     "e792a3a307f4416081d9e7219ac2b5fd": {
      "model_module": "@jupyter-widgets/controls",
      "model_module_version": "2.0.0",
      "model_name": "GridBoxModel",
      "state": {
       "_dom_classes": [
        "nbtools-input",
        "nbtools-textinput",
        "required"
       ],
       "children": [
        "IPY_MODEL_d944af0a7cc8462cb8fc9dbf2936bbad",
        "IPY_MODEL_1138b0af478d4145ad54f199e5be3254",
        "IPY_MODEL_404e7fdf02ee48ab90947d56070293e3"
       ],
       "layout": "IPY_MODEL_aa2433804d274799a589cb2679f7bde9"
      }
     },
     "e7bd09aae29d449981111bfbdaef8222": {
      "model_module": "@jupyter-widgets/base",
      "model_module_version": "2.0.0",
      "model_name": "LayoutModel",
      "state": {
       "grid_template_areas": "\n                    \"label input\"\n                    \". description\"\n                ",
       "grid_template_columns": "25% 75%",
       "grid_template_rows": "auto auto",
       "width": "100%"
      }
     },
     "e8787230363f4ff6a975b3a498a73d47": {
      "model_module": "@jupyter-widgets/controls",
      "model_module_version": "2.0.0",
      "model_name": "VBoxModel",
      "state": {
       "_dom_classes": [
        "widget-interact"
       ],
       "children": [
        "IPY_MODEL_39b9518a0c6e4393b36df90541f6b79d",
        "IPY_MODEL_1467cabaa588417392e8ae69b6716e08",
        "IPY_MODEL_9f7465791ee4466b869e7a0e35737ba7",
        "IPY_MODEL_ea60fcc9f2d84e1abd44da21896a8c22",
        "IPY_MODEL_2c72fa87f9cc4d4d9a48a259a75df583",
        "IPY_MODEL_dbacbae3472f4ba88972be0b12b90dec",
        "IPY_MODEL_57c6c32bd5dc4cc9bf0239c27916bfbe",
        "IPY_MODEL_b9e4b70813e440389460a91feafb6ba5",
        "IPY_MODEL_7ee6ba5a2e5049acbb03d633adc0b640",
        "IPY_MODEL_cff4144ebcb64203a2d340060cff0db3"
       ],
       "layout": "IPY_MODEL_6c2c1d4f395d40b99ee32cd548cdae1a"
      }
     },
     "e884ac6e96a1433b8278fb316a529751": {
      "model_module": "@jupyter-widgets/controls",
      "model_module_version": "2.0.0",
      "model_name": "LabelStyleModel",
      "state": {
       "description_width": "",
       "font_family": null,
       "font_size": null,
       "font_style": null,
       "font_variant": null,
       "font_weight": null,
       "text_color": null,
       "text_decoration": null
      }
     },
     "e8bf91a572f44b588c6e991d037ca2c2": {
      "model_module": "@jupyter-widgets/base",
      "model_module_version": "2.0.0",
      "model_name": "LayoutModel",
      "state": {
       "grid_area": "input",
       "width": "auto"
      }
     },
     "ea60fcc9f2d84e1abd44da21896a8c22": {
      "model_module": "@jupyter-widgets/controls",
      "model_module_version": "2.0.0",
      "model_name": "GridBoxModel",
      "state": {
       "_dom_classes": [
        "nbtools-input",
        "nbtools-textinput",
        "required"
       ],
       "children": [
        "IPY_MODEL_d4cedecd32a54ab9b0731b6a286644d9",
        "IPY_MODEL_009ec550d0194754a87f81b8f833495e",
        "IPY_MODEL_5d6e5748564b4c26a80782321af9b05a"
       ],
       "layout": "IPY_MODEL_c8e8b07fc3c6434289eb7c0cb4e584b0"
      }
     },
     "eb356eb3b10046598632d67f24c5a51c": {
      "model_module": "@jupyter-widgets/controls",
      "model_module_version": "2.0.0",
      "model_name": "LabelModel",
      "state": {
       "description": "output variable",
       "layout": "IPY_MODEL_631d741d34c34b85a375c58a9f7d84bd",
       "style": "IPY_MODEL_c333db1793eb4cd1bd9440c85d2d8a95",
       "value": "output variable"
      }
     },
     "eea703343cf3496bad298deaac1c6af5": {
      "model_module": "@jupyter-widgets/base",
      "model_module_version": "2.0.0",
      "model_name": "LayoutModel",
      "state": {
       "grid_area": "label",
       "width": "auto"
      }
     },
     "ef6c4ec6871e4990b92ed82de352adf9": {
      "model_module": "@jupyter-widgets/controls",
      "model_module_version": "2.0.0",
      "model_name": "LabelModel",
      "state": {
       "description": "output variable",
       "layout": "IPY_MODEL_411f935eca0a40efb1e1bee3a0999585",
       "style": "IPY_MODEL_897258a8c5ca42d9868a81b24332465b",
       "value": "output variable"
      }
     },
     "efa9224290df44c1b00f08e1e4eeb514": {
      "model_module": "@jupyter-widgets/controls",
      "model_module_version": "2.0.0",
      "model_name": "TextModel",
      "state": {
       "_dom_classes": [
        "nbtools-menu-attached"
       ],
       "layout": "IPY_MODEL_237360b94b124f65beb1a26d49adea98",
       "style": "IPY_MODEL_910c04acd616428c8356c33643a50d5b"
      }
     },
     "f14183aecd4b4787bbc59456906eed6a": {
      "model_module": "@jupyter-widgets/base",
      "model_module_version": "2.0.0",
      "model_name": "LayoutModel",
      "state": {
       "grid_area": "description",
       "width": "auto"
      }
     },
     "f25f213ab3af4515a3125370fb749335": {
      "model_module": "@jupyter-widgets/base",
      "model_module_version": "2.0.0",
      "model_name": "LayoutModel",
      "state": {}
     },
     "f31f50987f544d738a02dc7fda8c8882": {
      "model_module": "@jupyter-widgets/base",
      "model_module_version": "2.0.0",
      "model_name": "LayoutModel",
      "state": {
       "grid_area": "description",
       "width": "auto"
      }
     },
     "f344fb7a130a4d6b94e708b7b6791ad8": {
      "model_module": "@jupyter-widgets/controls",
      "model_module_version": "2.0.0",
      "model_name": "LabelModel",
      "state": {
       "description": "input_file",
       "layout": "IPY_MODEL_94c1c059b49a4f72902fc4d5ac843387",
       "style": "IPY_MODEL_d3b1a135c2314769977349d214dd3cc6",
       "value": "input_file*"
      }
     },
     "f40f10e74e5a4d248de1bf07425faeba": {
      "model_module": "@jupyter-widgets/base",
      "model_module_version": "2.0.0",
      "model_name": "LayoutModel",
      "state": {}
     },
     "f6913ecf047a4eefacef138eeea641ee": {
      "model_module": "@jupyter-widgets/controls",
      "model_module_version": "2.0.0",
      "model_name": "LabelModel",
      "state": {
       "layout": "IPY_MODEL_4c4a5b318c094b308967f60aef1435d1",
       "style": "IPY_MODEL_c8640a1ca79243e5ba5d29bc3930f43d"
      }
     },
     "f6c60f7b82024b8982a200c538e18798": {
      "model_module": "@jupyter-widgets/controls",
      "model_module_version": "2.0.0",
      "model_name": "LabelStyleModel",
      "state": {
       "description_width": "",
       "font_family": null,
       "font_size": null,
       "font_style": null,
       "font_variant": null,
       "font_weight": null,
       "text_color": null,
       "text_decoration": null
      }
     },
     "f6dc5b494c77428daa307cb732892949": {
      "model_module": "@jupyter-widgets/controls",
      "model_module_version": "2.0.0",
      "model_name": "LabelStyleModel",
      "state": {
       "description_width": "",
       "font_family": null,
       "font_size": null,
       "font_style": null,
       "font_variant": null,
       "font_weight": null,
       "text_color": null,
       "text_decoration": null
      }
     },
     "f7c59b1d9eb0418a9fa4304a2b22670a": {
      "model_module": "@g2nb/nbtools",
      "model_module_version": ">=24.4.0",
      "model_name": "UIBuilderModel",
      "state": {
       "_model_module_version": ">=24.4.0",
       "_parameters": [
        {
         "choices": {},
         "default": "",
         "description": "",
         "events": null,
         "hide": false,
         "id": null,
         "kinds": null,
         "label": "input_file",
         "name": "input_file",
         "optional": false,
         "type": "text",
         "value": ""
        },
        {
         "choices": {},
         "default": "",
         "description": "",
         "events": null,
         "hide": false,
         "id": null,
         "kinds": null,
         "label": "display_type",
         "name": "display_type",
         "optional": false,
         "type": "text",
         "value": ""
        },
        {
         "choices": {},
         "default": "",
         "description": "",
         "events": null,
         "hide": false,
         "id": null,
         "kinds": null,
         "label": "display_color_line",
         "name": "display_color_line",
         "optional": false,
         "type": "text",
         "value": ""
        },
        {
         "choices": {},
         "default": "",
         "description": "",
         "events": null,
         "hide": false,
         "id": null,
         "kinds": null,
         "label": "display_color_fill",
         "name": "display_color_fill",
         "optional": false,
         "type": "text",
         "value": ""
        },
        {
         "choices": {},
         "default": "",
         "description": "",
         "events": null,
         "hide": false,
         "id": null,
         "kinds": null,
         "label": "display_label",
         "name": "display_label",
         "optional": false,
         "type": "text",
         "value": ""
        },
        {
         "choices": {},
         "default": "",
         "description": "",
         "events": null,
         "hide": false,
         "id": null,
         "kinds": null,
         "label": "min",
         "name": "min",
         "optional": false,
         "type": "text",
         "value": ""
        },
        {
         "choices": {},
         "default": "",
         "description": "",
         "events": null,
         "hide": false,
         "id": null,
         "kinds": null,
         "label": "max",
         "name": "max",
         "optional": false,
         "type": "text",
         "value": ""
        },
        {
         "choices": {},
         "default": "",
         "description": "",
         "events": null,
         "hide": false,
         "id": null,
         "kinds": null,
         "label": "fold_change",
         "name": "fold_change",
         "optional": false,
         "type": "text",
         "value": ""
        },
        {
         "choices": {},
         "default": "",
         "description": "",
         "events": null,
         "hide": true,
         "id": null,
         "kinds": null,
         "label": "output variable",
         "name": "output_var",
         "optional": true,
         "type": "text",
         "value": ""
        }
       ],
       "_view_count": -2,
       "_view_module_version": ">=24.4.0",
       "collapse": false,
       "form": "IPY_MODEL_64e515d8c68a4914b5629783dc0642da",
       "layout": "IPY_MODEL_054a2a319e504d5284ec33237727a9f8",
       "name": "widget_with_groups",
       "origin": "Notebook",
       "output": "IPY_MODEL_678d4c71c8cb42b29297ad2a3d6db923",
       "output_var": "",
       "parameter_groups": [
        "input_file",
        {
         "description": "How to display the data",
         "hidden": false,
         "name": "Display Options",
         "parameters": [
          "display_type",
          {
           "description": "Change the colors",
           "hidden": false,
           "name": "Color Options",
           "parameters": [
            "display_color_line",
            "display_color_fill",
            {
             "description": "3 deep",
             "hidden": false,
             "name": "Nested Options",
             "parameters": []
            }
           ]
          },
          "display_label"
         ]
        },
        {
         "description": "Change the preprocessing",
         "hidden": true,
         "name": "Advanced Options",
         "parameters": [
          "min",
          "max",
          "fold_change"
         ]
        }
       ]
      }
     },
     "f953ff87edb84716865d34374cc315e1": {
      "model_module": "@jupyter-widgets/controls",
      "model_module_version": "2.0.0",
      "model_name": "LabelStyleModel",
      "state": {
       "description_width": "",
       "font_family": null,
       "font_size": null,
       "font_style": null,
       "font_variant": null,
       "font_weight": null,
       "text_color": null,
       "text_decoration": null
      }
     },
     "f984c7425f034c8c8e19af89a2488905": {
      "model_module": "@jupyter-widgets/base",
      "model_module_version": "2.0.0",
      "model_name": "LayoutModel",
      "state": {}
     },
     "faa3866baa65440db8d01031875ab113": {
      "model_module": "@jupyter-widgets/base",
      "model_module_version": "2.0.0",
      "model_name": "LayoutModel",
      "state": {
       "grid_area": "input",
       "width": "auto"
      }
     },
     "fb4051f20bb04a6c92b05303566c4e62": {
      "model_module": "@jupyter-widgets/controls",
      "model_module_version": "2.0.0",
      "model_name": "LabelStyleModel",
      "state": {
       "description_width": "",
       "font_family": null,
       "font_size": null,
       "font_style": null,
       "font_variant": null,
       "font_weight": null,
       "text_color": null,
       "text_decoration": null
      }
     },
     "fbf16ca693e44e468be66ba8c45f78c5": {
      "model_module": "@jupyter-widgets/base",
      "model_module_version": "2.0.0",
      "model_name": "LayoutModel",
      "state": {
       "grid_template_areas": "\n                    \"label input\"\n                    \". description\"\n                ",
       "grid_template_columns": "25% 75%",
       "grid_template_rows": "auto auto",
       "width": "100%"
      }
     },
     "fc5ad95f13f5466d8eaca26c84ce2865": {
      "model_module": "@jupyter-widgets/base",
      "model_module_version": "2.0.0",
      "model_name": "LayoutModel",
      "state": {
       "grid_template_areas": "\n                    \"label input\"\n                    \". description\"\n                ",
       "grid_template_columns": "25% 75%",
       "grid_template_rows": "auto auto",
       "width": "100%"
      }
     },
     "fd09b502a16a4c01a6f12153bbd77c94": {
      "model_module": "@jupyter-widgets/controls",
      "model_module_version": "2.0.0",
      "model_name": "LabelStyleModel",
      "state": {
       "description_width": "",
       "font_family": null,
       "font_size": null,
       "font_style": null,
       "font_variant": null,
       "font_weight": null,
       "text_color": null,
       "text_decoration": null
      }
     },
     "fe81e7fd3a94449788eb6832df8f6f5e": {
      "model_module": "@jupyter-widgets/base",
      "model_module_version": "2.0.0",
      "model_name": "LayoutModel",
      "state": {
       "grid_area": "label",
       "width": "auto"
      }
     },
     "fec8718026884771aedab6ed47ed29c4": {
      "model_module": "@jupyter-widgets/controls",
      "model_module_version": "2.0.0",
      "model_name": "TextStyleModel",
      "state": {
       "description_width": "",
       "font_size": null,
       "text_color": null
      }
     }
    },
    "version_major": 2,
    "version_minor": 0
   }
  }
 },
 "nbformat": 4,
 "nbformat_minor": 5
}
