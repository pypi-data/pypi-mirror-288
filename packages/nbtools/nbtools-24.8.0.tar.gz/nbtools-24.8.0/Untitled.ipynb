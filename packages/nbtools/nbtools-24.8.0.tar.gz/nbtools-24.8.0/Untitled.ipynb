{
 "cells": [
  {
   "cell_type": "code",
   "execution_count": 7,
   "id": "470bb45e-3877-4900-95da-695c02c03c81",
   "metadata": {
    "nbtools": {
     "force_display": true
    }
   },
   "outputs": [
    {
     "data": {
      "application/vnd.jupyter.widget-view+json": {
       "model_id": "407d93cd6f68405daeaa27dc77115dd8",
       "version_major": 2,
       "version_minor": 0
      },
      "text/plain": [
       "UIOutput(appendix=VBox(), files=['hello.txt'])"
      ]
     },
     "execution_count": 7,
     "metadata": {},
     "output_type": "execute_result"
    }
   ],
   "source": [
    "import nbtools\n",
    "\n",
    "nbtools.UIOutput(files=['hello.txt'])"
   ]
  },
  {
   "cell_type": "code",
   "execution_count": null,
   "id": "047ca2e3-90a3-4090-80d0-81959b1e9cf0",
   "metadata": {},
   "outputs": [],
   "source": []
  }
 ],
 "metadata": {
  "GiN-version": "0.1.0a8",
  "kernelspec": {
   "display_name": "Python 3 (ipykernel)",
   "language": "python",
   "name": "python3"
  },
  "language_info": {
   "codemirror_mode": {
    "name": "ipython",
    "version": 3
   },
   "file_extension": ".py",
   "mimetype": "text/x-python",
   "name": "python",
   "nbconvert_exporter": "python",
   "pygments_lexer": "ipython3",
   "version": "3.9.16"
  },
  "widgets": {
   "application/vnd.jupyter.widget-state+json": {
    "state": {
     "19a8aa2f3e9a45cf99cf73490ad24182": {
      "model_module": "@jupyter-widgets/base",
      "model_module_version": "2.0.0",
      "model_name": "LayoutModel",
      "state": {}
     },
     "33dfa6ec9ad24ef1b8055828fd17b398": {
      "model_module": "@jupyter-widgets/base",
      "model_module_version": "2.0.0",
      "model_name": "LayoutModel",
      "state": {}
     },
     "3ab8af0209704df291fd38f42cdd646d": {
      "model_module": "@jupyter-widgets/controls",
      "model_module_version": "2.0.0",
      "model_name": "VBoxModel",
      "state": {
       "layout": "IPY_MODEL_9ee24f8aa34b4c92904bd7dea5bbf27b"
      }
     },
     "3d85b45a828b42c881965a88814f194b": {
      "model_module": "@jupyter-widgets/base",
      "model_module_version": "2.0.0",
      "model_name": "LayoutModel",
      "state": {}
     },
     "407d93cd6f68405daeaa27dc77115dd8": {
      "model_module": "@g2nb/nbtools",
      "model_module_version": ">=24.4.0",
      "model_name": "UIOutputModel",
      "state": {
       "_model_module_version": ">=24.4.0",
       "_view_count": -1,
       "_view_module_version": ">=24.4.0",
       "appendix": "IPY_MODEL_3ab8af0209704df291fd38f42cdd646d",
       "files": [
        "hello.txt"
       ],
       "layout": "IPY_MODEL_60fc5fc6ecdb46f4aa48e8e7402402b9",
       "origin": "Notebook"
      }
     },
     "4a22407f83a345c98f436114758f4652": {
      "model_module": "@jupyter-widgets/base",
      "model_module_version": "2.0.0",
      "model_name": "LayoutModel",
      "state": {}
     },
     "5241bc00c9b44950b0fc34b1037c5a9f": {
      "model_module": "@jupyter-widgets/base",
      "model_module_version": "2.0.0",
      "model_name": "LayoutModel",
      "state": {}
     },
     "60fc5fc6ecdb46f4aa48e8e7402402b9": {
      "model_module": "@jupyter-widgets/base",
      "model_module_version": "2.0.0",
      "model_name": "LayoutModel",
      "state": {}
     },
     "61d2af7dd7444282aa61e56d95b714c0": {
      "model_module": "@g2nb/nbtools",
      "model_module_version": ">=24.4.0",
      "model_name": "UIOutputModel",
      "state": {
       "_model_module_version": ">=24.4.0",
       "_view_count": -1,
       "_view_module_version": ">=24.4.0",
       "appendix": "IPY_MODEL_6ae46fe944b04f2ab49e371fde8d6add",
       "files": [
        "hello.txt"
       ],
       "layout": "IPY_MODEL_6ce3a82b5d3e4ae2909229e8ab6b2dad",
       "origin": "Notebook"
      }
     },
     "631ac8f769874a269f2f36b955b77c49": {
      "model_module": "@jupyter-widgets/base",
      "model_module_version": "2.0.0",
      "model_name": "LayoutModel",
      "state": {}
     },
     "6a326232f87042f4b2b6e028208d8eb6": {
      "model_module": "@jupyter-widgets/controls",
      "model_module_version": "2.0.0",
      "model_name": "VBoxModel",
      "state": {
       "layout": "IPY_MODEL_718d3fede9274e449122ebca9fceff1f"
      }
     },
     "6ae46fe944b04f2ab49e371fde8d6add": {
      "model_module": "@jupyter-widgets/controls",
      "model_module_version": "2.0.0",
      "model_name": "VBoxModel",
      "state": {
       "layout": "IPY_MODEL_19a8aa2f3e9a45cf99cf73490ad24182"
      }
     },
     "6ce3a82b5d3e4ae2909229e8ab6b2dad": {
      "model_module": "@jupyter-widgets/base",
      "model_module_version": "2.0.0",
      "model_name": "LayoutModel",
      "state": {}
     },
     "718d3fede9274e449122ebca9fceff1f": {
      "model_module": "@jupyter-widgets/base",
      "model_module_version": "2.0.0",
      "model_name": "LayoutModel",
      "state": {}
     },
     "8f43e65308f44bfb90a354e846435b0d": {
      "model_module": "@g2nb/nbtools",
      "model_module_version": ">=24.4.0",
      "model_name": "UIOutputModel",
      "state": {
       "_model_module_version": ">=24.4.0",
       "_view_count": -1,
       "_view_module_version": ">=24.4.0",
       "appendix": "IPY_MODEL_6a326232f87042f4b2b6e028208d8eb6",
       "files": [
        "hello.txt"
       ],
       "layout": "IPY_MODEL_33dfa6ec9ad24ef1b8055828fd17b398",
       "origin": "Notebook"
      }
     },
     "9ee24f8aa34b4c92904bd7dea5bbf27b": {
      "model_module": "@jupyter-widgets/base",
      "model_module_version": "2.0.0",
      "model_name": "LayoutModel",
      "state": {}
     },
     "a29586b5db8149c3b939469dd88765bb": {
      "model_module": "@jupyter-widgets/controls",
      "model_module_version": "2.0.0",
      "model_name": "VBoxModel",
      "state": {
       "layout": "IPY_MODEL_4a22407f83a345c98f436114758f4652"
      }
     },
     "aefd6caff8b3486bb02bd2282f497da7": {
      "model_module": "@g2nb/nbtools",
      "model_module_version": ">=24.4.0",
      "model_name": "UIOutputModel",
      "state": {
       "_model_module_version": ">=24.4.0",
       "_view_count": -1,
       "_view_module_version": ">=24.4.0",
       "appendix": "IPY_MODEL_a29586b5db8149c3b939469dd88765bb",
       "files": [
        "hello.txt"
       ],
       "layout": "IPY_MODEL_631ac8f769874a269f2f36b955b77c49",
       "origin": "Notebook"
      }
     },
     "b88598c63d0e4c96ae29340b7847c1e4": {
      "model_module": "@g2nb/nbtools",
      "model_module_version": ">=24.4.0",
      "model_name": "UIOutputModel",
      "state": {
       "_model_module_version": ">=24.4.0",
       "_view_count": 0,
       "_view_module_version": ">=24.4.0",
       "appendix": "IPY_MODEL_d0678b5b16114c06aa7f601648800f5b",
       "layout": "IPY_MODEL_5241bc00c9b44950b0fc34b1037c5a9f",
       "origin": "Notebook"
      }
     },
     "d0678b5b16114c06aa7f601648800f5b": {
      "model_module": "@jupyter-widgets/controls",
      "model_module_version": "2.0.0",
      "model_name": "VBoxModel",
      "state": {
       "layout": "IPY_MODEL_3d85b45a828b42c881965a88814f194b"
      }
     }
    },
    "version_major": 2,
    "version_minor": 0
   }
  }
 },
 "nbformat": 4,
 "nbformat_minor": 5
}
