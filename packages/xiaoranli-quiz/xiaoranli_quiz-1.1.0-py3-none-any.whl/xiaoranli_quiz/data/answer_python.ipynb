{
 "cells": [
  {
   "cell_type": "code",
   "execution_count": 1,
   "metadata": {},
   "outputs": [
    {
     "name": "stdout",
     "output_type": "stream",
     "text": [
      "racecar is a palindrome.\n",
      "madam is a palindrome.\n",
      "level is a palindrome.\n",
      "apple is not a palindrome.\n",
      "python is not a palindrome.\n",
      "Radar is not a palindrome.\n"
     ]
    }
   ],
   "source": [
    "### 1. 编写一个函数 is_palindrome，接受一个字符串作为输入，判断该字符串是否是回文。\n",
    "def is_palindrome(s):\n",
    "    if s == s[::-1]:\n",
    "        print(f\"{s} is a palindrome.\")\n",
    "    else:\n",
    "        print(f\"{s} is not a palindrome.\")\n",
    "\n",
    "test_strings = [\"racecar\", \"madam\", \"level\", \"apple\", \"python\", \"Radar\"]\n",
    "for s in test_strings:\n",
    "    is_palindrome(s)"
   ]
  },
  {
   "cell_type": "code",
   "execution_count": null,
   "metadata": {},
   "outputs": [
    {
     "name": "stdout",
     "output_type": "stream",
     "text": [
      "Hello, world! This is a test.\n",
      "I am a student.\n",
      "I am a student at UIC.\n"
     ]
    }
   ],
   "source": [
    "### 2.  清理文本数据, 接受一个字符串作为输入，将字符串中的多余空格和换行符去除，并返回清理后的字符串。\n",
    "text = \"  Hello, world! \\n  This is a test.  \"\n",
    "#预期输出： \"Hello, world! This is a test.\"\n",
    "\n",
    "def remove_punctuation(s):\n",
    "    s = \" \".join(s.split())\n",
    "    print(s)\n",
    "\n",
    "test_strings = [\"  Hello, world! \\n  This is a test.  \" , \"  I am a student.  \", \"  I am a student at UIC.  \"]\n",
    "for s in test_strings:\n",
    "    remove_punctuation(s)"
   ]
  },
  {
   "cell_type": "code",
   "execution_count": null,
   "metadata": {},
   "outputs": [],
   "source": [
    "### 3. 格式化文件路径, 但这些路径可能包含不同的分隔符，例如 “/” 和 “\\”。请编写一个 Python 函数，接受一个包含文件路径的列表作为输入，将所有路径统一使用 “/” 作为分隔符，并返回更新后的列表。\n",
    "paths = [\"C:\\\\Users\\\\Documents\\\\file.txt\", \"/home/user/data.csv\"]\n",
    "# 预期输出： [\"C:/Users/Documents/file.txt\", \"/home/user/data.csv\"]\n",
    "\n",
    "def format_path(paths):\n",
    "    paths = [p.replace(\"\\\\\", \"/\") for p in paths]\n",
    "    print(paths)\n",
    "\n",
    "format_path(paths)"
   ]
  },
  {
   "cell_type": "code",
   "execution_count": null,
   "metadata": {},
   "outputs": [],
   "source": [
    "### 4. 文本分割和转换\n",
    "### 题目：你想要将一个包含多个单词的字符串，按照指定分隔符进行分割，并将每个单词转换为大写字母，最后将这些单词用指定的连接符连接起来。请编写一个 Python 函数实现这个功能。\n",
    "text = \"this is a test string\"\n",
    "#预期输出： \"THIS-IS-A-TEST-STRING\"\n",
    "\n",
    "def change_by_one(s):\n",
    "    s = s.strip().upper().replace(\" \", \"-\")\n",
    "    return s\n",
    "\n",
    "test_strings = [\"this is a test string\", \" hello world\", \"python is fun\"]\n",
    "for s in test_strings:\n",
    "    print(change_by_one(s))"
   ]
  },
  {
   "cell_type": "code",
   "execution_count": 7,
   "metadata": {},
   "outputs": [
    {
     "name": "stdout",
     "output_type": "stream",
     "text": [
      "['test@example.com', 'user@company.net']\n"
     ]
    }
   ],
   "source": [
    "### 5. 电子邮件地址解析\n",
    "### 题目：从一个字符串中提取出所有电子邮件地址\n",
    "text = \"My email is test@example.com, yours is user@company.net.\"\n",
    "#预期输出： [\"test@example.com\", \"user@company.net\"]\n",
    "\n",
    "def extract_email(s):\n",
    "    s = s.split()\n",
    "    res = []\n",
    "    for i in s:\n",
    "        if \"@\" in i:\n",
    "            clean_email = i.rstrip(\",.\")\n",
    "            res.append(clean_email)\n",
    "    return res\n",
    "\n",
    "print(extract_email(text))"
   ]
  },
  {
   "cell_type": "code",
   "execution_count": null,
   "metadata": {},
   "outputs": [],
   "source": [
    "### 6. 电话号码格式化\n",
    "### 题目：你想要将一个字符串中的电话号码格式化。请编写一个 Python 函数，接受一个字符串作为输入，将电话号码格式化为 \"XXX-XXX-XXXX\" 的格式。\n",
    "phone_number = \"1234567890\"\n",
    "#预期输出： \"123-456-7890\"\n",
    "\n",
    "def format_phone_number(s):\n",
    "    s = s[:3] + \"-\" + s[3:6] + \"-\" + s[6:]\n",
    "    return s\n",
    "\n",
    "print(format_phone_number(phone_number))"
   ]
  },
  {
   "cell_type": "code",
   "execution_count": null,
   "metadata": {},
   "outputs": [],
   "source": [
    "### 7. Given a list of words, join them into a single string with spaces in between.\n",
    "words = [\"Python\", \"is\", \"awesome\"]\n",
    "# Result: \"Python is awesome\"\n",
    "\n",
    "def join_words(words):\n",
    "    s = \" \".join(words)\n",
    "    return s\n",
    "\n",
    "print(join_words(words))"
   ]
  },
  {
   "cell_type": "code",
   "execution_count": null,
   "metadata": {},
   "outputs": [],
   "source": [
    "### 8. Given a string of words separated by commas, split them into a list.\n",
    "sentence = \"apple,banana,cherry\"\n",
    "# Result: ['apple', 'banana', 'cherry']\n",
    "\n",
    "def split_words(s):\n",
    "    words = s.split(\",\")\n",
    "    return words\n",
    "\n",
    "print(split_words(sentence))"
   ]
  },
  {
   "cell_type": "code",
   "execution_count": null,
   "metadata": {},
   "outputs": [],
   "source": [
    "### 9. Given a list of fruits, print each fruit with its index.\n",
    "fruits = [\"apple\", \"banana\", \"cherry\"]\n",
    "# Result:\n",
    "# 0: apple\n",
    "# 1: banana\n",
    "# 2: cherry\n",
    "\n",
    "def print_fruits(fruits):\n",
    "    for i, fruit in enumerate(fruits):\n",
    "        print(f\"{i}: {fruit}\")\n",
    "\n",
    "print_fruits(fruits)"
   ]
  },
  {
   "cell_type": "code",
   "execution_count": 6,
   "metadata": {},
   "outputs": [
    {
     "name": "stdout",
     "output_type": "stream",
     "text": [
      "[(1, 'a'), (2, 'b'), (3, 'c')]\n"
     ]
    }
   ],
   "source": [
    "### 10. Given two lists, create a list of tuples pairing corresponding elements.\n",
    "list1 = [1, 2, 3]\n",
    "list2 = ['a', 'b', 'c','d']\n",
    "# Result: [(1, 'a'), (2, 'b'), (3, 'c')]\n",
    "\n",
    "def pair_lists(list1, list2):\n",
    "    pairs = list(zip(list1, list2))\n",
    "    return pairs\n",
    "\n",
    "print(pair_lists(list1, list2))"
   ]
  },
  {
   "cell_type": "code",
   "execution_count": null,
   "metadata": {},
   "outputs": [],
   "source": [
    "### 11. Given a list of numbers, create a new list with each number squared.\n",
    "numbers = [1, 2, 3, 4]\n",
    "# Result: [1, 4, 9, 16]\n",
    "\n",
    "def square_numbers(numbers):\n",
    "    squares = [n**2 for n in numbers]\n",
    "    return squares\n",
    "\n",
    "print(square_numbers(numbers))"
   ]
  },
  {
   "cell_type": "code",
   "execution_count": null,
   "metadata": {},
   "outputs": [],
   "source": [
    "### 12. Convert a tuple of numbers into a list.\n",
    "numbers_tuple = (1, 2, 3, 4)\n",
    "# Result: [1, 2, 3, 4]\n",
    "\n",
    "def tuple_to_list(t):\n",
    "    l = list(t)\n",
    "    return l\n",
    "\n",
    "print(tuple_to_list(numbers_tuple))"
   ]
  },
  {
   "cell_type": "code",
   "execution_count": 8,
   "metadata": {},
   "outputs": [
    {
     "name": "stdout",
     "output_type": "stream",
     "text": [
      "{'name': 'John', 'age': 25, 'profession': 'Engineer'}\n"
     ]
    }
   ],
   "source": [
    "### 13. Create a dictionary from a list of keys and a list of values.\n",
    "keys = ['name', 'age', 'profession']\n",
    "values = ['John', 25, 'Engineer']\n",
    "# Result: {'name': 'John', 'age': 25, 'profession': 'Engineer'}\n",
    "\n",
    "def create_dict(keys, values):\n",
    "    d = dict(zip(keys, values))\n",
    "    return d\n",
    "\n",
    "print(create_dict(keys, values))"
   ]
  },
  {
   "cell_type": "code",
   "execution_count": null,
   "metadata": {},
   "outputs": [],
   "source": [
    "# Anagram Check\n",
    "# Write a function to determine if two strings are anagrams (contain the same characters in different orders).\n",
    "\n",
    "def are_anagrams(s1, s2):\n",
    "    # Your code here\n",
    "    return sorted(s1) == sorted(s2)\n",
    "\n",
    "print(are_anagrams(\"listen\", \"silent\"))  # True\n",
    "print(are_anagrams(\"hello\", \"world\"))    # False"
   ]
  },
  {
   "cell_type": "code",
   "execution_count": 10,
   "metadata": {},
   "outputs": [
    {
     "name": "stdout",
     "output_type": "stream",
     "text": [
      "[1, 2, 3, 4, 5, 6]\n"
     ]
    }
   ],
   "source": [
    "# Flatten Nested List\n",
    "\n",
    "def flatten(lst):\n",
    "    # Your code here\n",
    "    flattened_list = []\n",
    "    for i in lst:\n",
    "        if type(i) == list:\n",
    "            flattened_list.extend(flatten(i))\n",
    "        else:\n",
    "            flattened_list.append(i)\n",
    "    return flattened_list\n",
    "\n",
    "nested_list = [1, [2, [3, 4], 5], 6]\n",
    "print(flatten(nested_list))  # [1, 2, 3, 4, 5, 6]"
   ]
  },
  {
   "cell_type": "code",
   "execution_count": null,
   "metadata": {},
   "outputs": [],
   "source": [
    "# Find Pairs with Given Sum\n",
    "# Write a function to find all pairs of integers in a list that sum up to a given target.\n",
    "\n",
    "def find_pairs(nums, target):\n",
    "    # Your code here\n",
    "    pairs = []\n",
    "    seen = set()\n",
    "    for i in range(len(nums)):\n",
    "        complement = target - nums[i]\n",
    "        if complement in seen:\n",
    "            pairs.append((nums[i], complement))  # 添加整数对\n",
    "        seen.add(nums[i])  # 将当前数字添加到集合中\n",
    "\n",
    "    return pairs\n",
    "\n",
    "numbers = [1, 2, 3, 4, 5]\n",
    "target_sum = 6\n",
    "print(find_pairs(numbers, target_sum))  # [(1, 5), (2, 4)]"
   ]
  },
  {
   "cell_type": "code",
   "execution_count": null,
   "metadata": {},
   "outputs": [],
   "source": [
    "# Sort List of Tuples\n",
    "# Write a function to sort a list of tuples based on the second element of each tuple.\n",
    "\n",
    "def sort_tuples(lst):\n",
    "    # Your code here\n",
    "    return sorted(lst, key=lambda x: x[1])\n",
    "\n",
    "tuples = [(1, 'b'), (2, 'a'), (3, 'c')]\n",
    "print(sort_tuples(tuples))  # [(2, 'a'), (1, 'b'), (3, 'c')]"
   ]
  },
  {
   "cell_type": "code",
   "execution_count": null,
   "metadata": {},
   "outputs": [],
   "source": [
    "# Merge List of Tuples\n",
    "# Write a function to merge a list of tuples into a single tuple.\n",
    "\n",
    "def merge_tuples(lst):\n",
    "    # Your code here\n",
    "    return tuple([item for t in lst for item in t])\n",
    "\n",
    "tuples = [(1, 2), (3, 4), (5, 6)]\n",
    "print(merge_tuples(tuples))  # (1, 2, 3, 4, 5, 6)\n"
   ]
  },
  {
   "cell_type": "code",
   "execution_count": null,
   "metadata": {},
   "outputs": [],
   "source": [
    "# Group by Key\n",
    "# Write a function to group a list of dictionaries by a common key.\n",
    "\n",
    "def group_by_key(lst, key):\n",
    "    # Your code here\n",
    "    grouped_dict = {}\n",
    "    for d in lst:\n",
    "        k = d[key]\n",
    "        if k in grouped_dict:\n",
    "            grouped_dict[k].append(d)\n",
    "        else:\n",
    "            grouped_dict[k] = [d]\n",
    "    return grouped_dict\n",
    "\n",
    "data = [\n",
    "    {\"name\": \"Alice\", \"age\": 24},\n",
    "    {\"name\": \"Bob\", \"age\": 24},\n",
    "    {\"name\": \"Charlie\", \"age\": 25}\n",
    "]\n",
    "print(group_by_key(data, \"age\"))\n",
    "# {24: [{\"name\": \"Alice\", \"age\": 24}, {\"name\": \"Bob\", \"age\": 24}], 25: [{\"name\": \"Charlie\", \"age\": 25}]}"
   ]
  },
  {
   "cell_type": "code",
   "execution_count": null,
   "metadata": {},
   "outputs": [],
   "source": [
    "# Invert Dictionary\n",
    "# Write a function to invert a dictionary (swap keys and values).\n",
    "def invert_dict(d):\n",
    "    # Your code here\n",
    "    return {v: k for k, v in d.items()}\n",
    "\n",
    "original = {'a': 1, 'b': 2, 'c': 3}\n",
    "print(invert_dict(original))  # {1: 'a', 2: 'b', 3: 'c'}"
   ]
  },
  {
   "cell_type": "code",
   "execution_count": null,
   "metadata": {},
   "outputs": [],
   "source": [
    "# Frequency Counter\n",
    "# Write a function to count the frequency of each character in a string.\n",
    "\n",
    "def char_frequency(s):\n",
    "    # Your code here\n",
    "    frequency = {}\n",
    "    for char in s:\n",
    "        if char in frequency:\n",
    "            frequency[char] += 1\n",
    "        else:\n",
    "            frequency[char] = 1\n",
    "    return frequency\n",
    "\n",
    "print(char_frequency(\"hello world\"))\n",
    "# {'h': 1, 'e': 1, 'l': 3, 'o': 2, ' ': 1, 'w': 1, 'r': 1, 'd': 1}"
   ]
  },
  {
   "cell_type": "code",
   "execution_count": null,
   "metadata": {},
   "outputs": [],
   "source": [
    "# Common Elements\n",
    "# Write a function to find the common elements between two lists.\n",
    "\n",
    "def common_elements(lst1, lst2):\n",
    "    # Your code here\n",
    "    return list(set(lst1) & set(lst2))\n",
    "\n",
    "list1 = [1, 2, 3, 4]\n",
    "list2 = [3, 4, 5, 6]\n",
    "print(common_elements(list1, list2))  # [3, 4]"
   ]
  }
 ],
 "metadata": {
  "kernelspec": {
   "display_name": "Python 3 (ipykernel)",
   "language": "python",
   "name": "python3"
  },
  "language_info": {
   "codemirror_mode": {
    "name": "ipython",
    "version": 3
   },
   "file_extension": ".py",
   "mimetype": "text/x-python",
   "name": "python",
   "nbconvert_exporter": "python",
   "pygments_lexer": "ipython3",
   "version": "3.11.9"
  }
 },
 "nbformat": 4,
 "nbformat_minor": 4
}
