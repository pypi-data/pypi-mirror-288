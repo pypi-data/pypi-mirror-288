{
 "cells": [
  {
   "cell_type": "code",
   "execution_count": null,
   "metadata": {},
   "outputs": [],
   "source": [
    "import torch\n",
    "import random\n",
    "\n",
    "random_shape = tuple(random.randint(1, 10) for _ in range(random.randint(2, 4)))\n",
    "r1 = random.randint(1, 100)\n",
    "r2 = random.randint(10, 200)\n",
    "random_2d_dims = (r1, r2)\n",
    "test_a = torch.zeros(random_shape)\n",
    "test_b = torch.ones(random_2d_dims)\n",
    "test_c = torch.full(r1, r2)\n",
    "test_d = torch.arange(r2)\n",
    "test_e = torch.linspace(0, r2, r2%8)\n",
    "test_f = torch.rand(random_shape)\n",
    "test_g = torch.randn(random_2d_dims)\n",
    "test_h = torch.randn(random_2d_dims).view(r1, r2)\n",
    "test_i = torch.randn(random_2d_dims).t()\n",
    "test_j = torch.cat([torch.randn(random_2d_dims), torch.randn(r2,r2)], dim=0)\n",
    "test_k = torch.stack([torch.randn(random_2d_dims), torch.randn(r2,r2)], dim=0)\n",
    "test_l = torch.add(torch.randn(random_2d_dims), torch.randn(random_2d_dims))\n",
    "test_m = torch.mul(torch.randn(random_2d_dims), torch.randn(random_2d_dims))\n",
    "test_n = torch.matmul(torch.randn(random_2d_dims), torch.randn(random_2d_dims))\n",
    "test_o = torch.sum(torch.randn(random_2d_dims, random_2d_dims))\n",
    "test_p = torch.mean(torch.randn(random_2d_dims))\n",
    "test_q = torch.max(torch.randn(random_2d_dims))\n",
    "test_r = torch.argmax(torch.randn(random_2d_dims))\n",
    "test_s = torch.randn(random_2d_dims)[0]\n",
    "test_t = torch.randn(random_2d_dims)[:2]\n",
    "test_u = torch.randn(random_2d_dims)[torch.randn(random_2d_dims) > 0.5]\n",
    "test_v = torch.equal(torch.randn(random_2d_dims), torch.randn(random_2d_dims))\n",
    "test_w = torch.randn(random_2d_dims).permute(1, 0)\n",
    "test_x = torch.mm(torch.randn(random_2d_dims), torch.randn(random_2d_dims))"
   ]
  },
  {
   "cell_type": "code",
   "execution_count": null,
   "metadata": {},
   "outputs": [],
   "source": [
    "print(f\"Create a {len(random_shape)}D tensor of zeros with shape {random_shape}\")\n",
    "a = None\n",
    "torch.equal(a, test_a)"
   ]
  },
  {
   "cell_type": "code",
   "execution_count": null,
   "metadata": {},
   "outputs": [],
   "source": [
    "print(f\"Create a 2D tensor of ones with shape{random_2d_dims}\")\n",
    "b = None\n",
    "torch.equal(b, test_b)"
   ]
  },
  {
   "cell_type": "code",
   "execution_count": null,
   "metadata": {},
   "outputs": [],
   "source": [
    "print(f\"Create a 1D tensor of {r1} elements, all being {r2}\")\n",
    "c = None\n",
    "torch.equal(c, test_c)"
   ]
  },
  {
   "cell_type": "code",
   "execution_count": null,
   "metadata": {},
   "outputs": [],
   "source": [
    "print(f\"Create a tensor with values ranging from 0 to {r2}\")\n",
    "d = None\n",
    "torch.equal(d, test_d)"
   ]
  },
  {
   "cell_type": "code",
   "execution_count": null,
   "metadata": {},
   "outputs": [],
   "source": [
    "print(f\"Create a tensor with {r2} values linearly spaced between 0 and {r2%8}\")\n",
    "e = None\n",
    "torch.equal(e, test_e)"
   ]
  },
  {
   "cell_type": "code",
   "execution_count": null,
   "metadata": {},
   "outputs": [],
   "source": [
    "print(f\"Create a {random_2d_dims} tensor with random values between 0 and 1\")\n",
    "f = None\n",
    "torch.equal(f, test_f)"
   ]
  },
  {
   "cell_type": "code",
   "execution_count": null,
   "metadata": {},
   "outputs": [],
   "source": [
    "print(f\"Create a {random_2d_dims} tensor with values sampled from a normal distribution\")\n",
    "g = None\n",
    "torch.equal(g, test_g)"
   ]
  },
  {
   "cell_type": "code",
   "execution_count": null,
   "metadata": {},
   "outputs": [],
   "source": [
    "print(f\"Reshape a random tensor of shape {random_2d_dims} to {(r2,r1)}\")\n",
    "h = None\n",
    "torch.equal(h, test_h)"
   ]
  },
  {
   "cell_type": "code",
   "execution_count": null,
   "metadata": {},
   "outputs": [],
   "source": [
    "print(f\"Transpose a 2D tensor of shape {random_2d_dims}\")\n",
    "i = None\n",
    "torch.equal(i, test_i)"
   ]
  },
  {
   "cell_type": "code",
   "execution_count": null,
   "metadata": {},
   "outputs": [],
   "source": [
    "print(f\"Concatenate two tensors {random_2d_dims}, {(r2,r2)} along dimension 0\")\n",
    "j = None\n",
    "torch.equal(j, test_j)"
   ]
  },
  {
   "cell_type": "code",
   "execution_count": null,
   "metadata": {},
   "outputs": [],
   "source": [
    "print(f\"Stack two random number tensors {random_2d_dims}, {(r2,r2)} along a new dimension\")\n",
    "k = None\n",
    "torch.equal(k, test_k)"
   ]
  },
  {
   "cell_type": "code",
   "execution_count": null,
   "metadata": {},
   "outputs": [],
   "source": [
    "print(f\"Add two random number tensors {random_2d_dims}, {(r2,r2)} element-wise\")\n",
    "l = None\n",
    "torch.equal(l, test_l)"
   ]
  },
  {
   "cell_type": "code",
   "execution_count": null,
   "metadata": {},
   "outputs": [],
   "source": [
    "print(f\"Multiply two random number tensors {random_2d_dims}, {(r2,r2)} element-wise\")\n",
    "m = None\n",
    "torch.equal(m, test_m)"
   ]
  },
  {
   "cell_type": "code",
   "execution_count": null,
   "metadata": {},
   "outputs": [],
   "source": [
    "print(f\"Perform matrix multiplication of two {random_2d_dims} 2D tensors\")\n",
    "n = None\n",
    "torch.equal(n, test_n)"
   ]
  },
  {
   "cell_type": "code",
   "execution_count": null,
   "metadata": {},
   "outputs": [],
   "source": [
    "print(f\"Calculate the sum of all elements in a {random_2d_dims} tensor\")\n",
    "o = None\n",
    "torch.equal(o, test_o)"
   ]
  },
  {
   "cell_type": "code",
   "execution_count": null,
   "metadata": {},
   "outputs": [],
   "source": [
    "print(f\"Calculate the mean of all elements in a {random_2d_dims} tensor\")\n",
    "p = None\n",
    "torch.equal(p, test_p)"
   ]
  },
  {
   "cell_type": "code",
   "execution_count": null,
   "metadata": {},
   "outputs": [],
   "source": [
    "print(f\"Find the maximum value in a {random_2d_dims} tensor\")\n",
    "q = None\n",
    "torch.equal(q, test_q)"
   ]
  },
  {
   "cell_type": "code",
   "execution_count": null,
   "metadata": {},
   "outputs": [],
   "source": [
    "print(f\"Find the index of the maximum value in a {random_2d_dims} tensor\")\n",
    "r = None\n",
    "torch.equal(r, test_r)"
   ]
  },
  {
   "cell_type": "code",
   "execution_count": null,
   "metadata": {},
   "outputs": [],
   "source": [
    "print(f\"Index a {random_2d_dims} tensor to get the first row\")\n",
    "s = None\n",
    "torch.equal(s, test_s)"
   ]
  },
  {
   "cell_type": "code",
   "execution_count": null,
   "metadata": {},
   "outputs": [],
   "source": [
    "print(f\"Slice a {random_2d_dims} tensor to get the first two rows\")\n",
    "t = None\n",
    "torch.equal(t, test_t)"
   ]
  },
  {
   "cell_type": "code",
   "execution_count": null,
   "metadata": {},
   "outputs": [],
   "source": [
    "print(f\"Mask a {random_2d_dims} tensor to get elements greater than 0.5\")\n",
    "u = None\n",
    "torch.equal(u, test_u)"
   ]
  },
  {
   "cell_type": "code",
   "execution_count": null,
   "metadata": {},
   "outputs": [],
   "source": [
    "print(f\"Test if two {random_2d_dims} tensors are equal\")\n",
    "v = None\n",
    "torch.equal(v, test_v)"
   ]
  },
  {
   "cell_type": "code",
   "execution_count": null,
   "metadata": {},
   "outputs": [],
   "source": [
    "print(f\"Permute a {random_2d_dims} tensor to swap the dimensions\")\n",
    "w = None\n",
    "torch.equal(w, test_w)"
   ]
  },
  {
   "cell_type": "code",
   "execution_count": null,
   "metadata": {},
   "outputs": [],
   "source": [
    "print(f\"Perform matrix multiplication of two {random_2d_dims} 2D tensors\")\n",
    "x = None\n",
    "torch.equal(x, test_x)"
   ]
  }
 ],
 "metadata": {
  "language_info": {
   "name": "python"
  }
 },
 "nbformat": 4,
 "nbformat_minor": 2
}
