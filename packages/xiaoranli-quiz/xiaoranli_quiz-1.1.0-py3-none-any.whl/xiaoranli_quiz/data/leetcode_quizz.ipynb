{
 "cells": [
  {
   "cell_type": "code",
   "execution_count": 1,
   "metadata": {},
   "outputs": [
    {
     "name": "stdout",
     "output_type": "stream",
     "text": [
      "Obtaining file:///home/xr/xiaoran-quiz\n",
      "  Preparing metadata (setup.py) ... \u001b[?25ldone\n",
      "\u001b[?25hRequirement already satisfied: torch in /home/xr/miniconda3/envs/xr/lib/python3.11/site-packages (from xiaoranli_quiz==1.1.0) (2.3.1)\n",
      "Requirement already satisfied: prompt_toolkit in /home/xr/miniconda3/envs/xr/lib/python3.11/site-packages (from xiaoranli_quiz==1.1.0) (3.0.47)\n",
      "Requirement already satisfied: colorama in /home/xr/miniconda3/envs/xr/lib/python3.11/site-packages (from xiaoranli_quiz==1.1.0) (0.4.6)\n",
      "Requirement already satisfied: rich in /home/xr/miniconda3/envs/xr/lib/python3.11/site-packages (from xiaoranli_quiz==1.1.0) (13.7.1)\n",
      "Requirement already satisfied: RestrictedPython in /home/xr/miniconda3/envs/xr/lib/python3.11/site-packages (from xiaoranli_quiz==1.1.0) (7.1)\n",
      "Requirement already satisfied: jupyterlab in /home/xr/miniconda3/envs/xr/lib/python3.11/site-packages (from xiaoranli_quiz==1.1.0) (4.2.3)\n",
      "Requirement already satisfied: notebook in /home/xr/miniconda3/envs/xr/lib/python3.11/site-packages (from xiaoranli_quiz==1.1.0) (7.2.1)\n",
      "Requirement already satisfied: async-lru>=1.0.0 in /home/xr/miniconda3/envs/xr/lib/python3.11/site-packages (from jupyterlab->xiaoranli_quiz==1.1.0) (2.0.4)\n",
      "Requirement already satisfied: httpx>=0.25.0 in /home/xr/miniconda3/envs/xr/lib/python3.11/site-packages (from jupyterlab->xiaoranli_quiz==1.1.0) (0.27.0)\n",
      "Requirement already satisfied: ipykernel>=6.5.0 in /home/xr/miniconda3/envs/xr/lib/python3.11/site-packages (from jupyterlab->xiaoranli_quiz==1.1.0) (6.29.5)\n",
      "Requirement already satisfied: jinja2>=3.0.3 in /home/xr/miniconda3/envs/xr/lib/python3.11/site-packages (from jupyterlab->xiaoranli_quiz==1.1.0) (3.1.3)\n",
      "Requirement already satisfied: jupyter-core in /home/xr/miniconda3/envs/xr/lib/python3.11/site-packages (from jupyterlab->xiaoranli_quiz==1.1.0) (5.7.2)\n",
      "Requirement already satisfied: jupyter-lsp>=2.0.0 in /home/xr/miniconda3/envs/xr/lib/python3.11/site-packages (from jupyterlab->xiaoranli_quiz==1.1.0) (2.2.5)\n",
      "Requirement already satisfied: jupyter-server<3,>=2.4.0 in /home/xr/miniconda3/envs/xr/lib/python3.11/site-packages (from jupyterlab->xiaoranli_quiz==1.1.0) (2.14.1)\n",
      "Requirement already satisfied: jupyterlab-server<3,>=2.27.1 in /home/xr/miniconda3/envs/xr/lib/python3.11/site-packages (from jupyterlab->xiaoranli_quiz==1.1.0) (2.27.2)\n",
      "Requirement already satisfied: notebook-shim>=0.2 in /home/xr/miniconda3/envs/xr/lib/python3.11/site-packages (from jupyterlab->xiaoranli_quiz==1.1.0) (0.2.4)\n",
      "Requirement already satisfied: packaging in /home/xr/miniconda3/envs/xr/lib/python3.11/site-packages (from jupyterlab->xiaoranli_quiz==1.1.0) (24.0)\n",
      "Requirement already satisfied: setuptools>=40.1.0 in /home/xr/miniconda3/envs/xr/lib/python3.11/site-packages (from jupyterlab->xiaoranli_quiz==1.1.0) (69.5.1)\n",
      "Requirement already satisfied: tornado>=6.2.0 in /home/xr/miniconda3/envs/xr/lib/python3.11/site-packages (from jupyterlab->xiaoranli_quiz==1.1.0) (6.4.1)\n",
      "Requirement already satisfied: traitlets in /home/xr/miniconda3/envs/xr/lib/python3.11/site-packages (from jupyterlab->xiaoranli_quiz==1.1.0) (5.14.3)\n",
      "Requirement already satisfied: wcwidth in /home/xr/miniconda3/envs/xr/lib/python3.11/site-packages (from prompt_toolkit->xiaoranli_quiz==1.1.0) (0.2.13)\n",
      "Requirement already satisfied: markdown-it-py>=2.2.0 in /home/xr/miniconda3/envs/xr/lib/python3.11/site-packages (from rich->xiaoranli_quiz==1.1.0) (3.0.0)\n",
      "Requirement already satisfied: pygments<3.0.0,>=2.13.0 in /home/xr/miniconda3/envs/xr/lib/python3.11/site-packages (from rich->xiaoranli_quiz==1.1.0) (2.17.2)\n",
      "Requirement already satisfied: filelock in /home/xr/miniconda3/envs/xr/lib/python3.11/site-packages (from torch->xiaoranli_quiz==1.1.0) (3.14.0)\n",
      "Requirement already satisfied: typing-extensions>=4.8.0 in /home/xr/miniconda3/envs/xr/lib/python3.11/site-packages (from torch->xiaoranli_quiz==1.1.0) (4.11.0)\n",
      "Requirement already satisfied: sympy in /home/xr/miniconda3/envs/xr/lib/python3.11/site-packages (from torch->xiaoranli_quiz==1.1.0) (1.12)\n",
      "Requirement already satisfied: networkx in /home/xr/miniconda3/envs/xr/lib/python3.11/site-packages (from torch->xiaoranli_quiz==1.1.0) (3.2.1)\n",
      "Requirement already satisfied: fsspec in /home/xr/miniconda3/envs/xr/lib/python3.11/site-packages (from torch->xiaoranli_quiz==1.1.0) (2024.3.1)\n",
      "Requirement already satisfied: anyio in /home/xr/miniconda3/envs/xr/lib/python3.11/site-packages (from httpx>=0.25.0->jupyterlab->xiaoranli_quiz==1.1.0) (4.3.0)\n",
      "Requirement already satisfied: certifi in /home/xr/miniconda3/envs/xr/lib/python3.11/site-packages (from httpx>=0.25.0->jupyterlab->xiaoranli_quiz==1.1.0) (2024.2.2)\n",
      "Requirement already satisfied: httpcore==1.* in /home/xr/miniconda3/envs/xr/lib/python3.11/site-packages (from httpx>=0.25.0->jupyterlab->xiaoranli_quiz==1.1.0) (1.0.5)\n",
      "Requirement already satisfied: idna in /home/xr/miniconda3/envs/xr/lib/python3.11/site-packages (from httpx>=0.25.0->jupyterlab->xiaoranli_quiz==1.1.0) (3.7)\n",
      "Requirement already satisfied: sniffio in /home/xr/miniconda3/envs/xr/lib/python3.11/site-packages (from httpx>=0.25.0->jupyterlab->xiaoranli_quiz==1.1.0) (1.3.1)\n",
      "Requirement already satisfied: h11<0.15,>=0.13 in /home/xr/miniconda3/envs/xr/lib/python3.11/site-packages (from httpcore==1.*->httpx>=0.25.0->jupyterlab->xiaoranli_quiz==1.1.0) (0.14.0)\n",
      "Requirement already satisfied: comm>=0.1.1 in /home/xr/miniconda3/envs/xr/lib/python3.11/site-packages (from ipykernel>=6.5.0->jupyterlab->xiaoranli_quiz==1.1.0) (0.2.2)\n",
      "Requirement already satisfied: debugpy>=1.6.5 in /home/xr/miniconda3/envs/xr/lib/python3.11/site-packages (from ipykernel>=6.5.0->jupyterlab->xiaoranli_quiz==1.1.0) (1.8.2)\n",
      "Requirement already satisfied: ipython>=7.23.1 in /home/xr/miniconda3/envs/xr/lib/python3.11/site-packages (from ipykernel>=6.5.0->jupyterlab->xiaoranli_quiz==1.1.0) (8.26.0)\n",
      "Requirement already satisfied: jupyter-client>=6.1.12 in /home/xr/miniconda3/envs/xr/lib/python3.11/site-packages (from ipykernel>=6.5.0->jupyterlab->xiaoranli_quiz==1.1.0) (8.6.2)\n",
      "Requirement already satisfied: matplotlib-inline>=0.1 in /home/xr/miniconda3/envs/xr/lib/python3.11/site-packages (from ipykernel>=6.5.0->jupyterlab->xiaoranli_quiz==1.1.0) (0.1.7)\n",
      "Requirement already satisfied: nest-asyncio in /home/xr/miniconda3/envs/xr/lib/python3.11/site-packages (from ipykernel>=6.5.0->jupyterlab->xiaoranli_quiz==1.1.0) (1.6.0)\n",
      "Requirement already satisfied: psutil in /home/xr/miniconda3/envs/xr/lib/python3.11/site-packages (from ipykernel>=6.5.0->jupyterlab->xiaoranli_quiz==1.1.0) (6.0.0)\n",
      "Requirement already satisfied: pyzmq>=24 in /home/xr/miniconda3/envs/xr/lib/python3.11/site-packages (from ipykernel>=6.5.0->jupyterlab->xiaoranli_quiz==1.1.0) (26.0.3)\n",
      "Requirement already satisfied: MarkupSafe>=2.0 in /home/xr/miniconda3/envs/xr/lib/python3.11/site-packages (from jinja2>=3.0.3->jupyterlab->xiaoranli_quiz==1.1.0) (2.1.5)\n",
      "Requirement already satisfied: platformdirs>=2.5 in /home/xr/miniconda3/envs/xr/lib/python3.11/site-packages (from jupyter-core->jupyterlab->xiaoranli_quiz==1.1.0) (4.2.2)\n",
      "Requirement already satisfied: argon2-cffi>=21.1 in /home/xr/miniconda3/envs/xr/lib/python3.11/site-packages (from jupyter-server<3,>=2.4.0->jupyterlab->xiaoranli_quiz==1.1.0) (23.1.0)\n",
      "Requirement already satisfied: jupyter-events>=0.9.0 in /home/xr/miniconda3/envs/xr/lib/python3.11/site-packages (from jupyter-server<3,>=2.4.0->jupyterlab->xiaoranli_quiz==1.1.0) (0.10.0)\n",
      "Requirement already satisfied: jupyter-server-terminals>=0.4.4 in /home/xr/miniconda3/envs/xr/lib/python3.11/site-packages (from jupyter-server<3,>=2.4.0->jupyterlab->xiaoranli_quiz==1.1.0) (0.5.3)\n",
      "Requirement already satisfied: nbconvert>=6.4.4 in /home/xr/miniconda3/envs/xr/lib/python3.11/site-packages (from jupyter-server<3,>=2.4.0->jupyterlab->xiaoranli_quiz==1.1.0) (7.16.4)\n",
      "Requirement already satisfied: nbformat>=5.3.0 in /home/xr/miniconda3/envs/xr/lib/python3.11/site-packages (from jupyter-server<3,>=2.4.0->jupyterlab->xiaoranli_quiz==1.1.0) (5.10.4)\n",
      "Requirement already satisfied: overrides>=5.0 in /home/xr/miniconda3/envs/xr/lib/python3.11/site-packages (from jupyter-server<3,>=2.4.0->jupyterlab->xiaoranli_quiz==1.1.0) (7.7.0)\n",
      "Requirement already satisfied: prometheus-client>=0.9 in /home/xr/miniconda3/envs/xr/lib/python3.11/site-packages (from jupyter-server<3,>=2.4.0->jupyterlab->xiaoranli_quiz==1.1.0) (0.20.0)\n",
      "Requirement already satisfied: send2trash>=1.8.2 in /home/xr/miniconda3/envs/xr/lib/python3.11/site-packages (from jupyter-server<3,>=2.4.0->jupyterlab->xiaoranli_quiz==1.1.0) (1.8.3)\n",
      "Requirement already satisfied: terminado>=0.8.3 in /home/xr/miniconda3/envs/xr/lib/python3.11/site-packages (from jupyter-server<3,>=2.4.0->jupyterlab->xiaoranli_quiz==1.1.0) (0.18.1)\n",
      "Requirement already satisfied: websocket-client>=1.7 in /home/xr/miniconda3/envs/xr/lib/python3.11/site-packages (from jupyter-server<3,>=2.4.0->jupyterlab->xiaoranli_quiz==1.1.0) (1.8.0)\n",
      "Requirement already satisfied: babel>=2.10 in /home/xr/miniconda3/envs/xr/lib/python3.11/site-packages (from jupyterlab-server<3,>=2.27.1->jupyterlab->xiaoranli_quiz==1.1.0) (2.15.0)\n",
      "Requirement already satisfied: json5>=0.9.0 in /home/xr/miniconda3/envs/xr/lib/python3.11/site-packages (from jupyterlab-server<3,>=2.27.1->jupyterlab->xiaoranli_quiz==1.1.0) (0.9.25)\n",
      "Requirement already satisfied: jsonschema>=4.18.0 in /home/xr/miniconda3/envs/xr/lib/python3.11/site-packages (from jupyterlab-server<3,>=2.27.1->jupyterlab->xiaoranli_quiz==1.1.0) (4.22.0)\n",
      "Requirement already satisfied: requests>=2.31 in /home/xr/miniconda3/envs/xr/lib/python3.11/site-packages (from jupyterlab-server<3,>=2.27.1->jupyterlab->xiaoranli_quiz==1.1.0) (2.32.2)\n",
      "Requirement already satisfied: mdurl~=0.1 in /home/xr/miniconda3/envs/xr/lib/python3.11/site-packages (from markdown-it-py>=2.2.0->rich->xiaoranli_quiz==1.1.0) (0.1.2)\n",
      "Requirement already satisfied: mpmath>=0.19 in /home/xr/miniconda3/envs/xr/lib/python3.11/site-packages (from sympy->torch->xiaoranli_quiz==1.1.0) (1.3.0)\n",
      "Requirement already satisfied: argon2-cffi-bindings in /home/xr/miniconda3/envs/xr/lib/python3.11/site-packages (from argon2-cffi>=21.1->jupyter-server<3,>=2.4.0->jupyterlab->xiaoranli_quiz==1.1.0) (21.2.0)\n",
      "Requirement already satisfied: decorator in /home/xr/miniconda3/envs/xr/lib/python3.11/site-packages (from ipython>=7.23.1->ipykernel>=6.5.0->jupyterlab->xiaoranli_quiz==1.1.0) (5.1.1)\n",
      "Requirement already satisfied: jedi>=0.16 in /home/xr/miniconda3/envs/xr/lib/python3.11/site-packages (from ipython>=7.23.1->ipykernel>=6.5.0->jupyterlab->xiaoranli_quiz==1.1.0) (0.19.1)\n",
      "Requirement already satisfied: stack-data in /home/xr/miniconda3/envs/xr/lib/python3.11/site-packages (from ipython>=7.23.1->ipykernel>=6.5.0->jupyterlab->xiaoranli_quiz==1.1.0) (0.6.3)\n",
      "Requirement already satisfied: pexpect>4.3 in /home/xr/miniconda3/envs/xr/lib/python3.11/site-packages (from ipython>=7.23.1->ipykernel>=6.5.0->jupyterlab->xiaoranli_quiz==1.1.0) (4.9.0)\n",
      "Requirement already satisfied: attrs>=22.2.0 in /home/xr/miniconda3/envs/xr/lib/python3.11/site-packages (from jsonschema>=4.18.0->jupyterlab-server<3,>=2.27.1->jupyterlab->xiaoranli_quiz==1.1.0) (23.2.0)\n",
      "Requirement already satisfied: jsonschema-specifications>=2023.03.6 in /home/xr/miniconda3/envs/xr/lib/python3.11/site-packages (from jsonschema>=4.18.0->jupyterlab-server<3,>=2.27.1->jupyterlab->xiaoranli_quiz==1.1.0) (2023.12.1)\n",
      "Requirement already satisfied: referencing>=0.28.4 in /home/xr/miniconda3/envs/xr/lib/python3.11/site-packages (from jsonschema>=4.18.0->jupyterlab-server<3,>=2.27.1->jupyterlab->xiaoranli_quiz==1.1.0) (0.35.1)\n",
      "Requirement already satisfied: rpds-py>=0.7.1 in /home/xr/miniconda3/envs/xr/lib/python3.11/site-packages (from jsonschema>=4.18.0->jupyterlab-server<3,>=2.27.1->jupyterlab->xiaoranli_quiz==1.1.0) (0.18.1)\n",
      "Requirement already satisfied: python-dateutil>=2.8.2 in /home/xr/miniconda3/envs/xr/lib/python3.11/site-packages (from jupyter-client>=6.1.12->ipykernel>=6.5.0->jupyterlab->xiaoranli_quiz==1.1.0) (2.9.0.post0)\n",
      "Requirement already satisfied: python-json-logger>=2.0.4 in /home/xr/miniconda3/envs/xr/lib/python3.11/site-packages (from jupyter-events>=0.9.0->jupyter-server<3,>=2.4.0->jupyterlab->xiaoranli_quiz==1.1.0) (2.0.7)\n",
      "Requirement already satisfied: pyyaml>=5.3 in /home/xr/miniconda3/envs/xr/lib/python3.11/site-packages (from jupyter-events>=0.9.0->jupyter-server<3,>=2.4.0->jupyterlab->xiaoranli_quiz==1.1.0) (6.0.1)\n",
      "Requirement already satisfied: rfc3339-validator in /home/xr/miniconda3/envs/xr/lib/python3.11/site-packages (from jupyter-events>=0.9.0->jupyter-server<3,>=2.4.0->jupyterlab->xiaoranli_quiz==1.1.0) (0.1.4)\n",
      "Requirement already satisfied: rfc3986-validator>=0.1.1 in /home/xr/miniconda3/envs/xr/lib/python3.11/site-packages (from jupyter-events>=0.9.0->jupyter-server<3,>=2.4.0->jupyterlab->xiaoranli_quiz==1.1.0) (0.1.1)\n",
      "Requirement already satisfied: beautifulsoup4 in /home/xr/miniconda3/envs/xr/lib/python3.11/site-packages (from nbconvert>=6.4.4->jupyter-server<3,>=2.4.0->jupyterlab->xiaoranli_quiz==1.1.0) (4.12.3)\n",
      "Requirement already satisfied: bleach!=5.0.0 in /home/xr/miniconda3/envs/xr/lib/python3.11/site-packages (from nbconvert>=6.4.4->jupyter-server<3,>=2.4.0->jupyterlab->xiaoranli_quiz==1.1.0) (6.1.0)\n",
      "Requirement already satisfied: defusedxml in /home/xr/miniconda3/envs/xr/lib/python3.11/site-packages (from nbconvert>=6.4.4->jupyter-server<3,>=2.4.0->jupyterlab->xiaoranli_quiz==1.1.0) (0.7.1)\n",
      "Requirement already satisfied: jupyterlab-pygments in /home/xr/miniconda3/envs/xr/lib/python3.11/site-packages (from nbconvert>=6.4.4->jupyter-server<3,>=2.4.0->jupyterlab->xiaoranli_quiz==1.1.0) (0.3.0)\n",
      "Requirement already satisfied: mistune<4,>=2.0.3 in /home/xr/miniconda3/envs/xr/lib/python3.11/site-packages (from nbconvert>=6.4.4->jupyter-server<3,>=2.4.0->jupyterlab->xiaoranli_quiz==1.1.0) (3.0.2)\n",
      "Requirement already satisfied: nbclient>=0.5.0 in /home/xr/miniconda3/envs/xr/lib/python3.11/site-packages (from nbconvert>=6.4.4->jupyter-server<3,>=2.4.0->jupyterlab->xiaoranli_quiz==1.1.0) (0.10.0)\n",
      "Requirement already satisfied: pandocfilters>=1.4.1 in /home/xr/miniconda3/envs/xr/lib/python3.11/site-packages (from nbconvert>=6.4.4->jupyter-server<3,>=2.4.0->jupyterlab->xiaoranli_quiz==1.1.0) (1.5.1)\n",
      "Requirement already satisfied: tinycss2 in /home/xr/miniconda3/envs/xr/lib/python3.11/site-packages (from nbconvert>=6.4.4->jupyter-server<3,>=2.4.0->jupyterlab->xiaoranli_quiz==1.1.0) (1.3.0)\n",
      "Requirement already satisfied: fastjsonschema>=2.15 in /home/xr/miniconda3/envs/xr/lib/python3.11/site-packages (from nbformat>=5.3.0->jupyter-server<3,>=2.4.0->jupyterlab->xiaoranli_quiz==1.1.0) (2.20.0)\n",
      "Requirement already satisfied: charset-normalizer<4,>=2 in /home/xr/miniconda3/envs/xr/lib/python3.11/site-packages (from requests>=2.31->jupyterlab-server<3,>=2.27.1->jupyterlab->xiaoranli_quiz==1.1.0) (3.3.2)\n",
      "Requirement already satisfied: urllib3<3,>=1.21.1 in /home/xr/miniconda3/envs/xr/lib/python3.11/site-packages (from requests>=2.31->jupyterlab-server<3,>=2.27.1->jupyterlab->xiaoranli_quiz==1.1.0) (2.2.1)\n",
      "Requirement already satisfied: ptyprocess in /home/xr/miniconda3/envs/xr/lib/python3.11/site-packages (from terminado>=0.8.3->jupyter-server<3,>=2.4.0->jupyterlab->xiaoranli_quiz==1.1.0) (0.7.0)\n",
      "Requirement already satisfied: six>=1.9.0 in /home/xr/miniconda3/envs/xr/lib/python3.11/site-packages (from bleach!=5.0.0->nbconvert>=6.4.4->jupyter-server<3,>=2.4.0->jupyterlab->xiaoranli_quiz==1.1.0) (1.16.0)\n",
      "Requirement already satisfied: webencodings in /home/xr/miniconda3/envs/xr/lib/python3.11/site-packages (from bleach!=5.0.0->nbconvert>=6.4.4->jupyter-server<3,>=2.4.0->jupyterlab->xiaoranli_quiz==1.1.0) (0.5.1)\n",
      "Requirement already satisfied: parso<0.9.0,>=0.8.3 in /home/xr/miniconda3/envs/xr/lib/python3.11/site-packages (from jedi>=0.16->ipython>=7.23.1->ipykernel>=6.5.0->jupyterlab->xiaoranli_quiz==1.1.0) (0.8.4)\n",
      "Requirement already satisfied: fqdn in /home/xr/miniconda3/envs/xr/lib/python3.11/site-packages (from jsonschema[format-nongpl]>=4.18.0->jupyter-events>=0.9.0->jupyter-server<3,>=2.4.0->jupyterlab->xiaoranli_quiz==1.1.0) (1.5.1)\n",
      "Requirement already satisfied: isoduration in /home/xr/miniconda3/envs/xr/lib/python3.11/site-packages (from jsonschema[format-nongpl]>=4.18.0->jupyter-events>=0.9.0->jupyter-server<3,>=2.4.0->jupyterlab->xiaoranli_quiz==1.1.0) (20.11.0)\n",
      "Requirement already satisfied: jsonpointer>1.13 in /home/xr/miniconda3/envs/xr/lib/python3.11/site-packages (from jsonschema[format-nongpl]>=4.18.0->jupyter-events>=0.9.0->jupyter-server<3,>=2.4.0->jupyterlab->xiaoranli_quiz==1.1.0) (3.0.0)\n",
      "Requirement already satisfied: uri-template in /home/xr/miniconda3/envs/xr/lib/python3.11/site-packages (from jsonschema[format-nongpl]>=4.18.0->jupyter-events>=0.9.0->jupyter-server<3,>=2.4.0->jupyterlab->xiaoranli_quiz==1.1.0) (1.3.0)\n",
      "Requirement already satisfied: webcolors>=1.11 in /home/xr/miniconda3/envs/xr/lib/python3.11/site-packages (from jsonschema[format-nongpl]>=4.18.0->jupyter-events>=0.9.0->jupyter-server<3,>=2.4.0->jupyterlab->xiaoranli_quiz==1.1.0) (24.6.0)\n",
      "Requirement already satisfied: cffi>=1.0.1 in /home/xr/miniconda3/envs/xr/lib/python3.11/site-packages (from argon2-cffi-bindings->argon2-cffi>=21.1->jupyter-server<3,>=2.4.0->jupyterlab->xiaoranli_quiz==1.1.0) (1.16.0)\n",
      "Requirement already satisfied: soupsieve>1.2 in /home/xr/miniconda3/envs/xr/lib/python3.11/site-packages (from beautifulsoup4->nbconvert>=6.4.4->jupyter-server<3,>=2.4.0->jupyterlab->xiaoranli_quiz==1.1.0) (2.5)\n",
      "Requirement already satisfied: executing>=1.2.0 in /home/xr/miniconda3/envs/xr/lib/python3.11/site-packages (from stack-data->ipython>=7.23.1->ipykernel>=6.5.0->jupyterlab->xiaoranli_quiz==1.1.0) (2.0.1)\n",
      "Requirement already satisfied: asttokens>=2.1.0 in /home/xr/miniconda3/envs/xr/lib/python3.11/site-packages (from stack-data->ipython>=7.23.1->ipykernel>=6.5.0->jupyterlab->xiaoranli_quiz==1.1.0) (2.4.1)\n",
      "Requirement already satisfied: pure-eval in /home/xr/miniconda3/envs/xr/lib/python3.11/site-packages (from stack-data->ipython>=7.23.1->ipykernel>=6.5.0->jupyterlab->xiaoranli_quiz==1.1.0) (0.2.2)\n",
      "Requirement already satisfied: pycparser in /home/xr/miniconda3/envs/xr/lib/python3.11/site-packages (from cffi>=1.0.1->argon2-cffi-bindings->argon2-cffi>=21.1->jupyter-server<3,>=2.4.0->jupyterlab->xiaoranli_quiz==1.1.0) (2.22)\n",
      "Requirement already satisfied: arrow>=0.15.0 in /home/xr/miniconda3/envs/xr/lib/python3.11/site-packages (from isoduration->jsonschema[format-nongpl]>=4.18.0->jupyter-events>=0.9.0->jupyter-server<3,>=2.4.0->jupyterlab->xiaoranli_quiz==1.1.0) (1.3.0)\n",
      "Requirement already satisfied: types-python-dateutil>=2.8.10 in /home/xr/miniconda3/envs/xr/lib/python3.11/site-packages (from arrow>=0.15.0->isoduration->jsonschema[format-nongpl]>=4.18.0->jupyter-events>=0.9.0->jupyter-server<3,>=2.4.0->jupyterlab->xiaoranli_quiz==1.1.0) (2.9.0.20240316)\n",
      "Installing collected packages: xiaoranli_quiz\n",
      "  Attempting uninstall: xiaoranli_quiz\n",
      "    Found existing installation: xiaoranli_quiz 1.1.0\n",
      "    Uninstalling xiaoranli_quiz-1.1.0:\n",
      "      Successfully uninstalled xiaoranli_quiz-1.1.0\n",
      "  Running setup.py develop for xiaoranli_quiz\n",
      "Successfully installed xiaoranli_quiz-1.1.0\n",
      "Note: you may need to restart the kernel to use updated packages.\n"
     ]
    }
   ],
   "source": [
    "%pip install -e ../.."
   ]
  },
  {
   "cell_type": "code",
   "execution_count": 2,
   "metadata": {},
   "outputs": [],
   "source": [
    "# This is for Tree practice\n",
    "from xiaoranli_quiz import xrTree\n",
    "\n",
    "sampleTree = xrTree(1)\n",
    "sampleTree.left = xrTree(2)\n",
    "sampleTree.right = xrTree(3)\n",
    "sampleTree.left.left = xrTree(4)\n",
    "sampleTree.left.right = xrTree(5)\n",
    "# 构建二叉树\n",
    "#      1\n",
    "#     / \\\n",
    "#    2   3\n",
    "#   / \\\n",
    "#  4  5\n"
   ]
  },
  {
   "cell_type": "code",
   "execution_count": 3,
   "metadata": {},
   "outputs": [
    {
     "name": "stdout",
     "output_type": "stream",
     "text": [
      "1\n",
      "2\n",
      "4\n",
      "5\n",
      "3\n"
     ]
    }
   ],
   "source": [
    "# pre-order traversal, root -> left -> right\n",
    "# 1 2 4 5 3\n",
    "def pre_order_traversal(tree):\n",
    "    if tree:\n",
    "        print(tree.value)\n",
    "        pre_order_traversal(tree.left)\n",
    "        pre_order_traversal(tree.right)\n",
    "\n",
    "pre_order_traversal(sampleTree)"
   ]
  },
  {
   "cell_type": "code",
   "execution_count": null,
   "metadata": {},
   "outputs": [],
   "source": [
    "def pre_order_traversal_iterative(tree):\n",
    "    s = [tree]\n",
    "\n",
    "    while len(s):\n",
    "        node = s.pop()\n",
    "        print(node.value)\n",
    "        if node.right:\n",
    "            s.append(node.right)\n",
    "        if node.left:\n",
    "            s.append(node.left)\n",
    "\n",
    "\n",
    "pre_order_traversal_iterative(sampleTree)"
   ]
  },
  {
   "cell_type": "code",
   "execution_count": null,
   "metadata": {},
   "outputs": [],
   "source": [
    "# in-order, left -> root -> right\n",
    "# 4, 2, 5, 1, 3\n",
    "\n",
    "def in_order_traversal(tree):\n",
    "    if tree:\n",
    "        in_order_traversal(tree.left)\n",
    "        print(tree.value)\n",
    "        in_order_traversal(tree.right)\n",
    "\n",
    "in_order_traversal(sampleTree)"
   ]
  },
  {
   "cell_type": "code",
   "execution_count": null,
   "metadata": {},
   "outputs": [],
   "source": [
    "def in_order_traversal_iterative(tree):\n",
    "    s = []\n",
    "    cur = tree\n",
    "\n",
    "    while cur or s:\n",
    "        while cur:\n",
    "            s.append(cur)\n",
    "            cur = cur.left\n",
    "\n",
    "        node = s.pop()\n",
    "        print(node.value)\n",
    "        cur = node.right\n",
    "\n",
    "in_order_traversal_iterative(sampleTree)"
   ]
  },
  {
   "cell_type": "code",
   "execution_count": null,
   "metadata": {},
   "outputs": [],
   "source": [
    "def post_order_traversal(tree):\n",
    "    if tree:\n",
    "        post_order_traversal(tree.left)\n",
    "        post_order_traversal(tree.right)\n",
    "        print(tree.value)\n",
    "\n",
    "post_order_traversal(sampleTree)"
   ]
  },
  {
   "cell_type": "code",
   "execution_count": null,
   "metadata": {},
   "outputs": [],
   "source": [
    "# def post_order_traversal_iterative(tree):"
   ]
  }
 ],
 "metadata": {
  "kernelspec": {
   "display_name": "Python 3 (ipykernel)",
   "language": "python",
   "name": "python3"
  },
  "language_info": {
   "codemirror_mode": {
    "name": "ipython",
    "version": 3
   },
   "file_extension": ".py",
   "mimetype": "text/x-python",
   "name": "python",
   "nbconvert_exporter": "python",
   "pygments_lexer": "ipython3",
   "version": "3.11.9"
  }
 },
 "nbformat": 4,
 "nbformat_minor": 4
}
