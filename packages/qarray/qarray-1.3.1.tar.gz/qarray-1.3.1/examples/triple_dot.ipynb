{
 "cells": [
  {
   "metadata": {},
   "cell_type": "markdown",
   "source": "",
   "id": "60ba35094b84a422"
  },
  {
   "cell_type": "code",
   "id": "initial_id",
   "metadata": {
    "collapsed": true,
    "ExecuteTime": {
     "end_time": "2024-05-13T13:41:56.025934Z",
     "start_time": "2024-05-13T13:41:54.698225Z"
    }
   },
   "source": [
    "import time\n",
    "import matplotlib.pyplot as plt\n",
    "\n",
    "from qarray import (DotArray, GateVoltageComposer, dot_occupation_changes)"
   ],
   "execution_count": 1,
   "outputs": []
  },
  {
   "metadata": {
    "ExecuteTime": {
     "end_time": "2024-05-13T13:41:56.031828Z",
     "start_time": "2024-05-13T13:41:56.027014Z"
    }
   },
   "cell_type": "code",
   "source": [
    "# setting up the constant capacitance model_threshold_1\n",
    "model = DotArray(\n",
    "    Cdd=[\n",
    "        [0., 0.1, 0.05],\n",
    "        [0.1, 0., 0.1],\n",
    "        [0.05, 0.1, 0]\n",
    "    ],\n",
    "    Cgd=[\n",
    "        [1., 0.2, 0.05],\n",
    "        [0.2, 1., 0.2],\n",
    "        [0.05, 0.2, 1]\n",
    "    ],\n",
    "    algorithm='default',\n",
    "    implementation='rust',\n",
    "    T=0.0\n",
    ")\n",
    "\n",
    "voltage_composer = GateVoltageComposer(n_gate=model.n_gate)\n"
   ],
   "id": "433b3691c25e5baa",
   "execution_count": 2,
   "outputs": []
  },
  {
   "metadata": {
    "ExecuteTime": {
     "end_time": "2024-05-13T13:41:56.035498Z",
     "start_time": "2024-05-13T13:41:56.032537Z"
    }
   },
   "cell_type": "code",
   "source": [
    "# using the dot voltage composer to create the dot voltage array for the 2d sweep\n",
    "vg = voltage_composer.do2d(\n",
    "    x_gate=0, x_min = -10, x_max = 5, x_res = 400,\n",
    "    y_gate=2, y_min = -10, y_max = 5, y_res = 400\n",
    ")"
   ],
   "id": "6f75223d6cd3f24",
   "execution_count": 3,
   "outputs": []
  },
  {
   "metadata": {
    "ExecuteTime": {
     "end_time": "2024-05-13T13:41:56.416958Z",
     "start_time": "2024-05-13T13:41:56.036767Z"
    }
   },
   "cell_type": "code",
   "source": [
    "# calculating the dot occupation changes for the 2d sweep for an open double dot \n",
    "t0 = time.time()\n",
    "n = model.ground_state_open(vg)  # computing the ground state by calling the function\n",
    "t1 = time.time()\n",
    "print(f'Elapsed time: {t1 - t0:.2f} s or one pixel every { 1e6 * (t1 - t0) / (vg.size // 2)} us')\n",
    "\n",
    "z = dot_occupation_changes(n)  # computing when the dot occupation changes\n",
    "\n",
    "plt.imshow(z, extent=(vg[..., 0].min(), vg[..., 0].max(), vg[..., 2].min(), vg[..., 2].max()), origin='lower', cmap='binary')\n",
    "plt.title('Triple dot array, open')\n",
    "plt.xlabel('Vg0 (V)')\n",
    "plt.ylabel('Vg2 (V)')"
   ],
   "id": "2218463f9e18a09a",
   "execution_count": 4,
   "outputs": []
  },
  {
   "metadata": {
    "ExecuteTime": {
     "end_time": "2024-05-13T13:41:56.865193Z",
     "start_time": "2024-05-13T13:41:56.417669Z"
    }
   },
   "cell_type": "code",
   "source": [
    "# calculating the dot occupation changes for the 2d sweep for an closed double dot containing 2 holes \n",
    "t0 = time.time()\n",
    "n = model.ground_state_closed(vg, n_charges=3)  # computing the ground state by calling the function\n",
    "t1 = time.time()\n",
    "print(f'Elapsed time: {t1 - t0:.2f} s or one pixel every { 1e6 * (t1 - t0) / (vg.size // 2) :.2f} us')\n",
    "\n",
    "z = dot_occupation_changes(n)  # computing when the dot occupation changes\n",
    "\n",
    "plt.imshow(z, extent=(vg[..., 0].min(), vg[..., 0].max(), vg[..., 2].min(), vg[..., 2].max()), origin='lower', cmap='binary')\n",
    "plt.title('Triple dot array, closed 3 holes')\n",
    "plt.xlabel('Vg0 (V)')\n",
    "plt.ylabel('Vg2 (V)')"
   ],
   "id": "270ce317b1ed9212",
   "execution_count": 5,
   "outputs": []
  }
 ],
 "metadata": {
  "kernelspec": {
   "display_name": "Python 3",
   "language": "python",
   "name": "python3"
  },
  "language_info": {
   "codemirror_mode": {
    "name": "ipython",
    "version": 2
   },
   "file_extension": ".py",
   "mimetype": "text/x-python",
   "name": "python",
   "nbconvert_exporter": "python",
   "pygments_lexer": "ipython2",
   "version": "2.7.6"
  }
 },
 "nbformat": 4,
 "nbformat_minor": 5
}
