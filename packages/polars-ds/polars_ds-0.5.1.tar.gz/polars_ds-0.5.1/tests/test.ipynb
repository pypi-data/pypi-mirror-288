{
 "cells": [
  {
   "cell_type": "code",
   "execution_count": null,
   "metadata": {},
   "outputs": [],
   "source": [
    "import polars as pl\n",
    "import polars_ds as pds\n",
    "# Requires version >= v0.5.1\n",
    "print(pds.__version__)"
   ]
  },
  {
   "cell_type": "code",
   "execution_count": null,
   "metadata": {},
   "outputs": [],
   "source": [
    "df = pl.DataFrame({\n",
    "    \"id\": [0, 1, 2, 3, 4, 5],\n",
    "    \"values\": [0, 1, 2, 3, 4, 5],\n",
    "    \"a\": [0.1, 1, 10, 100, float('nan'), 1.0],\n",
    "    \"b\": [0.15, 1.5, 15, 150, 1.0, None],\n",
    "    \"c\": [0.12, 1.2, 12, 120, 2.0, 2.0],\n",
    "})\n",
    "df"
   ]
  },
  {
   "cell_type": "code",
   "execution_count": null,
   "metadata": {},
   "outputs": [],
   "source": [
    "df.select(\n",
    "    pl.col(\"id\").cast(pl.Float64),\n",
    "    pds.query_knn_ptwise(\n",
    "        \"a\", \"b\", \"c\",\n",
    "        index = \"id\",\n",
    "        k = 2,\n",
    "        dist = \"sql2\",\n",
    "    ).alias(\"avg\")\n",
    ")"
   ]
  },
  {
   "cell_type": "code",
   "execution_count": null,
   "metadata": {},
   "outputs": [],
   "source": [
    "df.select(\n",
    "    pl.col(\"id\").cast(pl.Float64),\n",
    "    pds.query_knn_avg(\n",
    "        \"a\", \"b\", \"c\",\n",
    "        target = \"id\",\n",
    "        k = 2,\n",
    "        dist = \"sql2\",\n",
    "        weighted = False,\n",
    "    ).alias(\"avg\")\n",
    ")"
   ]
  },
  {
   "cell_type": "code",
   "execution_count": null,
   "metadata": {},
   "outputs": [],
   "source": [
    "size = 1000\n",
    "df = pds.random_data(size=size, n_cols=0).select(\n",
    "    pds.random(0.0, 1.0).alias(\"x1\"),\n",
    "    pds.random(0.0, 1.0).alias(\"x2\"),\n",
    "    pds.random(0.0, 1.0).alias(\"x3\"),\n",
    "    pds.random(0.0, 1.0).alias(\"x4\"),\n",
    "    pds.random(0.0, 1.0).alias(\"x5\"),\n",
    "    pds.random(0.0, 1.0).alias(\"x6\"),\n",
    "    pl.when(pds.random(0.0, 1.0) < 0.1).then(None).otherwise(pds.random(0.0, 1.0)).alias(\"x7\"),\n",
    "    pds.random_int(0, 3).alias(\"categories\"),\n",
    "    id = pl.Series(values=list(range(size)))\n",
    ").with_columns(\n",
    "    pl.col(\"id\").cast(pl.UInt32),\n",
    "    y = pl.col(\"x1\") * 0.5 + pl.col(\"x2\") * 0.25 - pl.col(\"x3\") * 0.15 + pds.random() * 0.0001,\n",
    ")"
   ]
  },
  {
   "cell_type": "code",
   "execution_count": null,
   "metadata": {},
   "outputs": [],
   "source": [
    "window_size = 5\n",
    "\n",
    "df_test = df.select(\n",
    "    \"id\",\n",
    "    \"y\",\n",
    "    pds.query_rolling_lstsq(\n",
    "        \"x1\", \"x2\", \"x3\",\n",
    "        target = \"y\",\n",
    "        window_size = window_size,\n",
    "    ).alias(\"result\")\n",
    ").unnest(\"result\") # .limit(10)\n",
    "df_test = df_test.filter(\n",
    "    pl.col(\"id\") >= window_size - 1\n",
    ").select(\"coeffs\")\n",
    "df_test"
   ]
  },
  {
   "cell_type": "code",
   "execution_count": null,
   "metadata": {},
   "outputs": [],
   "source": [
    "results = []\n",
    "for i in range(len(df) - window_size + 1):\n",
    "    temp = df.slice(i, length = window_size)\n",
    "    results.append(\n",
    "        temp.select(\n",
    "            pds.query_lstsq(\n",
    "                \"x1\", \"x2\", \"x3\",\n",
    "                target = \"y\"\n",
    "            ).alias(\"coeffs\")\n",
    "        )\n",
    "    )\n",
    "\n",
    "df_answer = pl.concat(results)\n",
    "df_answer"
   ]
  },
  {
   "cell_type": "code",
   "execution_count": null,
   "metadata": {},
   "outputs": [],
   "source": [
    "from polars.testing import assert_frame_equal\n",
    "\n",
    "assert_frame_equal(df_test, df_answer)"
   ]
  },
  {
   "cell_type": "code",
   "execution_count": null,
   "metadata": {},
   "outputs": [],
   "source": []
  },
  {
   "cell_type": "code",
   "execution_count": null,
   "metadata": {},
   "outputs": [],
   "source": [
    "df.select(\n",
    "    pds.query_lstsq(\n",
    "        pl.col(\"x1\"), pl.col(\"x2\"), \n",
    "        target = \"y\",\n",
    "        skip_null = True\n",
    "    )\n",
    ")"
   ]
  },
  {
   "cell_type": "code",
   "execution_count": null,
   "metadata": {},
   "outputs": [],
   "source": [
    "df"
   ]
  },
  {
   "cell_type": "code",
   "execution_count": null,
   "metadata": {},
   "outputs": [],
   "source": [
    "df.select(\n",
    "    pds.query_knn_ptwise(\n",
    "        \"a\", \"b\", \"c\",\n",
    "        index = \"id\",\n",
    "        return_dist = True,\n",
    "        k = 2,\n",
    "        dist = \"sql2\",\n",
    "    ).alias(\"avg\")\n",
    ")"
   ]
  },
  {
   "cell_type": "code",
   "execution_count": null,
   "metadata": {},
   "outputs": [],
   "source": [
    "df.select(\n",
    "    pds.query_knn_avg(\n",
    "        \"a\", \"b\", \"c\",\n",
    "        target = \"id\",\n",
    "        k = 2,\n",
    "        dist = \"sql2\",\n",
    "    ).alias(\"avg\")\n",
    ")"
   ]
  },
  {
   "cell_type": "code",
   "execution_count": null,
   "metadata": {},
   "outputs": [],
   "source": [
    "df = pl.DataFrame({\n",
    "    \"friends\":[[0,1], [1,0], [2], [3]]\n",
    "})\n",
    "df"
   ]
  },
  {
   "cell_type": "code",
   "execution_count": null,
   "metadata": {},
   "outputs": [],
   "source": [
    "size = 1_000\n",
    "df = pds.random_data(size=size, n_cols=0).select(\n",
    "    pds.random(0.0, 1.0).alias(\"x1\"),\n",
    "    pds.random(0.0, 1.0).alias(\"x2\"),\n",
    "    pds.random(0.0, 1.0).alias(\"x3\"),\n",
    "    pds.random_int(0, 3).alias(\"categories\"),\n",
    "    id = pl.Series(values=list(range(size)))\n",
    ").with_columns(\n",
    "    pl.col(\"id\").cast(pl.UInt32),\n",
    "    y = pl.col(\"x1\") * 0.5 + pl.col(\"x2\") * 0.25 - pl.col(\"x3\") * 0.15 + pds.random() * 0.0001,\n",
    ")"
   ]
  },
  {
   "cell_type": "code",
   "execution_count": null,
   "metadata": {},
   "outputs": [],
   "source": [
    "# %%timeit\n",
    "df_recursive_lr = df.select(\n",
    "    \"y\",\n",
    "    pds.query_recursive_lstsq(\n",
    "        \"x1\", \"x2\", \"x3\",\n",
    "        target = \"y\",\n",
    "        start_at = 3,\n",
    "    ).alias(\"result\")\n",
    ").unnest(\"result\") # .limit(10)\n",
    "df_recursive_lr"
   ]
  },
  {
   "cell_type": "code",
   "execution_count": null,
   "metadata": {},
   "outputs": [],
   "source": [
    "df_recursive_lr[\"betas\"][3].to_numpy()"
   ]
  },
  {
   "cell_type": "code",
   "execution_count": null,
   "metadata": {},
   "outputs": [],
   "source": []
  }
 ],
 "metadata": {
  "kernelspec": {
   "display_name": ".venv",
   "language": "python",
   "name": "python3"
  },
  "language_info": {
   "codemirror_mode": {
    "name": "ipython",
    "version": 3
   },
   "file_extension": ".py",
   "mimetype": "text/x-python",
   "name": "python",
   "nbconvert_exporter": "python",
   "pygments_lexer": "ipython3",
   "version": "3.12.4"
  }
 },
 "nbformat": 4,
 "nbformat_minor": 2
}
