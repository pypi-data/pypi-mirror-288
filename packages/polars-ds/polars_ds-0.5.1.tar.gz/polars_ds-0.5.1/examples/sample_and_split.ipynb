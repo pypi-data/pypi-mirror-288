{
 "cells": [
  {
   "cell_type": "markdown",
   "metadata": {},
   "source": [
    "# Sampling and Splitting"
   ]
  },
  {
   "cell_type": "markdown",
   "metadata": {},
   "source": [
    "## Sampling\n",
    "\n",
    "Sampling for basic tabular datasets. (Not designed for time series as of now.)"
   ]
  },
  {
   "cell_type": "code",
   "execution_count": 1,
   "metadata": {},
   "outputs": [],
   "source": [
    "import polars as pl\n",
    "import polars_ds as pds\n",
    "import polars_ds.sample as sa"
   ]
  },
  {
   "cell_type": "code",
   "execution_count": 2,
   "metadata": {},
   "outputs": [
    {
     "data": {
      "text/html": [
       "<div><style>\n",
       ".dataframe > thead > tr,\n",
       ".dataframe > tbody > tr {\n",
       "  text-align: right;\n",
       "  white-space: pre-wrap;\n",
       "}\n",
       "</style>\n",
       "<small>shape: (5, 8)</small><table border=\"1\" class=\"dataframe\"><thead><tr><th>row_num</th><th>uniform_1</th><th>uniform_2</th><th>exp</th><th>normal</th><th>fat_normal</th><th>flags</th><th>category</th></tr><tr><td>i64</td><td>f64</td><td>f64</td><td>f64</td><td>f64</td><td>f64</td><td>i32</td><td>str</td></tr></thead><tbody><tr><td>0</td><td>11.277262</td><td>0.624632</td><td>2.761204</td><td>0.69013</td><td>-1454.347819</td><td>1</td><td>&quot;A&quot;</td></tr><tr><td>1</td><td>9.611818</td><td>0.039018</td><td>0.324864</td><td>2.089952</td><td>865.90957</td><td>1</td><td>&quot;A&quot;</td></tr><tr><td>2</td><td>2.614335</td><td>0.319069</td><td>1.407749</td><td>0.345063</td><td>-1465.807074</td><td>1</td><td>&quot;A&quot;</td></tr><tr><td>3</td><td>7.681358</td><td>0.126396</td><td>0.385254</td><td>1.182632</td><td>731.339396</td><td>2</td><td>&quot;A&quot;</td></tr><tr><td>4</td><td>2.363063</td><td>0.928773</td><td>0.459981</td><td>-0.469134</td><td>45.54908</td><td>2</td><td>&quot;A&quot;</td></tr></tbody></table></div>"
      ],
      "text/plain": [
       "shape: (5, 8)\n",
       "┌─────────┬───────────┬───────────┬──────────┬───────────┬──────────────┬───────┬──────────┐\n",
       "│ row_num ┆ uniform_1 ┆ uniform_2 ┆ exp      ┆ normal    ┆ fat_normal   ┆ flags ┆ category │\n",
       "│ ---     ┆ ---       ┆ ---       ┆ ---      ┆ ---       ┆ ---          ┆ ---   ┆ ---      │\n",
       "│ i64     ┆ f64       ┆ f64       ┆ f64      ┆ f64       ┆ f64          ┆ i32   ┆ str      │\n",
       "╞═════════╪═══════════╪═══════════╪══════════╪═══════════╪══════════════╪═══════╪══════════╡\n",
       "│ 0       ┆ 11.277262 ┆ 0.624632  ┆ 2.761204 ┆ 0.69013   ┆ -1454.347819 ┆ 1     ┆ A        │\n",
       "│ 1       ┆ 9.611818  ┆ 0.039018  ┆ 0.324864 ┆ 2.089952  ┆ 865.90957    ┆ 1     ┆ A        │\n",
       "│ 2       ┆ 2.614335  ┆ 0.319069  ┆ 1.407749 ┆ 0.345063  ┆ -1465.807074 ┆ 1     ┆ A        │\n",
       "│ 3       ┆ 7.681358  ┆ 0.126396  ┆ 0.385254 ┆ 1.182632  ┆ 731.339396   ┆ 2     ┆ A        │\n",
       "│ 4       ┆ 2.363063  ┆ 0.928773  ┆ 0.459981 ┆ -0.469134 ┆ 45.54908     ┆ 2     ┆ A        │\n",
       "└─────────┴───────────┴───────────┴──────────┴───────────┴──────────────┴───────┴──────────┘"
      ]
     },
     "execution_count": 2,
     "metadata": {},
     "output_type": "execute_result"
    }
   ],
   "source": [
    "df = pds.random_data(size=100_000, n_cols = 0).with_columns(\n",
    "    pds.random(0.0, 12.0).alias(\"uniform_1\"),\n",
    "    pds.random(0.0, 1.0).alias(\"uniform_2\"),\n",
    "    pds.random_exp(0.5).alias(\"exp\"),\n",
    "    pds.random_normal(0.0, 1.0).alias(\"normal\"),\n",
    "    pds.random_normal(0.0, 1000.0).alias(\"fat_normal\"),\n",
    "    (pds.random_int(0, 3)).alias(\"flags\"),\n",
    "    pl.Series([\"A\"] * 30_000 + [\"B\"] * 30_000 + [\"C\"] * 40_000).alias(\"category\"),\n",
    ")\n",
    "df.head()"
   ]
  },
  {
   "cell_type": "code",
   "execution_count": 3,
   "metadata": {},
   "outputs": [
    {
     "data": {
      "text/plain": [
       "['row_num', 'exp', 'flags']"
      ]
     },
     "execution_count": 3,
     "metadata": {},
     "output_type": "execute_result"
    }
   ],
   "source": [
    "sa.random_cols(df, 2, keep = [\"row_num\"])"
   ]
  },
  {
   "cell_type": "code",
   "execution_count": 4,
   "metadata": {},
   "outputs": [
    {
     "data": {
      "text/html": [
       "<div><style>\n",
       ".dataframe > thead > tr,\n",
       ".dataframe > tbody > tr {\n",
       "  text-align: right;\n",
       "  white-space: pre-wrap;\n",
       "}\n",
       "</style>\n",
       "<small>shape: (60_000, 8)</small><table border=\"1\" class=\"dataframe\"><thead><tr><th>row_num</th><th>uniform_1</th><th>uniform_2</th><th>exp</th><th>normal</th><th>fat_normal</th><th>flags</th><th>category</th></tr><tr><td>i64</td><td>f64</td><td>f64</td><td>f64</td><td>f64</td><td>f64</td><td>i32</td><td>str</td></tr></thead><tbody><tr><td>0</td><td>11.277262</td><td>0.624632</td><td>2.761204</td><td>0.69013</td><td>-1454.347819</td><td>1</td><td>&quot;A&quot;</td></tr><tr><td>2</td><td>2.614335</td><td>0.319069</td><td>1.407749</td><td>0.345063</td><td>-1465.807074</td><td>1</td><td>&quot;A&quot;</td></tr><tr><td>3</td><td>7.681358</td><td>0.126396</td><td>0.385254</td><td>1.182632</td><td>731.339396</td><td>2</td><td>&quot;A&quot;</td></tr><tr><td>5</td><td>10.589018</td><td>0.403235</td><td>7.328744</td><td>0.494549</td><td>201.411304</td><td>1</td><td>&quot;A&quot;</td></tr><tr><td>6</td><td>11.82124</td><td>0.180973</td><td>1.464906</td><td>-1.324346</td><td>0.966903</td><td>2</td><td>&quot;A&quot;</td></tr><tr><td>&hellip;</td><td>&hellip;</td><td>&hellip;</td><td>&hellip;</td><td>&hellip;</td><td>&hellip;</td><td>&hellip;</td><td>&hellip;</td></tr><tr><td>99990</td><td>10.030975</td><td>0.418153</td><td>0.104252</td><td>-0.001009</td><td>-479.039329</td><td>1</td><td>&quot;C&quot;</td></tr><tr><td>99994</td><td>9.230081</td><td>0.332427</td><td>3.23884</td><td>1.71897</td><td>-881.049847</td><td>1</td><td>&quot;C&quot;</td></tr><tr><td>99995</td><td>9.389632</td><td>0.139031</td><td>0.864656</td><td>-0.250149</td><td>422.365681</td><td>1</td><td>&quot;C&quot;</td></tr><tr><td>99997</td><td>4.19536</td><td>0.376186</td><td>0.116952</td><td>-1.095385</td><td>-1301.074908</td><td>1</td><td>&quot;C&quot;</td></tr><tr><td>99998</td><td>10.526378</td><td>0.884994</td><td>6.67969</td><td>1.137621</td><td>-1281.128251</td><td>1</td><td>&quot;C&quot;</td></tr></tbody></table></div>"
      ],
      "text/plain": [
       "shape: (60_000, 8)\n",
       "┌─────────┬───────────┬───────────┬──────────┬───────────┬──────────────┬───────┬──────────┐\n",
       "│ row_num ┆ uniform_1 ┆ uniform_2 ┆ exp      ┆ normal    ┆ fat_normal   ┆ flags ┆ category │\n",
       "│ ---     ┆ ---       ┆ ---       ┆ ---      ┆ ---       ┆ ---          ┆ ---   ┆ ---      │\n",
       "│ i64     ┆ f64       ┆ f64       ┆ f64      ┆ f64       ┆ f64          ┆ i32   ┆ str      │\n",
       "╞═════════╪═══════════╪═══════════╪══════════╪═══════════╪══════════════╪═══════╪══════════╡\n",
       "│ 0       ┆ 11.277262 ┆ 0.624632  ┆ 2.761204 ┆ 0.69013   ┆ -1454.347819 ┆ 1     ┆ A        │\n",
       "│ 2       ┆ 2.614335  ┆ 0.319069  ┆ 1.407749 ┆ 0.345063  ┆ -1465.807074 ┆ 1     ┆ A        │\n",
       "│ 3       ┆ 7.681358  ┆ 0.126396  ┆ 0.385254 ┆ 1.182632  ┆ 731.339396   ┆ 2     ┆ A        │\n",
       "│ 5       ┆ 10.589018 ┆ 0.403235  ┆ 7.328744 ┆ 0.494549  ┆ 201.411304   ┆ 1     ┆ A        │\n",
       "│ 6       ┆ 11.82124  ┆ 0.180973  ┆ 1.464906 ┆ -1.324346 ┆ 0.966903     ┆ 2     ┆ A        │\n",
       "│ …       ┆ …         ┆ …         ┆ …        ┆ …         ┆ …            ┆ …     ┆ …        │\n",
       "│ 99990   ┆ 10.030975 ┆ 0.418153  ┆ 0.104252 ┆ -0.001009 ┆ -479.039329  ┆ 1     ┆ C        │\n",
       "│ 99994   ┆ 9.230081  ┆ 0.332427  ┆ 3.23884  ┆ 1.71897   ┆ -881.049847  ┆ 1     ┆ C        │\n",
       "│ 99995   ┆ 9.389632  ┆ 0.139031  ┆ 0.864656 ┆ -0.250149 ┆ 422.365681   ┆ 1     ┆ C        │\n",
       "│ 99997   ┆ 4.19536   ┆ 0.376186  ┆ 0.116952 ┆ -1.095385 ┆ -1301.074908 ┆ 1     ┆ C        │\n",
       "│ 99998   ┆ 10.526378 ┆ 0.884994  ┆ 6.67969  ┆ 1.137621  ┆ -1281.128251 ┆ 1     ┆ C        │\n",
       "└─────────┴───────────┴───────────┴──────────┴───────────┴──────────────┴───────┴──────────┘"
      ]
     },
     "execution_count": 4,
     "metadata": {},
     "output_type": "execute_result"
    }
   ],
   "source": [
    "# Random Sample\n",
    "sa.sample(df, 0.6) # by ratio"
   ]
  },
  {
   "cell_type": "code",
   "execution_count": 5,
   "metadata": {},
   "outputs": [
    {
     "data": {
      "text/html": [
       "<div><style>\n",
       ".dataframe > thead > tr,\n",
       ".dataframe > tbody > tr {\n",
       "  text-align: right;\n",
       "  white-space: pre-wrap;\n",
       "}\n",
       "</style>\n",
       "<small>shape: (30_000, 8)</small><table border=\"1\" class=\"dataframe\"><thead><tr><th>row_num</th><th>uniform_1</th><th>uniform_2</th><th>exp</th><th>normal</th><th>fat_normal</th><th>flags</th><th>category</th></tr><tr><td>i64</td><td>f64</td><td>f64</td><td>f64</td><td>f64</td><td>f64</td><td>i32</td><td>str</td></tr></thead><tbody><tr><td>3</td><td>7.681358</td><td>0.126396</td><td>0.385254</td><td>1.182632</td><td>731.339396</td><td>2</td><td>&quot;A&quot;</td></tr><tr><td>7</td><td>8.967688</td><td>0.618955</td><td>4.015997</td><td>-0.239592</td><td>-1671.293276</td><td>0</td><td>&quot;A&quot;</td></tr><tr><td>9</td><td>7.78085</td><td>0.662031</td><td>0.661247</td><td>1.205476</td><td>-1881.320156</td><td>2</td><td>&quot;A&quot;</td></tr><tr><td>10</td><td>1.237564</td><td>0.671289</td><td>1.156893</td><td>0.67844</td><td>-852.529121</td><td>1</td><td>&quot;A&quot;</td></tr><tr><td>15</td><td>3.664119</td><td>0.208572</td><td>0.446782</td><td>0.840965</td><td>431.532664</td><td>0</td><td>&quot;A&quot;</td></tr><tr><td>&hellip;</td><td>&hellip;</td><td>&hellip;</td><td>&hellip;</td><td>&hellip;</td><td>&hellip;</td><td>&hellip;</td><td>&hellip;</td></tr><tr><td>99984</td><td>10.732264</td><td>0.223313</td><td>2.383238</td><td>0.616628</td><td>-417.195116</td><td>2</td><td>&quot;C&quot;</td></tr><tr><td>99987</td><td>10.277887</td><td>0.225801</td><td>0.021146</td><td>1.193793</td><td>-2154.588823</td><td>2</td><td>&quot;C&quot;</td></tr><tr><td>99991</td><td>7.849471</td><td>0.795797</td><td>0.249024</td><td>1.466287</td><td>-594.551347</td><td>0</td><td>&quot;C&quot;</td></tr><tr><td>99996</td><td>7.311652</td><td>0.404233</td><td>6.796084</td><td>1.126061</td><td>802.388238</td><td>1</td><td>&quot;C&quot;</td></tr><tr><td>99997</td><td>4.19536</td><td>0.376186</td><td>0.116952</td><td>-1.095385</td><td>-1301.074908</td><td>1</td><td>&quot;C&quot;</td></tr></tbody></table></div>"
      ],
      "text/plain": [
       "shape: (30_000, 8)\n",
       "┌─────────┬───────────┬───────────┬──────────┬───────────┬──────────────┬───────┬──────────┐\n",
       "│ row_num ┆ uniform_1 ┆ uniform_2 ┆ exp      ┆ normal    ┆ fat_normal   ┆ flags ┆ category │\n",
       "│ ---     ┆ ---       ┆ ---       ┆ ---      ┆ ---       ┆ ---          ┆ ---   ┆ ---      │\n",
       "│ i64     ┆ f64       ┆ f64       ┆ f64      ┆ f64       ┆ f64          ┆ i32   ┆ str      │\n",
       "╞═════════╪═══════════╪═══════════╪══════════╪═══════════╪══════════════╪═══════╪══════════╡\n",
       "│ 3       ┆ 7.681358  ┆ 0.126396  ┆ 0.385254 ┆ 1.182632  ┆ 731.339396   ┆ 2     ┆ A        │\n",
       "│ 7       ┆ 8.967688  ┆ 0.618955  ┆ 4.015997 ┆ -0.239592 ┆ -1671.293276 ┆ 0     ┆ A        │\n",
       "│ 9       ┆ 7.78085   ┆ 0.662031  ┆ 0.661247 ┆ 1.205476  ┆ -1881.320156 ┆ 2     ┆ A        │\n",
       "│ 10      ┆ 1.237564  ┆ 0.671289  ┆ 1.156893 ┆ 0.67844   ┆ -852.529121  ┆ 1     ┆ A        │\n",
       "│ 15      ┆ 3.664119  ┆ 0.208572  ┆ 0.446782 ┆ 0.840965  ┆ 431.532664   ┆ 0     ┆ A        │\n",
       "│ …       ┆ …         ┆ …         ┆ …        ┆ …         ┆ …            ┆ …     ┆ …        │\n",
       "│ 99984   ┆ 10.732264 ┆ 0.223313  ┆ 2.383238 ┆ 0.616628  ┆ -417.195116  ┆ 2     ┆ C        │\n",
       "│ 99987   ┆ 10.277887 ┆ 0.225801  ┆ 0.021146 ┆ 1.193793  ┆ -2154.588823 ┆ 2     ┆ C        │\n",
       "│ 99991   ┆ 7.849471  ┆ 0.795797  ┆ 0.249024 ┆ 1.466287  ┆ -594.551347  ┆ 0     ┆ C        │\n",
       "│ 99996   ┆ 7.311652  ┆ 0.404233  ┆ 6.796084 ┆ 1.126061  ┆ 802.388238   ┆ 1     ┆ C        │\n",
       "│ 99997   ┆ 4.19536   ┆ 0.376186  ┆ 0.116952 ┆ -1.095385 ┆ -1301.074908 ┆ 1     ┆ C        │\n",
       "└─────────┴───────────┴───────────┴──────────┴───────────┴──────────────┴───────┴──────────┘"
      ]
     },
     "execution_count": 5,
     "metadata": {},
     "output_type": "execute_result"
    }
   ],
   "source": [
    "sa.sample(df, 30_000) # by count"
   ]
  },
  {
   "cell_type": "code",
   "execution_count": 6,
   "metadata": {},
   "outputs": [
    {
     "data": {
      "text/html": [
       "<div><style>\n",
       ".dataframe > thead > tr,\n",
       ".dataframe > tbody > tr {\n",
       "  text-align: right;\n",
       "  white-space: pre-wrap;\n",
       "}\n",
       "</style>\n",
       "<small>shape: (3, 2)</small><table border=\"1\" class=\"dataframe\"><thead><tr><th>flags</th><th>len</th></tr><tr><td>i32</td><td>u32</td></tr></thead><tbody><tr><td>0</td><td>33143</td></tr><tr><td>1</td><td>33346</td></tr><tr><td>2</td><td>33511</td></tr></tbody></table></div>"
      ],
      "text/plain": [
       "shape: (3, 2)\n",
       "┌───────┬───────┐\n",
       "│ flags ┆ len   │\n",
       "│ ---   ┆ ---   │\n",
       "│ i32   ┆ u32   │\n",
       "╞═══════╪═══════╡\n",
       "│ 0     ┆ 33143 │\n",
       "│ 1     ┆ 33346 │\n",
       "│ 2     ┆ 33511 │\n",
       "└───────┴───────┘"
      ]
     },
     "execution_count": 6,
     "metadata": {},
     "output_type": "execute_result"
    }
   ],
   "source": [
    "df.group_by(\"flags\").len().sort(\"flags\")"
   ]
  },
  {
   "cell_type": "code",
   "execution_count": 7,
   "metadata": {},
   "outputs": [
    {
     "data": {
      "text/html": [
       "<div><style>\n",
       ".dataframe > thead > tr,\n",
       ".dataframe > tbody > tr {\n",
       "  text-align: right;\n",
       "  white-space: pre-wrap;\n",
       "}\n",
       "</style>\n",
       "<small>shape: (3, 2)</small><table border=\"1\" class=\"dataframe\"><thead><tr><th>flags</th><th>len</th></tr><tr><td>i32</td><td>u32</td></tr></thead><tbody><tr><td>0</td><td>16572</td></tr><tr><td>1</td><td>33346</td></tr><tr><td>2</td><td>33511</td></tr></tbody></table></div>"
      ],
      "text/plain": [
       "shape: (3, 2)\n",
       "┌───────┬───────┐\n",
       "│ flags ┆ len   │\n",
       "│ ---   ┆ ---   │\n",
       "│ i32   ┆ u32   │\n",
       "╞═══════╪═══════╡\n",
       "│ 0     ┆ 16572 │\n",
       "│ 1     ┆ 33346 │\n",
       "│ 2     ┆ 33511 │\n",
       "└───────┴───────┘"
      ]
     },
     "execution_count": 7,
     "metadata": {},
     "output_type": "execute_result"
    }
   ],
   "source": [
    "# Downsample on one group\n",
    "sa1 = sa.downsample(\n",
    "    df, \n",
    "    (pl.col(\"flags\") == 0, 0.5)\n",
    ")\n",
    "sa1.group_by(\"flags\").len().sort(\"flags\")"
   ]
  },
  {
   "cell_type": "code",
   "execution_count": 8,
   "metadata": {},
   "outputs": [
    {
     "data": {
      "text/html": [
       "<div><style>\n",
       ".dataframe > thead > tr,\n",
       ".dataframe > tbody > tr {\n",
       "  text-align: right;\n",
       "  white-space: pre-wrap;\n",
       "}\n",
       "</style>\n",
       "<small>shape: (3, 2)</small><table border=\"1\" class=\"dataframe\"><thead><tr><th>flags</th><th>len</th></tr><tr><td>i32</td><td>u32</td></tr></thead><tbody><tr><td>0</td><td>16572</td></tr><tr><td>1</td><td>10004</td></tr><tr><td>2</td><td>13405</td></tr></tbody></table></div>"
      ],
      "text/plain": [
       "shape: (3, 2)\n",
       "┌───────┬───────┐\n",
       "│ flags ┆ len   │\n",
       "│ ---   ┆ ---   │\n",
       "│ i32   ┆ u32   │\n",
       "╞═══════╪═══════╡\n",
       "│ 0     ┆ 16572 │\n",
       "│ 1     ┆ 10004 │\n",
       "│ 2     ┆ 13405 │\n",
       "└───────┴───────┘"
      ]
     },
     "execution_count": 8,
     "metadata": {},
     "output_type": "execute_result"
    }
   ],
   "source": [
    "# Downsample on multiple groups\n",
    "sa2 = sa.downsample(\n",
    "    df, \n",
    "    (pl.col(\"flags\") == 0, 0.5),\n",
    "    (pl.col(\"flags\") == 1, 0.3),\n",
    "    (pl.col(\"flags\") == 2, 0.4),\n",
    ")\n",
    "sa2.group_by(\"flags\").len().sort(\"flags\")"
   ]
  },
  {
   "cell_type": "code",
   "execution_count": 9,
   "metadata": {},
   "outputs": [
    {
     "data": {
      "text/html": [
       "<div><style>\n",
       ".dataframe > thead > tr,\n",
       ".dataframe > tbody > tr {\n",
       "  text-align: right;\n",
       "  white-space: pre-wrap;\n",
       "}\n",
       "</style>\n",
       "<small>shape: (3, 2)</small><table border=\"1\" class=\"dataframe\"><thead><tr><th>category</th><th>len</th></tr><tr><td>str</td><td>u32</td></tr></thead><tbody><tr><td>&quot;A&quot;</td><td>30000</td></tr><tr><td>&quot;B&quot;</td><td>30000</td></tr><tr><td>&quot;C&quot;</td><td>40000</td></tr></tbody></table></div>"
      ],
      "text/plain": [
       "shape: (3, 2)\n",
       "┌──────────┬───────┐\n",
       "│ category ┆ len   │\n",
       "│ ---      ┆ ---   │\n",
       "│ str      ┆ u32   │\n",
       "╞══════════╪═══════╡\n",
       "│ A        ┆ 30000 │\n",
       "│ B        ┆ 30000 │\n",
       "│ C        ┆ 40000 │\n",
       "└──────────┴───────┘"
      ]
     },
     "execution_count": 9,
     "metadata": {},
     "output_type": "execute_result"
    }
   ],
   "source": [
    "df.group_by(\"category\").len().sort(\"category\")"
   ]
  },
  {
   "cell_type": "code",
   "execution_count": 10,
   "metadata": {},
   "outputs": [
    {
     "data": {
      "text/html": [
       "<div><style>\n",
       ".dataframe > thead > tr,\n",
       ".dataframe > tbody > tr {\n",
       "  text-align: right;\n",
       "  white-space: pre-wrap;\n",
       "}\n",
       "</style>\n",
       "<small>shape: (3, 2)</small><table border=\"1\" class=\"dataframe\"><thead><tr><th>category</th><th>len</th></tr><tr><td>str</td><td>u32</td></tr></thead><tbody><tr><td>&quot;A&quot;</td><td>30000</td></tr><tr><td>&quot;B&quot;</td><td>30000</td></tr><tr><td>&quot;C&quot;</td><td>30000</td></tr></tbody></table></div>"
      ],
      "text/plain": [
       "shape: (3, 2)\n",
       "┌──────────┬───────┐\n",
       "│ category ┆ len   │\n",
       "│ ---      ┆ ---   │\n",
       "│ str      ┆ u32   │\n",
       "╞══════════╪═══════╡\n",
       "│ A        ┆ 30000 │\n",
       "│ B        ┆ 30000 │\n",
       "│ C        ┆ 30000 │\n",
       "└──────────┴───────┘"
      ]
     },
     "execution_count": 10,
     "metadata": {},
     "output_type": "execute_result"
    }
   ],
   "source": [
    "# Volume neutral by each category, will take the greatest possible value so that we get neutral volume.\n",
    "vn = sa.volume_neutral(\n",
    "    df,\n",
    "    by = pl.col(\"category\"),\n",
    ")\n",
    "vn.group_by(\"category\").len().sort(\"category\")"
   ]
  },
  {
   "cell_type": "code",
   "execution_count": 11,
   "metadata": {},
   "outputs": [
    {
     "data": {
      "text/html": [
       "<div><style>\n",
       ".dataframe > thead > tr,\n",
       ".dataframe > tbody > tr {\n",
       "  text-align: right;\n",
       "  white-space: pre-wrap;\n",
       "}\n",
       "</style>\n",
       "<small>shape: (3, 2)</small><table border=\"1\" class=\"dataframe\"><thead><tr><th>category</th><th>len</th></tr><tr><td>str</td><td>u32</td></tr></thead><tbody><tr><td>&quot;A&quot;</td><td>10000</td></tr><tr><td>&quot;B&quot;</td><td>10000</td></tr><tr><td>&quot;C&quot;</td><td>10000</td></tr></tbody></table></div>"
      ],
      "text/plain": [
       "shape: (3, 2)\n",
       "┌──────────┬───────┐\n",
       "│ category ┆ len   │\n",
       "│ ---      ┆ ---   │\n",
       "│ str      ┆ u32   │\n",
       "╞══════════╪═══════╡\n",
       "│ A        ┆ 10000 │\n",
       "│ B        ┆ 10000 │\n",
       "│ C        ┆ 10000 │\n",
       "└──────────┴───────┘"
      ]
     },
     "execution_count": 11,
     "metadata": {},
     "output_type": "execute_result"
    }
   ],
   "source": [
    "# Volume neutral (10_000) by each category\n",
    "vn = sa.volume_neutral(\n",
    "    df,\n",
    "    by = pl.col(\"category\"),\n",
    "    target_volume = 10_000\n",
    ")\n",
    "vn.group_by(\"category\").len().sort(\"category\")"
   ]
  },
  {
   "cell_type": "code",
   "execution_count": 12,
   "metadata": {},
   "outputs": [
    {
     "data": {
      "text/html": [
       "<div><style>\n",
       ".dataframe > thead > tr,\n",
       ".dataframe > tbody > tr {\n",
       "  text-align: right;\n",
       "  white-space: pre-wrap;\n",
       "}\n",
       "</style>\n",
       "<small>shape: (3, 2)</small><table border=\"1\" class=\"dataframe\"><thead><tr><th>category</th><th>len</th></tr><tr><td>str</td><td>u32</td></tr></thead><tbody><tr><td>&quot;A&quot;</td><td>10000</td></tr><tr><td>&quot;B&quot;</td><td>4298</td></tr><tr><td>&quot;C&quot;</td><td>5702</td></tr></tbody></table></div>"
      ],
      "text/plain": [
       "shape: (3, 2)\n",
       "┌──────────┬───────┐\n",
       "│ category ┆ len   │\n",
       "│ ---      ┆ ---   │\n",
       "│ str      ┆ u32   │\n",
       "╞══════════╪═══════╡\n",
       "│ A        ┆ 10000 │\n",
       "│ B        ┆ 4298  │\n",
       "│ C        ┆ 5702  │\n",
       "└──────────┴───────┘"
      ]
     },
     "execution_count": 12,
     "metadata": {},
     "output_type": "execute_result"
    }
   ],
   "source": [
    "# Volume neutral (10_000) by a more complicated condition\n",
    "vn = sa.volume_neutral(\n",
    "    df,\n",
    "    by = pl.col(\"category\") == \"A\",\n",
    "    target_volume = 10_000\n",
    ") # This makes sense because count for B + count for C = 10_000\n",
    "vn.group_by(\"category\").len().sort(\"category\")"
   ]
  },
  {
   "cell_type": "code",
   "execution_count": 13,
   "metadata": {},
   "outputs": [
    {
     "data": {
      "text/html": [
       "<div><style>\n",
       ".dataframe > thead > tr,\n",
       ".dataframe > tbody > tr {\n",
       "  text-align: right;\n",
       "  white-space: pre-wrap;\n",
       "}\n",
       "</style>\n",
       "<small>shape: (9, 3)</small><table border=\"1\" class=\"dataframe\"><thead><tr><th>category</th><th>flags</th><th>len</th></tr><tr><td>str</td><td>i32</td><td>u32</td></tr></thead><tbody><tr><td>&quot;A&quot;</td><td>0</td><td>9792</td></tr><tr><td>&quot;A&quot;</td><td>1</td><td>9792</td></tr><tr><td>&quot;A&quot;</td><td>2</td><td>9792</td></tr><tr><td>&quot;B&quot;</td><td>0</td><td>9900</td></tr><tr><td>&quot;B&quot;</td><td>1</td><td>9900</td></tr><tr><td>&quot;B&quot;</td><td>2</td><td>9900</td></tr><tr><td>&quot;C&quot;</td><td>0</td><td>13281</td></tr><tr><td>&quot;C&quot;</td><td>1</td><td>13281</td></tr><tr><td>&quot;C&quot;</td><td>2</td><td>13281</td></tr></tbody></table></div>"
      ],
      "text/plain": [
       "shape: (9, 3)\n",
       "┌──────────┬───────┬───────┐\n",
       "│ category ┆ flags ┆ len   │\n",
       "│ ---      ┆ ---   ┆ ---   │\n",
       "│ str      ┆ i32   ┆ u32   │\n",
       "╞══════════╪═══════╪═══════╡\n",
       "│ A        ┆ 0     ┆ 9792  │\n",
       "│ A        ┆ 1     ┆ 9792  │\n",
       "│ A        ┆ 2     ┆ 9792  │\n",
       "│ B        ┆ 0     ┆ 9900  │\n",
       "│ B        ┆ 1     ┆ 9900  │\n",
       "│ B        ┆ 2     ┆ 9900  │\n",
       "│ C        ┆ 0     ┆ 13281 │\n",
       "│ C        ┆ 1     ┆ 13281 │\n",
       "│ C        ┆ 2     ┆ 13281 │\n",
       "└──────────┴───────┴───────┘"
      ]
     },
     "execution_count": 13,
     "metadata": {},
     "output_type": "execute_result"
    }
   ],
   "source": [
    "# Volume neutral sample with a control level. Volume neutral happens under the category level, meaning\n",
    "# the volume for each flag in each category is neutral.\n",
    "vn = sa.volume_neutral(\n",
    "    df,\n",
    "    by = pl.col(\"flags\"),\n",
    "    control = pl.col(\"category\")\n",
    ") \n",
    "vn.group_by([\"category\", \"flags\"]).len().sort([\"category\", \"flags\"])"
   ]
  },
  {
   "cell_type": "code",
   "execution_count": 14,
   "metadata": {},
   "outputs": [
    {
     "data": {
      "text/html": [
       "<div><style>\n",
       ".dataframe > thead > tr,\n",
       ".dataframe > tbody > tr {\n",
       "  text-align: right;\n",
       "  white-space: pre-wrap;\n",
       "}\n",
       "</style>\n",
       "<small>shape: (9, 3)</small><table border=\"1\" class=\"dataframe\"><thead><tr><th>category</th><th>flags</th><th>len</th></tr><tr><td>str</td><td>i32</td><td>u32</td></tr></thead><tbody><tr><td>&quot;A&quot;</td><td>0</td><td>9792</td></tr><tr><td>&quot;A&quot;</td><td>1</td><td>9792</td></tr><tr><td>&quot;A&quot;</td><td>2</td><td>9792</td></tr><tr><td>&quot;B&quot;</td><td>0</td><td>9900</td></tr><tr><td>&quot;B&quot;</td><td>1</td><td>9900</td></tr><tr><td>&quot;B&quot;</td><td>2</td><td>9900</td></tr><tr><td>&quot;C&quot;</td><td>0</td><td>10000</td></tr><tr><td>&quot;C&quot;</td><td>1</td><td>10000</td></tr><tr><td>&quot;C&quot;</td><td>2</td><td>10000</td></tr></tbody></table></div>"
      ],
      "text/plain": [
       "shape: (9, 3)\n",
       "┌──────────┬───────┬───────┐\n",
       "│ category ┆ flags ┆ len   │\n",
       "│ ---      ┆ ---   ┆ ---   │\n",
       "│ str      ┆ i32   ┆ u32   │\n",
       "╞══════════╪═══════╪═══════╡\n",
       "│ A        ┆ 0     ┆ 9792  │\n",
       "│ A        ┆ 1     ┆ 9792  │\n",
       "│ A        ┆ 2     ┆ 9792  │\n",
       "│ B        ┆ 0     ┆ 9900  │\n",
       "│ B        ┆ 1     ┆ 9900  │\n",
       "│ B        ┆ 2     ┆ 9900  │\n",
       "│ C        ┆ 0     ┆ 10000 │\n",
       "│ C        ┆ 1     ┆ 10000 │\n",
       "│ C        ┆ 2     ┆ 10000 │\n",
       "└──────────┴───────┴───────┘"
      ]
     },
     "execution_count": 14,
     "metadata": {},
     "output_type": "execute_result"
    }
   ],
   "source": [
    "# We may not meet the target volume for all categories.\n",
    "vn = sa.volume_neutral(\n",
    "    df,\n",
    "    by = pl.col(\"flags\"),\n",
    "    control = pl.col(\"category\"),\n",
    "    target_volume= 10_000\n",
    ") # \n",
    "vn.group_by([\"category\", \"flags\"]).len().sort([\"category\", \"flags\"])"
   ]
  },
  {
   "cell_type": "markdown",
   "metadata": {},
   "source": [
    "## Splitting\n",
    "\n",
    "To be added..."
   ]
  },
  {
   "cell_type": "markdown",
   "metadata": {},
   "source": []
  },
  {
   "cell_type": "markdown",
   "metadata": {},
   "source": []
  }
 ],
 "metadata": {
  "kernelspec": {
   "display_name": ".venv",
   "language": "python",
   "name": "python3"
  },
  "language_info": {
   "codemirror_mode": {
    "name": "ipython",
    "version": 3
   },
   "file_extension": ".py",
   "mimetype": "text/x-python",
   "name": "python",
   "nbconvert_exporter": "python",
   "pygments_lexer": "ipython3",
   "version": "3.12.3"
  }
 },
 "nbformat": 4,
 "nbformat_minor": 2
}
