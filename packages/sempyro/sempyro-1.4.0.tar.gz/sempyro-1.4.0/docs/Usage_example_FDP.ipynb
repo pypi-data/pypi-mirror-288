{
 "cells": [
  {
   "cell_type": "markdown",
   "id": "8ef630c0-1c7b-4aea-b674-0772d5085aec",
   "metadata": {},
   "source": [
    "# Preparing and uploading data to Fair Data Point with SeMPyRO"
   ]
  },
  {
   "cell_type": "markdown",
   "id": "8bff32b5-6f5c-4c6b-953b-e8f9a8ddd681",
   "metadata": {},
   "source": [
    "**Prerequirements:** To execute this notebook in full one needs to have a running FAIR Data Point (FDP) instance with an active write access account.\n",
    "\n",
    "Let us consider uploading datasets from example_data.csv to FDP. \n",
    "FDP requires each dataset to be a part of a catalogue, therefore we need to create a catalogue. Let's see what we need to provide for that:"
   ]
  },
  {
   "cell_type": "code",
   "execution_count": null,
   "id": "cff57267-1900-4b21-a8c5-fd5e16c61342",
   "metadata": {},
   "outputs": [],
   "source": [
    "from sempyro.dcat import DCATCatalog\n",
    "\n",
    "catalog_fields = DCATCatalog.annotate_model()\n",
    "print(catalog_fields.mandatory_fields())"
   ]
  },
  {
   "cell_type": "markdown",
   "id": "b9c8b731-d5b8-43aa-9a93-6c4781f51393",
   "metadata": {},
   "source": [
    "Let's create a minimum catalogue with an example title and description. We also need a URI to use as a graph subject at serialization. Let's use `example.com` domain for now for this purpose:"
   ]
  },
  {
   "cell_type": "code",
   "execution_count": null,
   "id": "af6617c9-edef-4b28-a3f5-c36cec1dfa33",
   "metadata": {},
   "outputs": [],
   "source": [
    "from sempyro import LiteralField\n",
    "from rdflib import URIRef\n",
    "\n",
    "catalog_subject = URIRef(\"http://example.com/test_catalog_1\")\n",
    "\n",
    "catalog = DCATCatalog(title=[LiteralField(value=\"Test catalog\", language=\"en\")],\n",
    "                      description=[LiteralField(value=\"Catalog for test example datasets\", language=\"en\")])\n",
    "catalog_record = catalog.to_graph(catalog_subject)\n",
    "print(catalog_record.serialize())"
   ]
  },
  {
   "cell_type": "markdown",
   "id": "515557de-b2e3-4fb3-a25f-f92b291f1b08",
   "metadata": {},
   "source": [
    "Now we need to define an FDP API client which can log into an FDP, get a token and perform basic calls.\n"
   ]
  },
  {
   "cell_type": "code",
   "execution_count": null,
   "id": "d38b7d42-e4f1-41b2-8c4b-74d292a26c7a",
   "metadata": {},
   "outputs": [],
   "source": [
    "import logging\n",
    "import requests\n",
    "from typing import Dict, Union\n",
    "from requests import Response\n",
    "from urllib.parse import urljoin\n",
    "import urllib3\n",
    "import sys\n",
    "\n",
    "logger = logging.getLogger(__name__)\n",
    "\n",
    "class FDPClient:\n",
    "\n",
    "    def __init__(self, base_url: str, username: str, password: str):\n",
    "        self.base_url = base_url\n",
    "        self.username = username\n",
    "        self.password = password\n",
    "        self.token = self.login_fdp()\n",
    "        self.headers = self.get_headers()\n",
    "        self.session = requests.session()\n",
    "        self.session.headers.update(self.headers)\n",
    "        self.ssl_verification = False\n",
    "        urllib3.disable_warnings(urllib3.exceptions.InsecureRequestWarning)\n",
    "        \n",
    "\n",
    "    def login_fdp(self) -> str:\n",
    "        token_response = requests.post(\n",
    "            f\"{self.base_url}/tokens\",\n",
    "            json={\"email\": self.username, \"password\": self.password},\n",
    "        )\n",
    "        token_response.raise_for_status()\n",
    "        response = token_response.json()\n",
    "        return response[\"token\"]\n",
    "\n",
    "    def get_headers(self):\n",
    "        return {\"Authorization\": f\"Bearer {self.token}\", \"Content-Type\": \"text/turtle\"}\n",
    "\n",
    "\n",
    "    def _call_method(self, method, path, params: Dict = None, data=None):\n",
    "        if method.upper() not in [\"GET\", \"POST\", \"PUT\", \"DELETE\"]:\n",
    "            raise ValueError(f\"Unsupported method {method}\")\n",
    "        url = urljoin(self.base_url, path)\n",
    "        response = None\n",
    "        try:\n",
    "            response = self.session.request(\n",
    "                method, url, params=params, data=data, verify=self.ssl_verification\n",
    "            )\n",
    "            response.raise_for_status()\n",
    "            return response\n",
    "        except requests.exceptions.HTTPError as e:\n",
    "            logger.error(e)\n",
    "            if response is not None:\n",
    "                logger.error(response.text)\n",
    "            sys.exit(1)\n",
    "        except (requests.exceptions.ConnectionError, requests.exceptions.Timeout, requests.exceptions.RequestException) as e:\n",
    "            logger.error(e)\n",
    "            sys.exit(1)\n",
    "\n",
    "    def get(self, path: str, params: Dict = None) -> Response:\n",
    "        return self._call_method(\"GET\", path, params=params)\n",
    "\n",
    "    def post(self, path: str, params: Dict = None, data=None) -> Response:\n",
    "        return self._call_method(\"POST\", path, params=params, data=data)\n",
    "\n",
    "    def update(self, path: str, params: Dict = None, data=None) -> Response:\n",
    "        return self._call_method(\"PUT\", path, params=params, data=data)\n",
    "\n",
    "    def delete(self, path: str, params: Dict = None, data=None) -> Response:\n",
    "        return self._call_method(\"DELETE\", path, params=params, data=data)"
   ]
  },
  {
   "cell_type": "markdown",
   "id": "0f415bd0-a9a6-496e-a011-38d5d8cbeb4e",
   "metadata": {},
   "source": [
    "Publishing a record in FDP consists of two steps: creating a record and publishing. These two actions are performed as API calls with different content types, so we need to implement methods for changing content type, creating a record and publishing the record. After that, the client looks like this:"
   ]
  },
  {
   "cell_type": "code",
   "execution_count": null,
   "id": "5968c450-08d2-4e9a-aabf-581dc69a46a1",
   "metadata": {},
   "outputs": [],
   "source": [
    "from rdflib import Graph\n",
    "\n",
    "\n",
    "class FDPEndPoints:\n",
    "    meta = \"meta\"\n",
    "    state = f\"{meta}/state\"\n",
    "    members = \"members\"\n",
    "    expanded = \"expanded\"\n",
    "\n",
    "\n",
    "class FDPClient:\n",
    "\n",
    "    def __init__(self, base_url: str, username: str, password: str):\n",
    "        self.base_url = base_url\n",
    "        self.username = username\n",
    "        self.password = password\n",
    "        self.token = self.login_fdp()\n",
    "        self.headers = self.get_headers()\n",
    "        self.session = requests.session()\n",
    "        self.session.headers.update(self.headers)\n",
    "        self.ssl_verification = False\n",
    "        urllib3.disable_warnings(urllib3.exceptions.InsecureRequestWarning)\n",
    "        \n",
    "\n",
    "    def login_fdp(self) -> str:\n",
    "        token_response = requests.post(\n",
    "            f\"{self.base_url}/tokens\",\n",
    "            json={\"email\": self.username, \"password\": self.password},\n",
    "        )\n",
    "        token_response.raise_for_status()\n",
    "        response = token_response.json()\n",
    "        return response[\"token\"]\n",
    "\n",
    "    def get_headers(self):\n",
    "        return {\"Authorization\": f\"Bearer {self.token}\", \"Content-Type\": \"text/turtle\"}\n",
    "\n",
    "\n",
    "    def _call_method(self, method, path, params: Dict = None, data=None):\n",
    "        if method.upper() not in [\"GET\", \"POST\", \"PUT\", \"DELETE\"]:\n",
    "            raise ValueError(f\"Unsupported method {method}\")\n",
    "        url = urljoin(self.base_url, path)\n",
    "        response = None\n",
    "        try:\n",
    "            response = self.session.request(\n",
    "                method, url, params=params, data=data, verify=self.ssl_verification\n",
    "            )\n",
    "            response.raise_for_status()\n",
    "            return response\n",
    "        except requests.exceptions.HTTPError as e:\n",
    "            logger.error(e)\n",
    "            if response is not None:\n",
    "                logger.error(response.text)\n",
    "            sys.exit(1)\n",
    "        except (requests.exceptions.ConnectionError, requests.exceptions.Timeout, requests.exceptions.RequestException) as e:\n",
    "            logger.error(e)\n",
    "            sys.exit(1)\n",
    "\n",
    "    def get(self, path: str, params: Dict = None) -> Response:\n",
    "        return self._call_method(\"GET\", path, params=params)\n",
    "\n",
    "    def post(self, path: str, params: Dict = None, data=None) -> Response:\n",
    "        return self._call_method(\"POST\", path, params=params, data=data)\n",
    "\n",
    "    def update(self, path: str, params: Dict = None, data=None) -> Response:\n",
    "        return self._call_method(\"PUT\", path, params=params, data=data)\n",
    "\n",
    "    def delete(self, path: str, params: Dict = None, data=None) -> Response:\n",
    "        return self._call_method(\"DELETE\", path, params=params, data=data)\n",
    "\n",
    "    def _update_session_headers(self):\n",
    "        self.session.headers.update(self.headers)\n",
    "\n",
    "    def _change_content_type(self, content_type):\n",
    "        self.headers[\"Content-Type\"] = content_type\n",
    "        self._update_session_headers()\n",
    "\n",
    "    def post_serialised(self, resource_type: str, metadata: Graph) -> Union[requests.Response, None]:\n",
    "        self._change_content_type(\"text/turtle\")\n",
    "        path = f\"{self.base_url}/{resource_type}\"\n",
    "        response = self.post(path=path, data=metadata.serialize())\n",
    "        return response\n",
    "\n",
    "    def publish_record(self, record_url):\n",
    "        self._change_content_type(\"application/json\")\n",
    "        path = f\"{record_url}/{FDPEndPoints.state}\"\n",
    "        data = '{\"current\": \"PUBLISHED\"}'\n",
    "        self.update(path=path, data=data)\n",
    "\n",
    "    def create_and_publish(self, resource_type: str, metadata: Graph) -> URIRef:\n",
    "        post_response = self.post_serialised(resource_type=resource_type, metadata=metadata)\n",
    "        fdp_subject = URIRef(post_response.headers[\"Location\"])\n",
    "        self.publish_record(fdp_subject)\n",
    "        return fdp_subject"
   ]
  },
  {
   "cell_type": "code",
   "execution_count": null,
   "id": "e294b23b-00b9-41a2-bf83-c6932f9ee9b8",
   "metadata": {},
   "outputs": [],
   "source": [
    "fdp_base=input(\"Enter base link to FDP: \")"
   ]
  },
  {
   "cell_type": "code",
   "execution_count": null,
   "id": "645f50e3-63c0-460a-aece-64a112c30f64",
   "metadata": {},
   "outputs": [],
   "source": [
    "username=input(\"Enter username: \")"
   ]
  },
  {
   "cell_type": "code",
   "execution_count": null,
   "id": "39cceb04-1120-432e-81f3-135424c7ac63",
   "metadata": {},
   "outputs": [],
   "source": [
    "from getpass import getpass\n",
    "password = getpass()"
   ]
  },
  {
   "cell_type": "markdown",
   "id": "55873fe5-ba28-41e7-8140-1b9c5487cd1c",
   "metadata": {},
   "source": [
    "So far catalogue record was compliant with DCAT AP notation but FDP requires to add a `publisher` in a form of an IRI:"
   ]
  },
  {
   "cell_type": "code",
   "execution_count": null,
   "id": "9f561ecd-3e2a-4498-8248-f13e6af00091",
   "metadata": {},
   "outputs": [],
   "source": [
    "catalog.publisher = [\"https://harrypotter.fandom.com/wiki/Hogwarts_School_of_Witchcraft_and_Wizardry\"]\n",
    "catalog_record = catalog.to_graph(catalog_subject)\n",
    "print(catalog_record.serialize())"
   ]
  },
  {
   "cell_type": "markdown",
   "id": "265aa53e-0698-4e06-9788-95f864f7c9da",
   "metadata": {},
   "source": [
    "Another FDP requirement is a link pointing to a parent object, in the case of a catalogue it is FDP itself and it should be a property `is_part_of` in the range `DCTERMS.isPartOf`. This property is outside of DCAT AP specification. There are two ways to add it: the first way is to add it directly to a graph (not forgetting to convert the base FDP link to URIRef):"
   ]
  },
  {
   "cell_type": "code",
   "execution_count": null,
   "id": "c4861c8a-0c81-470d-a1b7-b65c56c5c410",
   "metadata": {},
   "outputs": [],
   "source": [
    "from rdflib import DCTERMS\n",
    "\n",
    "catalog_record.add((catalog_subject, DCTERMS.isPartOf, URIRef(fdp_base)))\n",
    "print(catalog_record.serialize())"
   ]
  },
  {
   "cell_type": "markdown",
   "id": "57120302-f30d-4ab5-9172-385cf66bb7e2",
   "metadata": {},
   "source": [
    "The record above can be published to FDP. But if you want to create a reusable code it is better to create a child catalog class for FDP specifically and reflect the logic required for FDP."
   ]
  },
  {
   "cell_type": "markdown",
   "id": "252b4f01-b4d8-4830-a2d9-ccc2a85d9be6",
   "metadata": {},
   "source": [
    "In `DCATCatalog` `publisher` field is inherited from DCATResource, is optional and takes either AnyHttpUrl or Agent:\n",
    "```\n",
    "publisher: List[Union[AnyHttpUrl, Agent]] = Field(\n",
    "        default=None,\n",
    "        description=\"The entity responsible for making the resource available.\",\n",
    "        rdf_term=DCTERMS.publisher,\n",
    "        rdf_type=\"uri\"\n",
    "    )\n",
    "```\n",
    "\n",
    "❗Note, that a particular configuration concerning mandatory fields and field types may be defined differently in Shape Constraint Language (SCHACL) forms for an FDP instance. In this case you may need to change the example code below accordingly to prevent validation errors on uploading data. To review your instance's SCHACL forms, go to `<your FDP host>/schemas` and select the resource type of interest.\n",
    "\n",
    "Let us create a child FDP-compatible class for a catalogue with a mandatory `publisher` field taking links only:"
   ]
  },
  {
   "cell_type": "code",
   "execution_count": null,
   "id": "8e39cbff-73f6-4cf0-bba1-a49066822324",
   "metadata": {},
   "outputs": [],
   "source": [
    "from pydantic import AnyHttpUrl, Field\n",
    "from typing import List\n",
    "\n",
    "class FDPCatalog(DCATCatalog):\n",
    "    publisher: List[AnyHttpUrl] = Field(description=\"The entity responsible for making the resource available.\",\n",
    "                                        rdf_term=DCTERMS.publisher,\n",
    "                                        rdf_type=\"uri\")\n",
    "    is_part_of: [AnyHttpUrl] = Field(description=\"Link to parent object\",\n",
    "                                   rdf_term=DCTERMS.isPartOf,\n",
    "                                   rdf_type=\"uri\"\n",
    "                                  )\n",
    "\n",
    "# Create a class instance with the same data\n",
    "fdp_catalog = FDPCatalog(\n",
    "    title=[LiteralField(value=\"Test catalog\", language=\"en\")],\n",
    "    description=[LiteralField(value=\"Catalog for test example datasets\", language=\"en\")],\n",
    "    publisher=[\"https://harrypotter.fandom.com/wiki/Hogwarts_School_of_Witchcraft_and_Wizardry\"],\n",
    "    is_part_of=[fdp_base]\n",
    "                        )\n",
    "\n",
    "fdp_catalog_record = fdp_catalog.to_graph(catalog_subject)\n",
    "print(fdp_catalog_record.serialize())"
   ]
  },
  {
   "cell_type": "code",
   "execution_count": null,
   "id": "661d99a0-e531-4b3b-b0f1-1faaa32c14e5",
   "metadata": {},
   "outputs": [],
   "source": [
    "fdp_client = FDPClient(base_url=fdp_base, username=username, password=password)\n",
    "\n",
    "catalog_fdp_id = fdp_client.create_and_publish(resource_type=\"catalog\", metadata=fdp_catalog_record)\n",
    "print(catalog_fdp_id)"
   ]
  },
  {
   "cell_type": "markdown",
   "id": "9693bfda-34f0-4f1b-bc5f-b37a86b9bdb9",
   "metadata": {},
   "source": [
    "If everything goes well you should be able to see a new catalog entry in your FDP instance: ![newly created catalog](./imgs/fdp_catalog.png)"
   ]
  },
  {
   "cell_type": "markdown",
   "id": "b950ac5d-82fd-48bd-8fa8-68881a8dd75a",
   "metadata": {},
   "source": [
    "Now let's add datasets to the catalog.\n",
    "Data for example datasets will be fetched from `./example_data_fdp.csv` file. Let's look into the data:"
   ]
  },
  {
   "cell_type": "code",
   "execution_count": null,
   "id": "6391c276-214d-4c36-bf22-62b136627aab",
   "metadata": {},
   "outputs": [],
   "source": [
    "from tabulate import tabulate\n",
    "import pandas as pd\n",
    "\n",
    "df = pd.read_csv(\"./example_data_fdp.csv\", sep=\";\")\n",
    "print(tabulate(df, headers='keys', tablefmt='psql', showindex=False))"
   ]
  },
  {
   "cell_type": "markdown",
   "id": "e0a222b9-b0d3-42b3-a619-78c720025d39",
   "metadata": {},
   "source": [
    "Let's prepare source data: "
   ]
  },
  {
   "cell_type": "code",
   "execution_count": null,
   "id": "9cf6315c-fce0-4f00-b430-586f167eebfd",
   "metadata": {},
   "outputs": [],
   "source": [
    "from sempyro.vcard import VCard\n",
    "\n",
    "df[\"keywords\"] = df[\"keywords\"].apply(lambda x: x.split(\",\"))\n",
    "df[\"theme\"] = df[\"theme\"].apply(lambda x: x.split(\",\"))\n",
    "df[\"id\"] = df[\"id\"].apply(lambda x: [str(x)])\n",
    "df[\"contact_point\"] = df.apply(lambda x: VCard(hasEmail=x[\"contact_point\"], full_name=[x[\"author_name\"]], \n",
    "                                               hasUID=x[\"author_id\"]), axis=1)\n"
   ]
  },
  {
   "cell_type": "markdown",
   "id": "10e961c0-8f7e-4d05-82d5-9697aa7f7efa",
   "metadata": {},
   "source": [
    "This time let's prepare a class for an FDP-compartible dataset inheriting from sempyro DCATDataset.\n",
    "We need to extend the base class with `is_part_of` property similarly as we have done for the catalogue.\n",
    "\n",
    "Another property to add is an identifier. It is not mandatory in the way that FDP does not require this property but useful in case you need to update a record in FDP. Each time a record is created in FDP a unique id is assigned to it. (For the catalogue record example above we have extracted it from the response header). The fact the identifier does not exist before the record is created in an FDP makes it quite hard to track. Hence, having an identifier on the data level is highly recommended to implement incremental updates.\n",
    "\n"
   ]
  },
  {
   "cell_type": "code",
   "execution_count": null,
   "id": "7fa68de4-0c1b-4c9c-a885-e77e66ad7011",
   "metadata": {},
   "outputs": [],
   "source": [
    "from sempyro.dcat import DCATDataset\n",
    "\n",
    "class FDPDataset(DCATDataset):\n",
    "    is_part_of: [AnyHttpUrl] = Field(description=\"Link to parent object\",\n",
    "                                   rdf_term=DCTERMS.isPartOf,\n",
    "                                   rdf_type=\"uri\"\n",
    "                                  )\n",
    "    identifier: List[Union[str, LiteralField]] = Field(\n",
    "        description=\"A unique identifier of the resource being described or catalogued.\",\n",
    "        rdf_term=DCTERMS.identifier,\n",
    "        rdf_type=\"rdfs_literal\")"
   ]
  },
  {
   "cell_type": "markdown",
   "id": "64c2272d-2c49-4244-bcc1-1b85a2b6335d",
   "metadata": {},
   "source": [
    "Now let's create datasets filling in mandatory fields and some optional which persist in the data and publish them to FDP:"
   ]
  },
  {
   "cell_type": "code",
   "execution_count": null,
   "id": "d60310bf-87d3-478c-b8cf-3b06374b2941",
   "metadata": {},
   "outputs": [],
   "source": [
    "datasets = df.to_dict('records')\n",
    "for record in datasets:\n",
    "    dataset = FDPDataset(\n",
    "        title=[LiteralField(value=record[\"name\"])],\n",
    "        description=[LiteralField(value=record[\"description\"])],\n",
    "        identifier=record[\"id\"],\n",
    "        is_part_of = [catalog_fdp_id],\n",
    "        creator=[record[\"author_id\"]],\n",
    "        release_date=record[\"issued\"],\n",
    "        publisher=[record[\"publisher_id\"]],\n",
    "        theme=record[\"theme\"],\n",
    "        keyword=[LiteralField(value=x) for x in record[\"keywords\"]]\n",
    "    )\n",
    "    dataset_subject = URIRef(f\"http://example.com/dataset_{record['id'][0]}\")\n",
    "    dataset_graph = dataset.to_graph(dataset_subject)\n",
    "    print(dataset_graph.serialize())\n",
    "    fdp_client.create_and_publish(resource_type=\"dataset\", metadata=dataset_graph)\n"
   ]
  },
  {
   "cell_type": "markdown",
   "id": "dae279ab-47e8-413e-b0ff-89cd88223168",
   "metadata": {},
   "source": [
    "The catalogue we have created earlier is now updated with 4 datasets ![catalog](./imgs/ds_in_catalog.png)\n",
    "\n",
    "and datasets themselves are available: ![datasets](./imgs/datasets_fdp.png)"
   ]
  },
  {
   "cell_type": "code",
   "execution_count": null,
   "id": "19ddefb5-f468-408e-8d19-df8f5070caae",
   "metadata": {},
   "outputs": [],
   "source": []
  }
 ],
 "metadata": {
  "kernelspec": {
   "display_name": "Python 3 (ipykernel)",
   "language": "python",
   "name": "python3"
  },
  "language_info": {
   "codemirror_mode": {
    "name": "ipython",
    "version": 3
   },
   "file_extension": ".py",
   "mimetype": "text/x-python",
   "name": "python",
   "nbconvert_exporter": "python",
   "pygments_lexer": "ipython3",
   "version": "3.11.3"
  }
 },
 "nbformat": 4,
 "nbformat_minor": 5
}
