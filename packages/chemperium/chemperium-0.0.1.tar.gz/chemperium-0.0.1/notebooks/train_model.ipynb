{
 "cells": [
  {
   "cell_type": "code",
   "execution_count": null,
   "id": "69e7e4a7",
   "metadata": {},
   "outputs": [],
   "source": [
    "import chemperium as cp"
   ]
  },
  {
   "cell_type": "markdown",
   "id": "0e0782b5",
   "metadata": {},
   "source": [
    "# Train a 2D model"
   ]
  },
  {
   "cell_type": "code",
   "execution_count": null,
   "id": "1023632b",
   "metadata": {},
   "outputs": [],
   "source": [
    "example_file = \"../test_data/test_example.csv\"\n",
    "prop = \"magic_property\"\n",
    "save_dir = \"../test_data/test_output\"\n",
    "input_arguments = {\"batch\": 16,\n",
    "                   \"seed\": 123456789,\n",
    "                   \"epochs\": 200,\n",
    "                   \"patience\": 10,\n",
    "                   \"depth\": 4,\n",
    "                   \"folds\": 1,\n",
    "                   \"num_layers\": 2, \n",
    "                   \"include_3d\": False, \n",
    "                   \"simple_features\": True, \n",
    "                   \"ratio\": (0.6, 0.2, 0.2), \n",
    "                   \"batch\": 2, \n",
    "                   \"init_lr\": 1e-4, \n",
    "                   \"store_models\": True}\n",
    "\n",
    "cp.training.train.train(example_file, prop, save_dir, input_arguments)"
   ]
  },
  {
   "cell_type": "markdown",
   "id": "af533d5d",
   "metadata": {},
   "source": [
    "# Test the 2D model"
   ]
  },
  {
   "cell_type": "code",
   "execution_count": null,
   "id": "0b5c418c",
   "metadata": {},
   "outputs": [],
   "source": [
    "smi = [\"CC(CC)CC\"]\n",
    "prop = \"magic_property\"\n",
    "save_dir = \"../test_data/test_output\"\n",
    "input_arguments = {\"batch\": 16,\n",
    "                   \"seed\": 123456789,\n",
    "                   \"epochs\": 200,\n",
    "                   \"patience\": 20,\n",
    "                   \"depth\": 4,\n",
    "                   \"folds\": 1,\n",
    "                   \"num_layers\": 2, \n",
    "                   \"include_3d\": False, \n",
    "                   \"simple_features\": True, \n",
    "                   \"ratio\": (0.6, 0.2, 0.2), \n",
    "                   \"batch\": 2, \n",
    "                   \"init_lr\": 1e-4}\n",
    "xyz = None\n",
    "return_results = True\n",
    "\n",
    "results = cp.test(smi, prop, save_dir, xyz, return_results, input_arguments)"
   ]
  },
  {
   "cell_type": "code",
   "execution_count": null,
   "id": "87e6aa60",
   "metadata": {},
   "outputs": [],
   "source": [
    "results"
   ]
  },
  {
   "cell_type": "code",
   "execution_count": null,
   "id": "bf1b2143",
   "metadata": {},
   "outputs": [],
   "source": []
  }
 ],
 "metadata": {
  "kernelspec": {
   "display_name": "chemperium-package",
   "language": "python",
   "name": "chemperium-package"
  },
  "language_info": {
   "codemirror_mode": {
    "name": "ipython",
    "version": 3
   },
   "file_extension": ".py",
   "mimetype": "text/x-python",
   "name": "python",
   "nbconvert_exporter": "python",
   "pygments_lexer": "ipython3",
   "version": "3.11.9"
  }
 },
 "nbformat": 4,
 "nbformat_minor": 5
}
