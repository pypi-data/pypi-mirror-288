{
 "cells": [
  {
   "cell_type": "code",
   "execution_count": null,
   "id": "e5552183",
   "metadata": {},
   "outputs": [],
   "source": [
    "import chemperium as cp"
   ]
  },
  {
   "cell_type": "markdown",
   "id": "80370c83",
   "metadata": {},
   "source": [
    "# Liquid Phase"
   ]
  },
  {
   "cell_type": "code",
   "execution_count": null,
   "id": "0053dee6",
   "metadata": {},
   "outputs": [],
   "source": [
    "bp_model = cp.Liquid(\"bp\", \"2d\", \"/path/to/chemperium-data/trained-models/\")"
   ]
  },
  {
   "cell_type": "code",
   "execution_count": null,
   "id": "c028d6d6",
   "metadata": {},
   "outputs": [],
   "source": [
    "bp_model.predict([\"CN(C)C=O\", \"CN1CCCC1=O\"])"
   ]
  },
  {
   "cell_type": "code",
   "execution_count": null,
   "id": "0408409a",
   "metadata": {},
   "outputs": [],
   "source": [
    "logp_model = cp.Liquid(\"logp\", \"2d\", \"/path/to/chemperium-data/trained-models/\")"
   ]
  },
  {
   "cell_type": "code",
   "execution_count": null,
   "id": "77cb8664",
   "metadata": {},
   "outputs": [],
   "source": [
    "logp_model.predict([\"CC(=O)Nc1ccc(O)cc1\", \n",
    "                    \"ClC1=CC=C(C2(CCN(CC2)CCC(C3=CC=CC=C3)(C(N(C)C)=O)C4=CC=CC=C4)O)C=C1\"])"
   ]
  },
  {
   "cell_type": "markdown",
   "id": "2a628121",
   "metadata": {},
   "source": [
    "# Gas-Phase Thermochemistry"
   ]
  },
  {
   "cell_type": "code",
   "execution_count": null,
   "id": "fcf97727",
   "metadata": {},
   "outputs": [],
   "source": [
    "import pandas as pd"
   ]
  },
  {
   "cell_type": "code",
   "execution_count": null,
   "id": "8e9388cd",
   "metadata": {},
   "outputs": [],
   "source": [
    "thermo_g3 = pd.read_csv(\"/path/to/chemperium-data/datasets/thermo_g3.csv\")"
   ]
  },
  {
   "cell_type": "code",
   "execution_count": null,
   "id": "04376931",
   "metadata": {},
   "outputs": [],
   "source": [
    "thermo_g3.loc[[1406, 1826, 3508]]"
   ]
  },
  {
   "cell_type": "code",
   "execution_count": null,
   "id": "54752737",
   "metadata": {},
   "outputs": [],
   "source": [
    "smis = thermo_g3.loc[[1406, 1826, 3508]][\"smiles\"].to_list()\n",
    "xyz = thermo_g3.loc[[1406, 1826, 3508]][\"xyz\"].to_list()\n",
    "b3 = thermo_g3.loc[[1406, 1826, 3508]][\"H298_b3\"].to_list()"
   ]
  },
  {
   "cell_type": "code",
   "execution_count": null,
   "id": "5082a9a9",
   "metadata": {},
   "outputs": [],
   "source": [
    "g3mp2b3 = cp.Thermo(\"g3mp2b3\", \"3d\", \"/path/to/chemperium-data/trained-models/\")"
   ]
  },
  {
   "cell_type": "code",
   "execution_count": null,
   "id": "b8c6f1f6",
   "metadata": {},
   "outputs": [],
   "source": [
    "g3mp2b3.predict_gibbs(smiles=smis, xyz=xyz, llot=b3, t=298.15, quality_check=True)"
   ]
  },
  {
   "cell_type": "code",
   "execution_count": null,
   "id": "a0a3a42d",
   "metadata": {},
   "outputs": [],
   "source": [
    "ck=g3mp2b3.get_nasa_polynomials(names=[\"benzene\", \"toluene\", \"anisole\"], \n",
    "                               smiles=smis, xyz=xyz, llot=b3, chemkin=True)\n",
    "print(ck)"
   ]
  },
  {
   "cell_type": "code",
   "execution_count": null,
   "id": "7b3065e6",
   "metadata": {},
   "outputs": [],
   "source": [
    "g3mp2b3.predict_gibbs(smiles=smis, xyz=xyz, llot=b3, t=750)"
   ]
  },
  {
   "cell_type": "markdown",
   "id": "02d0bd98",
   "metadata": {},
   "source": [
    "# Representation"
   ]
  },
  {
   "cell_type": "code",
   "execution_count": null,
   "id": "ec895b18",
   "metadata": {},
   "outputs": [],
   "source": [
    "rep = cp.Representation(data_location=\"/path/to/chemperium-data/trained-models/\")"
   ]
  },
  {
   "cell_type": "code",
   "execution_count": null,
   "id": "552a29f6",
   "metadata": {},
   "outputs": [],
   "source": [
    "smis, reps = rep.predict([\"C1CCCCC1\", \"c1ccccc1\", \"Cc1ccccc1\", \"Oc1ccccc1\", \"COc1ccccc1\"])"
   ]
  },
  {
   "cell_type": "code",
   "execution_count": null,
   "id": "6cdac426",
   "metadata": {},
   "outputs": [],
   "source": [
    "reps.shape"
   ]
  },
  {
   "cell_type": "code",
   "execution_count": null,
   "id": "11bf31b7",
   "metadata": {},
   "outputs": [],
   "source": []
  },
  {
   "cell_type": "code",
   "execution_count": null,
   "id": "335d97ca",
   "metadata": {},
   "outputs": [],
   "source": []
  }
 ],
 "metadata": {
  "kernelspec": {
   "display_name": "chemperium-package",
   "language": "python",
   "name": "chemperium-package"
  },
  "language_info": {
   "codemirror_mode": {
    "name": "ipython",
    "version": 3
   },
   "file_extension": ".py",
   "mimetype": "text/x-python",
   "name": "python",
   "nbconvert_exporter": "python",
   "pygments_lexer": "ipython3",
   "version": "3.11.9"
  }
 },
 "nbformat": 4,
 "nbformat_minor": 5
}
