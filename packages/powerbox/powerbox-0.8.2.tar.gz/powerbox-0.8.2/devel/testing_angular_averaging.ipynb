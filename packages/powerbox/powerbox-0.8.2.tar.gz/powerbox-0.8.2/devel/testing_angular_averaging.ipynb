{
 "cells": [
  {
   "cell_type": "markdown",
   "metadata": {},
   "source": [
    "# Testing Angular Averaging"
   ]
  },
  {
   "cell_type": "markdown",
   "metadata": {},
   "source": [
    "## Test if doing a 2D average then a 1D, has the same results as a pure 1D."
   ]
  },
  {
   "cell_type": "code",
   "execution_count": 1,
   "metadata": {
    "ExecuteTime": {
     "end_time": "2017-04-26T10:17:40.697410",
     "start_time": "2017-04-26T10:17:40.540151"
    },
    "collapsed": true
   },
   "outputs": [],
   "source": [
    "import numpy as np\n",
    "from powerbox.tools import angular_average_nd, angular_average\n",
    "\n",
    "%matplotlib inline\n",
    "import matplotlib.pyplot as plt\n",
    "from matplotlib.colors import LogNorm"
   ]
  },
  {
   "cell_type": "code",
   "execution_count": 46,
   "metadata": {
    "ExecuteTime": {
     "end_time": "2017-04-26T10:15:30.259950",
     "start_time": "2017-04-26T10:15:30.198740"
    },
    "collapsed": true
   },
   "outputs": [],
   "source": [
    "def angular_average(field,coords,bins, weights = 1, average=True):\n",
    "    r\"\"\"\n",
    "    Perform a radial histogram -- averaging within radial bins -- of a field.\n",
    "\n",
    "    Parameters\n",
    "    ----------\n",
    "    field : array\n",
    "        An array of arbitrary dimension specifying the field to be angularly averaged.\n",
    "\n",
    "    coords : array\n",
    "        The magnitude of the co-ordinates at each point of `field`. Must be the same size as field.\n",
    "\n",
    "    bins : float or array.\n",
    "        The ``bins`` argument provided to histogram. Can be an int or array specifying bin edges.\n",
    "\n",
    "    weights : array, optional\n",
    "        An array of the same shape as `field`, giving a weight for each entry.\n",
    "        \n",
    "    average : bool, optional\n",
    "        Whether to take the (weighted) average. If False, returns the (unweighted) sum.\n",
    "    Returns\n",
    "    -------\n",
    "    field_1d : array\n",
    "        The field averaged angularly (finally 1D)\n",
    "\n",
    "    binavg : array\n",
    "        The mean co-ordinate in each radial bin.\n",
    "\n",
    "    Examples\n",
    "    --------\n",
    "    Create a 3D radial function, and average over radial bins:\n",
    "\n",
    "    >>> import numpy as np\n",
    "    >>> import matplotlib.pyplot as plt\n",
    "    >>> x = np.linspace(-5,5,128)   # Setup a grid\n",
    "    >>> X,Y,Z = np.meshgrid(x,x,x)  # \"\"\n",
    "    >>> r = np.sqrt(X**2+Y**2+Z**2) # Get the radial co-ordinate of grid\n",
    "    >>> field = np.exp(-r**2)       # Generate a radial field\n",
    "    >>> avgfunc, bins = angular_average(field,r,bins=100)   # Call angular_average\n",
    "    >>> plt.plot(bins, np.exp(-bins**2), label=\"Input Function\")   # Plot input function versus ang. avg.\n",
    "    >>> plt.plot(bins, avgfunc, label=\"Averaged Function\")\n",
    "    \"\"\"\n",
    "    if not np.iterable(bins):\n",
    "        bins = np.linspace(coords.min(), coords.max() *1.001, bins + 1)\n",
    "\n",
    "    indx, binav, sumweight = _get_binweights(coords, weights, bins, average)\n",
    "\n",
    "    if len(np.unique(indx)) != len(bins) - 1:\n",
    "        print \"NOT ALL BINS FILLED: \", len(np.unique(indx)), len(bins) - 1, len(sumweight)\n",
    "\n",
    "    binav = np.bincount(indx, weights=(weights*coords).flatten())/sumweight\n",
    "    res = _field_average(indx,field, weights, sumweight)\n",
    "\n",
    "    return res, binav\n",
    "\n",
    "def _magnitude_grid(x,dim=None):\n",
    "    if dim is not None:\n",
    "        return np.sqrt(np.sum(np.meshgrid(*([x ** 2]*dim)), axis=0))\n",
    "    else:\n",
    "        return np.sqrt(np.sum(np.meshgrid(*([x**2 for x in x])), axis=0))\n",
    "\n",
    "def _field_average(indx, field,weights, sumweights):\n",
    "\n",
    "    field *= weights\n",
    "    rl = np.bincount(indx, weights=np.real(field.flatten()))/sumweights\n",
    "    if field.dtype.kind == \"c\":\n",
    "        im = 1j*np.bincount(indx, weights=np.imag(field.flatten()))/sumweights\n",
    "    else:\n",
    "        im = 0\n",
    "\n",
    "    return rl + im\n",
    "\n",
    "def _get_binweights(coords, weights, bins, average=True):\n",
    "    indx = np.digitize(coords.flatten(), bins) - 1\n",
    "\n",
    "    if average:\n",
    "        if not np.isscalar(weights):\n",
    "            sumweights = np.bincount(indx, weights=weights.flatten())\n",
    "        else:\n",
    "            sumweights = np.bincount(indx)\n",
    "\n",
    "        binweight = sumweights\n",
    "    else:\n",
    "        sumweights = 1\n",
    "\n",
    "        if not np.isscalar(weights):\n",
    "            binweight = np.bincount(indx, weights=weights.flatten())\n",
    "        else:\n",
    "            binweight = np.bincount(indx)\n",
    "\n",
    "    binav = np.bincount(indx, weights=(weights*coords).flatten())/binweight\n",
    "\n",
    "    return indx, binav, sumweights"
   ]
  },
  {
   "cell_type": "code",
   "execution_count": 2,
   "metadata": {
    "ExecuteTime": {
     "end_time": "2017-04-26T10:17:44.131835",
     "start_time": "2017-04-26T10:17:43.487507"
    },
    "collapsed": false
   },
   "outputs": [],
   "source": [
    "x = np.linspace(-1,1,256)\n",
    "X,Y,Z = np.meshgrid(x,x,x)\n",
    "r = np.sqrt(X**2+Y**2+Z**2)"
   ]
  },
  {
   "cell_type": "code",
   "execution_count": 3,
   "metadata": {
    "ExecuteTime": {
     "end_time": "2017-04-26T10:17:45.563316",
     "start_time": "2017-04-26T10:17:44.300258"
    },
    "collapsed": true
   },
   "outputs": [],
   "source": [
    "field = r**-2."
   ]
  },
  {
   "cell_type": "code",
   "execution_count": 33,
   "metadata": {
    "ExecuteTime": {
     "end_time": "2017-04-26T10:12:07.981846",
     "start_time": "2017-04-26T10:12:07.956876"
    },
    "collapsed": true
   },
   "outputs": [],
   "source": [
    "bins = np.linspace(r.min(), r.max() * 1.001 , 100 + 1)"
   ]
  },
  {
   "cell_type": "code",
   "execution_count": 35,
   "metadata": {
    "ExecuteTime": {
     "end_time": "2017-04-26T10:12:14.263452",
     "start_time": "2017-04-26T10:12:13.799068"
    },
    "collapsed": true
   },
   "outputs": [],
   "source": [
    "indx = np.digitize(r.flatten(), bins)"
   ]
  },
  {
   "cell_type": "code",
   "execution_count": 42,
   "metadata": {
    "ExecuteTime": {
     "end_time": "2017-04-26T10:14:51.511683",
     "start_time": "2017-04-26T10:14:51.327174"
    },
    "collapsed": false
   },
   "outputs": [],
   "source": [
    "sw = np.bincount(indx-1)"
   ]
  },
  {
   "cell_type": "code",
   "execution_count": 43,
   "metadata": {
    "ExecuteTime": {
     "end_time": "2017-04-26T10:14:53.422207",
     "start_time": "2017-04-26T10:14:53.414413"
    },
    "collapsed": false
   },
   "outputs": [
    {
     "data": {
      "text/plain": [
       "100"
      ]
     },
     "execution_count": 43,
     "metadata": {},
     "output_type": "execute_result"
    }
   ],
   "source": [
    "len(sw)"
   ]
  },
  {
   "cell_type": "code",
   "execution_count": 37,
   "metadata": {
    "ExecuteTime": {
     "end_time": "2017-04-26T10:12:16.165345",
     "start_time": "2017-04-26T10:12:16.160685"
    },
    "collapsed": false
   },
   "outputs": [
    {
     "data": {
      "text/plain": [
       "1.7337828583764459"
      ]
     },
     "execution_count": 37,
     "metadata": {},
     "output_type": "execute_result"
    }
   ],
   "source": [
    "bins.max()"
   ]
  },
  {
   "cell_type": "code",
   "execution_count": 38,
   "metadata": {
    "ExecuteTime": {
     "end_time": "2017-04-26T10:12:17.681613",
     "start_time": "2017-04-26T10:12:17.646486"
    },
    "collapsed": false
   },
   "outputs": [
    {
     "data": {
      "text/plain": [
       "100"
      ]
     },
     "execution_count": 38,
     "metadata": {},
     "output_type": "execute_result"
    }
   ],
   "source": [
    "indx.max()"
   ]
  },
  {
   "cell_type": "code",
   "execution_count": 4,
   "metadata": {
    "ExecuteTime": {
     "end_time": "2017-04-26T10:17:48.005039",
     "start_time": "2017-04-26T10:17:46.163944"
    },
    "collapsed": false
   },
   "outputs": [],
   "source": [
    "func_1d, rbins = angular_average(field, r, bins=100)"
   ]
  },
  {
   "cell_type": "code",
   "execution_count": 5,
   "metadata": {
    "ExecuteTime": {
     "end_time": "2017-04-26T10:17:51.140849",
     "start_time": "2017-04-26T10:17:50.731177"
    },
    "collapsed": false
   },
   "outputs": [],
   "source": [
    "func_2d, r2bins, zbins = angular_average_nd(field, [x,x,x], bins=50, n=2)"
   ]
  },
  {
   "cell_type": "code",
   "execution_count": 6,
   "metadata": {
    "ExecuteTime": {
     "end_time": "2017-04-26T10:17:53.766308",
     "start_time": "2017-04-26T10:17:53.644645"
    },
    "collapsed": false
   },
   "outputs": [
    {
     "data": {
      "text/plain": [
       "<matplotlib.image.AxesImage at 0x7f160d962f50>"
      ]
     },
     "execution_count": 6,
     "metadata": {},
     "output_type": "execute_result"
    },
    {
     "data": {
      "image/png": "[encoded data removed]",
      "text/plain": [
       "<matplotlib.figure.Figure at 0x7f1638aeebd0>"
      ]
     },
     "metadata": {},
     "output_type": "display_data"
    }
   ],
   "source": [
    "plt.imshow(func_2d,norm=LogNorm())"
   ]
  },
  {
   "cell_type": "code",
   "execution_count": 13,
   "metadata": {
    "ExecuteTime": {
     "end_time": "2017-04-26T10:21:54.266886",
     "start_time": "2017-04-26T10:21:54.248877"
    },
    "collapsed": false
   },
   "outputs": [
    {
     "data": {
      "text/plain": [
       "array([ 0.0228734 ,  0.04908291,  0.07622996,  0.10453818,  0.13339201,\n",
       "        0.16140157,  0.18923134,  0.21727262,  0.24541893,  0.27361282,\n",
       "        0.30168324,  0.33015591,  0.35804101,  0.38617289,  0.41480029,\n",
       "        0.4429415 ,  0.47119235,  0.49915969,  0.52734299,  0.55567827,\n",
       "        0.58359589,  0.6118256 ,  0.63994044,  0.66820193,  0.69664814,\n",
       "        0.7248047 ,  0.75325076,  0.78139661,  0.80938214,  0.83762104,\n",
       "        0.86566751,  0.89393467,  0.92210477,  0.95024189,  0.97845842,\n",
       "        1.0058821 ,  1.03439482,  1.06270299,  1.09100906,  1.11922397,\n",
       "        1.14746629,  1.1756785 ,  1.2038205 ,  1.23177137,  1.25965769,\n",
       "        1.28751454,  1.31497796,  1.34362393,  1.37293781,  1.39947583])"
      ]
     },
     "execution_count": 13,
     "metadata": {},
     "output_type": "execute_result"
    }
   ],
   "source": [
    "r2bins"
   ]
  },
  {
   "cell_type": "code",
   "execution_count": 17,
   "metadata": {
    "ExecuteTime": {
     "end_time": "2017-04-26T10:30:35.977533",
     "start_time": "2017-04-26T10:30:35.969796"
    },
    "collapsed": false
   },
   "outputs": [
    {
     "data": {
      "text/plain": [
       "array([  8.96996053e-05,   1.92482012e-04,   2.98941035e-04,\n",
       "         4.09953635e-04,   5.23105903e-04,   6.32947345e-04,\n",
       "         7.42083706e-04,   8.52049500e-04,   9.62427161e-04,\n",
       "         1.07299145e-03,   1.18307154e-03,   1.29472907e-03,\n",
       "         1.40408240e-03,   1.51440348e-03,   1.62666781e-03,\n",
       "         1.73702550e-03,   1.84781312e-03,   1.95748897e-03,\n",
       "         2.06801172e-03,   2.17913045e-03,   2.28861133e-03,\n",
       "         2.39931610e-03,   2.50957034e-03,   2.62039971e-03,\n",
       "         2.73195349e-03,   2.84237138e-03,   2.95392455e-03,\n",
       "         3.06430045e-03,   3.17404760e-03,   3.28478838e-03,\n",
       "         3.39477455e-03,   3.50562614e-03,   3.61609714e-03,\n",
       "         3.72643877e-03,   3.83709182e-03,   3.94463567e-03,\n",
       "         4.05645029e-03,   4.16746269e-03,   4.27846688e-03,\n",
       "         4.38911361e-03,   4.49986781e-03,   4.61050393e-03,\n",
       "         4.72086470e-03,   4.83047595e-03,   4.93983409e-03,\n",
       "         5.04907662e-03,   5.15677633e-03,   5.26911344e-03,\n",
       "         5.38406984e-03,   5.48814052e-03])"
      ]
     },
     "execution_count": 17,
     "metadata": {},
     "output_type": "execute_result"
    }
   ],
   "source": [
    "rcoords[:,128]"
   ]
  },
  {
   "cell_type": "code",
   "execution_count": 18,
   "metadata": {
    "ExecuteTime": {
     "end_time": "2017-04-26T10:31:14.335819",
     "start_time": "2017-04-26T10:31:14.329769"
    },
    "collapsed": false
   },
   "outputs": [
    {
     "data": {
      "text/plain": [
       "array([ 0.0228734 ,  0.04908291,  0.07622996,  0.10453818,  0.13339201,\n",
       "        0.16140157,  0.18923134,  0.21727262,  0.24541893,  0.27361282,\n",
       "        0.30168324,  0.33015591,  0.35804101,  0.38617289,  0.41480029,\n",
       "        0.4429415 ,  0.47119235,  0.49915969,  0.52734299,  0.55567827,\n",
       "        0.58359589,  0.6118256 ,  0.63994044,  0.66820193,  0.69664814,\n",
       "        0.7248047 ,  0.75325076,  0.78139661,  0.80938214,  0.83762104,\n",
       "        0.86566751,  0.89393467,  0.92210477,  0.95024189,  0.97845842,\n",
       "        1.0058821 ,  1.03439482,  1.06270299,  1.09100906,  1.11922397,\n",
       "        1.14746629,  1.1756785 ,  1.2038205 ,  1.23177137,  1.25965769,\n",
       "        1.28751454,  1.31497796,  1.34362393,  1.37293781,  1.39947583])"
      ]
     },
     "execution_count": 18,
     "metadata": {},
     "output_type": "execute_result"
    }
   ],
   "source": [
    "r2bins"
   ]
  },
  {
   "cell_type": "code",
   "execution_count": 15,
   "metadata": {
    "ExecuteTime": {
     "end_time": "2017-04-26T10:27:19.323349",
     "start_time": "2017-04-26T10:27:19.235351"
    },
    "collapsed": false
   },
   "outputs": [
    {
     "data": {
      "text/plain": [
       "<matplotlib.image.AxesImage at 0x7f160d27cc90>"
      ]
     },
     "execution_count": 15,
     "metadata": {},
     "output_type": "execute_result"
    },
    {
     "data": {
      "image/png": "[encoded data removed]",
      "text/plain": [
       "<matplotlib.figure.Figure at 0x7f1638aeeed0>"
      ]
     },
     "metadata": {},
     "output_type": "display_data"
    }
   ],
   "source": [
    "plt.imshow(rcoords**-2.,norm=LogNorm())"
   ]
  },
  {
   "cell_type": "code",
   "execution_count": 19,
   "metadata": {
    "ExecuteTime": {
     "end_time": "2017-04-26T10:31:30.185136",
     "start_time": "2017-04-26T10:31:30.176255"
    },
    "collapsed": false
   },
   "outputs": [],
   "source": [
    "rcoords = np.sqrt(np.add.outer(r2bins**2, zbins[0]**2))\n",
    "func_2d_1d, rbins_ = angular_average(func_2d,rcoords, bins=50)"
   ]
  },
  {
   "cell_type": "code",
   "execution_count": 20,
   "metadata": {
    "ExecuteTime": {
     "end_time": "2017-04-26T10:31:33.747119",
     "start_time": "2017-04-26T10:31:33.325294"
    },
    "collapsed": false
   },
   "outputs": [
    {
     "data": {
      "image/png": "[encoded data removed]",
      "text/plain": [
       "<matplotlib.figure.Figure at 0x7f160d2c60d0>"
      ]
     },
     "metadata": {},
     "output_type": "display_data"
    }
   ],
   "source": [
    "plt.plot(rbins_, func_2d_1d)\n",
    "plt.plot(rbins, func_1d)\n",
    "plt.plot(rbins, rbins**-2.)\n",
    "plt.xscale('log')\n",
    "plt.yscale('log')"
   ]
  },
  {
   "cell_type": "code",
   "execution_count": null,
   "metadata": {
    "collapsed": true
   },
   "outputs": [],
   "source": []
  }
 ],
 "metadata": {
  "kernelspec": {
   "display_name": "Python [conda root]",
   "language": "python",
   "name": "conda-root-py"
  },
  "language_info": {
   "codemirror_mode": {
    "name": "ipython",
    "version": 2
   },
   "file_extension": ".py",
   "mimetype": "text/x-python",
   "name": "python",
   "nbconvert_exporter": "python",
   "pygments_lexer": "ipython2",
   "version": "2.7.13"
  },
  "latex_envs": {
   "bibliofile": "biblio.bib",
   "cite_by": "apalike",
   "current_citInitial": 1,
   "eqLabelWithNumbers": true,
   "eqNumInitial": 0
  },
  "nav_menu": {},
  "toc": {
   "navigate_menu": true,
   "number_sections": true,
   "sideBar": true,
   "threshold": 6,
   "toc_cell": false,
   "toc_section_display": "block",
   "toc_window_display": true
  }
 },
 "nbformat": 4,
 "nbformat_minor": 2
}
