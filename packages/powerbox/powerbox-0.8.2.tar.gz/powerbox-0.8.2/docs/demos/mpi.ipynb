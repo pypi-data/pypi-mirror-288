{
 "cells": [
  {
   "cell_type": "markdown",
   "metadata": {},
   "source": [
    "# Multiprocessing with Powerbox"
   ]
  },
  {
   "cell_type": "markdown",
   "metadata": {},
   "source": [
    "There are two ways to parallelize the FFT calculations in `powerbox`. If you have `pyfftw` installed, you can take advantage of the multithreaded FFT computations that it offers (numpy does not support this), simply by setting `nthreads` to a number greater than one. However, if you would like to run many FFT's simultaneously, you may wish to parallelize on a higher level, i.e. run each FFT on a different process (using `multiprocessing` or `mpi` or similar). In this case, it is important that the underlying FFT library use only a single thread, or you will get **VERY SLOW** computation times because the two layers of threads don't communicate well. In this notebook, we show how to use both multiple threads via `pyfftw` and also multiple processes with either the `numpy` or `pyfftw` backends."
   ]
  },
  {
   "cell_type": "code",
   "execution_count": 1,
   "metadata": {},
   "outputs": [
    {
     "data": {
      "text/plain": [
       "'0.7.4.dev19+g811310f'"
      ]
     },
     "execution_count": 1,
     "metadata": {},
     "output_type": "execute_result"
    }
   ],
   "source": [
    "import powerbox as pb\n",
    "pb.__version__"
   ]
  },
  {
   "cell_type": "code",
   "execution_count": 2,
   "metadata": {},
   "outputs": [],
   "source": [
    "from powerbox import get_power\n",
    "import numpy as np \n",
    "from time import time\n",
    "from multiprocessing import Pool\n",
    "from functools import partial"
   ]
  },
  {
   "cell_type": "markdown",
   "metadata": {},
   "source": [
    "First, let's define a simple `powerbox` operation to test. This function calculates a power spectrum on a random box of dimension $300^3$ and returns the computation time."
   ]
  },
  {
   "cell_type": "code",
   "execution_count": 3,
   "metadata": {},
   "outputs": [],
   "source": [
    "shape = (256,) * 3  # Size of the box to FT\n",
    "arr = np.random.rand(np.prod(shape)).reshape(shape) # Random box on which to calculate the FFT\n",
    "ncalls = 4\n",
    "nthreads = 4\n",
    "\n",
    "def run_pb(idx, **kwargs):\n",
    "    t0 = time()\n",
    "    # default is nthreads = None which uses nthreads = number of available CPUs.\n",
    "    get_power(arr, shape, bins = 50, **kwargs)          \n",
    "    return time() - t0"
   ]
  },
  {
   "cell_type": "markdown",
   "metadata": {},
   "source": [
    "### Single-thread using `pyFFTW`"
   ]
  },
  {
   "cell_type": "code",
   "execution_count": 5,
   "metadata": {},
   "outputs": [
    {
     "name": "stdout",
     "output_type": "stream",
     "text": [
      "Total wall time: 12.31 sec\n",
      "Total CPU time: 12.31 sec\n"
     ]
    }
   ],
   "source": [
    "start = time()\n",
    "all_times = [run_pb(i, nthreads=1) for i in range(ncalls)]\n",
    "end = time()\n",
    "print(f'Total wall time: {end - start:.2f} sec')\n",
    "print(f\"Total CPU time: {np.sum(all_times):.2f} sec\")"
   ]
  },
  {
   "cell_type": "markdown",
   "metadata": {},
   "source": [
    "### Multi-threaded `pyFFTW`"
   ]
  },
  {
   "cell_type": "code",
   "execution_count": 6,
   "metadata": {},
   "outputs": [
    {
     "name": "stdout",
     "output_type": "stream",
     "text": [
      "Total wall time: 9.86 sec\n",
      "Total CPU time: 9.86 sec\n"
     ]
    }
   ],
   "source": [
    "start = time()\n",
    "all_times = [run_pb(i, nthreads=nthreads) for i in range(ncalls)]\n",
    "end = time()\n",
    "print(f'Total wall time: {end - start:.2f} sec')\n",
    "print(f\"Total CPU time: {np.sum(all_times):.2f} sec\")"
   ]
  },
  {
   "cell_type": "markdown",
   "metadata": {},
   "source": [
    "Here, we see that if `pyFFTW` is installed, it can use multiple threads to compute the FFTs, reducing walltime by ~20%. \n",
    "This is the fastest way to compute the power spectrum in `powerbox` if you have multiple cores available, and only one FFT to perform."
   ]
  },
  {
   "cell_type": "markdown",
   "metadata": {},
   "source": [
    "## Multiprocessing with `pyFFTW` as a backend"
   ]
  },
  {
   "cell_type": "markdown",
   "metadata": {},
   "source": [
    "We can keep using `pyFFTW` as a backend by setting the `nthreads` argument to 1."
   ]
  },
  {
   "cell_type": "code",
   "execution_count": 9,
   "metadata": {},
   "outputs": [
    {
     "name": "stdout",
     "output_type": "stream",
     "text": [
      "Total wall time: 5.01 sec\n",
      "Total CPU time: 16.77 sec\n"
     ]
    }
   ],
   "source": [
    "nprocs = ncalls\n",
    "\n",
    "run_pb1 = partial(run_pb, nthreads=1)\n",
    "\n",
    "start = time()\n",
    "p = Pool(processes=nprocs)\n",
    "all_times = p.map(run_pb1, range(ncalls))\n",
    "end = time()\n",
    "print(f'Total wall time: {end - start:.2f} sec')\n",
    "print(f\"Total CPU time: {np.sum(all_times):.2f} sec\")"
   ]
  },
  {
   "cell_type": "markdown",
   "metadata": {},
   "source": [
    "Here, the total wall time is reduced by ~50% because we are doing each of the 4 FFTs \n",
    "in parallel. Note that here there is significant overhead in starting the processes,\n",
    "which leads to the meager gains."
   ]
  },
  {
   "cell_type": "markdown",
   "metadata": {},
   "source": [
    "## Multiprocessing with `numpy` as a backend"
   ]
  },
  {
   "cell_type": "markdown",
   "metadata": {},
   "source": [
    "We can also just use the `numpy` FFT backend by setting `nthreads` to `False`."
   ]
  },
  {
   "cell_type": "code",
   "execution_count": 10,
   "metadata": {},
   "outputs": [
    {
     "name": "stdout",
     "output_type": "stream",
     "text": [
      "Total wall time: 4.70 sec\n",
      "Total CPU time: 15.61 sec\n"
     ]
    }
   ],
   "source": [
    "run_pb1 = partial(run_pb, nthreads=False)\n",
    "\n",
    "start = time()\n",
    "p = Pool(processes=nprocs)\n",
    "all_times = p.map(run_pb1, range(ncalls))\n",
    "end = time()\n",
    "print(f'Total wall time: {end - start:.2f} sec')\n",
    "print(f\"Total CPU time: {np.sum(all_times):.2f} sec\")"
   ]
  },
  {
   "cell_type": "markdown",
   "metadata": {},
   "source": [
    "The runtime is roughly the same whether we use `numpy` or single-threaded `pyFFTW`."
   ]
  }
 ],
 "metadata": {
  "kernelspec": {
   "display_name": "powerbox",
   "language": "python",
   "name": "powerbox"
  },
  "language_info": {
   "codemirror_mode": {
    "name": "ipython",
    "version": 3
   },
   "file_extension": ".py",
   "mimetype": "text/x-python",
   "name": "python",
   "nbconvert_exporter": "python",
   "pygments_lexer": "ipython3",
   "version": "3.11.0"
  }
 },
 "nbformat": 4,
 "nbformat_minor": 4
}
