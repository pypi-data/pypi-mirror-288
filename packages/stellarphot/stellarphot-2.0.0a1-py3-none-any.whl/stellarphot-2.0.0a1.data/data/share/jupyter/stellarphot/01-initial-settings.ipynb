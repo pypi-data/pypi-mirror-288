{
 "cells": [
  {
   "cell_type": "code",
   "execution_count": null,
   "id": "3a7f0b18-4509-474e-b42e-a69edd22913b",
   "metadata": {},
   "outputs": [],
   "source": [
    "from stellarphot.settings import Camera, Observatory, PassbandMap\n",
    "from stellarphot.settings.custom_widgets import ReviewSettings"
   ]
  },
  {
   "cell_type": "code",
   "execution_count": null,
   "id": "37494092-bd26-4dcb-a7d9-d587fd79ca45",
   "metadata": {},
   "outputs": [],
   "source": [
    "review = ReviewSettings([Camera, Observatory, PassbandMap])"
   ]
  },
  {
   "cell_type": "markdown",
   "id": "f25dc64e-e0b9-4673-b806-ef0e1f53f84c",
   "metadata": {},
   "source": [
    "# Review or make key settings in the widget below "
   ]
  },
  {
   "cell_type": "code",
   "execution_count": null,
   "id": "fe341afc-4171-4094-8165-82faa26706b3",
   "metadata": {},
   "outputs": [],
   "source": [
    "review"
   ]
  },
  {
   "cell_type": "code",
   "execution_count": null,
   "id": "7c58cd05-afff-4273-8607-69a0e93f4fa4",
   "metadata": {},
   "outputs": [],
   "source": []
  }
 ],
 "metadata": {
  "kernelspec": {
   "display_name": "Python 3 (ipykernel)",
   "language": "python",
   "name": "python3"
  },
  "language_info": {
   "codemirror_mode": {
    "name": "ipython",
    "version": 3
   },
   "file_extension": ".py",
   "mimetype": "text/x-python",
   "name": "python",
   "nbconvert_exporter": "python",
   "pygments_lexer": "ipython3",
   "version": "3.11.9"
  }
 },
 "nbformat": 4,
 "nbformat_minor": 5
}
