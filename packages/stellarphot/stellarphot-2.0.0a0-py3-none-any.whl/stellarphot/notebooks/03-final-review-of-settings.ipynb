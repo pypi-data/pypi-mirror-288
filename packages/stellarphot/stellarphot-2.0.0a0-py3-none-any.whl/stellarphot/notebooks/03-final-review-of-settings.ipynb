{
 "cells": [
  {
   "cell_type": "code",
   "execution_count": null,
   "id": "3b91d12e-97ae-4d6d-970d-562b6bbfd683",
   "metadata": {},
   "outputs": [],
   "source": [
    "from stellarphot.settings import Camera, LoggingSettings, Observatory, PassbandMap, PhotometryApertures, PhotometryOptionalSettings, SourceLocationSettings\n",
    "from stellarphot.settings.custom_widgets import ReviewSettings"
   ]
  },
  {
   "cell_type": "code",
   "execution_count": null,
   "id": "d57c16cc-c243-47f3-9747-94d6c6898621",
   "metadata": {},
   "outputs": [],
   "source": [
    "review = ReviewSettings([Camera, Observatory, PassbandMap, PhotometryApertures, SourceLocationSettings, PhotometryOptionalSettings, LoggingSettings])"
   ]
  },
  {
   "cell_type": "markdown",
   "id": "36db3d1f-d0d7-413e-ab77-766c6e3d02a1",
   "metadata": {},
   "source": [
    "# Review or make key settings in the widget below "
   ]
  },
  {
   "cell_type": "code",
   "execution_count": null,
   "id": "39491574-cc9f-4d2b-963f-1b175336a16d",
   "metadata": {},
   "outputs": [],
   "source": [
    "review"
   ]
  },
  {
   "cell_type": "code",
   "execution_count": null,
   "id": "629f505c-6fab-4bf9-a30a-130bf668d8ac",
   "metadata": {},
   "outputs": [],
   "source": []
  }
 ],
 "metadata": {
  "kernelspec": {
   "display_name": "Python 3 (ipykernel)",
   "language": "python",
   "name": "python3"
  },
  "language_info": {
   "codemirror_mode": {
    "name": "ipython",
    "version": 3
   },
   "file_extension": ".py",
   "mimetype": "text/x-python",
   "name": "python",
   "nbconvert_exporter": "python",
   "pygments_lexer": "ipython3",
   "version": "3.11.9"
  }
 },
 "nbformat": 4,
 "nbformat_minor": 5
}
